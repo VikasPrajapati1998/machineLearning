{
 "cells": [
  {
   "cell_type": "markdown",
   "id": "bce656a7-753e-45b1-a141-53c1a4dab9e4",
   "metadata": {},
   "source": [
    "# **ONNX Overview**"
   ]
  },
  {
   "cell_type": "markdown",
   "id": "dc210afa-3d75-4710-be93-6c851b29ac74",
   "metadata": {},
   "source": [
    "## **What is ONNX?**\n",
    "- ONNX is an intermediary machine learning framework used to convert between different machine learning frameworks. So let's say you're in ***TensorFlow***, and you want to get to ***TensorRT***, or you're in ***PyTorch*** and you want to get to ***TFLite*** or some other machine learning framework.\n",
    "- ONNX is a really good intermediary to use to convert your model as you're going through these different machine learning frameworks.\n",
    "- **Model_A** >---------------------------->>> **Model_B**  \\\n",
    "  **PyTorch** >---------------------------->>> **TensorFlow**"
   ]
  },
  {
   "cell_type": "markdown",
   "id": "142c4b41-ecd9-4e73-82da-46468bcc1a89",
   "metadata": {},
   "source": [
    "## **Hardware Accelerator**\n",
    "- `NVIDIA` , `INTEL` , `TPU` + TensorFlow/PyTorch\n",
    "- TPU : Tensor Processing Unit"
   ]
  },
  {
   "cell_type": "markdown",
   "id": "10807aaa-5c1e-4f62-8829-20a264d15ea2",
   "metadata": {},
   "source": [
    "- **Training :** Process for machine to \"learn\" and optimize model from data.\n",
    "- **Inference :** Using trained models to predict / estimate outcomes from new observations in efficient deployments."
   ]
  },
  {
   "cell_type": "markdown",
   "id": "681a81a7-2079-4e6e-95c4-e814b6f7dc8f",
   "metadata": {},
   "source": [
    "<pre>\n",
    "\n",
    "\n",
    "\n",
    "            Tools           /--------------\\           /-----------------\\\n",
    "     _____________________ /  >------->>>   \\         /  >---------->>>   \\      Devices\n",
    "    |  PyTorch, sklearn,  |               __________ /                    _______________________         \n",
    "    |  Chainer, mxnet,    |              |   ONNX   |                    |      CPU, GPU, TPU    |\n",
    "    |  Caffe2, Keras      |              |__________|                    |_______________________|\n",
    "    |_____________________|                 /        \\  <<<-----------<   /\n",
    "                           \\   <<<------<  /          \\------------------/\n",
    "                            \\-------------/\n",
    "                \n",
    "</pre>\n",
    "Onnx Flow : Created By AWS, Microsoft and Facebook"
   ]
  },
  {
   "cell_type": "markdown",
   "id": "c1d05c18-f7dd-481f-8ccf-e0d0c551fafe",
   "metadata": {},
   "source": [
    "## **ONNX File Format**\n",
    "- **Model**\n",
    "  - Version info\n",
    "  - Metadata\n",
    "  - Acyclic Computation Dataflow Graph\n",
    "- **Graph**\n",
    "  - Inputs and Outputs\n",
    "  - List of Computation Nodes\n",
    "  - Graph Name\n",
    "- **Computation Node**\n",
    "  - Zero or More inputs of defined types\n",
    "  - One or More outputs of defined types\n",
    "  - Operator\n",
    "  - Operator Parameters"
   ]
  },
  {
   "cell_type": "markdown",
   "id": "92500f09-8444-454c-8948-3ce3377e65aa",
   "metadata": {},
   "source": [
    "## **ONNX Data Type**\n",
    "- In deep learning it works as Tensor Data Type\n",
    "  - int8, int16, int32, int64\n",
    "  - uint8, uint16, uint32, uint64\n",
    "  - float16, float, double\n",
    "  - bool, string\n",
    "  - complex64, complex128\n",
    "- In machine learning it works as Not-Tensor Types\n",
    "  - Sequence\n",
    "  - Map"
   ]
  },
  {
   "cell_type": "code",
   "execution_count": null,
   "id": "bd75f7a8-9a4f-43c3-849a-1c67d3471bc6",
   "metadata": {},
   "outputs": [],
   "source": []
  },
  {
   "cell_type": "code",
   "execution_count": null,
   "id": "019ba13f-39f0-43f1-bd7a-56a391320f7e",
   "metadata": {},
   "outputs": [],
   "source": []
  }
 ],
 "metadata": {
  "kernelspec": {
   "display_name": "Python 3 (ipykernel)",
   "language": "python",
   "name": "python3"
  },
  "language_info": {
   "codemirror_mode": {
    "name": "ipython",
    "version": 3
   },
   "file_extension": ".py",
   "mimetype": "text/x-python",
   "name": "python",
   "nbconvert_exporter": "python",
   "pygments_lexer": "ipython3",
   "version": "3.11.6"
  }
 },
 "nbformat": 4,
 "nbformat_minor": 5
}
