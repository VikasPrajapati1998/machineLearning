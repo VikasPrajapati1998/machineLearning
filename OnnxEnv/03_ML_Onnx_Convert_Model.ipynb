{
 "cells": [
  {
   "cell_type": "code",
   "execution_count": 1,
   "id": "83ab80df-de4a-4ff6-9338-e6e571d6a94d",
   "metadata": {},
   "outputs": [],
   "source": [
    "import onnx\n",
    "from skl2onnx import convert_sklearn\n",
    "from skl2onnx.common.data_types import FloatTensorType\n",
    "import joblib"
   ]
  },
  {
   "cell_type": "code",
   "execution_count": 2,
   "id": "877e9deb-323f-41d5-a2d6-fb0f6aeb6e0d",
   "metadata": {},
   "outputs": [],
   "source": [
    "clf = joblib.load('output/model.pkl')\n",
    "initial_type = [('float_input', FloatTensorType([None, 4]))]\n",
    "onx = convert_sklearn(clf, initial_types = initial_type)"
   ]
  },
  {
   "cell_type": "code",
   "execution_count": 3,
   "id": "8a0daaec-5d1f-4bba-9261-ea4a4e2169f2",
   "metadata": {},
   "outputs": [],
   "source": [
    "onnx_string = onx.SerializeToString()\n",
    "with open('output/model.onnx', 'wb') as f:\n",
    "    f.write(onnx_string)"
   ]
  },
  {
   "cell_type": "markdown",
   "id": "2220f4ff-a9be-4d39-a032-dda9a6200b85",
   "metadata": {},
   "source": [
    "You can visualize your onnx model using https://netron.app."
   ]
  },
  {
   "cell_type": "code",
   "execution_count": null,
   "id": "e7b9ee55-63e1-4b3b-bd6a-a75a573f6346",
   "metadata": {},
   "outputs": [],
   "source": []
  }
 ],
 "metadata": {
  "kernelspec": {
   "display_name": "Python 3 (ipykernel)",
   "language": "python",
   "name": "python3"
  },
  "language_info": {
   "codemirror_mode": {
    "name": "ipython",
    "version": 3
   },
   "file_extension": ".py",
   "mimetype": "text/x-python",
   "name": "python",
   "nbconvert_exporter": "python",
   "pygments_lexer": "ipython3",
   "version": "3.11.6"
  }
 },
 "nbformat": 4,
 "nbformat_minor": 5
}
