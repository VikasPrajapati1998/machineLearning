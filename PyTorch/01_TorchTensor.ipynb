{
 "cells": [
  {
   "cell_type": "markdown",
   "id": "2c428b3c-2ab4-4e46-ad44-1feb734e036a",
   "metadata": {},
   "source": [
    "## **<font color=\"Red\">Tensore</font>**"
   ]
  },
  {
   "cell_type": "code",
   "execution_count": 1,
   "id": "1c7d2b1f-3da1-4a3a-9ca7-946fd6d87498",
   "metadata": {},
   "outputs": [
    {
     "name": "stdout",
     "output_type": "stream",
     "text": [
      "tensor([0.7544, 0.3661, 0.3615, 0.5314, 0.7692])\n"
     ]
    }
   ],
   "source": [
    "import torch\n",
    "arr = torch.rand(5)\n",
    "print(arr)"
   ]
  },
  {
   "cell_type": "code",
   "execution_count": 2,
   "id": "44ecacbc-1b29-4886-b3e2-e8cc90779594",
   "metadata": {},
   "outputs": [
    {
     "data": {
      "text/plain": [
       "False"
      ]
     },
     "execution_count": 2,
     "metadata": {},
     "output_type": "execute_result"
    }
   ],
   "source": [
    "torch.cuda.is_available()"
   ]
  },
  {
   "cell_type": "code",
   "execution_count": 3,
   "id": "4c0dc171-8a1d-40c9-b0bc-3ce922ae9c77",
   "metadata": {},
   "outputs": [
    {
     "name": "stdout",
     "output_type": "stream",
     "text": [
      "tensor([0., 0., 0., 0.])\n"
     ]
    }
   ],
   "source": [
    "x1 = torch.empty(4)\n",
    "print(x1)"
   ]
  },
  {
   "cell_type": "code",
   "execution_count": 4,
   "id": "bef59328-068e-469e-9ce2-7e3e1966f6ee",
   "metadata": {},
   "outputs": [
    {
     "name": "stdout",
     "output_type": "stream",
     "text": [
      "tensor([[0., 0., 0.],\n",
      "        [0., 0., 0.]])\n"
     ]
    }
   ],
   "source": [
    "x2 = torch.empty(2, 3)\n",
    "print(x2)"
   ]
  },
  {
   "cell_type": "code",
   "execution_count": 5,
   "id": "669ca3ce-4690-4cdc-ba3d-136fcf445018",
   "metadata": {},
   "outputs": [
    {
     "name": "stdout",
     "output_type": "stream",
     "text": [
      "tensor([[[4.5803e-16, 1.7124e-42, 0.0000e+00, 0.0000e+00, 0.0000e+00,\n",
      "          0.0000e+00, 0.0000e+00, 0.0000e+00, 0.0000e+00, 0.0000e+00],\n",
      "         [0.0000e+00, 0.0000e+00, 0.0000e+00, 0.0000e+00, 0.0000e+00,\n",
      "          0.0000e+00, 0.0000e+00, 0.0000e+00, 0.0000e+00, 0.0000e+00],\n",
      "         [0.0000e+00, 0.0000e+00, 0.0000e+00, 0.0000e+00, 0.0000e+00,\n",
      "          0.0000e+00, 0.0000e+00, 0.0000e+00, 0.0000e+00, 0.0000e+00],\n",
      "         [0.0000e+00, 0.0000e+00, 0.0000e+00, 0.0000e+00, 0.0000e+00,\n",
      "          0.0000e+00, 0.0000e+00, 0.0000e+00, 0.0000e+00, 0.0000e+00],\n",
      "         [0.0000e+00, 0.0000e+00, 0.0000e+00, 0.0000e+00, 0.0000e+00,\n",
      "          0.0000e+00, 0.0000e+00, 0.0000e+00, 0.0000e+00, 0.0000e+00],\n",
      "         [0.0000e+00, 0.0000e+00, 0.0000e+00, 0.0000e+00, 0.0000e+00,\n",
      "          0.0000e+00, 0.0000e+00, 0.0000e+00, 0.0000e+00, 0.0000e+00],\n",
      "         [0.0000e+00, 0.0000e+00, 0.0000e+00, 0.0000e+00, 0.0000e+00,\n",
      "          0.0000e+00, 0.0000e+00, 0.0000e+00, 0.0000e+00, 0.0000e+00],\n",
      "         [0.0000e+00, 0.0000e+00, 0.0000e+00, 0.0000e+00, 0.0000e+00,\n",
      "          0.0000e+00, 0.0000e+00, 0.0000e+00, 0.0000e+00, 0.0000e+00],\n",
      "         [0.0000e+00, 0.0000e+00, 0.0000e+00, 0.0000e+00, 0.0000e+00,\n",
      "          0.0000e+00, 0.0000e+00, 0.0000e+00, 0.0000e+00, 0.0000e+00],\n",
      "         [0.0000e+00, 0.0000e+00, 0.0000e+00, 0.0000e+00, 0.0000e+00,\n",
      "          0.0000e+00, 0.0000e+00, 0.0000e+00, 0.0000e+00, 0.0000e+00]],\n",
      "\n",
      "        [[0.0000e+00, 0.0000e+00, 0.0000e+00, 0.0000e+00, 0.0000e+00,\n",
      "          0.0000e+00, 0.0000e+00, 0.0000e+00, 0.0000e+00, 0.0000e+00],\n",
      "         [0.0000e+00, 0.0000e+00, 0.0000e+00, 0.0000e+00, 0.0000e+00,\n",
      "          0.0000e+00, 0.0000e+00, 0.0000e+00, 0.0000e+00, 0.0000e+00],\n",
      "         [0.0000e+00, 0.0000e+00, 0.0000e+00, 0.0000e+00, 0.0000e+00,\n",
      "          0.0000e+00, 0.0000e+00, 0.0000e+00, 0.0000e+00, 0.0000e+00],\n",
      "         [0.0000e+00, 0.0000e+00, 0.0000e+00, 0.0000e+00, 0.0000e+00,\n",
      "          0.0000e+00, 0.0000e+00, 0.0000e+00, 0.0000e+00, 0.0000e+00],\n",
      "         [0.0000e+00, 0.0000e+00, 0.0000e+00, 0.0000e+00, 0.0000e+00,\n",
      "          0.0000e+00, 0.0000e+00, 0.0000e+00, 0.0000e+00, 0.0000e+00],\n",
      "         [0.0000e+00, 0.0000e+00, 0.0000e+00, 0.0000e+00, 0.0000e+00,\n",
      "          0.0000e+00, 0.0000e+00, 0.0000e+00, 0.0000e+00, 0.0000e+00],\n",
      "         [0.0000e+00, 0.0000e+00, 0.0000e+00, 0.0000e+00, 0.0000e+00,\n",
      "          0.0000e+00, 0.0000e+00, 0.0000e+00, 0.0000e+00, 0.0000e+00],\n",
      "         [0.0000e+00, 0.0000e+00, 0.0000e+00, 0.0000e+00, 0.0000e+00,\n",
      "          0.0000e+00, 0.0000e+00, 0.0000e+00, 0.0000e+00, 0.0000e+00],\n",
      "         [0.0000e+00, 0.0000e+00, 0.0000e+00, 0.0000e+00, 0.0000e+00,\n",
      "          0.0000e+00, 0.0000e+00, 0.0000e+00, 0.0000e+00, 0.0000e+00],\n",
      "         [0.0000e+00, 0.0000e+00, 0.0000e+00, 0.0000e+00, 0.0000e+00,\n",
      "          0.0000e+00, 0.0000e+00, 0.0000e+00, 0.0000e+00, 0.0000e+00]],\n",
      "\n",
      "        [[0.0000e+00, 0.0000e+00, 0.0000e+00, 0.0000e+00, 0.0000e+00,\n",
      "          0.0000e+00, 0.0000e+00, 0.0000e+00, 0.0000e+00, 0.0000e+00],\n",
      "         [0.0000e+00, 0.0000e+00, 0.0000e+00, 0.0000e+00, 0.0000e+00,\n",
      "          0.0000e+00, 0.0000e+00, 0.0000e+00, 0.0000e+00, 0.0000e+00],\n",
      "         [0.0000e+00, 0.0000e+00, 0.0000e+00, 0.0000e+00, 0.0000e+00,\n",
      "          0.0000e+00, 0.0000e+00, 0.0000e+00, 0.0000e+00, 0.0000e+00],\n",
      "         [0.0000e+00, 0.0000e+00, 0.0000e+00, 0.0000e+00, 0.0000e+00,\n",
      "          0.0000e+00, 0.0000e+00, 0.0000e+00, 0.0000e+00, 0.0000e+00],\n",
      "         [0.0000e+00, 0.0000e+00, 0.0000e+00, 0.0000e+00, 0.0000e+00,\n",
      "          0.0000e+00, 0.0000e+00, 0.0000e+00, 0.0000e+00, 0.0000e+00],\n",
      "         [0.0000e+00, 0.0000e+00, 0.0000e+00, 0.0000e+00, 0.0000e+00,\n",
      "          0.0000e+00, 0.0000e+00, 0.0000e+00, 0.0000e+00, 0.0000e+00],\n",
      "         [0.0000e+00, 0.0000e+00, 0.0000e+00, 0.0000e+00, 0.0000e+00,\n",
      "          0.0000e+00, 0.0000e+00, 0.0000e+00, 0.0000e+00, 0.0000e+00],\n",
      "         [0.0000e+00, 0.0000e+00, 0.0000e+00, 0.0000e+00, 0.0000e+00,\n",
      "          0.0000e+00, 0.0000e+00, 0.0000e+00, 0.0000e+00, 0.0000e+00],\n",
      "         [0.0000e+00, 0.0000e+00, 0.0000e+00, 0.0000e+00, 0.0000e+00,\n",
      "          0.0000e+00, 0.0000e+00, 0.0000e+00, 0.0000e+00, 0.0000e+00],\n",
      "         [0.0000e+00, 0.0000e+00, 0.0000e+00, 0.0000e+00, 0.0000e+00,\n",
      "          0.0000e+00, 0.0000e+00, 0.0000e+00, 0.0000e+00, 0.0000e+00]]])\n"
     ]
    }
   ],
   "source": [
    "x3 = torch.empty(3, 10, 10)\n",
    "print(x3)"
   ]
  },
  {
   "cell_type": "code",
   "execution_count": 6,
   "id": "f56091d6-2501-4204-97aa-cfee9bfb8e4c",
   "metadata": {},
   "outputs": [
    {
     "name": "stdout",
     "output_type": "stream",
     "text": [
      "tensor([[0.2415, 0.9808, 0.5639, 0.6600, 0.7967],\n",
      "        [0.9521, 0.3743, 0.5016, 0.8222, 0.8065],\n",
      "        [0.3416, 0.7657, 0.6082, 0.0247, 0.2708]])\n"
     ]
    }
   ],
   "source": [
    "y = torch.rand(3, 5)\n",
    "print(y)"
   ]
  },
  {
   "cell_type": "code",
   "execution_count": 7,
   "id": "0186f226-28bc-403f-a742-0ff3131f9f52",
   "metadata": {},
   "outputs": [
    {
     "data": {
      "text/plain": [
       "tensor([[0., 0., 0., 0.],\n",
       "        [0., 0., 0., 0.],\n",
       "        [0., 0., 0., 0.]])"
      ]
     },
     "execution_count": 7,
     "metadata": {},
     "output_type": "execute_result"
    }
   ],
   "source": [
    "y = torch.zeros(3, 4)\n",
    "y"
   ]
  },
  {
   "cell_type": "code",
   "execution_count": 8,
   "id": "2a315798-7f4e-4750-9ba3-5c8e7fd3028d",
   "metadata": {},
   "outputs": [
    {
     "name": "stdout",
     "output_type": "stream",
     "text": [
      "tensor([[1., 1., 1.],\n",
      "        [1., 1., 1.]])\n",
      "torch.float32\n"
     ]
    }
   ],
   "source": [
    "y = torch.ones(2, 3)\n",
    "print(y)\n",
    "print(y.dtype)"
   ]
  },
  {
   "cell_type": "code",
   "execution_count": 9,
   "id": "27af4761-6edd-4cdc-93ae-cebdb56d02f3",
   "metadata": {},
   "outputs": [
    {
     "name": "stdout",
     "output_type": "stream",
     "text": [
      "tensor([[1, 1, 1, 1],\n",
      "        [1, 1, 1, 1],\n",
      "        [1, 1, 1, 1]], dtype=torch.int32)\n"
     ]
    }
   ],
   "source": [
    "y = torch.ones(3, 4, dtype=torch.int)\n",
    "print(y)"
   ]
  },
  {
   "cell_type": "code",
   "execution_count": 10,
   "id": "f2e2649f-5c25-4df9-9c87-4686db0a307a",
   "metadata": {},
   "outputs": [
    {
     "name": "stdout",
     "output_type": "stream",
     "text": [
      "tensor([[1., 1., 1., 1.],\n",
      "        [1., 1., 1., 1.],\n",
      "        [1., 1., 1., 1.]], dtype=torch.float64)\n"
     ]
    }
   ],
   "source": [
    "y = torch.ones(3, 4, dtype=torch.double)\n",
    "print(y)"
   ]
  },
  {
   "cell_type": "code",
   "execution_count": 11,
   "id": "722ac630-c926-4b69-8b17-4462616f6492",
   "metadata": {},
   "outputs": [
    {
     "name": "stdout",
     "output_type": "stream",
     "text": [
      "tensor([[1., 1., 1., 1.],\n",
      "        [1., 1., 1., 1.],\n",
      "        [1., 1., 1., 1.]])\n"
     ]
    }
   ],
   "source": [
    "y = torch.ones(3, 4, dtype=torch.float32)\n",
    "print(y)"
   ]
  },
  {
   "cell_type": "code",
   "execution_count": 12,
   "id": "653f70a2-7fed-4a60-a367-da32f957fe15",
   "metadata": {},
   "outputs": [
    {
     "name": "stdout",
     "output_type": "stream",
     "text": [
      "torch.Size([3, 4])\n"
     ]
    }
   ],
   "source": [
    "print(y.size())"
   ]
  },
  {
   "cell_type": "code",
   "execution_count": 13,
   "id": "eab458ec-b202-48a8-bb79-bdd4fcf46fc6",
   "metadata": {},
   "outputs": [
    {
     "name": "stdout",
     "output_type": "stream",
     "text": [
      "tensor([ 2,  4,  6,  8, 10, 12, 14, 16, 18, 20])\n"
     ]
    }
   ],
   "source": [
    "arr = torch.tensor([x for x in range(2, 21, 2)])\n",
    "print(arr)"
   ]
  },
  {
   "cell_type": "code",
   "execution_count": 14,
   "id": "4fda4a0c-acda-40a3-9a50-214aa9e3b291",
   "metadata": {},
   "outputs": [
    {
     "name": "stdout",
     "output_type": "stream",
     "text": [
      "tensor([[0.4151, 0.8337, 0.6394],\n",
      "        [0.6893, 0.4502, 0.3298]])\n",
      "tensor([[0.7975, 0.3165, 0.2828],\n",
      "        [0.8567, 0.2313, 0.6201]])\n"
     ]
    }
   ],
   "source": [
    "t1 = torch.rand(2, 3, dtype=torch.float)\n",
    "t2 = torch.rand(2, 3, dtype=torch.float)\n",
    "print(t1)\n",
    "print(t2)"
   ]
  },
  {
   "cell_type": "code",
   "execution_count": 15,
   "id": "2005cc50-3853-41b8-8356-100ece8c1c3d",
   "metadata": {},
   "outputs": [
    {
     "data": {
      "text/plain": [
       "tensor([[1.2126, 1.1501, 0.9222],\n",
       "        [1.5460, 0.6814, 0.9499]])"
      ]
     },
     "execution_count": 15,
     "metadata": {},
     "output_type": "execute_result"
    }
   ],
   "source": [
    "t = t1.add(t2)\n",
    "t"
   ]
  },
  {
   "cell_type": "code",
   "execution_count": 16,
   "id": "9c4ca11b-625b-46f9-962b-f02e19eac018",
   "metadata": {},
   "outputs": [
    {
     "data": {
      "text/plain": [
       "tensor([[1.2126, 1.1501, 0.9222],\n",
       "        [1.5460, 0.6814, 0.9499]])"
      ]
     },
     "execution_count": 16,
     "metadata": {},
     "output_type": "execute_result"
    }
   ],
   "source": [
    "t1.add_(t2)\n",
    "t1"
   ]
  },
  {
   "cell_type": "code",
   "execution_count": 17,
   "id": "52c16e0b-ad4a-4295-932b-1ce303ec96aa",
   "metadata": {},
   "outputs": [
    {
     "data": {
      "text/plain": [
       "tensor([[2.0101, 1.4666, 1.2049],\n",
       "        [2.4027, 0.9127, 1.5701]])"
      ]
     },
     "execution_count": 17,
     "metadata": {},
     "output_type": "execute_result"
    }
   ],
   "source": [
    "z = t1 + t2\n",
    "z"
   ]
  },
  {
   "cell_type": "code",
   "execution_count": 18,
   "id": "b3ec6bf1-5379-4ab2-a247-24705ae1d4ad",
   "metadata": {},
   "outputs": [
    {
     "data": {
      "text/plain": [
       "tensor([[0.4151, 0.8337, 0.6394],\n",
       "        [0.6893, 0.4502, 0.3298]])"
      ]
     },
     "execution_count": 18,
     "metadata": {},
     "output_type": "execute_result"
    }
   ],
   "source": [
    "z = t1 - t2\n",
    "z"
   ]
  },
  {
   "cell_type": "code",
   "execution_count": 19,
   "id": "af37a4f4-f1b8-49c0-bff7-261dc5c11fdd",
   "metadata": {},
   "outputs": [
    {
     "data": {
      "text/plain": [
       "tensor([[1.5205, 3.6343, 3.2611],\n",
       "        [1.8046, 2.9464, 1.5319]])"
      ]
     },
     "execution_count": 19,
     "metadata": {},
     "output_type": "execute_result"
    }
   ],
   "source": [
    "z = t1 / t2\n",
    "z"
   ]
  },
  {
   "cell_type": "code",
   "execution_count": 20,
   "id": "c30d5b3c-c4b4-42de-9677-980962126b72",
   "metadata": {},
   "outputs": [
    {
     "data": {
      "text/plain": [
       "tensor([[0.9670, 0.3640, 0.2608],\n",
       "        [1.3245, 0.1576, 0.5891]])"
      ]
     },
     "execution_count": 20,
     "metadata": {},
     "output_type": "execute_result"
    }
   ],
   "source": [
    "z = t1 * t2\n",
    "z"
   ]
  },
  {
   "cell_type": "code",
   "execution_count": 21,
   "id": "bbd60aa6-c93c-4d4b-ab26-121e107786a9",
   "metadata": {},
   "outputs": [
    {
     "data": {
      "text/plain": [
       "tensor([[1.1662, 1.0453, 0.9773],\n",
       "        [1.4524, 0.9151, 0.9687]])"
      ]
     },
     "execution_count": 21,
     "metadata": {},
     "output_type": "execute_result"
    }
   ],
   "source": [
    "z = t1 ** t2\n",
    "z"
   ]
  },
  {
   "cell_type": "code",
   "execution_count": 22,
   "id": "d54b2444-d987-4573-a688-7c3e48e55472",
   "metadata": {},
   "outputs": [
    {
     "data": {
      "text/plain": [
       "tensor([[1., 3., 3.],\n",
       "        [1., 2., 1.]])"
      ]
     },
     "execution_count": 22,
     "metadata": {},
     "output_type": "execute_result"
    }
   ],
   "source": [
    "z = t1 // t2\n",
    "z"
   ]
  },
  {
   "cell_type": "code",
   "execution_count": 23,
   "id": "a659c7d3-e67f-4d3f-a1e6-65d0e5361b3b",
   "metadata": {},
   "outputs": [
    {
     "data": {
      "text/plain": [
       "tensor([[0.9670, 0.3640, 0.2608],\n",
       "        [1.3245, 0.1576, 0.5891]])"
      ]
     },
     "execution_count": 23,
     "metadata": {},
     "output_type": "execute_result"
    }
   ],
   "source": [
    "z = torch.mul(t1, t2)\n",
    "z"
   ]
  },
  {
   "cell_type": "code",
   "execution_count": 24,
   "id": "0cbcdf64-52b8-475c-a677-f1f9698b0bc0",
   "metadata": {},
   "outputs": [
    {
     "data": {
      "text/plain": [
       "tensor([[1.5205, 3.6343, 3.2611],\n",
       "        [1.8046, 2.9464, 1.5319]])"
      ]
     },
     "execution_count": 24,
     "metadata": {},
     "output_type": "execute_result"
    }
   ],
   "source": [
    "z = torch.div(t1, t2)\n",
    "z"
   ]
  },
  {
   "cell_type": "code",
   "execution_count": 25,
   "id": "23ac5004-df4b-45cb-9448-6c5c446ed1b4",
   "metadata": {},
   "outputs": [
    {
     "data": {
      "text/plain": [
       "tensor([[6.9295e-01, 2.7178e-01, 1.7395e-01, 2.8241e-01, 6.7969e-01, 3.5134e-01,\n",
       "         5.2846e-01],\n",
       "        [6.0532e-01, 1.1788e-01, 7.2880e-01, 5.1777e-01, 1.5967e-01, 6.1572e-01,\n",
       "         1.0705e-01],\n",
       "        [8.2323e-02, 7.7520e-01, 7.0438e-01, 6.0059e-01, 5.1957e-01, 7.4462e-01,\n",
       "         8.2489e-01],\n",
       "        [2.3042e-01, 9.7771e-01, 3.2909e-01, 9.2610e-03, 3.7843e-01, 5.5521e-01,\n",
       "         2.9506e-01],\n",
       "        [7.9525e-04, 9.0864e-02, 1.6251e-01, 1.8790e-01, 5.3309e-01, 2.6590e-01,\n",
       "         7.7190e-01]])"
      ]
     },
     "execution_count": 25,
     "metadata": {},
     "output_type": "execute_result"
    }
   ],
   "source": [
    "ten = torch.rand(5, 7)\n",
    "ten"
   ]
  },
  {
   "cell_type": "code",
   "execution_count": 26,
   "id": "a30d558f-4b90-4135-ad79-c1b8ac1565bd",
   "metadata": {},
   "outputs": [
    {
     "data": {
      "text/plain": [
       "tensor([[0.1179],\n",
       "        [0.7752]])"
      ]
     },
     "execution_count": 26,
     "metadata": {},
     "output_type": "execute_result"
    }
   ],
   "source": [
    "ten[1:3, 1:2]"
   ]
  },
  {
   "cell_type": "code",
   "execution_count": 27,
   "id": "4ff25577-2f57-4ce2-a15d-e74620407173",
   "metadata": {},
   "outputs": [
    {
     "data": {
      "text/plain": [
       "tensor(0.1179)"
      ]
     },
     "execution_count": 27,
     "metadata": {},
     "output_type": "execute_result"
    }
   ],
   "source": [
    "ten[1, 1]"
   ]
  },
  {
   "cell_type": "code",
   "execution_count": 28,
   "id": "6eadcf0f-c6bf-48bd-918a-7e33065d8725",
   "metadata": {},
   "outputs": [
    {
     "data": {
      "text/plain": [
       "0.5552147626876831"
      ]
     },
     "execution_count": 28,
     "metadata": {},
     "output_type": "execute_result"
    }
   ],
   "source": [
    "ten[3, 5].item()  # get actual value"
   ]
  },
  {
   "cell_type": "code",
   "execution_count": 29,
   "id": "732271df-faf8-41e4-8abf-5b70b860fd14",
   "metadata": {},
   "outputs": [
    {
     "data": {
      "text/plain": [
       "tensor([[0.0481, 0.0306, 0.5066, 0.8194],\n",
       "        [0.3292, 0.4163, 0.1107, 0.4726],\n",
       "        [0.8627, 0.4641, 0.3776, 0.4473],\n",
       "        [0.5605, 0.5282, 0.2217, 0.8277],\n",
       "        [0.1341, 0.0648, 0.6778, 0.6146]])"
      ]
     },
     "execution_count": 29,
     "metadata": {},
     "output_type": "execute_result"
    }
   ],
   "source": [
    "ten = torch.rand(5, 4)\n",
    "ten"
   ]
  },
  {
   "cell_type": "code",
   "execution_count": 30,
   "id": "679f64d5-723c-4744-a71b-ef147b0cd69d",
   "metadata": {},
   "outputs": [
    {
     "data": {
      "text/plain": [
       "tensor([0.0481, 0.0306, 0.5066, 0.8194, 0.3292, 0.4163, 0.1107, 0.4726, 0.8627,\n",
       "        0.4641, 0.3776, 0.4473, 0.5605, 0.5282, 0.2217, 0.8277, 0.1341, 0.0648,\n",
       "        0.6778, 0.6146])"
      ]
     },
     "execution_count": 30,
     "metadata": {},
     "output_type": "execute_result"
    }
   ],
   "source": [
    "ten.view(20)"
   ]
  },
  {
   "cell_type": "code",
   "execution_count": 31,
   "id": "3ef95c61-22ff-4f0e-9235-1a68fb7e49fa",
   "metadata": {},
   "outputs": [
    {
     "data": {
      "text/plain": [
       "tensor([[0.0481, 0.0306],\n",
       "        [0.5066, 0.8194],\n",
       "        [0.3292, 0.4163],\n",
       "        [0.1107, 0.4726],\n",
       "        [0.8627, 0.4641],\n",
       "        [0.3776, 0.4473],\n",
       "        [0.5605, 0.5282],\n",
       "        [0.2217, 0.8277],\n",
       "        [0.1341, 0.0648],\n",
       "        [0.6778, 0.6146]])"
      ]
     },
     "execution_count": 31,
     "metadata": {},
     "output_type": "execute_result"
    }
   ],
   "source": [
    "ten.view(10, 2)"
   ]
  },
  {
   "cell_type": "code",
   "execution_count": 32,
   "id": "060bf61f-13f2-4721-ac84-e00df3f93669",
   "metadata": {},
   "outputs": [
    {
     "data": {
      "text/plain": [
       "tensor([0.0481, 0.0306, 0.5066, 0.8194, 0.3292, 0.4163, 0.1107, 0.4726, 0.8627,\n",
       "        0.4641, 0.3776, 0.4473, 0.5605, 0.5282, 0.2217, 0.8277, 0.1341, 0.0648,\n",
       "        0.6778, 0.6146])"
      ]
     },
     "execution_count": 32,
     "metadata": {},
     "output_type": "execute_result"
    }
   ],
   "source": [
    "ten.view(-1)"
   ]
  },
  {
   "cell_type": "code",
   "execution_count": 33,
   "id": "1f9916f7-7502-43bb-bb31-b0e5e6aada47",
   "metadata": {},
   "outputs": [
    {
     "data": {
      "text/plain": [
       "tensor([[0.0481, 0.0306, 0.5066, 0.8194],\n",
       "        [0.3292, 0.4163, 0.1107, 0.4726],\n",
       "        [0.8627, 0.4641, 0.3776, 0.4473],\n",
       "        [0.5605, 0.5282, 0.2217, 0.8277],\n",
       "        [0.1341, 0.0648, 0.6778, 0.6146]])"
      ]
     },
     "execution_count": 33,
     "metadata": {},
     "output_type": "execute_result"
    }
   ],
   "source": [
    "ten.view(-1, 4)"
   ]
  },
  {
   "cell_type": "markdown",
   "id": "544f0c66-ce34-4bd2-b0d5-ec2bb51d3431",
   "metadata": {},
   "source": [
    "### **Conversion Tensor2Numpy and Numpy2Tensor**"
   ]
  },
  {
   "cell_type": "code",
   "execution_count": 34,
   "id": "e10adc15-7836-4088-8102-128794ab38c2",
   "metadata": {},
   "outputs": [],
   "source": [
    "import numpy as np"
   ]
  },
  {
   "cell_type": "code",
   "execution_count": 35,
   "id": "b69c4354-8e7f-4cfa-94fc-26acae2070df",
   "metadata": {},
   "outputs": [
    {
     "name": "stdout",
     "output_type": "stream",
     "text": [
      "tensor([1., 1., 1., 1., 1.]) <class 'torch.Tensor'> 2100532785136\n",
      "[1. 1. 1. 1. 1.] <class 'numpy.ndarray'> 2100532785136\n",
      "Tensor :  tensor([2., 2., 2., 2., 2.])\n",
      "Numpy :  [2. 2. 2. 2. 2.]\n"
     ]
    }
   ],
   "source": [
    "a = torch.ones(5)\n",
    "print(a, type(a), id(a))\n",
    "\n",
    "b = a.numpy()   # convert tensor2numpy\n",
    "print(b, type(b), id(a))\n",
    "\n",
    "# change will show in both\n",
    "a.add_(1)\n",
    "print(\"Tensor : \", a)\n",
    "print(\"Numpy : \", b)"
   ]
  },
  {
   "cell_type": "code",
   "execution_count": 36,
   "id": "962ddfa3-444d-4ffd-bc54-4f77051e124d",
   "metadata": {},
   "outputs": [
    {
     "name": "stdout",
     "output_type": "stream",
     "text": [
      "[1. 1. 1. 1. 1.]\n",
      "tensor([1., 1., 1., 1., 1.], dtype=torch.float64)\n",
      "[2. 2. 2. 2. 2.]\n",
      "tensor([2., 2., 2., 2., 2.], dtype=torch.float64)\n"
     ]
    }
   ],
   "source": [
    "a = np.ones(5)\n",
    "print(a)\n",
    "b = torch.from_numpy(a)  # convert numpy2tensor\n",
    "print(b)\n",
    "\n",
    "a += 1\n",
    "print(a)\n",
    "print(b)"
   ]
  },
  {
   "cell_type": "code",
   "execution_count": 37,
   "id": "47345079-42b3-499d-9d4e-44bd2c458ccd",
   "metadata": {},
   "outputs": [],
   "source": [
    "# if you have CUDA\n",
    "\n",
    "if torch.cuda.is_available():\n",
    "    device = torch.device(\"cuda\")\n",
    "    x = torch.ones(5, device=device)\n",
    "    y = torch.ones(5)\n",
    "    y = y.to(device)  # move to GPU\n",
    "    z = x + y\n",
    "    z.numpy()  # error : numpy don't have GPU access\n",
    "    z.to(\"cpu\") # move to CPU"
   ]
  },
  {
   "cell_type": "code",
   "execution_count": 38,
   "id": "487a45eb-72af-428d-802e-7618584a7385",
   "metadata": {},
   "outputs": [
    {
     "name": "stdout",
     "output_type": "stream",
     "text": [
      "tensor([1., 1., 1., 1., 1.], requires_grad=True)\n"
     ]
    }
   ],
   "source": [
    "x = torch.ones(5, requires_grad=True)  # calculate gradient in future\n",
    "print(x)"
   ]
  },
  {
   "cell_type": "code",
   "execution_count": null,
   "id": "54dbad97-f7f2-44c1-bc4b-c168e0e4c8a5",
   "metadata": {},
   "outputs": [],
   "source": []
  }
 ],
 "metadata": {
  "kernelspec": {
   "display_name": "Python 3 (ipykernel)",
   "language": "python",
   "name": "python3"
  },
  "language_info": {
   "codemirror_mode": {
    "name": "ipython",
    "version": 3
   },
   "file_extension": ".py",
   "mimetype": "text/x-python",
   "name": "python",
   "nbconvert_exporter": "python",
   "pygments_lexer": "ipython3",
   "version": "3.11.5"
  }
 },
 "nbformat": 4,
 "nbformat_minor": 5
}
