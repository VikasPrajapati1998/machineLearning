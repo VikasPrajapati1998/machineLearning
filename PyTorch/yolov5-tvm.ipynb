{
 "cells": [
  {
   "cell_type": "markdown",
   "id": "870bf1fb",
   "metadata": {
    "papermill": {
     "duration": 0.00362,
     "end_time": "2024-08-27T04:33:47.858979",
     "exception": false,
     "start_time": "2024-08-27T04:33:47.855359",
     "status": "completed"
    },
    "tags": []
   },
   "source": [
    "# **TVM : Tensor Virtual Machine**"
   ]
  },
  {
   "cell_type": "code",
   "execution_count": 1,
   "id": "6b2b8c87",
   "metadata": {
    "execution": {
     "iopub.execute_input": "2024-08-27T04:33:47.867267Z",
     "iopub.status.busy": "2024-08-27T04:33:47.866856Z",
     "iopub.status.idle": "2024-08-27T04:34:45.649882Z",
     "shell.execute_reply": "2024-08-27T04:34:45.648659Z"
    },
    "papermill": {
     "duration": 57.790191,
     "end_time": "2024-08-27T04:34:45.652552",
     "exception": false,
     "start_time": "2024-08-27T04:33:47.862361",
     "status": "completed"
    },
    "tags": []
   },
   "outputs": [
    {
     "name": "stdout",
     "output_type": "stream",
     "text": [
      "Collecting apache-tvm\r\n",
      "  Downloading apache_tvm-0.11.1-cp310-cp310-manylinux_2_17_x86_64.manylinux2014_x86_64.whl.metadata (8.3 kB)\r\n",
      "Requirement already satisfied: attrs in /opt/conda/lib/python3.10/site-packages (from apache-tvm) (23.2.0)\r\n",
      "Requirement already satisfied: cloudpickle in /opt/conda/lib/python3.10/site-packages (from apache-tvm) (2.2.1)\r\n",
      "Requirement already satisfied: decorator in /opt/conda/lib/python3.10/site-packages (from apache-tvm) (5.1.1)\r\n",
      "Requirement already satisfied: numpy in /opt/conda/lib/python3.10/site-packages (from apache-tvm) (1.26.4)\r\n",
      "Requirement already satisfied: psutil in /opt/conda/lib/python3.10/site-packages (from apache-tvm) (5.9.3)\r\n",
      "Requirement already satisfied: scipy in /opt/conda/lib/python3.10/site-packages (from apache-tvm) (1.11.4)\r\n",
      "Collecting synr==0.6.0 (from apache-tvm)\r\n",
      "  Downloading synr-0.6.0-py3-none-any.whl.metadata (1.2 kB)\r\n",
      "Requirement already satisfied: tornado in /opt/conda/lib/python3.10/site-packages (from apache-tvm) (6.3.3)\r\n",
      "Requirement already satisfied: typing-extensions in /opt/conda/lib/python3.10/site-packages (from apache-tvm) (4.9.0)\r\n",
      "Downloading apache_tvm-0.11.1-cp310-cp310-manylinux_2_17_x86_64.manylinux2014_x86_64.whl (47.2 MB)\r\n",
      "\u001b[2K   \u001b[90m━━━━━━━━━━━━━━━━━━━━━━━━━━━━━━━━━━━━━━━━\u001b[0m \u001b[32m47.2/47.2 MB\u001b[0m \u001b[31m4.6 MB/s\u001b[0m eta \u001b[36m0:00:00\u001b[0m\r\n",
      "\u001b[?25hDownloading synr-0.6.0-py3-none-any.whl (18 kB)\r\n",
      "Installing collected packages: synr, apache-tvm\r\n",
      "Successfully installed apache-tvm-0.11.1 synr-0.6.0\r\n",
      "Requirement already satisfied: numpy in /opt/conda/lib/python3.10/site-packages (1.26.4)\r\n",
      "Collecting logger\r\n",
      "  Downloading logger-1.4.tar.gz (1.2 kB)\r\n",
      "  Preparing metadata (setup.py) ... \u001b[?25l-\b \bdone\r\n",
      "\u001b[?25hBuilding wheels for collected packages: logger\r\n",
      "  Building wheel for logger (setup.py) ... \u001b[?25l-\b \b\\\b \bdone\r\n",
      "\u001b[?25h  Created wheel for logger: filename=logger-1.4-py3-none-any.whl size=1758 sha256=c533d73f9f450bcaaddcbc1bf95e396185e14230cba0e972a731c176f66bf19f\r\n",
      "  Stored in directory: /root/.cache/pip/wheels/fb/19/7b/09fc73f7503166eaf7f31b4aa0095b7f78af2ec0898e1f8312\r\n",
      "Successfully built logger\r\n",
      "Installing collected packages: logger\r\n",
      "Successfully installed logger-1.4\r\n"
     ]
    }
   ],
   "source": [
    "!pip install apache-tvm\n",
    "!pip install numpy\n",
    "!pip install logger"
   ]
  },
  {
   "cell_type": "code",
   "execution_count": 2,
   "id": "a9cc3c4b",
   "metadata": {
    "execution": {
     "iopub.execute_input": "2024-08-27T04:34:45.695155Z",
     "iopub.status.busy": "2024-08-27T04:34:45.694263Z",
     "iopub.status.idle": "2024-08-27T04:34:46.709172Z",
     "shell.execute_reply": "2024-08-27T04:34:46.708076Z"
    },
    "papermill": {
     "duration": 1.039411,
     "end_time": "2024-08-27T04:34:46.711861",
     "exception": false,
     "start_time": "2024-08-27T04:34:45.672450",
     "status": "completed"
    },
    "tags": []
   },
   "outputs": [],
   "source": [
    "import logging\n",
    "import tvm\n",
    "from tvm import relay\n",
    "from tvm.contrib import graph_executor\n",
    "from pathlib import Path\n"
   ]
  },
  {
   "cell_type": "code",
   "execution_count": 3,
   "id": "b5f218f2",
   "metadata": {
    "execution": {
     "iopub.execute_input": "2024-08-27T04:34:46.754034Z",
     "iopub.status.busy": "2024-08-27T04:34:46.753549Z",
     "iopub.status.idle": "2024-08-27T04:34:46.773665Z",
     "shell.execute_reply": "2024-08-27T04:34:46.772501Z"
    },
    "papermill": {
     "duration": 0.04368,
     "end_time": "2024-08-27T04:34:46.776087",
     "exception": false,
     "start_time": "2024-08-27T04:34:46.732407",
     "status": "completed"
    },
    "tags": []
   },
   "outputs": [],
   "source": [
    "logging.basicConfig(level=\"DEBUG\")\n",
    "logger = logging.getLogger(__name__)\n",
    "global input_shape\n",
    "\n",
    "def get_tvm_targets(targets):\n",
    "    tvm_targets = []\n",
    "    transforms = []\n",
    "    for target in targets:\n",
    "        if \"llvm\" in target:\n",
    "            tvm_targets.append(tvm.target.Target(target))\n",
    "        else:\n",
    "            raise ValueError(\"Unknown tvm target:\", target)\n",
    "    return tvm_targets, transforms\n",
    "\n",
    "\n",
    "def convert_tvm(model, deploy_cfg):\n",
    "    logger.info(\"Start onnx2tvm\")\n",
    "    print(\"start tvm convertion\")\n",
    "    model = os.path.abspath(model)\n",
    "    print(os.path.basename(model).replace(\".onnx\", \".tar\"))\n",
    "    tvm_config = deploy_cfg[\"tvm_config\"]\n",
    "    tvm_config[\"out\"] = os.path.basename(model).replace(\".onnx\", \".tar\")\n",
    "    original_workdir = os.getcwd()\n",
    "    print(f\"original workdir = {original_workdir}\")\n",
    "    onnx2tvm_workdir = os.path.join(os.getcwd(), \"tvm\")\n",
    "    if Path(onnx2tvm_workdir).exists():\n",
    "        shutil.rmtree(onnx2tvm_workdir)\n",
    "    Path(onnx2tvm_workdir).mkdir(parents=True, exist_ok=True)\n",
    "    os.chdir(onnx2tvm_workdir)\n",
    "    stderr = os.dup(sys.stderr.fileno())\n",
    "    log_stderr = open(\"onnx2tvm_stderr.txt\", \"wb\")\n",
    "    os.dup2(log_stderr.fileno(), sys.stderr.fileno())\n",
    "    print(\"running conversion\")\n",
    "    p = Process(target=_convert, args=(model, deploy_cfg, onnx2tvm_workdir))\n",
    "    p.start()\n",
    "    p.join(timeout=tvm_config[\"timeout\"])\n",
    "    log_stderr.close()\n",
    "    os.dup2(stderr, sys.stderr.fileno())\n",
    "    with open(\"onnx2tvm_stderr.txt\") as f:\n",
    "        print(f.read())\n",
    "    sys.stderr.flush()\n",
    "    os.chdir(original_workdir)\n",
    "    if p.is_alive():\n",
    "        p.terminate()\n",
    "        p.join()\n",
    "        raise TimeoutError(\n",
    "            f\"TVM model convert: timeout after {tvm_config['timeout']} sec\"\n",
    "        )\n",
    "    if p.exitcode is None or p.exitcode > 0:\n",
    "        raise RuntimeError(\"TVM compile failed:\", p.exitcode)\n",
    "    tvm_config = deploy_cfg[\"tvm_config\"]\n",
    "    deploy_cfg[model[0]] = os.path.join(onnx2tvm_workdir, tvm_config[\"out\"])\n",
    "\n",
    "    if not os.path.exists(deploy_cfg[model[0]]):\n",
    "        raise RuntimeError(f\"TVM model didn't generated to {deploy_cfg.model[0]}\")\n",
    "\n",
    "    logger.info(\n",
    "        \"Successfully exported TVM model for %s: %s\",\n",
    "        tvm_config[\"compiler\"],\n",
    "        model,\n",
    "    )\n",
    "    print(\"finished tvm convertion\")\n",
    "\n",
    "\n",
    "def _convert(model, deploy_cfg, onnx2tvm_workdir: str):\n",
    "    assert Path(model).exists(), model\n",
    "\n",
    "    tvm_config = deploy_cfg[\"tvm_config\"]\n",
    "\n",
    "    onnx_model = onnx.load(model)\n",
    "    onnx_input = onnx_model.graph.input[0]\n",
    "    input_name = onnx_input.name\n",
    "    input_shape = [d.dim_value for d in onnx_input.type.tensor_type.shape.dim]\n",
    "\n",
    "    shape_dict = {input_name: input_shape}\n",
    "    mod, params = relay.frontend.from_onnx(\n",
    "        onnx_model, shape_dict, convert_config={\"no_ort_dequantize\": True}\n",
    "    )\n",
    "    with open(\"tvm_onnx_model_relay.txt\", \"w\") as f:\n",
    "        print(mod, file=f)\n",
    "\n",
    "    targets, transforms = get_tvm_targets(\n",
    "        tvm_config[\"targets\"]\n",
    "    )\n",
    "    with tvm.transform.PassContext(opt_level=tvm_config[\"opt_level\"]):\n",
    "        relay.backend.te_compiler.get().clear()\n",
    "        mod = tvm.transform.Sequential(COMMON_TRANSFORMS)(mod)\n",
    "        for fn in transforms:\n",
    "            mod = fn(mod)\n",
    "        with open(f\"tvm_{tvm_config['compiler']}_model_relay.txt\", \"w\") as f:\n",
    "            print(mod, file=f)\n",
    "    lib = relay.build(mod, target=targets, params=params)\n",
    "    lib.export_library(os.path.join(onnx2tvm_workdir, tvm_config[\"out\"]))\n",
    "    print(os.path.join(onnx2tvm_workdir, tvm_config[\"out\"]))\n",
    "    return lib\n"
   ]
  },
  {
   "cell_type": "code",
   "execution_count": 4,
   "id": "3d3eded8",
   "metadata": {
    "execution": {
     "iopub.execute_input": "2024-08-27T04:34:46.819444Z",
     "iopub.status.busy": "2024-08-27T04:34:46.818461Z",
     "iopub.status.idle": "2024-08-27T04:34:46.824004Z",
     "shell.execute_reply": "2024-08-27T04:34:46.822940Z"
    },
    "papermill": {
     "duration": 0.029064,
     "end_time": "2024-08-27T04:34:46.826240",
     "exception": false,
     "start_time": "2024-08-27T04:34:46.797176",
     "status": "completed"
    },
    "tags": []
   },
   "outputs": [],
   "source": [
    "deploy_cfg = {\n",
    "    \"tvm_config\": {\n",
    "        \"compiler\": \"llvm\",\n",
    "        \"targets\": [\"llvm\"],\n",
    "        \"opt_level\": 3,\n",
    "        \"timeout\": 300,\n",
    "        \"Model_onnx\": \"/kaggle/working/yolov5/yolov5n_fp32_int8.onnx\",\n",
    "        \"image_dir\": \"/kaggle/working/datasets/coco/images/val2017/\"\n",
    "    }\n",
    "}\n"
   ]
  },
  {
   "cell_type": "code",
   "execution_count": 5,
   "id": "45b385fb",
   "metadata": {
    "execution": {
     "iopub.execute_input": "2024-08-27T04:34:46.867468Z",
     "iopub.status.busy": "2024-08-27T04:34:46.867091Z",
     "iopub.status.idle": "2024-08-27T04:34:47.345557Z",
     "shell.execute_reply": "2024-08-27T04:34:47.344245Z"
    },
    "papermill": {
     "duration": 0.501323,
     "end_time": "2024-08-27T04:34:47.347466",
     "exception": true,
     "start_time": "2024-08-27T04:34:46.846143",
     "status": "failed"
    },
    "tags": []
   },
   "outputs": [
    {
     "name": "stdout",
     "output_type": "stream",
     "text": [
      "start tvm convertion\n"
     ]
    },
    {
     "ename": "NameError",
     "evalue": "name 'os' is not defined",
     "output_type": "error",
     "traceback": [
      "\u001b[0;31m---------------------------------------------------------------------------\u001b[0m",
      "\u001b[0;31mNameError\u001b[0m                                 Traceback (most recent call last)",
      "Cell \u001b[0;32mIn[5], line 2\u001b[0m\n\u001b[1;32m      1\u001b[0m model_path \u001b[38;5;241m=\u001b[39m \u001b[38;5;124m\"\u001b[39m\u001b[38;5;124m/kaggle/working/yolov5/yolov5n_fp32_int8.onnx\u001b[39m\u001b[38;5;124m\"\u001b[39m\n\u001b[0;32m----> 2\u001b[0m \u001b[43mconvert_tvm\u001b[49m\u001b[43m(\u001b[49m\u001b[43mmodel_path\u001b[49m\u001b[43m,\u001b[49m\u001b[43m \u001b[49m\u001b[43mdeploy_cfg\u001b[49m\u001b[43m)\u001b[49m\n",
      "Cell \u001b[0;32mIn[3], line 19\u001b[0m, in \u001b[0;36mconvert_tvm\u001b[0;34m(model, deploy_cfg)\u001b[0m\n\u001b[1;32m     17\u001b[0m logger\u001b[38;5;241m.\u001b[39minfo(\u001b[38;5;124m\"\u001b[39m\u001b[38;5;124mStart onnx2tvm\u001b[39m\u001b[38;5;124m\"\u001b[39m)\n\u001b[1;32m     18\u001b[0m \u001b[38;5;28mprint\u001b[39m(\u001b[38;5;124m\"\u001b[39m\u001b[38;5;124mstart tvm convertion\u001b[39m\u001b[38;5;124m\"\u001b[39m)\n\u001b[0;32m---> 19\u001b[0m model \u001b[38;5;241m=\u001b[39m \u001b[43mos\u001b[49m\u001b[38;5;241m.\u001b[39mpath\u001b[38;5;241m.\u001b[39mabspath(model)\n\u001b[1;32m     20\u001b[0m \u001b[38;5;28mprint\u001b[39m(os\u001b[38;5;241m.\u001b[39mpath\u001b[38;5;241m.\u001b[39mbasename(model)\u001b[38;5;241m.\u001b[39mreplace(\u001b[38;5;124m\"\u001b[39m\u001b[38;5;124m.onnx\u001b[39m\u001b[38;5;124m\"\u001b[39m, \u001b[38;5;124m\"\u001b[39m\u001b[38;5;124m.tar\u001b[39m\u001b[38;5;124m\"\u001b[39m))\n\u001b[1;32m     21\u001b[0m tvm_config \u001b[38;5;241m=\u001b[39m deploy_cfg[\u001b[38;5;124m\"\u001b[39m\u001b[38;5;124mtvm_config\u001b[39m\u001b[38;5;124m\"\u001b[39m]\n",
      "\u001b[0;31mNameError\u001b[0m: name 'os' is not defined"
     ]
    }
   ],
   "source": [
    "model_path = \"/kaggle/working/yolov5/yolov5n_fp32_int8.onnx\"\n",
    "convert_tvm(model_path, deploy_cfg)"
   ]
  },
  {
   "cell_type": "markdown",
   "id": "5ba2cdb3",
   "metadata": {
    "papermill": {
     "duration": null,
     "end_time": null,
     "exception": null,
     "start_time": null,
     "status": "pending"
    },
    "tags": []
   },
   "source": [
    "## **Akarshit's Code**"
   ]
  },
  {
   "cell_type": "code",
   "execution_count": null,
   "id": "6f47094c",
   "metadata": {
    "papermill": {
     "duration": null,
     "end_time": null,
     "exception": null,
     "start_time": null,
     "status": "pending"
    },
    "tags": []
   },
   "outputs": [],
   "source": [
    "import torchvision.datasets as datasets"
   ]
  },
  {
   "cell_type": "code",
   "execution_count": null,
   "id": "35e52963",
   "metadata": {
    "papermill": {
     "duration": null,
     "end_time": null,
     "exception": null,
     "start_time": null,
     "status": "pending"
    },
    "tags": []
   },
   "outputs": [],
   "source": [
    "test_dataset = datasets.ImageFolder(root=data_folder, transform=transform)\n",
    "    subset_size=1000\n",
    "    # Create a DataLoader for the test dataset\n",
    "    subset_indices = list(range(0, 50000, 50))\n",
    "    subset_dataset = Subset(test_dataset, subset_indices)\n",
    "    test_loader = DataLoader(subset_dataset, batch_size=1, shuffle=False)\n"
   ]
  },
  {
   "cell_type": "code",
   "execution_count": null,
   "id": "7dba85ca",
   "metadata": {
    "papermill": {
     "duration": null,
     "end_time": null,
     "exception": null,
     "start_time": null,
     "status": "pending"
    },
    "tags": []
   },
   "outputs": [],
   "source": [
    "def eval_tvm(args, data_loader):\n",
    "    input_shape = (1, 3, 640, 640) #changed\n",
    "    model_path=args.model+\"_int8\"+\".onnx\" #changed\n",
    "    onnx_model=onnx.load(model_path)\n",
    "    input_name = \"x.1\" #changed\n",
    "    shape_dict = {input_name: input_shape}\n",
    "    mod, params = relay.frontend.from_onnx(onnx_model, shape_dict)\n",
    "    target = \"llvm\"\n",
    "    with tvm.transform.PassContext(opt_level=3):\n",
    "        executor = relay.build_module.create_executor(\n",
    "            \"graph\", mod, tvm.cpu(0), target, params\n",
    "        ).evaluate()\n",
    "\n",
    "    print(\"finished tvm convertion\")\n",
    "\n",
    "    x,y = next(iter(data_loader))\n",
    "    ndarray = x.numpy()\n",
    "    input_data = tvm.nd.array(ndarray.astype(\"float32\"))\n",
    "    start_time = time.time()\n",
    "    output = executor(input_data).numpy()\n",
    "    end_time = time.time()\n",
    "    inference_time = end_time - start_time\n",
    "    print(\"Inference Time:\", inference_time, \"seconds\")\n",
    "    top1_correct = 0\n",
    "    top5_correct = 0\n",
    "    total_samples = 0\n",
    "    #acc check\n",
    "    for idx, (images, labels) in tqdm(enumerate(data_loader), total=1000, desc=\"Processing images\"):\n",
    "        # Set the input data\n",
    "        numpy_images = images.numpy()\n",
    "        input_data = tvm.nd.array(numpy_images.astype(\"float32\"))\n",
    "        tvm_output = executor(input_data).numpy()\n",
    "        predicted_labels = np.argmax(tvm_output, axis=1)\n",
    "        top1_correct += np.sum(predicted_labels == labels.numpy())\n",
    "        # Calculate top-5 accuracy\n",
    "        top5_predicted_labels = np.argsort(tvm_output, axis=1)[:, -5:]\n",
    "        for i in range(labels.size(0)):\n",
    "            if labels.numpy()[i] in top5_predicted_labels[i]:\n",
    "                top5_correct += 1\n",
    "\n",
    "        total_samples += labels.size(0)\n",
    "        if idx >= 1000:\n",
    "            break\n",
    "\n",
    "    # Calculate accuracy\n",
    "    top1_accuracy = top1_correct / total_samples\n",
    "    top5_accuracy = top5_correct / total_samples\n",
    "\n",
    "    print(f\"Top-1 Accuracy: {top1_accuracy * 100:.2f}%\")\n",
    "    print(f\"Top-5 Accuracy: {top5_accuracy * 100:.2f}%\")\n",
    "\n"
   ]
  },
  {
   "cell_type": "code",
   "execution_count": null,
   "id": "4c8b636c",
   "metadata": {
    "papermill": {
     "duration": null,
     "end_time": null,
     "exception": null,
     "start_time": null,
     "status": "pending"
    },
    "tags": []
   },
   "outputs": [],
   "source": []
  }
 ],
 "metadata": {
  "kaggle": {
   "accelerator": "none",
   "dataSources": [],
   "dockerImageVersionId": 30664,
   "isGpuEnabled": false,
   "isInternetEnabled": true,
   "language": "python",
   "sourceType": "notebook"
  },
  "kernelspec": {
   "display_name": "Python 3",
   "language": "python",
   "name": "python3"
  },
  "language_info": {
   "codemirror_mode": {
    "name": "ipython",
    "version": 3
   },
   "file_extension": ".py",
   "mimetype": "text/x-python",
   "name": "python",
   "nbconvert_exporter": "python",
   "pygments_lexer": "ipython3",
   "version": "3.10.13"
  },
  "papermill": {
   "default_parameters": {},
   "duration": 63.372113,
   "end_time": "2024-08-27T04:34:47.989213",
   "environment_variables": {},
   "exception": true,
   "input_path": "__notebook__.ipynb",
   "output_path": "__notebook__.ipynb",
   "parameters": {},
   "start_time": "2024-08-27T04:33:44.617100",
   "version": "2.5.0"
  }
 },
 "nbformat": 4,
 "nbformat_minor": 5
}
