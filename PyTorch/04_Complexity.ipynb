{
 "cells": [
  {
   "cell_type": "code",
   "execution_count": 1,
   "id": "85b32ff9-3175-4363-8c30-6290c314f244",
   "metadata": {},
   "outputs": [],
   "source": [
    "import torch"
   ]
  },
  {
   "cell_type": "code",
   "execution_count": 2,
   "id": "0d96dd6b-8580-415b-a3af-c8e80f0fae36",
   "metadata": {},
   "outputs": [
    {
     "data": {
      "text/plain": [
       "'2.1.0'"
      ]
     },
     "execution_count": 2,
     "metadata": {},
     "output_type": "execute_result"
    }
   ],
   "source": [
    "torch.__version__"
   ]
  },
  {
   "cell_type": "markdown",
   "id": "9d6157c7-07e0-4727-b4b1-97b62c475d08",
   "metadata": {},
   "source": [
    "## **Complexity of Tensor**"
   ]
  },
  {
   "cell_type": "markdown",
   "id": "8a172eb5-ebf2-4577-b2a5-a1683a546bcf",
   "metadata": {},
   "source": [
    "### reshape(m, n)"
   ]
  },
  {
   "cell_type": "code",
   "execution_count": 3,
   "id": "70068121-5e62-4609-b7d6-6a55dbfeae0a",
   "metadata": {},
   "outputs": [
    {
     "name": "stdout",
     "output_type": "stream",
     "text": [
      "tensor([[ 1,  2,  3,  4,  5,  6,  7,  8],\n",
      "        [ 9, 10, 11, 12, 13, 14, 15, 16],\n",
      "        [17, 18, 19, 20, 21, 22, 23, 24],\n",
      "        [25, 26, 27, 28, 29, 30, 31, 32],\n",
      "        [33, 34, 35, 36, 37, 38, 39, 40],\n",
      "        [41, 42, 43, 44, 45, 46, 47, 48]])\n",
      "torch.Size([6, 8]) 2\n"
     ]
    }
   ],
   "source": [
    "t1 = torch.arange(1, 49).reshape(6, 8)\n",
    "print(t1)\n",
    "print(t1.shape, t1.ndim)"
   ]
  },
  {
   "cell_type": "code",
   "execution_count": 4,
   "id": "616e36f9-9729-4ca8-b902-9effbc80c058",
   "metadata": {},
   "outputs": [
    {
     "data": {
      "text/plain": [
       "tensor([1, 2, 3, 4, 5, 6, 7, 8])"
      ]
     },
     "execution_count": 4,
     "metadata": {},
     "output_type": "execute_result"
    }
   ],
   "source": [
    "t1[0]"
   ]
  },
  {
   "cell_type": "code",
   "execution_count": 5,
   "id": "cb2edf4d-2e5c-4e6c-aded-5fa7d9df7d75",
   "metadata": {},
   "outputs": [
    {
     "data": {
      "text/plain": [
       "tensor(30)"
      ]
     },
     "execution_count": 5,
     "metadata": {},
     "output_type": "execute_result"
    }
   ],
   "source": [
    "t1[3, 5]"
   ]
  },
  {
   "cell_type": "code",
   "execution_count": 6,
   "id": "b7f4de9f-2e8f-4809-9d1d-9591555613b4",
   "metadata": {},
   "outputs": [
    {
     "data": {
      "text/plain": [
       "tensor([3, 4, 5])"
      ]
     },
     "execution_count": 6,
     "metadata": {},
     "output_type": "execute_result"
    }
   ],
   "source": [
    "t1[0][2:5]"
   ]
  },
  {
   "cell_type": "code",
   "execution_count": 7,
   "id": "523965f0-14d4-4642-aff7-d2ee6dc621d6",
   "metadata": {},
   "outputs": [
    {
     "data": {
      "text/plain": [
       "tensor([10, 11, 12])"
      ]
     },
     "execution_count": 7,
     "metadata": {},
     "output_type": "execute_result"
    }
   ],
   "source": [
    "t1[1][1:4]"
   ]
  },
  {
   "cell_type": "code",
   "execution_count": 8,
   "id": "e31c1166-2e34-45c0-9ae8-c01eca036997",
   "metadata": {},
   "outputs": [
    {
     "data": {
      "text/plain": [
       "tensor([17, 18, 19, 20, 21, 22, 23, 24])"
      ]
     },
     "execution_count": 8,
     "metadata": {},
     "output_type": "execute_result"
    }
   ],
   "source": [
    "t1[:, :][2]"
   ]
  },
  {
   "cell_type": "code",
   "execution_count": 9,
   "id": "5ec81407-3f38-4062-a26a-af22f6159570",
   "metadata": {},
   "outputs": [
    {
     "data": {
      "text/plain": [
       "tensor([[10, 11, 12, 13],\n",
       "        [18, 19, 20, 21],\n",
       "        [26, 27, 28, 29],\n",
       "        [34, 35, 36, 37]])"
      ]
     },
     "execution_count": 9,
     "metadata": {},
     "output_type": "execute_result"
    }
   ],
   "source": [
    "t1[1:5, 1:5]"
   ]
  },
  {
   "cell_type": "code",
   "execution_count": 10,
   "id": "f5606d68-b486-4c26-9378-f5f5755373db",
   "metadata": {},
   "outputs": [
    {
     "data": {
      "text/plain": [
       "tensor([26, 27, 28, 29])"
      ]
     },
     "execution_count": 10,
     "metadata": {},
     "output_type": "execute_result"
    }
   ],
   "source": [
    "t1[1:5, 1:5][2]"
   ]
  },
  {
   "cell_type": "code",
   "execution_count": 11,
   "id": "4645049c-23f7-4505-bc2c-d7af1a5eaf2d",
   "metadata": {},
   "outputs": [
    {
     "data": {
      "text/plain": [
       "tensor(28)"
      ]
     },
     "execution_count": 11,
     "metadata": {},
     "output_type": "execute_result"
    }
   ],
   "source": [
    "t1[1:5, 1:5][2, 2]"
   ]
  },
  {
   "cell_type": "markdown",
   "id": "b11e86ea-58f8-42a0-97db-f0e3a49f6d2c",
   "metadata": {},
   "source": [
    "### reshape(1, m, n)"
   ]
  },
  {
   "cell_type": "code",
   "execution_count": 12,
   "id": "8c9b8059-70b7-4503-8c0b-5f6077846faa",
   "metadata": {},
   "outputs": [
    {
     "name": "stdout",
     "output_type": "stream",
     "text": [
      "tensor([[[ 1,  2,  3,  4,  5,  6,  7,  8],\n",
      "         [ 9, 10, 11, 12, 13, 14, 15, 16],\n",
      "         [17, 18, 19, 20, 21, 22, 23, 24],\n",
      "         [25, 26, 27, 28, 29, 30, 31, 32],\n",
      "         [33, 34, 35, 36, 37, 38, 39, 40],\n",
      "         [41, 42, 43, 44, 45, 46, 47, 48]]])\n",
      "torch.Size([1, 6, 8]) 3\n"
     ]
    }
   ],
   "source": [
    "t2 = torch.arange(1, 49).reshape(1, 6, 8)\n",
    "print(t2)\n",
    "print(t2.shape, t2.ndim)"
   ]
  },
  {
   "cell_type": "code",
   "execution_count": 13,
   "id": "f7970ba4-a797-4626-acce-4ac6599a28a8",
   "metadata": {},
   "outputs": [
    {
     "data": {
      "text/plain": [
       "tensor([[ 1,  2,  3,  4,  5,  6,  7,  8],\n",
       "        [ 9, 10, 11, 12, 13, 14, 15, 16],\n",
       "        [17, 18, 19, 20, 21, 22, 23, 24],\n",
       "        [25, 26, 27, 28, 29, 30, 31, 32],\n",
       "        [33, 34, 35, 36, 37, 38, 39, 40],\n",
       "        [41, 42, 43, 44, 45, 46, 47, 48]])"
      ]
     },
     "execution_count": 13,
     "metadata": {},
     "output_type": "execute_result"
    }
   ],
   "source": [
    "t2[0]"
   ]
  },
  {
   "cell_type": "code",
   "execution_count": 14,
   "id": "d20302c4-3be6-4f15-9d76-2e5aae7a7c4b",
   "metadata": {},
   "outputs": [
    {
     "data": {
      "text/plain": [
       "tensor([25, 26, 27, 28, 29, 30, 31, 32])"
      ]
     },
     "execution_count": 14,
     "metadata": {},
     "output_type": "execute_result"
    }
   ],
   "source": [
    "t2[0][3]"
   ]
  },
  {
   "cell_type": "code",
   "execution_count": 15,
   "id": "4734e153-8013-4ed8-b2c0-cc6b6cf83621",
   "metadata": {},
   "outputs": [
    {
     "data": {
      "text/plain": [
       "tensor(30)"
      ]
     },
     "execution_count": 15,
     "metadata": {},
     "output_type": "execute_result"
    }
   ],
   "source": [
    "t2[0][3, 5]"
   ]
  },
  {
   "cell_type": "code",
   "execution_count": 16,
   "id": "412bf11e-7bff-44b5-b226-6813aad2bda7",
   "metadata": {},
   "outputs": [
    {
     "data": {
      "text/plain": [
       "tensor([[17, 18, 19, 20, 21, 22, 23, 24],\n",
       "        [25, 26, 27, 28, 29, 30, 31, 32],\n",
       "        [33, 34, 35, 36, 37, 38, 39, 40]])"
      ]
     },
     "execution_count": 16,
     "metadata": {},
     "output_type": "execute_result"
    }
   ],
   "source": [
    "t2[0][2:5]"
   ]
  },
  {
   "cell_type": "code",
   "execution_count": 17,
   "id": "bc85989c-b7c3-4995-8392-5deb878fc03f",
   "metadata": {},
   "outputs": [
    {
     "data": {
      "text/plain": [
       "tensor([[20, 21],\n",
       "        [28, 29],\n",
       "        [36, 37]])"
      ]
     },
     "execution_count": 17,
     "metadata": {},
     "output_type": "execute_result"
    }
   ],
   "source": [
    "t2[0][2:5, 3:5]"
   ]
  },
  {
   "cell_type": "code",
   "execution_count": 18,
   "id": "7b1cb66d-08f5-4082-b513-a9ae943681c4",
   "metadata": {},
   "outputs": [
    {
     "data": {
      "text/plain": [
       "tensor([[ 5,  6,  7,  8],\n",
       "        [13, 14, 15, 16],\n",
       "        [21, 22, 23, 24],\n",
       "        [29, 30, 31, 32]])"
      ]
     },
     "execution_count": 18,
     "metadata": {},
     "output_type": "execute_result"
    }
   ],
   "source": [
    "t2[0][:4, 4:]"
   ]
  },
  {
   "cell_type": "code",
   "execution_count": 19,
   "id": "121e9764-e091-4715-b3d6-69cb9d751da1",
   "metadata": {},
   "outputs": [
    {
     "data": {
      "text/plain": [
       "tensor([[[ 1,  2,  3,  4,  5,  6,  7,  8],\n",
       "         [ 9, 10, 11, 12, 13, 14, 15, 16],\n",
       "         [17, 18, 19, 20, 21, 22, 23, 24],\n",
       "         [25, 26, 27, 28, 29, 30, 31, 32],\n",
       "         [33, 34, 35, 36, 37, 38, 39, 40],\n",
       "         [41, 42, 43, 44, 45, 46, 47, 48]]])"
      ]
     },
     "execution_count": 19,
     "metadata": {},
     "output_type": "execute_result"
    }
   ],
   "source": [
    "t2[:,:,:]"
   ]
  },
  {
   "cell_type": "code",
   "execution_count": 20,
   "id": "61f1bbfe-66e2-4596-add9-1c64c0153f37",
   "metadata": {},
   "outputs": [
    {
     "data": {
      "text/plain": [
       "tensor([[[10, 11, 12, 13, 14, 15],\n",
       "         [18, 19, 20, 21, 22, 23],\n",
       "         [26, 27, 28, 29, 30, 31],\n",
       "         [34, 35, 36, 37, 38, 39]]])"
      ]
     },
     "execution_count": 20,
     "metadata": {},
     "output_type": "execute_result"
    }
   ],
   "source": [
    "t2[:, 1:5, 1:7] "
   ]
  },
  {
   "cell_type": "markdown",
   "id": "ba4aabc1-0179-485e-b130-771e3fef677f",
   "metadata": {},
   "source": [
    "### reshape(2, m, n)"
   ]
  },
  {
   "cell_type": "code",
   "execution_count": 21,
   "id": "8ad3e1a6-5884-4cf4-a2d9-a4541f71669f",
   "metadata": {},
   "outputs": [
    {
     "name": "stdout",
     "output_type": "stream",
     "text": [
      "tensor([[[ 1,  2,  3,  4],\n",
      "         [ 5,  6,  7,  8],\n",
      "         [ 9, 10, 11, 12],\n",
      "         [13, 14, 15, 16],\n",
      "         [17, 18, 19, 20],\n",
      "         [21, 22, 23, 24]],\n",
      "\n",
      "        [[25, 26, 27, 28],\n",
      "         [29, 30, 31, 32],\n",
      "         [33, 34, 35, 36],\n",
      "         [37, 38, 39, 40],\n",
      "         [41, 42, 43, 44],\n",
      "         [45, 46, 47, 48]]])\n",
      "torch.Size([2, 6, 4]) 3\n"
     ]
    }
   ],
   "source": [
    "t3 = torch.arange(1, 49).reshape(2, 6, 4)\n",
    "print(t3)\n",
    "print(t3.shape, t3.ndim)"
   ]
  },
  {
   "cell_type": "code",
   "execution_count": 22,
   "id": "33f4d855-d6f6-4b4a-8bc4-2c0ae5c85e9c",
   "metadata": {},
   "outputs": [
    {
     "data": {
      "text/plain": [
       "tensor([[ 5,  6,  7,  8],\n",
       "        [ 9, 10, 11, 12],\n",
       "        [13, 14, 15, 16],\n",
       "        [17, 18, 19, 20]])"
      ]
     },
     "execution_count": 22,
     "metadata": {},
     "output_type": "execute_result"
    }
   ],
   "source": [
    "t3[0, 1:5, :]"
   ]
  },
  {
   "cell_type": "code",
   "execution_count": 23,
   "id": "6afb8485-1290-4a58-a7bc-1ee2a5b9b572",
   "metadata": {},
   "outputs": [
    {
     "data": {
      "text/plain": [
       "tensor([[29, 30, 31, 32],\n",
       "        [33, 34, 35, 36],\n",
       "        [37, 38, 39, 40],\n",
       "        [41, 42, 43, 44]])"
      ]
     },
     "execution_count": 23,
     "metadata": {},
     "output_type": "execute_result"
    }
   ],
   "source": [
    "t3[1, 1:5, :]"
   ]
  },
  {
   "cell_type": "code",
   "execution_count": 24,
   "id": "ce0afe08-5e85-40bc-a66b-40ebf5426492",
   "metadata": {},
   "outputs": [
    {
     "data": {
      "text/plain": [
       "tensor([[[ 5,  6,  7,  8],\n",
       "         [ 9, 10, 11, 12],\n",
       "         [13, 14, 15, 16],\n",
       "         [17, 18, 19, 20]],\n",
       "\n",
       "        [[29, 30, 31, 32],\n",
       "         [33, 34, 35, 36],\n",
       "         [37, 38, 39, 40],\n",
       "         [41, 42, 43, 44]]])"
      ]
     },
     "execution_count": 24,
     "metadata": {},
     "output_type": "execute_result"
    }
   ],
   "source": [
    "t3[:, 1:5, :]"
   ]
  },
  {
   "cell_type": "markdown",
   "id": "3c0d9065-97c2-4c54-8044-864dd41c4758",
   "metadata": {},
   "source": [
    "## **Join Two Tensor**"
   ]
  },
  {
   "cell_type": "markdown",
   "id": "e8f63337-93de-4f3a-8bfb-2456b3133e1b",
   "metadata": {},
   "source": [
    "### reshape(1, m, n)"
   ]
  },
  {
   "cell_type": "code",
   "execution_count": 25,
   "id": "7f218ad2-eddc-4c9d-8466-0c9bd2aef8da",
   "metadata": {},
   "outputs": [
    {
     "name": "stdout",
     "output_type": "stream",
     "text": [
      "tensor([[[1, 2, 3],\n",
      "         [4, 5, 6],\n",
      "         [7, 8, 9]]]) torch.Size([1, 3, 3]) 3\n",
      "\n",
      "tensor([[[ 2,  4,  6],\n",
      "         [ 8, 10, 12],\n",
      "         [14, 16, 18]]]) torch.Size([1, 3, 3]) 3\n",
      "\n",
      "tensor([[[ 1,  2,  3],\n",
      "         [ 4,  5,  6],\n",
      "         [ 7,  8,  9]],\n",
      "\n",
      "        [[ 2,  4,  6],\n",
      "         [ 8, 10, 12],\n",
      "         [14, 16, 18]]]) torch.Size([2, 3, 3]) 3\n"
     ]
    }
   ],
   "source": [
    "t_A = torch.arange(1, 10).reshape(1, 3, 3)\n",
    "t_B = torch.arange(2, 19, 2).reshape(1, 3, 3)\n",
    "print(t_A, t_A.shape, t_A.ndim); print()\n",
    "print(t_B, t_B.shape, t_B.ndim); print()\n",
    "t_C = torch.cat((t_A, t_B))\n",
    "print(t_C, t_C.shape, t_C.ndim)"
   ]
  },
  {
   "cell_type": "code",
   "execution_count": 26,
   "id": "6aa00c59-4395-4929-a846-c752a0577365",
   "metadata": {},
   "outputs": [
    {
     "name": "stdout",
     "output_type": "stream",
     "text": [
      "tensor([[ 1,  2,  3],\n",
      "        [ 4,  5,  6],\n",
      "        [ 7,  8,  9],\n",
      "        [ 2,  4,  6],\n",
      "        [ 8, 10, 12],\n",
      "        [14, 16, 18]]) torch.Size([6, 3]) 2\n"
     ]
    }
   ],
   "source": [
    "t_C1 = torch.cat((t_A[0], t_B[0]))\n",
    "print(t_C1, t_C1.shape, t_C1.ndim)"
   ]
  },
  {
   "cell_type": "code",
   "execution_count": 27,
   "id": "cb2eb103-4a0a-44d7-a542-68035a3f83b7",
   "metadata": {},
   "outputs": [
    {
     "name": "stdout",
     "output_type": "stream",
     "text": [
      "tensor([[[ 1,  2,  3],\n",
      "         [ 4,  5,  6],\n",
      "         [ 7,  8,  9]],\n",
      "\n",
      "        [[ 2,  4,  6],\n",
      "         [ 8, 10, 12],\n",
      "         [14, 16, 18]]]) torch.Size([2, 3, 3]) 3\n"
     ]
    }
   ],
   "source": [
    "t_C2 = torch.cat((t_A, t_B), 0)\n",
    "print(t_C2, t_C2.shape, t_C2.ndim)"
   ]
  },
  {
   "cell_type": "code",
   "execution_count": 28,
   "id": "80a39233-9122-4fdd-ba95-7c647a3b5b8d",
   "metadata": {},
   "outputs": [
    {
     "name": "stdout",
     "output_type": "stream",
     "text": [
      "tensor([[[ 1,  2,  3],\n",
      "         [ 4,  5,  6],\n",
      "         [ 7,  8,  9],\n",
      "         [ 2,  4,  6],\n",
      "         [ 8, 10, 12],\n",
      "         [14, 16, 18]]]) torch.Size([1, 6, 3]) 3\n"
     ]
    }
   ],
   "source": [
    "t_C3 = torch.cat((t_A, t_B), 1)\n",
    "print(t_C3, t_C3.shape, t_C3.ndim)"
   ]
  },
  {
   "cell_type": "code",
   "execution_count": 29,
   "id": "611f14fe-bf0d-4082-8611-59497ad1ab71",
   "metadata": {},
   "outputs": [
    {
     "name": "stdout",
     "output_type": "stream",
     "text": [
      "tensor([[[ 1,  2,  3,  2,  4,  6],\n",
      "         [ 4,  5,  6,  8, 10, 12],\n",
      "         [ 7,  8,  9, 14, 16, 18]]]) torch.Size([1, 3, 6]) 3\n"
     ]
    }
   ],
   "source": [
    "t_C5 = torch.cat((t_A, t_B), 2)\n",
    "print(t_C5, t_C5.shape, t_C5.ndim)"
   ]
  },
  {
   "cell_type": "code",
   "execution_count": 30,
   "id": "1774154c-a4f9-4926-a569-aeddfdb688b5",
   "metadata": {},
   "outputs": [
    {
     "name": "stdout",
     "output_type": "stream",
     "text": [
      "tensor([[[ 1,  2,  3,  2,  4,  6],\n",
      "         [ 4,  5,  6,  8, 10, 12],\n",
      "         [ 7,  8,  9, 14, 16, 18]]]) torch.Size([1, 3, 6]) 3\n"
     ]
    }
   ],
   "source": [
    "t_C4 = torch.cat((t_A, t_B), -1)\n",
    "print(t_C4, t_C4.shape, t_C4.ndim)"
   ]
  },
  {
   "cell_type": "markdown",
   "id": "30f9e4d0-b8ca-488e-995d-a15f4365ff70",
   "metadata": {},
   "source": [
    "### reshape(m, n)"
   ]
  },
  {
   "cell_type": "code",
   "execution_count": 31,
   "id": "1eae2468-5455-4780-8f7d-dbe0c4c8c43e",
   "metadata": {},
   "outputs": [
    {
     "name": "stdout",
     "output_type": "stream",
     "text": [
      "tensor([[1, 2, 3],\n",
      "        [4, 5, 6],\n",
      "        [7, 8, 9]]) torch.Size([3, 3]) 2\n",
      "\n",
      "tensor([[ 2,  4,  6],\n",
      "        [ 8, 10, 12],\n",
      "        [14, 16, 18]]) torch.Size([3, 3]) 2\n",
      "\n",
      "tensor([[ 1,  2,  3],\n",
      "        [ 4,  5,  6],\n",
      "        [ 7,  8,  9],\n",
      "        [ 2,  4,  6],\n",
      "        [ 8, 10, 12],\n",
      "        [14, 16, 18]]) torch.Size([6, 3]) 2\n"
     ]
    }
   ],
   "source": [
    "t_D = torch.arange(1, 10).reshape(3, 3)\n",
    "t_E = torch.arange(2, 19, 2).reshape(3, 3)\n",
    "print(t_D, t_D.shape, t_D.ndim); print()\n",
    "print(t_E, t_E.shape, t_E.ndim); print()\n",
    "t_F = torch.cat((t_D, t_E))\n",
    "print(t_F, t_F.shape, t_F.ndim)"
   ]
  },
  {
   "cell_type": "code",
   "execution_count": 32,
   "id": "8ed4f077-ce98-416c-ae0a-6af0621dff39",
   "metadata": {},
   "outputs": [
    {
     "name": "stdout",
     "output_type": "stream",
     "text": [
      "tensor([[ 1,  2,  3],\n",
      "        [ 4,  5,  6],\n",
      "        [ 7,  8,  9],\n",
      "        [ 2,  4,  6],\n",
      "        [ 8, 10, 12],\n",
      "        [14, 16, 18]]) torch.Size([6, 3]) 2\n"
     ]
    }
   ],
   "source": [
    "t_F1 = torch.cat((t_D, t_E), 0)\n",
    "print(t_F1, t_F1.shape, t_F1.ndim)"
   ]
  },
  {
   "cell_type": "code",
   "execution_count": 33,
   "id": "da0f1c2d-c56a-49e9-bd42-50dc2eddadd5",
   "metadata": {},
   "outputs": [
    {
     "name": "stdout",
     "output_type": "stream",
     "text": [
      "tensor([[ 1,  2,  3,  2,  4,  6],\n",
      "        [ 4,  5,  6,  8, 10, 12],\n",
      "        [ 7,  8,  9, 14, 16, 18]]) torch.Size([3, 6]) 2\n"
     ]
    }
   ],
   "source": [
    "t_F2 = torch.cat((t_D, t_E), 1)\n",
    "print(t_F2, t_F2.shape, t_F2.ndim)"
   ]
  },
  {
   "cell_type": "code",
   "execution_count": 34,
   "id": "9621f99f-e9ae-444d-8190-72f1d5c21c09",
   "metadata": {},
   "outputs": [
    {
     "name": "stdout",
     "output_type": "stream",
     "text": [
      "tensor([[ 1,  2,  3,  2,  4,  6],\n",
      "        [ 4,  5,  6,  8, 10, 12],\n",
      "        [ 7,  8,  9, 14, 16, 18]]) torch.Size([3, 6]) 2\n"
     ]
    }
   ],
   "source": [
    "t_F3 = torch.cat((t_D, t_E), -1)\n",
    "print(t_F3, t_F3.shape, t_F3.ndim)"
   ]
  },
  {
   "cell_type": "markdown",
   "id": "e9c56b25-61f5-4079-bc92-de6eb4aee1c4",
   "metadata": {},
   "source": [
    "## **PyTorch Tensors & NumPy**\n",
    "- Since NumPy is a popular Python numerical computing library, PyTorch has functionality to interact with it nicely.\n",
    "- The two main methods you'll want to use for **NumPy Array** -> **PyTorch Tensor**.\n",
    "  - `torch.from_numpy(ndarray)` - NumPy array -> PyTorch tensor.\n",
    "  - `torch.Tensor.numpy()` - PyTorch tensor -> NumPy array."
   ]
  },
  {
   "cell_type": "code",
   "execution_count": 35,
   "id": "db35ebf6-c070-4eba-bb88-196dc2ab7582",
   "metadata": {},
   "outputs": [],
   "source": [
    "import numpy as np\n",
    "import torch"
   ]
  },
  {
   "cell_type": "markdown",
   "id": "e4f4acd5-0c6d-4770-96f3-b24cb28ed578",
   "metadata": {},
   "source": [
    "### NumPy to Tensor\n",
    "- `tensor = torch.from_numpy(array)`"
   ]
  },
  {
   "cell_type": "code",
   "execution_count": 36,
   "id": "d9ecd000-277a-4830-9baf-643cd70a6fe3",
   "metadata": {},
   "outputs": [
    {
     "name": "stdout",
     "output_type": "stream",
     "text": [
      "[1 2 3 4 5 6 7] <class 'numpy.ndarray'>\n",
      "tensor([1, 2, 3, 4, 5, 6, 7], dtype=torch.int32) <class 'torch.Tensor'>\n"
     ]
    }
   ],
   "source": [
    "array = np.arange(1, 8)\n",
    "tensor = torch.from_numpy(array)\n",
    "print(array, type(array))\n",
    "print(tensor, type(tensor))"
   ]
  },
  {
   "cell_type": "code",
   "execution_count": 37,
   "id": "709819ff-2da5-4093-bd86-d3847d544cc1",
   "metadata": {},
   "outputs": [
    {
     "name": "stdout",
     "output_type": "stream",
     "text": [
      "[1. 2. 3. 4. 5. 6. 7.] <class 'numpy.ndarray'> float64\n",
      "tensor([1., 2., 3., 4., 5., 6., 7.]) <class 'torch.Tensor'> torch.float32\n"
     ]
    }
   ],
   "source": [
    "arr = np.arange(1.0, 8.0)\n",
    "print(arr, type(arr), arr.dtype)\n",
    "\n",
    "tsr = torch.from_numpy(arr).type(torch.float32)  # convert into specific data type\n",
    "print(tsr, type(tsr), tsr.dtype)"
   ]
  },
  {
   "cell_type": "code",
   "execution_count": 38,
   "id": "fde820bc-be43-48a2-9c46-7b5b3161bd28",
   "metadata": {},
   "outputs": [
    {
     "data": {
      "text/plain": [
       "(array([2, 3, 4, 5, 6, 7, 8]),\n",
       " tensor([3, 4, 5, 6, 7, 8, 9], dtype=torch.int32))"
      ]
     },
     "execution_count": 38,
     "metadata": {},
     "output_type": "execute_result"
    }
   ],
   "source": [
    "# Changing in array, tensor will be same\n",
    "# Changing in tensor, array will be same\n",
    "array = array + 1\n",
    "tensor = tensor + 2\n",
    "array, tensor"
   ]
  },
  {
   "cell_type": "markdown",
   "id": "92b86e01-c272-4ef7-aa70-138dd26b42dd",
   "metadata": {},
   "source": [
    "### Tensor to NumPy\n",
    "- `array = tensor.numpy()`"
   ]
  },
  {
   "cell_type": "code",
   "execution_count": 39,
   "id": "6002fbc3-ab96-45b2-bb98-77fe5f725583",
   "metadata": {},
   "outputs": [
    {
     "name": "stdout",
     "output_type": "stream",
     "text": [
      "tensor([1, 2, 3, 4, 5, 6, 7]) <class 'torch.Tensor'> torch.int64\n",
      "[1 2 3 4 5 6 7] <class 'numpy.ndarray'> int64\n"
     ]
    }
   ],
   "source": [
    "tensor = torch.arange(1, 8)\n",
    "array = tensor.numpy()\n",
    "print(tensor, type(tensor), tensor.dtype)\n",
    "print(array, type(array), array.dtype)"
   ]
  },
  {
   "cell_type": "code",
   "execution_count": null,
   "id": "b8eaf78c-bd00-4e11-b197-ebfbbe6d4815",
   "metadata": {},
   "outputs": [],
   "source": []
  }
 ],
 "metadata": {
  "kernelspec": {
   "display_name": "Python 3 (ipykernel)",
   "language": "python",
   "name": "python3"
  },
  "language_info": {
   "codemirror_mode": {
    "name": "ipython",
    "version": 3
   },
   "file_extension": ".py",
   "mimetype": "text/x-python",
   "name": "python",
   "nbconvert_exporter": "python",
   "pygments_lexer": "ipython3",
   "version": "3.11.5"
  }
 },
 "nbformat": 4,
 "nbformat_minor": 5
}
