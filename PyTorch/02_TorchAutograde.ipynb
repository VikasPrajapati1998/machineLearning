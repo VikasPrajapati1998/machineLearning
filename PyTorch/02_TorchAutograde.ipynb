{
 "cells": [
  {
   "cell_type": "code",
   "execution_count": 1,
   "id": "08d0d8a0-e32c-4467-a449-f062a6ccbdb4",
   "metadata": {},
   "outputs": [],
   "source": [
    "import torch"
   ]
  },
  {
   "cell_type": "markdown",
   "id": "e05980eb-ae51-45ba-ab93-1ffe31f79051",
   "metadata": {},
   "source": [
    "#### **Requires_grad**\n",
    "- If we calculate the gradient then we have to specify with the help of hyperparameter and use __backward()__ method."
   ]
  },
  {
   "cell_type": "code",
   "execution_count": 2,
   "id": "63e54da8-d9a0-4121-b357-3a536c98e224",
   "metadata": {},
   "outputs": [
    {
     "name": "stdout",
     "output_type": "stream",
     "text": [
      "tensor([0.3991, 0.7911, 0.0278], requires_grad=True)\n",
      "tensor([2.3991, 2.7911, 2.0278], grad_fn=<AddBackward0>)\n",
      "tensor(11.7719, grad_fn=<MeanBackward0>)\n",
      "tensor([3.1988, 3.7214, 2.7037])\n"
     ]
    }
   ],
   "source": [
    "x = torch.rand(3, requires_grad=True)  # requires the gradients\n",
    "print(x)\n",
    "\n",
    "y = x + 2\n",
    "print(y)\n",
    "\n",
    "z = y*y*2\n",
    "z = z.mean()\n",
    "print(z)\n",
    "\n",
    "z.backward()  # calculate gradient wrt x dz/dx\n",
    "print(x.grad)"
   ]
  },
  {
   "cell_type": "code",
   "execution_count": 3,
   "id": "254d7574-0a9d-425f-a936-df4ff9672114",
   "metadata": {},
   "outputs": [
    {
     "name": "stdout",
     "output_type": "stream",
     "text": [
      "tensor([0.1000, 1.0000, 0.0010])\n",
      "tensor([11.5117, 15.5801,  8.2238], grad_fn=<MulBackward0>)\n",
      "tensor([ 4.1585, 14.8857,  2.7118])\n"
     ]
    }
   ],
   "source": [
    "v = torch.tensor([0.1, 1.0, 0.001], dtype=torch.float32)\n",
    "print(v)\n",
    "z = y*y*2\n",
    "print(z)\n",
    "z.backward(v)\n",
    "print(x.grad)"
   ]
  },
  {
   "cell_type": "markdown",
   "id": "d53a5006-1042-4b97-ab1d-9b0cd5e00418",
   "metadata": {},
   "source": [
    "#### **Prevent to tracking the gradient.**\n",
    "- x.requires_grad_(False)\n",
    "- x.detach()\n",
    "- with torch.no_grad()"
   ]
  },
  {
   "cell_type": "code",
   "execution_count": 6,
   "id": "5f84d62b-f90b-4e51-a562-c38af83e2e09",
   "metadata": {},
   "outputs": [
    {
     "name": "stdout",
     "output_type": "stream",
     "text": [
      "tensor([0.3991, 0.7911, 0.0278])\n",
      "tensor([0.3991, 0.7911, 0.0278])\n",
      "tensor([2.3991, 2.7911, 2.0278], grad_fn=<AddBackward0>)\n",
      "tensor([2.3991, 2.7911, 2.0278])\n"
     ]
    }
   ],
   "source": [
    "# x.requires_grad_(False)\n",
    "g1 = x.requires_grad_(False)\n",
    "print(g1)\n",
    "\n",
    "g2 = x.detach()\n",
    "print(g2)\n",
    "\n",
    "print(y)\n",
    "with torch.no_grad():\n",
    "    y = x + 2\n",
    "    print(y)\n"
   ]
  },
  {
   "cell_type": "code",
   "execution_count": 16,
   "id": "406d69b0-e887-47d8-b403-664ac944e368",
   "metadata": {},
   "outputs": [
    {
     "name": "stdout",
     "output_type": "stream",
     "text": [
      "tensor([3., 3., 3., 3.])\n",
      "tensor([6., 6., 6., 6.])\n",
      "tensor([9., 9., 9., 9.])\n",
      "tensor([12., 12., 12., 12.])\n",
      "tensor([15., 15., 15., 15.])\n",
      "tensor([1., 1., 1., 1.], requires_grad=True)\n"
     ]
    },
    {
     "data": {
      "text/plain": [
       "tensor([0., 0., 0., 0.])"
      ]
     },
     "execution_count": 16,
     "metadata": {},
     "output_type": "execute_result"
    }
   ],
   "source": [
    "weights = torch.ones(4, requires_grad=True)\n",
    "\n",
    "for epoch in range(5):\n",
    "    model_output = (weights*3).sum()\n",
    "    model_output.backward()\n",
    "    print(weights.grad)\n",
    "print(weights)\n",
    "weights.grad.zero_()"
   ]
  },
  {
   "cell_type": "code",
   "execution_count": 17,
   "id": "b9c63991-acd9-4892-bd3f-715f0a7bcf02",
   "metadata": {},
   "outputs": [
    {
     "name": "stdout",
     "output_type": "stream",
     "text": [
      "tensor([3., 3., 3., 3.])\n",
      "tensor([3., 3., 3., 3.])\n",
      "tensor([3., 3., 3., 3.])\n",
      "tensor([3., 3., 3., 3.])\n",
      "tensor([3., 3., 3., 3.])\n",
      "tensor([1., 1., 1., 1.], requires_grad=True)\n"
     ]
    }
   ],
   "source": [
    "for epoch in range(5):\n",
    "    model_output = (weights*3).sum()\n",
    "    model_output.backward()\n",
    "    print(weights.grad)\n",
    "    weights.grad.zero_()   # make gradient zero before next iteration\n",
    "print(weights)"
   ]
  },
  {
   "cell_type": "code",
   "execution_count": 21,
   "id": "a97514cd-17b4-415e-85c9-20ae3c48afbe",
   "metadata": {},
   "outputs": [
    {
     "name": "stdout",
     "output_type": "stream",
     "text": [
      "tensor([1., 1., 1., 1.], requires_grad=True)\n"
     ]
    }
   ],
   "source": [
    "# Optimizer\n",
    "weights = torch.ones(4, requires_grad = True)\n",
    "print(weights)"
   ]
  },
  {
   "cell_type": "code",
   "execution_count": null,
   "id": "62bd4450-db6f-4a35-bc1f-a7c710c78e62",
   "metadata": {},
   "outputs": [],
   "source": []
  }
 ],
 "metadata": {
  "kernelspec": {
   "display_name": "Python 3 (ipykernel)",
   "language": "python",
   "name": "python3"
  },
  "language_info": {
   "codemirror_mode": {
    "name": "ipython",
    "version": 3
   },
   "file_extension": ".py",
   "mimetype": "text/x-python",
   "name": "python",
   "nbconvert_exporter": "python",
   "pygments_lexer": "ipython3",
   "version": "3.11.5"
  }
 },
 "nbformat": 4,
 "nbformat_minor": 5
}
