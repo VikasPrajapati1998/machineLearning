{
 "cells": [
  {
   "cell_type": "markdown",
   "id": "e400292e-ed6b-4502-8315-053d03fc19bc",
   "metadata": {},
   "source": [
    "# **torch.cuda**"
   ]
  },
  {
   "cell_type": "markdown",
   "id": "74928b1d-126c-4bed-a3f1-7bf74bdb7368",
   "metadata": {},
   "source": [
    "- `torch.cuda` is used to set up and run **CUDA** operations. It keeps track of the currently selected GPU, and all CUDA tensors you allocate\n",
    "will by default be created on that device. The selected device can be changed with a `torch.cuda.device` context manager. \\\n",
    "However, once a tensor is allocated, you can do operations on it irrespective of the selected device, and the results will be always placed on the same device as the  tensor.\n",
    "- Cross-GPU operations are not allowed by default, with the exception of `copy_()` and other methods with copy-like functionality such as `to()` and `cuda()`. Unless you enable peer-to-peer memory access, any attempts to launch ops on tensors spread across different devices will raise an error.\n"
   ]
  },
  {
   "cell_type": "code",
   "execution_count": 1,
   "id": "5fdc7cd0-eaaa-4d6b-96b9-3b68e241fdef",
   "metadata": {},
   "outputs": [],
   "source": [
    "import torch\n",
    "import numpy as np"
   ]
  },
  {
   "cell_type": "code",
   "execution_count": 5,
   "id": "4eecdd17-09b4-42b2-8081-12c9421ec75f",
   "metadata": {},
   "outputs": [
    {
     "name": "stdout",
     "output_type": "stream",
     "text": [
      "No cuda present in the device\n"
     ]
    }
   ],
   "source": [
    "if torch.cuda.is_available() :\n",
    "    cuda = torch.device('cuda')\n",
    "    cuda0 = torch.device('cuda:0')\n",
    "    cuda1 = torch.device('cuda:2')\n",
    "    x = torch.tensor([1, 2], device=cuda0)     # x.device is device(type='cuda', index=0)\n",
    "    y = torch.tensor([1, 2]).cuda()     # y.device is device(type='cuda', index=0)\n",
    "\n",
    "    with torch.cuda.device(1):\n",
    "        a = torch.tensor([1, 2], device=cuda)\n",
    "        b = torch.tensor([1, 2]).cuda()\n",
    "\n",
    "        b2 = torch.tensor([1, 2]).to(device=cuda)\n",
    "\n",
    "        c = a + b\n",
    "        z = x + y\n",
    "\n",
    "        d = torch.randn(2, device=cuda2)\n",
    "        e = torch.randn(2).to(cuda2)\n",
    "        f = torch.randn(2).cuda(cuda2)\n",
    "\n",
    "else:\n",
    "    print(\"No cuda present in the device\")"
   ]
  },
  {
   "cell_type": "code",
   "execution_count": null,
   "id": "455c4734-4703-459d-88fd-3befe12a5452",
   "metadata": {},
   "outputs": [],
   "source": []
  },
  {
   "cell_type": "code",
   "execution_count": null,
   "id": "87ef24ad-8dc5-43c9-b206-34c7e284170b",
   "metadata": {},
   "outputs": [],
   "source": []
  }
 ],
 "metadata": {
  "kernelspec": {
   "display_name": "Python 3 (ipykernel)",
   "language": "python",
   "name": "python3"
  },
  "language_info": {
   "codemirror_mode": {
    "name": "ipython",
    "version": 3
   },
   "file_extension": ".py",
   "mimetype": "text/x-python",
   "name": "python",
   "nbconvert_exporter": "python",
   "pygments_lexer": "ipython3",
   "version": "3.11.5"
  }
 },
 "nbformat": 4,
 "nbformat_minor": 5
}
