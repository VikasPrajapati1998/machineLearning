{
 "cells": [
  {
   "cell_type": "code",
   "execution_count": 1,
   "id": "4672775b-ffbc-42e9-a70c-882aaad2d067",
   "metadata": {},
   "outputs": [],
   "source": [
    "import torch"
   ]
  },
  {
   "cell_type": "code",
   "execution_count": 2,
   "id": "5b6e26db-c57a-4a0e-b7c0-5483a8dadf62",
   "metadata": {},
   "outputs": [
    {
     "data": {
      "text/plain": [
       "'2.1.0'"
      ]
     },
     "execution_count": 2,
     "metadata": {},
     "output_type": "execute_result"
    }
   ],
   "source": [
    "torch.__version__"
   ]
  },
  {
   "cell_type": "markdown",
   "id": "59af41e1-e734-46ff-aade-c1967413b5a9",
   "metadata": {},
   "source": [
    "### **scaler and vector** and **MATRIX and TENSOR**\n",
    "- Note: You might've noticed me using lowercase letters for `scalar` and `vector` and uppercase letters for `MATRIX` and `TENSOR`. This was on purpose. In practice, you'll often see scalars and vectors denoted as lowercase letters such as `y` or `a`. And matrices and tensors denoted as uppercase letters such as `X` or `W`.\r\n",
    "- \r\n",
    "You also might notice the names martrix and tensor used interchangably. This is common. Since in PyTorch you're often dealing wit`h torch.Tenso`rs (hence the tensor name), however, the shape and dimensions of what's inside will dictate what it actually i\n",
    "-\n",
    "<pre>\n",
    "    ___________________________________________________________________________________________\n",
    "    |    <b>Name</b>    |       <b>What is it?</b>       |    <b>Number of dimensions</b>    |   <b>Lower or Upper</b>    |\n",
    "    |____________|_________________________|____________________________|_____________________|\n",
    "    |   scaler   |    a single number      |             0              |      Lower(a)       |\n",
    "    |____________|_________________________|____________________________|_____________________|\n",
    "    |            | a number with direction |                            |                     |\n",
    "    |   vector   | but can also have many  |             1              |      Lower(y)       |\n",
    "    |            | other numbers           |                            |                     |\n",
    "    |____________|_________________________|____________________________|_____________________|\n",
    "    |            | a 2-dimensional array of|                            |                     |\n",
    "    |   MATRIX   | numbers                 |             2              |      Upper(M)       |\n",
    "    |____________|_________________________|____________________________|_____________________|\n",
    "    |            |a n-dimensional array of |                            |                     |\n",
    "    |   TENSOR   |numbers                  |             n              |      Upper(T)       |\n",
    "    |____________|_________________________|____________________________|_____________________|\n",
    "</pre>\n",
    "-s."
   ]
  },
  {
   "cell_type": "code",
   "execution_count": 3,
   "id": "74a42662-08f1-4f31-ac8b-34d4397d158a",
   "metadata": {},
   "outputs": [
    {
     "name": "stdout",
     "output_type": "stream",
     "text": [
      "tensor(7)\n",
      "0\n",
      "7\n"
     ]
    }
   ],
   "source": [
    "# 0D Tensor\n",
    "scalar = torch.tensor(7)\n",
    "print(scalar)  # print tensor\n",
    "print(scalar.ndim)  # zero dimension tensor\n",
    "print(scalar.item())  # get the items of tensor and only work with 0D tensor"
   ]
  },
  {
   "cell_type": "code",
   "execution_count": 4,
   "id": "b6509ff3-82aa-4772-b0da-0ad708103c94",
   "metadata": {},
   "outputs": [
    {
     "data": {
      "text/plain": [
       "0"
      ]
     },
     "execution_count": 4,
     "metadata": {},
     "output_type": "execute_result"
    }
   ],
   "source": [
    "scalar.ndim"
   ]
  },
  {
   "cell_type": "code",
   "execution_count": 5,
   "id": "8665c226-d09f-406d-bd13-8b903cbb6236",
   "metadata": {},
   "outputs": [
    {
     "name": "stdout",
     "output_type": "stream",
     "text": [
      "tensor([3, 4, 5])\n",
      "1\n",
      "torch.Size([3])\n"
     ]
    }
   ],
   "source": [
    "## Vector  1D Tensor\n",
    "vector = torch.tensor([3, 4, 5])\n",
    "print(vector)  # print 1D tensor\n",
    "print(vector.ndim)  # get the dimension\n",
    "# print(vector.item())   # only work with 0D tensor\n",
    "print(vector.shape)\n"
   ]
  },
  {
   "cell_type": "markdown",
   "id": "0d43cf67-b248-4e85-83c2-52d4908f2054",
   "metadata": {},
   "source": [
    "### **MATRIX and TENSOR**"
   ]
  },
  {
   "cell_type": "code",
   "execution_count": 6,
   "id": "fccf2edb-128d-4cfe-8e5a-b8b009e69054",
   "metadata": {},
   "outputs": [
    {
     "name": "stdout",
     "output_type": "stream",
     "text": [
      "tensor([[2, 3, 4, 5],\n",
      "        [2, 4, 6, 8]])\n",
      "2\n",
      "torch.Size([2, 4])\n"
     ]
    }
   ],
   "source": [
    "# 2D tensor\n",
    "MATRIX = torch.tensor([[2, 3, 4, 5],\n",
    "                       [2, 4, 6, 8]])\n",
    "print(MATRIX)\n",
    "print(MATRIX.ndim)\n",
    "print(MATRIX.shape)"
   ]
  },
  {
   "cell_type": "code",
   "execution_count": 7,
   "id": "48bbff7c-6623-4bc3-ae7a-a8049661da33",
   "metadata": {},
   "outputs": [],
   "source": [
    "import random"
   ]
  },
  {
   "cell_type": "code",
   "execution_count": 8,
   "id": "10781d51-de09-4677-a953-3927420192cb",
   "metadata": {},
   "outputs": [
    {
     "name": "stdout",
     "output_type": "stream",
     "text": [
      "tensor([[1, 0, 4, 3],\n",
      "        [3, 2, 1, 8],\n",
      "        [1, 9, 6, 0]])\n",
      "2\n",
      "torch.Size([3, 4])\n"
     ]
    }
   ],
   "source": [
    "# matrix\n",
    "random.seed(42)\n",
    "# row2 = list(range(random.randint(0, 9)))   undefined dimension\n",
    "row1 = [random.randint(0, 9) for x in range(4)]\n",
    "row2 = [random.randint(0, 9) for x in range(4)]\n",
    "row3 = [random.randint(0, 9) for x in range(4)]\n",
    "\n",
    "MATRIX = torch.tensor([row1, row2, row3])\n",
    "print(MATRIX)  # print tensor\n",
    "print(MATRIX.ndim)  # get the dimension\n",
    "print(MATRIX.shape)  # get the shape of tensor"
   ]
  },
  {
   "cell_type": "code",
   "execution_count": 9,
   "id": "7862a2f1-42aa-4c6c-b216-6648cd27d5be",
   "metadata": {},
   "outputs": [
    {
     "name": "stdout",
     "output_type": "stream",
     "text": [
      "tensor([[[ 1,  2,  3,  4],\n",
      "         [ 3,  6,  9, 12],\n",
      "         [ 2,  4,  5,  7]]])\n",
      "3\n",
      "torch.Size([1, 3, 4])\n"
     ]
    }
   ],
   "source": [
    "TENSOR = torch.tensor([     # 1\n",
    "    [                       # 3\n",
    "        [1, 2, 3, 4],       # 4\n",
    "        [3, 6, 9, 12],\n",
    "        [2, 4, 5, 7]\n",
    "    ]\n",
    "])\n",
    "\n",
    "print(TENSOR)  # print tensor\n",
    "print(TENSOR.ndim)\n",
    "print(TENSOR.shape)"
   ]
  },
  {
   "cell_type": "markdown",
   "id": "d547e8f6-c086-47f5-8983-5dea6386821c",
   "metadata": {},
   "source": [
    "## **Random Tensor**"
   ]
  },
  {
   "cell_type": "code",
   "execution_count": 10,
   "id": "0cbc6266-190d-4e8b-8c59-4e987ad59365",
   "metadata": {},
   "outputs": [
    {
     "name": "stdout",
     "output_type": "stream",
     "text": [
      "tensor([[0.7869, 0.8865, 0.6503, 0.5826],\n",
      "        [0.8865, 0.0852, 0.4592, 0.3870],\n",
      "        [0.3610, 0.5130, 0.8414, 0.1284]])\n",
      "2\n",
      "torch.Size([3, 4])\n",
      "torch.float32\n"
     ]
    }
   ],
   "source": [
    "rtensor = torch.rand(size=(3, 4))\n",
    "print(rtensor)\n",
    "print(rtensor.ndim)\n",
    "print(rtensor.shape) \n",
    "print(rtensor.dtype)"
   ]
  },
  {
   "cell_type": "code",
   "execution_count": 11,
   "id": "fc59dbd6-cedb-452d-9cc1-c0b69371f956",
   "metadata": {},
   "outputs": [
    {
     "name": "stdout",
     "output_type": "stream",
     "text": [
      "tensor([[[0.5262, 0.9721, 0.3398, 0.8346, 0.5441, 0.3822, 0.3187],\n",
      "         [0.1329, 0.9270, 0.7346, 0.6328, 0.3424, 0.1266, 0.7477],\n",
      "         [0.0014, 0.1390, 0.4219, 0.7569, 0.4777, 0.0826, 0.4901],\n",
      "         [0.5633, 0.2627, 0.1393, 0.6053, 0.9503, 0.2444, 0.7693],\n",
      "         [0.0424, 0.7458, 0.0832, 0.4547, 0.4367, 0.0541, 0.1834],\n",
      "         [0.2167, 0.8065, 0.3186, 0.9101, 0.9546, 0.6516, 0.9422],\n",
      "         [0.7961, 0.1418, 0.5185, 0.1571, 0.0174, 0.4979, 0.9296]],\n",
      "\n",
      "        [[0.6662, 0.8758, 0.2027, 0.6924, 0.1274, 0.4517, 0.8321],\n",
      "         [0.6358, 0.3556, 0.1130, 0.4530, 0.1241, 0.4118, 0.4918],\n",
      "         [0.7017, 0.9474, 0.2712, 0.4362, 0.6006, 0.2905, 0.0304],\n",
      "         [0.2803, 0.4668, 0.2264, 0.1906, 0.2132, 0.3331, 0.0604],\n",
      "         [0.0585, 0.2468, 0.2034, 0.4898, 0.3055, 0.0398, 0.6550],\n",
      "         [0.4484, 0.4400, 0.4767, 0.2077, 0.6067, 0.4448, 0.0908],\n",
      "         [0.7609, 0.0058, 0.9293, 0.7066, 0.9020, 0.8928, 0.1464]],\n",
      "\n",
      "        [[0.3557, 0.1069, 0.5027, 0.5780, 0.8844, 0.4472, 0.4131],\n",
      "         [0.3439, 0.1701, 0.2127, 0.6403, 0.7873, 0.0991, 0.6373],\n",
      "         [0.2157, 0.5278, 0.0346, 0.9716, 0.5531, 0.8214, 0.1468],\n",
      "         [0.4306, 0.0933, 0.3361, 0.7968, 0.9794, 0.4622, 0.7770],\n",
      "         [0.3644, 0.1238, 0.9879, 0.0510, 0.7458, 0.5707, 0.0912],\n",
      "         [0.4862, 0.9401, 0.7819, 0.9021, 0.5320, 0.4793, 0.9390],\n",
      "         [0.2092, 0.9859, 0.0874, 0.8058, 0.7927, 0.5615, 0.3500]]])\n",
      "3\n",
      "torch.Size([3, 7, 7])\n",
      "torch.float32\n"
     ]
    }
   ],
   "source": [
    "\n",
    "rtensor = torch.rand(size=(3, 7, 7))  # size=(color_channel, height, width)\n",
    "print(rtensor)\n",
    "print(rtensor.ndim)\n",
    "print(rtensor.shape) \n",
    "print(rtensor.dtype)"
   ]
  },
  {
   "cell_type": "code",
   "execution_count": 12,
   "id": "ac17c37e-0faa-427a-b4d2-5bdceb26aa76",
   "metadata": {},
   "outputs": [
    {
     "name": "stdout",
     "output_type": "stream",
     "text": [
      "tensor([[[0.4492, 0.1785, 0.0402],\n",
      "         [0.0986, 0.1826, 0.2723],\n",
      "         [0.4664, 0.2172, 0.4947],\n",
      "         [0.6871, 0.4398, 0.8055],\n",
      "         [0.4197, 0.8667, 0.3490],\n",
      "         [0.8047, 0.9599, 0.3739],\n",
      "         [0.7391, 0.3195, 0.6888],\n",
      "         [0.3443, 0.4743, 0.7738]],\n",
      "\n",
      "        [[0.4006, 0.2916, 0.8581],\n",
      "         [0.3705, 0.0487, 0.5181],\n",
      "         [0.6245, 0.6174, 0.9305],\n",
      "         [0.6535, 0.7430, 0.7035],\n",
      "         [0.0301, 0.8191, 0.0257],\n",
      "         [0.2787, 0.1521, 0.0556],\n",
      "         [0.1417, 0.5555, 0.9695],\n",
      "         [0.5422, 0.2785, 0.5460]],\n",
      "\n",
      "        [[0.0769, 0.5897, 0.6287],\n",
      "         [0.2285, 0.2927, 0.0074],\n",
      "         [0.4997, 0.2052, 0.6794],\n",
      "         [0.8592, 0.1738, 0.7004],\n",
      "         [0.8034, 0.8755, 0.9896],\n",
      "         [0.1780, 0.2517, 0.1781],\n",
      "         [0.6621, 0.6259, 0.2730],\n",
      "         [0.3406, 0.6401, 0.5768]],\n",
      "\n",
      "        [[0.8643, 0.7463, 0.9645],\n",
      "         [0.1723, 0.5559, 0.8463],\n",
      "         [0.4642, 0.7808, 0.2232],\n",
      "         [0.3417, 0.4167, 0.0989],\n",
      "         [0.9058, 0.3028, 0.0198],\n",
      "         [0.4207, 0.6164, 0.6691],\n",
      "         [0.5827, 0.4817, 0.3591],\n",
      "         [0.2940, 0.2521, 0.7596]],\n",
      "\n",
      "        [[0.8348, 0.6465, 0.1137],\n",
      "         [0.2453, 0.9020, 0.3863],\n",
      "         [0.5987, 0.5273, 0.3248],\n",
      "         [0.1360, 0.0985, 0.3315],\n",
      "         [0.2335, 0.9569, 0.9288],\n",
      "         [0.2338, 0.1516, 0.7796],\n",
      "         [0.6573, 0.1778, 0.9884],\n",
      "         [0.2729, 0.1718, 0.3069]],\n",
      "\n",
      "        [[0.2586, 0.9117, 0.3272],\n",
      "         [0.3701, 0.3990, 0.2082],\n",
      "         [0.8429, 0.9716, 0.7288],\n",
      "         [0.5771, 0.4456, 0.6630],\n",
      "         [0.3550, 0.4188, 0.4041],\n",
      "         [0.4462, 0.9368, 0.3945],\n",
      "         [0.2118, 0.7966, 0.9809],\n",
      "         [0.9231, 0.3881, 0.7087]],\n",
      "\n",
      "        [[0.3696, 0.3934, 0.8288],\n",
      "         [0.3894, 0.1629, 0.0933],\n",
      "         [0.3607, 0.8715, 0.3264],\n",
      "         [0.7390, 0.9718, 0.5186],\n",
      "         [0.2961, 0.3791, 0.4133],\n",
      "         [0.6501, 0.4960, 0.5828],\n",
      "         [0.4306, 0.8023, 0.7500],\n",
      "         [0.3090, 0.6820, 0.0723]],\n",
      "\n",
      "        [[0.1075, 0.6709, 0.5327],\n",
      "         [0.1752, 0.6098, 0.3428],\n",
      "         [0.9557, 0.6778, 0.3380],\n",
      "         [0.8306, 0.4984, 0.9453],\n",
      "         [0.5035, 0.4690, 0.6952],\n",
      "         [0.1305, 0.9077, 0.5369],\n",
      "         [0.9878, 0.8706, 0.8775],\n",
      "         [0.4087, 0.2109, 0.8178]],\n",
      "\n",
      "        [[0.5385, 0.6192, 0.5248],\n",
      "         [0.0931, 0.0667, 0.0212],\n",
      "         [0.8167, 0.9584, 0.5060],\n",
      "         [0.7532, 0.3684, 0.5167],\n",
      "         [0.9670, 0.0837, 0.7256],\n",
      "         [0.9203, 0.0435, 0.4208],\n",
      "         [0.4708, 0.3534, 0.8549],\n",
      "         [0.6283, 0.6563, 0.5156]],\n",
      "\n",
      "        [[0.8965, 0.1735, 0.5238],\n",
      "         [0.2743, 0.3463, 0.0760],\n",
      "         [0.8751, 0.8383, 0.5290],\n",
      "         [0.2089, 0.0413, 0.1603],\n",
      "         [0.4781, 0.6358, 0.9773],\n",
      "         [0.2229, 0.4478, 0.3851],\n",
      "         [0.6759, 0.6356, 0.2327],\n",
      "         [0.3949, 0.3170, 0.1688]],\n",
      "\n",
      "        [[0.5198, 0.4299, 0.6024],\n",
      "         [0.8917, 0.2707, 0.5752],\n",
      "         [0.9809, 0.7432, 0.5945],\n",
      "         [0.5968, 0.9327, 0.8627],\n",
      "         [0.7505, 0.6671, 0.4655],\n",
      "         [0.7360, 0.3239, 0.4714],\n",
      "         [0.4874, 0.8027, 0.4121],\n",
      "         [0.6689, 0.4265, 0.6547]],\n",
      "\n",
      "        [[0.5911, 0.6711, 0.5107],\n",
      "         [0.7404, 0.1447, 0.2775],\n",
      "         [0.2521, 0.3222, 0.8763],\n",
      "         [0.0691, 0.4123, 0.8838],\n",
      "         [0.9814, 0.9127, 0.8952],\n",
      "         [0.4476, 0.6846, 0.9475],\n",
      "         [0.3688, 0.2791, 0.6294],\n",
      "         [0.4059, 0.2159, 0.5891]]])\n",
      "3\n",
      "torch.Size([12, 8, 3])\n",
      "torch.float32\n"
     ]
    }
   ],
   "source": [
    "image = torch.rand(size=(12, 8, 3))   # height, width, color_channel\n",
    "print(image)\n",
    "print(image.ndim)\n",
    "print(image.shape) \n",
    "print(image.dtype)"
   ]
  },
  {
   "cell_type": "markdown",
   "id": "dc49f660-55ad-4cac-bd7d-b9c0f3ccf2cf",
   "metadata": {},
   "source": [
    "### **Zeros and Ones**"
   ]
  },
  {
   "cell_type": "code",
   "execution_count": 13,
   "id": "e3f2b856-1ef6-40c4-96aa-3da0c73957e0",
   "metadata": {},
   "outputs": [
    {
     "name": "stdout",
     "output_type": "stream",
     "text": [
      "tensor([[0, 0, 0, 0, 0],\n",
      "        [0, 0, 0, 0, 0],\n",
      "        [0, 0, 0, 0, 0]], dtype=torch.int32)\n",
      "torch.int32\n"
     ]
    }
   ],
   "source": [
    "zeros = torch.zeros(size=(3, 5), dtype=torch.int)\n",
    "print(zeros)\n",
    "print(zeros.dtype)"
   ]
  },
  {
   "cell_type": "code",
   "execution_count": 14,
   "id": "22c8f551-8a27-4cf9-9fa8-8db7afd1207b",
   "metadata": {},
   "outputs": [
    {
     "name": "stdout",
     "output_type": "stream",
     "text": [
      "tensor([[1, 1, 1],\n",
      "        [1, 1, 1],\n",
      "        [1, 1, 1],\n",
      "        [1, 1, 1]], dtype=torch.int32)\n",
      "torch.int32\n",
      "2\n",
      "torch.Size([4, 3])\n"
     ]
    }
   ],
   "source": [
    "ones = torch.ones(size=(4, 3), dtype=torch.int)\n",
    "print(ones)\n",
    "print(ones.dtype)\n",
    "print(ones.ndim)\n",
    "print(ones.shape)"
   ]
  },
  {
   "cell_type": "markdown",
   "id": "0ee225c6-4701-40ab-b827-13d754b53c43",
   "metadata": {},
   "source": [
    "### **Creating a range and tesors like**"
   ]
  },
  {
   "cell_type": "code",
   "execution_count": 15,
   "id": "42302fca-bb07-48e2-80fa-0e5d66938509",
   "metadata": {},
   "outputs": [
    {
     "name": "stdout",
     "output_type": "stream",
     "text": [
      "tensor([ 0.,  1.,  2.,  3.,  4.,  5.,  6.,  7.,  8.,  9., 10.])\n",
      "tensor([0, 1, 2, 3, 4, 5, 6, 7, 8, 9])\n"
     ]
    },
    {
     "name": "stderr",
     "output_type": "stream",
     "text": [
      "C:\\Users\\vikas\\AppData\\Local\\Temp\\ipykernel_13764\\3208909486.py:1: UserWarning: torch.range is deprecated and will be removed in a future release because its behavior is inconsistent with Python's range builtin. Instead, use torch.arange, which produces values in [start, end).\n",
      "  tsr = torch.range(0, 10)  # may return an error in future\n"
     ]
    }
   ],
   "source": [
    "tsr = torch.range(0, 10)  # may return an error in future\n",
    "print(tsr)\n",
    "tsr = torch.arange(0, 10)\n",
    "print(tsr)"
   ]
  },
  {
   "cell_type": "code",
   "execution_count": 16,
   "id": "2f23e1cf-85ab-4882-9f58-919e39ef4e12",
   "metadata": {},
   "outputs": [
    {
     "data": {
      "text/plain": [
       "tensor([ 0,  2,  4,  6,  8, 10])"
      ]
     },
     "execution_count": 16,
     "metadata": {},
     "output_type": "execute_result"
    }
   ],
   "source": [
    "tsr = torch.arange(0, 11, 2)\n",
    "tsr"
   ]
  },
  {
   "cell_type": "code",
   "execution_count": 17,
   "id": "ab1150de-44e0-4fb4-a0c8-f52b39f9d674",
   "metadata": {},
   "outputs": [
    {
     "name": "stdout",
     "output_type": "stream",
     "text": [
      "tensor([ 0,  2,  4,  6,  8, 10], dtype=torch.int32)\n"
     ]
    }
   ],
   "source": [
    "tsr = torch.arange(0, 11, 2, dtype=torch.int)\n",
    "print(tsr)"
   ]
  },
  {
   "cell_type": "code",
   "execution_count": 18,
   "id": "2c1785c8-169e-4b45-b2d3-005f5369b2e4",
   "metadata": {},
   "outputs": [
    {
     "data": {
      "text/plain": [
       "tensor([[ 0,  2,  4],\n",
       "        [ 6,  8, 10]], dtype=torch.int32)"
      ]
     },
     "execution_count": 18,
     "metadata": {},
     "output_type": "execute_result"
    }
   ],
   "source": [
    "# reshape\n",
    "tsr.reshape(2, 3)"
   ]
  },
  {
   "cell_type": "markdown",
   "id": "c7894055-980c-4069-8f02-e40ad6aed296",
   "metadata": {},
   "source": [
    "### **Tensor Data type**\n",
    "- There are many different tensor datatypes available in PyTorch. Some are specify for `CPU` and some are better for `GPU`.\n",
    "- `torch.cuda` is being used for GPU.(NVIDIA GPUs use a computing toolkit called CUDA)\n",
    "- `torch.float16` or `torch.half`   : 16-bit floating point.\n",
    "- `torch.float32` or `torch.float`  : 32-bit floating point.\n",
    "- `torch.float64` or `torch.double` : 64-bit floating point.\n",
    "- `torch.int16`                     : 16-bit integer point.\n",
    "- `torch.int` or `torch.int32`      : 32-bit integer point.\n",
    "- `torch.long` or `torch.int64`     : 64-bit integer point."
   ]
  },
  {
   "cell_type": "code",
   "execution_count": 19,
   "id": "24390ec9-ec98-4b85-803f-395977fb3b55",
   "metadata": {},
   "outputs": [
    {
     "name": "stdout",
     "output_type": "stream",
     "text": [
      "tensor([ 0,  3,  6,  9, 12, 15], dtype=torch.int16)\n",
      "tensor([ 0,  3,  6,  9, 12, 15], dtype=torch.int32)\n",
      "tensor([ 0,  3,  6,  9, 12, 15])\n",
      "tensor([ 0,  3,  6,  9, 12, 15], dtype=torch.int32)\n",
      "tensor([ 0,  3,  6,  9, 12, 15])\n"
     ]
    }
   ],
   "source": [
    "tsr = torch.arange(0, 16, 3, dtype=torch.int16)\n",
    "print(tsr)\n",
    "tsr = torch.arange(0, 16, 3, dtype=torch.int)\n",
    "print(tsr)\n",
    "tsr = torch.arange(0, 16, 3, dtype=torch.long)\n",
    "print(tsr)\n",
    "tsr = torch.arange(0, 16, 3, dtype=torch.int32)\n",
    "print(tsr)\n",
    "tsr = torch.arange(0, 16, 3, dtype=torch.int64)\n",
    "print(tsr)"
   ]
  },
  {
   "cell_type": "markdown",
   "id": "89ab6c00-6526-49cb-918d-9e53cc665753",
   "metadata": {},
   "source": [
    "### **Getting information from the tensor**\n",
    "- __ndim__ : n\n",
    "- __shape__ : [n, m]\n",
    "- __dtype__ : int16, int32, int64/long, float16, float32, float64\n",
    "- __device__ : CPU or GPU"
   ]
  },
  {
   "cell_type": "code",
   "execution_count": 20,
   "id": "e8794f1f-334a-4b22-b166-aa44cbd20102",
   "metadata": {},
   "outputs": [
    {
     "name": "stdout",
     "output_type": "stream",
     "text": [
      "tensor([[0.7370, 0.1830, 0.0975, 0.9765],\n",
      "        [0.3790, 0.2703, 0.3898, 0.6402],\n",
      "        [0.0716, 0.8405, 0.6850, 0.1046]])\n",
      "ndim : 2\n",
      "shpae : torch.Size([3, 4])\n",
      "dtype : torch.float32\n",
      "device : cpu\n"
     ]
    }
   ],
   "source": [
    "mtx = torch.rand(3, 4)\n",
    "print(mtx)\n",
    "print(f\"ndim : {mtx.ndim}\")\n",
    "print(f\"shpae : {mtx.shape}\")\n",
    "print(f\"dtype : {mtx.dtype}\")\n",
    "print(f\"device : {mtx.device}\")"
   ]
  },
  {
   "cell_type": "markdown",
   "id": "4e22eda3-61d4-4282-a869-538e38186227",
   "metadata": {},
   "source": [
    "### **Manipulating Tensors (tensor operations)**\n",
    "- Addition : `+` or `torch.add(tensor, tensor)`\n",
    "- Substraction : `-` or `torch.sub(tensor, tensor)`\n",
    "- Multiplication (element-wise) : `*` or `torch.mul(tensor, tensor)` or `torch.multiply(tensor, tensor)`   `Condition : t1.shape([p x m]) @ t2shape([m x q]) -> t3.shape([p x q])`\n",
    "- Division : `/`, `//` or `torch.div(tensor, tensor)`\n",
    "- Matrix Multiplication : `@` or `torch.matmul(tensor, tensor)` or `torch.mm(tensor, tensor)`\n",
    "- Modulus : `%`"
   ]
  },
  {
   "cell_type": "code",
   "execution_count": 21,
   "id": "42e5ce5f-b48f-4249-a962-d2e889024fd5",
   "metadata": {},
   "outputs": [
    {
     "name": "stdout",
     "output_type": "stream",
     "text": [
      "tensor([2, 3, 4])\n",
      "tensor([12, 13, 14])\n",
      "tensor([0, 1, 2])\n",
      "tensor([10, 15, 20])\n",
      "tensor([1.0000, 1.5000, 2.0000])\n",
      "tensor([1, 1, 2])\n",
      "tensor([2, 0, 1])\n",
      "\n",
      "tensor([2, 3, 4])\n",
      "tensor([12, 13, 14])\n",
      "tensor([10, 11, 12])\n",
      "tensor([50, 55, 60])\n",
      "tensor([10., 11., 12.])\n",
      "tensor([5., 5., 6.])\n",
      "tensor([1., 1., 0.])\n"
     ]
    }
   ],
   "source": [
    "# Operation with number\n",
    "tensor = torch.tensor([2, 3, 4])\n",
    "\n",
    "print(tensor)\n",
    "print(tensor + 10)  # addition\n",
    "print(tensor - 2)  # substraction\n",
    "print(tensor * 5)  # multiplication\n",
    "print(tensor / 2)  # division\n",
    "print(tensor // 2) # floor division\n",
    "print(tensor % 3)  # modulus\n",
    "\n",
    "print()\n",
    "print(tensor)\n",
    "tensor = tensor + 10\n",
    "print(tensor)\n",
    "tensor = tensor - 2\n",
    "print(tensor)\n",
    "tensor = tensor * 5\n",
    "print(tensor)\n",
    "tensor = tensor / 5\n",
    "print(tensor)\n",
    "tensor = tensor // 2\n",
    "print(tensor)\n",
    "tensor = tensor % 2\n",
    "print(tensor)"
   ]
  },
  {
   "cell_type": "code",
   "execution_count": 22,
   "id": "15c01baf-b5ea-482a-b529-37d014860066",
   "metadata": {},
   "outputs": [
    {
     "name": "stdout",
     "output_type": "stream",
     "text": [
      "tensor([ 2,  4,  6,  8, 10])\n",
      "tensor([12, 14, 16, 18, 20])\n",
      "tensor([0, 2, 4, 6, 8])\n",
      "tensor([ 20,  40,  60,  80, 100])\n",
      "tensor([ 20,  40,  60,  80, 100])\n",
      "tensor([1., 2., 3., 4., 5.])\n"
     ]
    }
   ],
   "source": [
    "tensor = torch.tensor([2, 4, 6, 8, 10])\n",
    "print(tensor)\n",
    "print(torch.add(tensor, 10))\n",
    "print(torch.sub(tensor, 2))\n",
    "print(torch.mul(tensor, 10))\n",
    "print(torch.multiply(tensor, 10))\n",
    "print(torch.div(tensor, 2))"
   ]
  },
  {
   "cell_type": "code",
   "execution_count": 23,
   "id": "75497680-d43f-4f10-a7d2-32ff9b4f61f0",
   "metadata": {},
   "outputs": [
    {
     "name": "stdout",
     "output_type": "stream",
     "text": [
      "tensor([ 3,  6,  9, 12])\n",
      "tensor([1, 2, 3, 4])\n",
      "tensor([ 2,  8, 18, 32])\n",
      "tensor([2., 2., 2., 2.])\n",
      "tensor([0, 0, 0, 0])\n",
      "tensor(60)\n",
      "\n",
      "tensor([ 3,  6,  9, 12])\n",
      "tensor([1, 2, 3, 4])\n",
      "tensor([ 2,  8, 18, 32])\n",
      "tensor([ 2,  8, 18, 32])\n",
      "tensor([2., 2., 2., 2.])\n",
      "tensor(60)\n",
      "\n"
     ]
    }
   ],
   "source": [
    "# Operation on 2 tensor\n",
    "t1 = torch.tensor([2, 4, 6, 8])\n",
    "t2 = torch.tensor([1, 2, 3, 4])\n",
    "print(t1 + t2)\n",
    "print(t1 - t2)\n",
    "print(t1 * t2)\n",
    "print(t1 / t2)\n",
    "print(t1 % t2)\n",
    "print(t1 @ t2)\n",
    "print()\n",
    "\n",
    "print(torch.add(t1, t2))\n",
    "print(torch.sub(t1, t2))\n",
    "print(torch.mul(t1, t2))\n",
    "print(torch.multiply(t1, t2))\n",
    "print(torch.div(t1, t2))\n",
    "print(torch.matmul(t1, t2))\n",
    "print()"
   ]
  },
  {
   "cell_type": "code",
   "execution_count": 24,
   "id": "e85cec08-6287-4a4b-9abe-8fb27ec5045b",
   "metadata": {},
   "outputs": [],
   "source": [
    "# matrix multiplication\n",
    "m1 = torch.rand(3, 4)\n"
   ]
  },
  {
   "cell_type": "code",
   "execution_count": 25,
   "id": "1cc1b204-37a1-4241-b02a-775b30254e78",
   "metadata": {},
   "outputs": [
    {
     "name": "stdout",
     "output_type": "stream",
     "text": [
      "torch.Size([3])\n",
      "Multiplication : \n",
      "tensor([1, 4, 9])\n",
      "tensor([1, 4, 9])\n",
      "\n",
      "Matrix Multiplication : \n",
      "tensor(14)\n",
      "tensor(14)\n"
     ]
    }
   ],
   "source": [
    "## calculate time\n",
    "tensor = torch.tensor([1, 2, 3])\n",
    "print(tensor.shape)\n",
    "print(\"Multiplication : \")\n",
    "print(tensor * tensor)\n",
    "print(torch.mul(tensor, tensor))\n",
    "print()\n",
    "print(\"Matrix Multiplication : \")\n",
    "print(tensor @ tensor)\n",
    "print(torch.matmul(tensor, tensor))"
   ]
  },
  {
   "cell_type": "code",
   "execution_count": 26,
   "id": "fdf704f5-492a-4605-a896-33a2f620697c",
   "metadata": {},
   "outputs": [
    {
     "name": "stdout",
     "output_type": "stream",
     "text": [
      "tensor(14)\n",
      "CPU times: total: 15.6 ms\n",
      "Wall time: 6.48 ms\n"
     ]
    }
   ],
   "source": [
    "%%time\n",
    "value = 0\n",
    "for i in range(len(tensor)):\n",
    "    value += tensor[i] * tensor[i]\n",
    "print(value)"
   ]
  },
  {
   "cell_type": "code",
   "execution_count": 27,
   "id": "5906f979-67df-4385-966c-bc8aa6c33602",
   "metadata": {},
   "outputs": [
    {
     "name": "stdout",
     "output_type": "stream",
     "text": [
      "tensor(14)\n",
      "CPU times: total: 0 ns\n",
      "Wall time: 1.01 ms\n"
     ]
    }
   ],
   "source": [
    "%%time\n",
    "value = torch.matmul(tensor, tensor)\n",
    "print(value)"
   ]
  },
  {
   "cell_type": "markdown",
   "id": "4d2548f7-f353-4b92-9fd2-e340a02ac090",
   "metadata": {},
   "source": [
    "## <font color=\"red\">**One of the most common errors in deep learning (shape errors)**</font>"
   ]
  },
  {
   "cell_type": "code",
   "execution_count": 28,
   "id": "10543699-a933-408d-b8b7-a4a00e218385",
   "metadata": {},
   "outputs": [
    {
     "name": "stdout",
     "output_type": "stream",
     "text": [
      "tensor([[1., 2.],\n",
      "        [3., 4.],\n",
      "        [5., 6.]])\n",
      "\n",
      "tensor([[ 7., 10.],\n",
      "        [ 8., 11.],\n",
      "        [ 9., 12.]])\n",
      "\n"
     ]
    }
   ],
   "source": [
    "t_A = torch.tensor([[1, 2],\n",
    "                   [3, 4],\n",
    "                   [5, 6]], dtype=torch.float32)\n",
    "t_B = torch.tensor([[7, 10],\n",
    "                   [8, 11],\n",
    "                   [9, 12]], dtype=torch.float32)\n",
    "print(t_A, t_B, sep='\\n\\n', end='\\n\\n')\n"
   ]
  },
  {
   "cell_type": "code",
   "execution_count": 29,
   "id": "fcc0c0bd-060f-492a-9ec2-3a6ef5d4d849",
   "metadata": {},
   "outputs": [],
   "source": [
    "# t_C = torch.matmul(t_A, t_B)     # this will produce error coz t_A(3, 2) and t_B(3, 2)\n",
    "# print(t_C)"
   ]
  },
  {
   "cell_type": "code",
   "execution_count": 30,
   "id": "bfb82c34-e799-4c22-97a3-8ff47607d0e6",
   "metadata": {},
   "outputs": [
    {
     "name": "stdout",
     "output_type": "stream",
     "text": [
      "tensor([[1., 2.],\n",
      "        [3., 4.],\n",
      "        [5., 6.]])\n",
      "\n",
      "tensor([[ 7.,  8.,  9.],\n",
      "        [10., 11., 12.]])\n",
      "\n",
      "tensor([[ 27.,  30.,  33.],\n",
      "        [ 61.,  68.,  75.],\n",
      "        [ 95., 106., 117.]])\n"
     ]
    }
   ],
   "source": [
    "print(t_A, t_B.T, sep=\"\\n\\n\", end=\"\\n\\n\")\n",
    "t_C = torch.matmul(t_A, t_B.T) # take transpose of t_B \n",
    "print(t_C)"
   ]
  },
  {
   "cell_type": "code",
   "execution_count": 31,
   "id": "1c06f8c8-7ad0-4d86-91b4-0d3719bcde28",
   "metadata": {},
   "outputs": [
    {
     "data": {
      "text/plain": [
       "tensor([[ 27.,  30.,  33.],\n",
       "        [ 61.,  68.,  75.],\n",
       "        [ 95., 106., 117.]])"
      ]
     },
     "execution_count": 31,
     "metadata": {},
     "output_type": "execute_result"
    }
   ],
   "source": [
    "torch.mm(t_A, t_B.T)"
   ]
  },
  {
   "cell_type": "markdown",
   "id": "ce6f69d7-506e-4dc8-829d-740ce9a7d2cc",
   "metadata": {},
   "source": [
    "### **torch.nn.Linear()**\n",
    "- **Note** : A matrix multiplication like this is also referred to as the `dot product` of two matrices.\n",
    "- Nural network are full of matrix multiplications and dot products.\n",
    "- The `torch.nn.Linear()` module (we'll see this in action later on), also known as a __feed-forward layer__ of __fully connected layer__, implements a matrix multiplication between an input `x` and weights matrix `A`.\n",
    "- `y = x.transpose(A) + b`\n",
    "  - Where :\n",
    "  - `x` is the input to the layer (deep learning is a stack of layers like `torch.nn.Linear()` and others on top of each other.)\n",
    "  - `A` is the weights matrix created by the layer, this starts out as random numbers that get ajusted as a Neural Netwok learns to better representation patterns in the data. (notice the \"`T`\", that's because the weights matrix get transposed).\n",
    "  - __Note__ : You might also often see `W` or another letter like `X` used to showcase the weights matrix.\n",
    "  - `b` is the bias terms used to slightly offset the weights and inputs.\n",
    "  - `y` is the output (a manipulation of the input in the hopes to discover patterns in it).\n",
    "  - This the linear function linek `y = mx + c` equation of straight line. Try to changing the values of `in_features` and `out_features` below and see what happens.\n",
    "  - Since the linear layer starts with a random weights matrix, let's make it reproducible (more on this later)\n",
    "  "
   ]
  },
  {
   "cell_type": "code",
   "execution_count": 32,
   "id": "e004fdcf-feda-4bd2-b79a-14709401755b",
   "metadata": {},
   "outputs": [
    {
     "name": "stdout",
     "output_type": "stream",
     "text": [
      "Input Shape : torch.Size([3, 2])\n",
      "\n",
      "Output : \n",
      "tensor([[2.2368, 1.2292, 0.4714, 0.3864, 0.1309, 0.9838],\n",
      "        [4.4919, 2.1970, 0.4469, 0.5285, 0.3401, 2.4777],\n",
      "        [6.7469, 3.1648, 0.4224, 0.6705, 0.5493, 3.9716]],\n",
      "       grad_fn=<AddmmBackward0>)\n",
      "\n",
      "Ouptu Shape : torch.Size([3, 6])\n"
     ]
    }
   ],
   "source": [
    "# Since the linear layer starts with a random weights matrix, let's make it reproducible (more on this later)\n",
    "torch.manual_seed(42)\n",
    "linear = torch.nn.Linear(in_features=2,   # matche inner dimension of input\n",
    "                         out_features=6)  # describe outer value\n",
    "\n",
    "x = torch.tensor([[1, 2],\n",
    "                  [3, 4],\n",
    "                  [5, 6]], dtype=torch.float)\n",
    "\n",
    "output = linear(x)\n",
    "print(f\"Input Shape : {x.shape}\\n\")\n",
    "print(f\"Output : \\n{output}\\n\\nOuptu Shape : {output.shape}\")"
   ]
  },
  {
   "cell_type": "code",
   "execution_count": 33,
   "id": "369d3389-cc7b-45dc-b5a9-4c7807c34d3c",
   "metadata": {},
   "outputs": [
    {
     "name": "stdout",
     "output_type": "stream",
     "text": [
      "tensor([[ 1.,  2.,  3.,  4.],\n",
      "        [ 2.,  4.,  6.,  8.],\n",
      "        [ 3.,  6.,  9., 12.],\n",
      "        [ 4.,  8., 12., 16.],\n",
      "        [ 5., 10., 15., 20.],\n",
      "        [ 6., 12., 18., 24.]])\n",
      "torch.Size([6, 4])\n",
      "\n",
      "tensor([[  0.4974,  -1.5763,   1.4562,  -0.8506,   0.7215,  -0.4398,  -3.2376,\n",
      "          -0.5411,   1.0880,   0.6005],\n",
      "        [  1.3022,  -3.2688,   2.6275,  -1.3393,   1.8976,  -1.1590,  -5.9811,\n",
      "          -0.7089,   1.9592,   1.3687],\n",
      "        [  2.1071,  -4.9613,   3.7988,  -1.8280,   3.0737,  -1.8782,  -8.7246,\n",
      "          -0.8768,   2.8304,   2.1368],\n",
      "        [  2.9119,  -6.6538,   4.9701,  -2.3167,   4.2497,  -2.5974, -11.4682,\n",
      "          -1.0447,   3.7016,   2.9050],\n",
      "        [  3.7168,  -8.3462,   6.1413,  -2.8053,   5.4258,  -3.3166, -14.2117,\n",
      "          -1.2125,   4.5729,   3.6732],\n",
      "        [  4.5216, -10.0387,   7.3126,  -3.2940,   6.6019,  -4.0358, -16.9552,\n",
      "          -1.3804,   5.4441,   4.4413]], grad_fn=<AddmmBackward0>)\n",
      "torch.Size([6, 10])\n",
      "\n"
     ]
    }
   ],
   "source": [
    "torch.manual_seed(32)\n",
    "linearModel = torch.nn.Linear(in_features=4, # matche inner dimension of input\n",
    "                         out_features=10) # describe outer value\n",
    "\n",
    "x = torch.tensor([[1, 2, 3, 4],\n",
    "                  [2, 4, 6, 8],\n",
    "                  [3, 6, 9, 12],\n",
    "                  [4, 8, 12, 16],\n",
    "                  [5, 10, 15, 20],\n",
    "                  [6, 12, 18, 24]], dtype=torch.float)\n",
    "\n",
    "y = linearModel(x)\n",
    "print(x); print(x.shape); print()\n",
    "print(y); print(y.shape); print()"
   ]
  },
  {
   "cell_type": "markdown",
   "id": "1db0585a-5bcd-48db-a138-47221fd1c67a",
   "metadata": {},
   "source": [
    "### **Finding the min(), max(), mean(), sum(), etc (aggregation)**\n",
    "- mean() work with only float data type."
   ]
  },
  {
   "cell_type": "code",
   "execution_count": 34,
   "id": "f3f9fef5-4c17-48cf-85a7-c549799962a9",
   "metadata": {},
   "outputs": [
    {
     "name": "stdout",
     "output_type": "stream",
     "text": [
      "tensor([10, 20, 30, 40, 50, 60, 70, 80, 90])\n",
      "Min :  tensor(10)\n",
      "Max :  tensor(90)\n",
      "Mean :  tensor(50.)\n",
      "Sum :  tensor(450)\n"
     ]
    }
   ],
   "source": [
    "x = torch.arange(10, 100, 10)\n",
    "print(x)\n",
    "print(\"Min : \", x.min())\n",
    "print(\"Max : \", x.max())\n",
    "print(\"Mean : \", x.type(torch.float32).mean()) # work with float dtype\n",
    "print(\"Sum : \", x.sum())"
   ]
  },
  {
   "cell_type": "code",
   "execution_count": 35,
   "id": "850a884a-525f-4600-9128-521b1c075d36",
   "metadata": {},
   "outputs": [
    {
     "name": "stdout",
     "output_type": "stream",
     "text": [
      "tensor(10)\n",
      "tensor(90)\n",
      "tensor(50.)\n",
      "tensor(450)\n"
     ]
    }
   ],
   "source": [
    "print(torch.min(x))\n",
    "print(torch.max(x))\n",
    "print(torch.mean(x.type(torch.float32))) # mean work with float dtype\n",
    "print(torch.sum(x))"
   ]
  },
  {
   "cell_type": "markdown",
   "id": "5664a95b-3c17-469d-bdad-3e2103a522a5",
   "metadata": {},
   "source": [
    "### **Positional min/max**\n",
    "- Find the index of a tensor where the max or min value present.\n",
    "- `torch.argmin()` : return index of min value\n",
    "- `torch.argmax()` : return inde of max value"
   ]
  },
  {
   "cell_type": "code",
   "execution_count": 36,
   "id": "f617abd2-9a38-4af1-8305-827968df3807",
   "metadata": {},
   "outputs": [
    {
     "name": "stdout",
     "output_type": "stream",
     "text": [
      "Tensor : tensor([10, 20, 30, 40, 50, 60, 70, 80, 90])\n",
      "Max : 8\n",
      "Min : 0\n"
     ]
    }
   ],
   "source": [
    "tensor = torch.arange(10, 100, 10)\n",
    "print(f\"Tensor : {tensor}\")\n",
    "\n",
    "# Returns index of max and min values\n",
    "print(f\"Max : {tensor.argmax()}\")\n",
    "print(f\"Min : {tensor.argmin()}\")"
   ]
  },
  {
   "cell_type": "markdown",
   "id": "c906f93e-2ae2-4b9f-bc91-db8fe6651120",
   "metadata": {},
   "source": [
    "### **Change the data type of tensor**\n",
    "- `tensor.type(torch.int)`"
   ]
  },
  {
   "cell_type": "code",
   "execution_count": 37,
   "id": "65ff175f-ddb5-4d6e-b386-f7438b8632ef",
   "metadata": {},
   "outputs": [
    {
     "name": "stdout",
     "output_type": "stream",
     "text": [
      "tensor([10, 17, 24, 31, 38, 45, 52, 59, 66, 73, 80, 87, 94]) torch.int64\n",
      "\n",
      "tensor([10, 17, 24, 31, 38, 45, 52, 59, 66, 73, 80, 87, 94], dtype=torch.int32)\n",
      "tensor([10., 17., 24., 31., 38., 45., 52., 59., 66., 73., 80., 87., 94.],\n",
      "       dtype=torch.float64)\n",
      "tensor([10, 17, 24, 31, 38, 45, 52, 59, 66, 73, 80, 87, 94], dtype=torch.int8)\n",
      "tensor([10., 17., 24., 31., 38., 45., 52., 59., 66., 73., 80., 87., 94.],\n",
      "       dtype=torch.float16)\n",
      "tensor([10., 17., 24., 31., 38., 45., 52., 59., 66., 73., 80., 87., 94.])\n"
     ]
    }
   ],
   "source": [
    "tsr = torch.arange(10, 100, 7)\n",
    "print(tsr, tsr.dtype)\n",
    "print()\n",
    "print(tsr.type(torch.int32))\n",
    "print(tsr.type(torch.double))\n",
    "print(tsr.type(torch.int8))\n",
    "print(tsr.type(torch.float16))\n",
    "print(tsr.type(torch.float32))"
   ]
  },
  {
   "cell_type": "code",
   "execution_count": 38,
   "id": "d8679cfb-6f36-47bc-8345-64fcaae5cbdb",
   "metadata": {},
   "outputs": [
    {
     "name": "stdout",
     "output_type": "stream",
     "text": [
      "tensor([10., 20., 30., 40., 50., 60., 70., 80., 90.], dtype=torch.float16)\n",
      "tensor([10, 20, 30, 40, 50, 60, 70, 80, 90], dtype=torch.int8)\n"
     ]
    }
   ],
   "source": [
    "tsr_float = tensor.type(torch.float16)\n",
    "print(tsr_float)\n",
    "tsr_int = tensor.type(torch.int8)\n",
    "print(tsr_int)"
   ]
  },
  {
   "cell_type": "markdown",
   "id": "30b3f7d7-de94-440d-875a-80b06e2d029c",
   "metadata": {},
   "source": [
    "## **<font color=\"red\">Reshaping, stacking, squeezing and unsqueezing</font>**\n",
    "- `torch.reshape(input, shape)` or `torch.Tensor.reshape()` : Reshape the tensor\n",
    "- `Tensor.view(shape)` : Return a view of the original tensor in different shape but shares the same data as the original tensor.\n",
    "- `torch.stack(tensors, dim=0)` : Concatenates a sequence of `tensors` along a new dimension(`dim`), all `tensors` must be same size.\n",
    "- `torch.squeeze(input)` : Squeezes `input` to remove all the dimensions with value `1`.\n",
    "- `torch.unsqueeze(input, dim)` : Returns `input` with a dimension value of `1` added at `dim`.\n",
    "- `torch.permute(input, dims)` : Returns a _view_ of the original `input` with its dimensions permuted(rearranged) to `dims`."
   ]
  },
  {
   "cell_type": "code",
   "execution_count": 39,
   "id": "49e30d4e-1ac3-41e0-91cd-58a2b89c6db6",
   "metadata": {},
   "outputs": [
    {
     "data": {
      "text/plain": [
       "(tensor(5), torch.Size([]), 0)"
      ]
     },
     "execution_count": 39,
     "metadata": {},
     "output_type": "execute_result"
    }
   ],
   "source": [
    "x = torch.tensor(5)   # scaler\n",
    "x, x.shape, x.ndim"
   ]
  },
  {
   "cell_type": "code",
   "execution_count": 40,
   "id": "38a2ce94-2a98-4597-919c-1e924a3d4b8b",
   "metadata": {},
   "outputs": [
    {
     "data": {
      "text/plain": [
       "(tensor([1., 2., 3., 4., 5., 6., 7.]), torch.Size([7]), 1)"
      ]
     },
     "execution_count": 40,
     "metadata": {},
     "output_type": "execute_result"
    }
   ],
   "source": [
    "x = torch.arange(1.0, 8.0)  # vector\n",
    "x, x.shape, x.ndim"
   ]
  },
  {
   "cell_type": "markdown",
   "id": "515a881e-f29b-4a60-96dd-8d4b8bd98f18",
   "metadata": {},
   "source": [
    "### **reshape()**"
   ]
  },
  {
   "cell_type": "code",
   "execution_count": 41,
   "id": "cc50aa5d-6afc-40a6-b3a2-24396e625741",
   "metadata": {},
   "outputs": [
    {
     "data": {
      "text/plain": [
       "(tensor([[1., 2., 3., 4., 5., 6., 7.]]), torch.Size([1, 7]), 2)"
      ]
     },
     "execution_count": 41,
     "metadata": {},
     "output_type": "execute_result"
    }
   ],
   "source": [
    "x_reshaped = x.reshape(1, 7)  # matrix\n",
    "x_reshaped, x_reshaped.shape, x_reshaped.ndim"
   ]
  },
  {
   "cell_type": "code",
   "execution_count": 42,
   "id": "1dce1011-bed8-4589-b1b5-a5694c597c6c",
   "metadata": {},
   "outputs": [
    {
     "data": {
      "text/plain": [
       "(tensor([ 2,  4,  6,  8, 10, 12, 14, 16, 18, 20, 22, 24, 26, 28, 30]),\n",
       " torch.Size([15]),\n",
       " 1)"
      ]
     },
     "execution_count": 42,
     "metadata": {},
     "output_type": "execute_result"
    }
   ],
   "source": [
    "tsr = torch.arange(2, 31, 2)\n",
    "tsr, tsr.shape, tsr.ndim"
   ]
  },
  {
   "cell_type": "code",
   "execution_count": 43,
   "id": "065e6d37-0809-4a3d-9d53-ab77e2a5b84c",
   "metadata": {},
   "outputs": [
    {
     "data": {
      "text/plain": [
       "(tensor([[ 2,  4,  6,  8, 10],\n",
       "         [12, 14, 16, 18, 20],\n",
       "         [22, 24, 26, 28, 30]]),\n",
       " torch.Size([3, 5]),\n",
       " 2)"
      ]
     },
     "execution_count": 43,
     "metadata": {},
     "output_type": "execute_result"
    }
   ],
   "source": [
    "tsr_reshaped = tsr.reshape(3, 5)\n",
    "tsr_reshaped, tsr_reshaped.shape, tsr_reshaped.ndim"
   ]
  },
  {
   "cell_type": "code",
   "execution_count": 44,
   "id": "7a4c4707-1007-4b3d-8c8e-8148fb2dbf13",
   "metadata": {},
   "outputs": [
    {
     "data": {
      "text/plain": [
       "(tensor([ 2,  4,  6,  8, 10, 12, 14, 16, 18, 20, 22, 24, 26, 28, 30]),\n",
       " torch.Size([15]),\n",
       " 1)"
      ]
     },
     "execution_count": 44,
     "metadata": {},
     "output_type": "execute_result"
    }
   ],
   "source": [
    "tsr = tsr_reshaped.reshape(-1)\n",
    "tsr, tsr.shape, tsr.ndim"
   ]
  },
  {
   "cell_type": "markdown",
   "id": "6f9c4208-1c29-4870-aa86-7e4d25743d20",
   "metadata": {},
   "source": [
    "### **view()**"
   ]
  },
  {
   "cell_type": "code",
   "execution_count": 45,
   "id": "683f1cda-bce2-451a-86ab-7cef0569830d",
   "metadata": {},
   "outputs": [
    {
     "name": "stdout",
     "output_type": "stream",
     "text": [
      "tensor([[ 2,  4,  6,  8, 10, 12, 14, 16, 18, 20, 22, 24, 26, 28, 30]]) torch.Size([15]) 1\n",
      "\n",
      "tensor([[ 2,  4,  6,  8, 10],\n",
      "        [12, 14, 16, 18, 20],\n",
      "        [22, 24, 26, 28, 30]]) torch.Size([3, 5]) 2\n",
      "\n"
     ]
    }
   ],
   "source": [
    "tsr_view = tsr.view(1, 15)\n",
    "print(tsr_view, tsr.shape, tsr.ndim); print()\n",
    "\n",
    "tsr_view = tsr.view(3, 5)\n",
    "print(tsr_view, tsr_view.shape, tsr_view.ndim); print()"
   ]
  },
  {
   "cell_type": "markdown",
   "id": "b587810b-96a9-4603-8395-288237fe4f71",
   "metadata": {},
   "source": [
    "### **Slicing**"
   ]
  },
  {
   "cell_type": "code",
   "execution_count": 46,
   "id": "ea8db32f-74cb-4072-a5ef-9a2d9040ca6d",
   "metadata": {},
   "outputs": [
    {
     "name": "stdout",
     "output_type": "stream",
     "text": [
      "tensor([[ 2,  4,  6,  8, 10],\n",
      "        [12, 14, 16, 18, 20],\n",
      "        [22, 24, 26, 28, 30]])\n",
      "\n",
      "tensor([[ 4,  6,  8],\n",
      "        [14, 16, 18],\n",
      "        [24, 26, 28]])\n",
      "\n"
     ]
    }
   ],
   "source": [
    "tsr = tsr.reshape(3, 5)\n",
    "print(tsr)\n",
    "mtx = tsr\n",
    "print()\n",
    "\n",
    "y = mtx[:, 1:4]  # row, col\n",
    "print(y); print()\n"
   ]
  },
  {
   "cell_type": "code",
   "execution_count": 47,
   "id": "1a741104-5a27-47b3-a4e5-a1d86eea09b5",
   "metadata": {},
   "outputs": [
    {
     "name": "stdout",
     "output_type": "stream",
     "text": [
      "tensor([[ 7,  6,  8],\n",
      "        [ 7, 16, 18],\n",
      "        [ 7, 26, 28]])\n",
      "\n",
      "tensor([[ 9,  9,  9],\n",
      "        [ 7, 16, 18],\n",
      "        [ 7, 26, 28]])\n",
      "\n"
     ]
    }
   ],
   "source": [
    "y[:, 0] = 7    # row, col\n",
    "print(y); print()\n",
    "\n",
    "y[0, :] = 9    # row, col\n",
    "print(y); print()"
   ]
  },
  {
   "cell_type": "code",
   "execution_count": 48,
   "id": "57a08aaf-8e02-4c3e-94aa-045d7e5b123b",
   "metadata": {},
   "outputs": [
    {
     "name": "stdout",
     "output_type": "stream",
     "text": [
      "tensor([12,  7, 16, 18, 20])\n"
     ]
    }
   ],
   "source": [
    "z = tsr[1, :]\n",
    "print(z)"
   ]
  },
  {
   "cell_type": "markdown",
   "id": "848fc214-f065-4006-bea3-4aab721d0b97",
   "metadata": {},
   "source": [
    "### **stack()**"
   ]
  },
  {
   "cell_type": "code",
   "execution_count": 49,
   "id": "4021e9a1-3b26-49d3-9c64-bd20f39045b6",
   "metadata": {},
   "outputs": [
    {
     "name": "stdout",
     "output_type": "stream",
     "text": [
      "tensor([[12,  7, 16, 18, 20],\n",
      "        [12,  7, 16, 18, 20],\n",
      "        [12,  7, 16, 18, 20],\n",
      "        [12,  7, 16, 18, 20]])\n",
      "\n",
      "tensor([[12, 12, 12, 12],\n",
      "        [ 7,  7,  7,  7],\n",
      "        [16, 16, 16, 16],\n",
      "        [18, 18, 18, 18],\n",
      "        [20, 20, 20, 20]])\n",
      "\n",
      "tensor([[12, 12, 12, 12],\n",
      "        [ 7,  7,  7,  7],\n",
      "        [16, 16, 16, 16],\n",
      "        [18, 18, 18, 18],\n",
      "        [20, 20, 20, 20]])\n"
     ]
    }
   ],
   "source": [
    "# try changing dim to dim=1 and see what happens\n",
    "tsr_stack = torch.stack([z, z, z, z], dim=0)  # dim=0 for row\n",
    "print(tsr_stack); print()\n",
    "\n",
    "tsr_stack = torch.stack([z, z, z, z], dim=1)  # dim=1 for col\n",
    "print(tsr_stack); print()\n",
    "\n",
    "tsr_stack = torch.stack([z, z, z, z], dim=-1)  \n",
    "print(tsr_stack)"
   ]
  },
  {
   "cell_type": "code",
   "execution_count": 50,
   "id": "c4999049-04b3-4482-8ed3-fd9be05638fb",
   "metadata": {},
   "outputs": [
    {
     "name": "stdout",
     "output_type": "stream",
     "text": [
      "tensor([[ 7, 16, 18],\n",
      "        [ 7, 26, 28]])\n",
      "\n",
      "tensor([[[ 7, 16, 18],\n",
      "         [ 7, 26, 28]],\n",
      "\n",
      "        [[ 7, 16, 18],\n",
      "         [ 7, 26, 28]],\n",
      "\n",
      "        [[ 7, 16, 18],\n",
      "         [ 7, 26, 28]],\n",
      "\n",
      "        [[ 7, 16, 18],\n",
      "         [ 7, 26, 28]]])\n"
     ]
    }
   ],
   "source": [
    "# slicing in tensor\n",
    "z = y[1:3 :]\n",
    "tsr_stack = torch.stack([z, z, z, z], dim=0)\n",
    "print(z); print()\n",
    "print(tsr_stack)"
   ]
  },
  {
   "cell_type": "markdown",
   "id": "dd288ed7-9838-4035-ad0b-8fae23916477",
   "metadata": {},
   "source": [
    "### **squeeze() or unsqueeze()**\n",
    "- Removing all single dimensions from a tensor."
   ]
  },
  {
   "cell_type": "code",
   "execution_count": 51,
   "id": "b1dfdcba-eb86-49d8-8db8-c52d2f8339a9",
   "metadata": {},
   "outputs": [
    {
     "name": "stdout",
     "output_type": "stream",
     "text": [
      "matrix : \n",
      "tensor([[ 2,  4,  6,  8, 10, 12]]) torch.Size([1, 6]) 2\n",
      "\n",
      "mtx_squeez : \n",
      "tensor([ 2,  4,  6,  8, 10, 12]) torch.Size([6]) 1\n",
      "\n",
      "mtx_unsqueez : \n",
      "tensor([[[ 2,  4,  6,  8, 10, 12]]]) torch.Size([1, 1, 6]) 1\n",
      "mtx_unsqueez : \n",
      "tensor([[[ 2,  4,  6,  8, 10, 12]]]) torch.Size([1, 1, 6]) 1\n",
      "\n",
      "mtx_unsqueez : \n",
      "tensor([[[ 2],\n",
      "         [ 4],\n",
      "         [ 6],\n",
      "         [ 8],\n",
      "         [10],\n",
      "         [12]]]) torch.Size([1, 6, 1]) 1\n",
      "mtx_unsqueez : \n",
      "tensor([[[ 2],\n",
      "         [ 4],\n",
      "         [ 6],\n",
      "         [ 8],\n",
      "         [10],\n",
      "         [12]]]) torch.Size([1, 6, 1]) 1\n"
     ]
    }
   ],
   "source": [
    "matrix = torch.tensor([[2, 4, 6, 8, 10, 12]])\n",
    "print(\"matrix : \")\n",
    "print(matrix, matrix.shape, matrix.ndim); print()\n",
    "\n",
    "mtx_squeez = matrix.squeeze()\n",
    "print(\"mtx_squeez : \")\n",
    "print(mtx_squeez, mtx_squeez.shape, mtx_squeez.ndim); print()\n",
    "\n",
    "mtx_unsqueez = matrix.unsqueeze(dim=0)\n",
    "print(\"mtx_unsqueez : \")\n",
    "print(mtx_unsqueez, mtx_unsqueez.shape, mtx_squeez.ndim)\n",
    "\n",
    "mtx_unsqueez = matrix.unsqueeze(dim=1)\n",
    "print(\"mtx_unsqueez : \")\n",
    "print(mtx_unsqueez, mtx_unsqueez.shape, mtx_squeez.ndim); print()\n",
    "\n",
    "mtx_unsqueez = matrix.unsqueeze(dim=2)\n",
    "print(\"mtx_unsqueez : \")\n",
    "print(mtx_unsqueez, mtx_unsqueez.shape, mtx_squeez.ndim)\n",
    "\n",
    "mtx_unsqueez = matrix.unsqueeze(dim=-1)\n",
    "print(\"mtx_unsqueez : \")\n",
    "print(mtx_unsqueez, mtx_unsqueez.shape, mtx_squeez.ndim)\n",
    "\n"
   ]
  },
  {
   "cell_type": "markdown",
   "id": "dfe8231a-c138-4359-a550-204c967d2595",
   "metadata": {},
   "source": [
    "### **permute()**\n",
    "- You can rearrange the order of axes values with `torch.permute(input, dims)`, where the `input` gets turned into a _view_ with new `dims`.\n",
    "- Because permuting returns a _view_ (shares the same data as the original), the values in the permuted tensor will be the same as the original tensor and if you change the values in the view, it will change the values of the original."
   ]
  },
  {
   "cell_type": "code",
   "execution_count": 52,
   "id": "60d22760-5fdd-43f6-8d43-ede5cf3028d6",
   "metadata": {},
   "outputs": [
    {
     "name": "stdout",
     "output_type": "stream",
     "text": [
      "tensor([[[  1,   2,   3],\n",
      "         [  4,   5,   6],\n",
      "         [  7,   8,   9],\n",
      "         [ 10,  11,  12],\n",
      "         [ 13,  14,  15]],\n",
      "\n",
      "        [[ 16,  17,  18],\n",
      "         [ 19,  20,  21],\n",
      "         [ 22,  23,  24],\n",
      "         [ 25,  26,  27],\n",
      "         [ 28,  29,  30]],\n",
      "\n",
      "        [[ 31,  32,  33],\n",
      "         [ 34,  35,  36],\n",
      "         [ 37,  38,  39],\n",
      "         [ 40,  41,  42],\n",
      "         [ 43,  44,  45]],\n",
      "\n",
      "        [[ 46,  47,  48],\n",
      "         [ 49,  50,  51],\n",
      "         [ 52,  53,  54],\n",
      "         [ 55,  56,  57],\n",
      "         [ 58,  59,  60]],\n",
      "\n",
      "        [[ 61,  62,  63],\n",
      "         [ 64,  65,  66],\n",
      "         [ 67,  68,  69],\n",
      "         [ 70,  71,  72],\n",
      "         [ 73,  74,  75]],\n",
      "\n",
      "        [[ 76,  77,  78],\n",
      "         [ 79,  80,  81],\n",
      "         [ 82,  83,  84],\n",
      "         [ 85,  86,  87],\n",
      "         [ 88,  89,  90]],\n",
      "\n",
      "        [[ 91,  92,  93],\n",
      "         [ 94,  95,  96],\n",
      "         [ 97,  98,  99],\n",
      "         [100, 101, 102],\n",
      "         [103, 104, 105]]])\n",
      "torch.Size([7, 5, 3]) 3\n",
      "\n",
      "-----------------------------------------------------------------\n",
      "\n",
      "tensor([[[  1,  16,  31,  46,  61,  76,  91],\n",
      "         [  4,  19,  34,  49,  64,  79,  94],\n",
      "         [  7,  22,  37,  52,  67,  82,  97],\n",
      "         [ 10,  25,  40,  55,  70,  85, 100],\n",
      "         [ 13,  28,  43,  58,  73,  88, 103]],\n",
      "\n",
      "        [[  2,  17,  32,  47,  62,  77,  92],\n",
      "         [  5,  20,  35,  50,  65,  80,  95],\n",
      "         [  8,  23,  38,  53,  68,  83,  98],\n",
      "         [ 11,  26,  41,  56,  71,  86, 101],\n",
      "         [ 14,  29,  44,  59,  74,  89, 104]],\n",
      "\n",
      "        [[  3,  18,  33,  48,  63,  78,  93],\n",
      "         [  6,  21,  36,  51,  66,  81,  96],\n",
      "         [  9,  24,  39,  54,  69,  84,  99],\n",
      "         [ 12,  27,  42,  57,  72,  87, 102],\n",
      "         [ 15,  30,  45,  60,  75,  90, 105]]])\n",
      "torch.Size([3, 5, 7]) 3\n",
      "\n",
      "-----------------------------------------------------------------\n",
      "\n",
      "tensor([[[  1,   4,   7,  10,  13],\n",
      "         [ 16,  19,  22,  25,  28],\n",
      "         [ 31,  34,  37,  40,  43],\n",
      "         [ 46,  49,  52,  55,  58],\n",
      "         [ 61,  64,  67,  70,  73],\n",
      "         [ 76,  79,  82,  85,  88],\n",
      "         [ 91,  94,  97, 100, 103]],\n",
      "\n",
      "        [[  2,   5,   8,  11,  14],\n",
      "         [ 17,  20,  23,  26,  29],\n",
      "         [ 32,  35,  38,  41,  44],\n",
      "         [ 47,  50,  53,  56,  59],\n",
      "         [ 62,  65,  68,  71,  74],\n",
      "         [ 77,  80,  83,  86,  89],\n",
      "         [ 92,  95,  98, 101, 104]],\n",
      "\n",
      "        [[  3,   6,   9,  12,  15],\n",
      "         [ 18,  21,  24,  27,  30],\n",
      "         [ 33,  36,  39,  42,  45],\n",
      "         [ 48,  51,  54,  57,  60],\n",
      "         [ 63,  66,  69,  72,  75],\n",
      "         [ 78,  81,  84,  87,  90],\n",
      "         [ 93,  96,  99, 102, 105]]])\n",
      "torch.Size([3, 7, 5]) 3\n",
      "\n",
      "-----------------------------------------------------------------\n",
      "\n",
      "tensor([[[  1,   2,   3],\n",
      "         [ 16,  17,  18],\n",
      "         [ 31,  32,  33],\n",
      "         [ 46,  47,  48],\n",
      "         [ 61,  62,  63],\n",
      "         [ 76,  77,  78],\n",
      "         [ 91,  92,  93]],\n",
      "\n",
      "        [[  4,   5,   6],\n",
      "         [ 19,  20,  21],\n",
      "         [ 34,  35,  36],\n",
      "         [ 49,  50,  51],\n",
      "         [ 64,  65,  66],\n",
      "         [ 79,  80,  81],\n",
      "         [ 94,  95,  96]],\n",
      "\n",
      "        [[  7,   8,   9],\n",
      "         [ 22,  23,  24],\n",
      "         [ 37,  38,  39],\n",
      "         [ 52,  53,  54],\n",
      "         [ 67,  68,  69],\n",
      "         [ 82,  83,  84],\n",
      "         [ 97,  98,  99]],\n",
      "\n",
      "        [[ 10,  11,  12],\n",
      "         [ 25,  26,  27],\n",
      "         [ 40,  41,  42],\n",
      "         [ 55,  56,  57],\n",
      "         [ 70,  71,  72],\n",
      "         [ 85,  86,  87],\n",
      "         [100, 101, 102]],\n",
      "\n",
      "        [[ 13,  14,  15],\n",
      "         [ 28,  29,  30],\n",
      "         [ 43,  44,  45],\n",
      "         [ 58,  59,  60],\n",
      "         [ 73,  74,  75],\n",
      "         [ 88,  89,  90],\n",
      "         [103, 104, 105]]])\n",
      "torch.Size([5, 7, 3]) 3\n",
      "\n"
     ]
    }
   ],
   "source": [
    "x_original = torch.arange(1, 106)\n",
    "# x_original = torch.rand(7, 5, 3)  # [0, 1, 2]\n",
    "x_original = x_original.reshape(7, 5, 3)   #[0, 1, 2]\n",
    "print(x_original)\n",
    "print(x_original.shape, x_original.ndim)\n",
    "print()\n",
    "print(\"-----------------------------------------------------------------\")\n",
    "print()\n",
    "\n",
    "# Permute the original tensor to rearrange the axis order\n",
    "x_permuted = x_original.permute(2, 1, 0)   # [2, 1, 0]: shifts axis 0->2, 1->1, 2->0\n",
    "print(x_permuted)\n",
    "print(x_permuted.shape, x_original.ndim)\n",
    "print()\n",
    "print(\"-----------------------------------------------------------------\")\n",
    "print()\n",
    "\n",
    "x_permuted = x_original.permute(2, 0, 1)   #[0, 1, 2] >-->>> [2, 0, 1]\n",
    "print(x_permuted)\n",
    "print(x_permuted.shape, x_permuted.ndim)\n",
    "print()\n",
    "print(\"-----------------------------------------------------------------\")\n",
    "print()\n",
    "\n",
    "x_permuted = x_original.permute(1, 0, 2)\n",
    "print(x_permuted)\n",
    "print(x_permuted.shape, x_permuted.ndim)\n",
    "print()\n"
   ]
  },
  {
   "cell_type": "markdown",
   "id": "cf1e801c-6358-4af0-86c2-03f242a70eb2",
   "metadata": {},
   "source": [
    "### **Indexing (Selecting data from tensors)**"
   ]
  },
  {
   "cell_type": "code",
   "execution_count": 83,
   "id": "1918db71-6be3-4d0b-a304-b4bf3cb5bb27",
   "metadata": {},
   "outputs": [
    {
     "name": "stdout",
     "output_type": "stream",
     "text": [
      "tensor([[[1, 2, 3],\n",
      "         [4, 5, 6],\n",
      "         [7, 8, 9]]]) torch.Size([1, 3, 3]) 3\n",
      "\n",
      "tensor([[1, 2, 3],\n",
      "        [4, 5, 6],\n",
      "        [7, 8, 9]]) torch.Size([9]) 1\n",
      "\n"
     ]
    }
   ],
   "source": [
    "x = torch.arange(1, 10).reshape(1, 3, 3)  # always use this technique to make tensor\n",
    "print(x, x.shape, x.ndim); print()\n",
    "\n",
    "y = x.reshape(-1)\n",
    "print(y.reshape(3, 3), y.shape, y.ndim); print()   # this technique will give you a tensor but create problem in indexeding and slicing"
   ]
  },
  {
   "cell_type": "code",
   "execution_count": 75,
   "id": "6280fc43-0282-48e9-9857-a8ced0a3e4fb",
   "metadata": {},
   "outputs": [
    {
     "data": {
      "text/plain": [
       "tensor([[1, 2, 3],\n",
       "        [4, 5, 6],\n",
       "        [7, 8, 9]])"
      ]
     },
     "execution_count": 75,
     "metadata": {},
     "output_type": "execute_result"
    }
   ],
   "source": [
    "x[0]"
   ]
  },
  {
   "cell_type": "code",
   "execution_count": 76,
   "id": "f5bba160-ed9d-4e04-9f5c-07f5594f09be",
   "metadata": {},
   "outputs": [
    {
     "data": {
      "text/plain": [
       "tensor(1)"
      ]
     },
     "execution_count": 76,
     "metadata": {},
     "output_type": "execute_result"
    }
   ],
   "source": [
    "y[0]"
   ]
  },
  {
   "cell_type": "code",
   "execution_count": 77,
   "id": "cb47b372-db5e-408c-b6f8-9d28fb7b6d94",
   "metadata": {},
   "outputs": [
    {
     "data": {
      "text/plain": [
       "tensor([1, 2, 3])"
      ]
     },
     "execution_count": 77,
     "metadata": {},
     "output_type": "execute_result"
    }
   ],
   "source": [
    "x[0][0]"
   ]
  },
  {
   "cell_type": "code",
   "execution_count": 78,
   "id": "4c29d413-24d2-47b0-aa98-e60bfcf17785",
   "metadata": {},
   "outputs": [
    {
     "data": {
      "text/plain": [
       "tensor(1)"
      ]
     },
     "execution_count": 78,
     "metadata": {},
     "output_type": "execute_result"
    }
   ],
   "source": [
    "x[0][0][0]"
   ]
  },
  {
   "cell_type": "code",
   "execution_count": 79,
   "id": "1f112783-9b38-416c-b71c-57c4fc5b6e48",
   "metadata": {},
   "outputs": [
    {
     "data": {
      "text/plain": [
       "tensor([[1, 2, 3],\n",
       "        [4, 5, 6],\n",
       "        [7, 8, 9]])"
      ]
     },
     "execution_count": 79,
     "metadata": {},
     "output_type": "execute_result"
    }
   ],
   "source": [
    "x[0,:]"
   ]
  },
  {
   "cell_type": "code",
   "execution_count": 81,
   "id": "c0a78fb8-4cc5-4c45-9860-4e21780ecb75",
   "metadata": {},
   "outputs": [
    {
     "data": {
      "text/plain": [
       "tensor([1, 2, 3, 4, 5, 6, 7, 8, 9])"
      ]
     },
     "execution_count": 81,
     "metadata": {},
     "output_type": "execute_result"
    }
   ],
   "source": [
    "y[0:]"
   ]
  },
  {
   "cell_type": "code",
   "execution_count": 85,
   "id": "fe0b17d1-66b8-4d43-98b7-9d12fc0b5914",
   "metadata": {},
   "outputs": [
    {
     "data": {
      "text/plain": [
       "tensor(2)"
      ]
     },
     "execution_count": 85,
     "metadata": {},
     "output_type": "execute_result"
    }
   ],
   "source": [
    "x[0, 0, 1]"
   ]
  },
  {
   "cell_type": "code",
   "execution_count": 86,
   "id": "149dbc89-cfad-42df-bc19-7abd5eeb87a1",
   "metadata": {},
   "outputs": [
    {
     "data": {
      "text/plain": [
       "tensor([1, 2, 3])"
      ]
     },
     "execution_count": 86,
     "metadata": {},
     "output_type": "execute_result"
    }
   ],
   "source": [
    "x[0, 0, :]"
   ]
  },
  {
   "cell_type": "code",
   "execution_count": 87,
   "id": "0361a4f6-6de9-4dd3-a05e-db2ac84d31d1",
   "metadata": {},
   "outputs": [
    {
     "data": {
      "text/plain": [
       "tensor([[1, 2, 3],\n",
       "        [4, 5, 6],\n",
       "        [7, 8, 9]])"
      ]
     },
     "execution_count": 87,
     "metadata": {},
     "output_type": "execute_result"
    }
   ],
   "source": [
    "x[0, :, :]"
   ]
  },
  {
   "cell_type": "code",
   "execution_count": 88,
   "id": "30db385c-463f-4f0b-9585-7b8bc02e384a",
   "metadata": {},
   "outputs": [
    {
     "data": {
      "text/plain": [
       "tensor([[[1, 2, 3],\n",
       "         [4, 5, 6],\n",
       "         [7, 8, 9]]])"
      ]
     },
     "execution_count": 88,
     "metadata": {},
     "output_type": "execute_result"
    }
   ],
   "source": [
    "x"
   ]
  },
  {
   "cell_type": "code",
   "execution_count": null,
   "id": "ad9d26da-d24b-4bbd-8d80-5929039b75f3",
   "metadata": {},
   "outputs": [],
   "source": []
  }
 ],
 "metadata": {
  "kernelspec": {
   "display_name": "Python 3 (ipykernel)",
   "language": "python",
   "name": "python3"
  },
  "language_info": {
   "codemirror_mode": {
    "name": "ipython",
    "version": 3
   },
   "file_extension": ".py",
   "mimetype": "text/x-python",
   "name": "python",
   "nbconvert_exporter": "python",
   "pygments_lexer": "ipython3",
   "version": "3.11.5"
  }
 },
 "nbformat": 4,
 "nbformat_minor": 5
}
