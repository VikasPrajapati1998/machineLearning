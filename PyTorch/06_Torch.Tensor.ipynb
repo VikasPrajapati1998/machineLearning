{
 "cells": [
  {
   "cell_type": "markdown",
   "id": "ab70c118-541c-4477-945d-6e93b814e8c4",
   "metadata": {},
   "source": [
    "# <font color=\"blue\"> **torch.Tensor**</font>\n",
    "- A complete overview of `torch.tensor()` in this module.\n",
    "- **torch.Tensor :** A `torch.Tensor` is a multi-dimensional matrix containing elements of a single data type."
   ]
  },
  {
   "cell_type": "markdown",
   "id": "2879821a-e809-4ca7-acbb-1b4c0826c8e8",
   "metadata": {},
   "source": [
    "## <font color=\"Red\">**Data Types**</font>\n",
    "- Torch defines 10 tensor types with CPU and GPU variants which are as follows:"
   ]
  },
  {
   "cell_type": "markdown",
   "id": "37ac1448-8583-46d8-a7ff-a6ced50e8148",
   "metadata": {},
   "source": [
    "<html>\n",
    "    <body>\n",
    "        <div>\n",
    "            <table style=\"border: 3px solid black;\">\n",
    "                <caption><b>Data Types</b></caption>\n",
    "                <tr style=\"border: 2px solid black;\">\n",
    "                    <th style=\"border: 2px solid black;\">Data Type</th>\n",
    "                    <th style=\"border: 2px solid black;\">dtype</th>\n",
    "                    <th style=\"border: 2px solid black;\">CPU tensor</th>\n",
    "                    <th style=\"border: 2px solid black;\">GPU tensor</th>\n",
    "                </tr>\n",
    "                <tr style=\"border: 2px solid black;\">\n",
    "                    <td style=\"border: 2px solid black;\">32-bit floating point</td>\n",
    "                    <td style=\"border: 2px solid black; color: red;\">torch.float32<br> torch.float</td>\n",
    "                    <td style=\"border: 2px solid black; color: red;\">torch.FloatTensor</td>\n",
    "                    <td style=\"border: 2px solid black; color: red;\">torch.cuda.FloatTensor</td>\n",
    "                </tr>\n",
    "                <tr style=\"border: 2px solid black;\">\n",
    "                    <td style=\"border: 2px solid black;\">64-bit floating poin</td>\n",
    "                    <td style=\"border: 2px solid black; color: red;\">torch.float64<br> torch.double</td>\n",
    "                    <td style=\"border: 2px solid black; color: red;\">torch.DoubleTensor</td>\n",
    "                    <td style=\"border: 2px solid black; color: red;\">torch.cuda.DoubleTensor</td>\n",
    "                </tr>\n",
    "                <tr style=\"border: 2px solid black;\">\n",
    "                    <td style=\"border: 2px solid black;\">16-bit floating point 1</td>\n",
    "                    <td style=\"border: 2px solid black; color: red;\">torch.float16<br> torch.half</td>\n",
    "                    <td style=\"border: 2px solid black; color: red;\">torch.HalfTensor</td>\n",
    "                    <td style=\"border: 2px solid black; color: red;\">torch.cuda.HalfTensor</td>\n",
    "                </tr>\n",
    "                <tr style=\"border: 2px solid black;\">\n",
    "                    <td style=\"border: 2px solid black;\">16-bit floating point 2</td>\n",
    "                    <td style=\"border: 2px solid black; color: red;\">torch.bfloat16</td>\n",
    "                    <td style=\"border: 2px solid black; color: red;\">torch.BFloat16Tensor</td>\n",
    "                    <td style=\"border: 2px solid black; color: red;\">torch.cuda.BFloat16Tensor</td>\n",
    "                </tr>\n",
    "                <tr>\n",
    "                    <td style=\"border: 2px solid black;\">32-bit complex</td>\n",
    "                    <td style=\"border: 2px solid black; color: red;\">torch.complex32<br> torch.chalf</td>\n",
    "                </tr>\n",
    "                <tr style=\"border: 2px solid black;\">\n",
    "                    <td style=\"border: 2px solid black;\">64-bit complex</td>\n",
    "                    <td style=\"border: 2px solid black; color: red;\">torch.complex64<br> torch.cfloat</td>\n",
    "                </tr>\n",
    "                <tr style=\"border: 2px solid black;\">\n",
    "                    <td style=\"border: 2px solid black;\">128-bit complex</td>\n",
    "                    <td style=\"border: 2px solid black; color: red;\">torch.complex128<br> torch.cdouble</td>\n",
    "                </tr>\n",
    "                <tr style=\"border: 2px solid black;\">\n",
    "                    <td style=\"border: 2px solid black;\">8-bit integer(unsigned)</td>\n",
    "                    <td style=\"border: 2px solid black; color: red;\">torch.uint8</td>\n",
    "                    <td style=\"border: 2px solid black; color: red;\">torch.ByteTensor</td>\n",
    "                    <td style=\"border: 2px solid black; color: red;\">torch.cuda.ByteTensor</td>\n",
    "                </tr>\n",
    "                <tr style=\"border: 2px solid black;\">\n",
    "                    <td style=\"border: 2px solid black;\">8-bit integer(signed)</td>\n",
    "                    <td style=\"border: 2px solid black; color: red;\">torch.int8</td>\n",
    "                    <td style=\"border: 2px solid black; color: red;\">torch.CharTensor</td>\n",
    "                    <td style=\"border: 2px solid black; color: red;\">torch.cuda.CharTensor</td>\n",
    "                </tr>\n",
    "                <tr style=\"border: 2px solid black;\">\n",
    "                    <td style=\"border: 2px solid black;\">16-bit integer(signed)</td>\n",
    "                    <td style=\"border: 2px solid black; color: red;\">torch.int16<br> torch.short</td>\n",
    "                    <td style=\"border: 2px solid black; color: red;\">torch.ShortTensor</td>\n",
    "                    <td style=\"border: 2px solid black; color: red;\">torch.cuda.ShortTensor</td>\n",
    "                </tr>\n",
    "                <tr style=\"border: 2px solid black;\">\n",
    "                    <td style=\"border: 2px solid black;\">32-bit integer(signed)</td>\n",
    "                    <td style=\"border: 2px solid black; color: red;\">torch.int32<br> torch.int</td>\n",
    "                    <td style=\"border: 2px solid black; color: red;\">torch.IntTensor</td>\n",
    "                    <td style=\"border: 2px solid black; color: red;\">torch.cuda.IntTensor</td>\n",
    "                </tr>\n",
    "                <tr style=\"border: 2px solid black;\">\n",
    "                    <td style=\"border: 2px solid black;\">64-bit integer(signed)</td>\n",
    "                    <td style=\"border: 2px solid black; color: red;\">torch.int64<br> torch.long</td>\n",
    "                    <td style=\"border: 2px solid black; color: red;\">torch.LongTensor</td>\n",
    "                    <td style=\"border: 2px solid black; color: red;\">torch.cuda.LongTensor</td>\n",
    "                </tr>\n",
    "                <tr style=\"border: 2px solid black;\">\n",
    "                    <td style=\"border: 2px solid black;\">Boolean</td>\n",
    "                    <td style=\"border: 2px solid black; color: red;\">torch.bool</td>\n",
    "                    <td style=\"border: 2px solid black; color: red;\">torch.BoolTensor</td>\n",
    "                    <td style=\"border: 2px solid black; color: red;\">torch.cuda.BoolTensor</td>\n",
    "                </tr>\n",
    "                <tr style=\"border: 2px solid black;\">\n",
    "                    <td style=\"border: 2px solid black;\">quantized 8-bit integer (unsigned)</td>\n",
    "                    <td style=\"border: 2px solid black; color: red;\">torch.quint8</td>\n",
    "                    <td style=\"border: 2px solid black; color: red;\">torch.ByteTensor</td>\n",
    "                </tr>\n",
    "                <tr style=\"border: 2px solid black;\">\n",
    "                    <td style=\"border: 2px solid black;\">quantized 8-bit integer (signed)</td>\n",
    "                    <td style=\"border: 2px solid black; color: red;\">torch.qint8</td>\n",
    "                    <td style=\"border: 2px solid black; color: red;\">torch.CharTensor</td>\n",
    "                </tr>\n",
    "                <tr style=\"border: 2px solid black;\">\n",
    "                    <td style=\"border: 2px solid black;\">quantized 32-bit integer (signed)</td>\n",
    "                    <td style=\"border: 2px solid black; color: red;\">torch.qint32</td>\n",
    "                    <td style=\"border: 2px solid black; color: red;\">torch.IntTensor</td>\n",
    "                </tr>\n",
    "                <tr style=\"border: 2px solid black;\">\n",
    "                    <td style=\"border: 2px solid black;\">quantized 4-bit integer (unsigned)</td>\n",
    "                    <td style=\"border: 2px solid black; color: red;\">torch.quint4x2</td>\n",
    "                    <td style=\"border: 2px solid black; color: red;\">torch.ByteTensor</td>\n",
    "                </tr>\n",
    "            </table>\n",
    "        </div>\n",
    "    </body>\n",
    "</html>"
   ]
  },
  {
   "cell_type": "markdown",
   "id": "18fa82f0-987a-4228-8bff-89cc5b8c9d01",
   "metadata": {},
   "source": [
    "## **Initializing and Basic Operations**\n",
    "- A tensor can be constructed from a Python `list` or sequence using the `torch.tensor()` constructor:  \\\n",
    "`torch.tensor()` always copies the ***data***. If you have a Tensor ***data*** and just want to change its ***requires_grad*** flag, use `requires_grad()` or `detach()` to avoid a copy. If you hava a ***numpy array*** and want to avoid a copy, use `torch.as_tensor()`.\n",
    "- A tensor of specific data type can be constructed by passing a `torch.dtype` and / or a `torch.device` to a constructor or tensor creation op : "
   ]
  },
  {
   "cell_type": "code",
   "execution_count": 2,
   "id": "5cfe9427-da92-4b5e-8754-d1eaddbcf633",
   "metadata": {},
   "outputs": [],
   "source": [
    "import torch\n",
    "import numpy as np"
   ]
  },
  {
   "cell_type": "code",
   "execution_count": 6,
   "id": "0f363d9a-28e3-4134-a89f-2795236b1c5e",
   "metadata": {},
   "outputs": [
    {
     "name": "stdout",
     "output_type": "stream",
     "text": [
      "tensor([[2, 3, 4],\n",
      "        [5, 6, 7]])\n",
      "\n",
      "tensor([[2, 3, 4],\n",
      "        [5, 6, 7]], dtype=torch.int32)\n",
      "\n",
      "2942164295680 2942163661360 2942163663824 2942158159312\n",
      "<class 'list'> <class 'torch.Tensor'> <class 'numpy.ndarray'> <class 'torch.Tensor'>\n"
     ]
    }
   ],
   "source": [
    "lst = [[2, 3, 4], [5, 6, 7]]\n",
    "t1 = torch.tensor(lst)\n",
    "print(t1); print()\n",
    "\n",
    "arr = np.array(lst)\n",
    "t2 = torch.tensor(arr)\n",
    "print(t2); print()\n",
    "\n",
    "print(id(lst), id(t1), id(arr), id(t2))\n",
    "print(type(lst), type(t1), type(arr), type(t2))"
   ]
  },
  {
   "cell_type": "code",
   "execution_count": 13,
   "id": "ffc61660-2568-4777-8ef4-8cfcc474d8fb",
   "metadata": {},
   "outputs": [
    {
     "name": "stdout",
     "output_type": "stream",
     "text": [
      "tensor([[0, 0, 0, 0],\n",
      "        [0, 0, 0, 0]], dtype=torch.int32)\n",
      "\n",
      "No Cuda available in this device.\n",
      "\n"
     ]
    }
   ],
   "source": [
    "cpu1 = torch.device('cpu')\n",
    "t3 = torch.zeros([2, 4], dtype=torch.int32, device=cpu1)\n",
    "print(t3); print()\n",
    "\n",
    "if torch.cuda.is_available():\n",
    "    cuda0 = torch.device('cuda:0')   # raise error coz, there is no GPU setup for PyTorch\n",
    "    t4 = torch.ones([2, 4], dtype=torch.double, device=cuda0)\n",
    "    print(t4); print()\n",
    "else:\n",
    "    print(\"No Cuda available in this device.\"); print()"
   ]
  },
  {
   "cell_type": "code",
   "execution_count": 15,
   "id": "0b025f97-d921-4fc6-a87a-319684d273b5",
   "metadata": {},
   "outputs": [
    {
     "data": {
      "text/plain": [
       "device(type='cpu')"
      ]
     },
     "execution_count": 15,
     "metadata": {},
     "output_type": "execute_result"
    }
   ],
   "source": [
    "torch.device('cpu')"
   ]
  },
  {
   "cell_type": "markdown",
   "id": "750af4f6-4688-4c53-8ee6-976247a9e860",
   "metadata": {},
   "source": [
    "- A tensor can be created with `requires_grad = True` so that `torch.autograd` records operations on them for automatic differentiation.\n",
    "- Only Tensors of ***floating point*** and ***complex dtype*** can require gradients."
   ]
  },
  {
   "cell_type": "code",
   "execution_count": 40,
   "id": "cf87e7d8-e8c8-4600-b739-fb6513ab6cb4",
   "metadata": {},
   "outputs": [
    {
     "name": "stdout",
     "output_type": "stream",
     "text": [
      "tensor([[2., 3.],\n",
      "        [4., 5.]], requires_grad=True)\n",
      "\n",
      "tensor([[ 4.,  9.],\n",
      "        [16., 25.]], grad_fn=<PowBackward0>)\n",
      "\n",
      "tensor(54., grad_fn=<SumBackward0>)\n",
      "\n",
      "tensor([[ 4.,  6.],\n",
      "        [ 8., 10.]])\n"
     ]
    }
   ],
   "source": [
    "x = torch.tensor([[2, 3], [4, 5]], dtype=torch.float, requires_grad=True)\n",
    "print(x); print()\n",
    "\n",
    "p = x.pow(2)\n",
    "print(p); print()\n",
    "\n",
    "s = p.sum()\n",
    "print(s); print()\n",
    "\n",
    "out = x.pow(2).sum()\n",
    "out.backward()\n",
    "print(x.grad)\n"
   ]
  },
  {
   "cell_type": "markdown",
   "id": "031db61d-869d-43e6-8e09-05f686dd80ef",
   "metadata": {},
   "source": [
    "### **Transpose**"
   ]
  },
  {
   "cell_type": "code",
   "execution_count": 56,
   "id": "735b96e3-d0eb-4eb5-891d-6925a80a09b8",
   "metadata": {},
   "outputs": [
    {
     "name": "stdout",
     "output_type": "stream",
     "text": [
      "tensor([[2, 3, 4, 5],\n",
      "        [9, 8, 7, 6],\n",
      "        [5, 8, 3, 9]], dtype=torch.int32)\n",
      "\n",
      "tensor([[2, 9, 5],\n",
      "        [3, 8, 8],\n",
      "        [4, 7, 3],\n",
      "        [5, 6, 9]], dtype=torch.int32)\n",
      "tensor([[2, 9, 5],\n",
      "        [3, 8, 8],\n",
      "        [4, 7, 3],\n",
      "        [5, 6, 9]], dtype=torch.int32)\n",
      "tensor([[2, 9, 5],\n",
      "        [3, 8, 8],\n",
      "        [4, 7, 3],\n",
      "        [5, 6, 9]], dtype=torch.int32)\n",
      "tensor([[2, 9, 5],\n",
      "        [3, 8, 8],\n",
      "        [4, 7, 3],\n",
      "        [5, 6, 9]], dtype=torch.int32)\n",
      "\n",
      "tensor([[2, 9, 5],\n",
      "        [3, 8, 8],\n",
      "        [4, 7, 3],\n",
      "        [5, 6, 9]], dtype=torch.int32)\n",
      "tensor([[2, 9, 5],\n",
      "        [3, 8, 8],\n",
      "        [4, 7, 3],\n",
      "        [5, 6, 9]], dtype=torch.int32)\n",
      "\n",
      "tensor([[2, 3, 4, 5],\n",
      "        [9, 8, 7, 6],\n",
      "        [5, 8, 3, 9]], dtype=torch.int32)\n",
      "tensor([[2, 3, 4, 5],\n",
      "        [9, 8, 7, 6],\n",
      "        [5, 8, 3, 9]], dtype=torch.int32)\n",
      "\n"
     ]
    }
   ],
   "source": [
    "# take the transpose of tensor\n",
    "tsr = torch.tensor([[2, 3, 4, 5],\n",
    "                    [9, 8, 7, 6],\n",
    "                    [5, 8, 3, 9]], dtype=torch.int)\n",
    "\n",
    "print(tsr); print()\n",
    "print(tsr.T)\n",
    "print(tsr.mT)\n",
    "print(tsr.H)\n",
    "print(tsr.mH)\n",
    "print()\n",
    "print(tsr.transpose(0, 1))\n",
    "print(tsr.transpose(1, 0))\n",
    "print()\n",
    "print(tsr.transpose(1, 1))\n",
    "print(tsr.transpose(0, 0))\n",
    "print()\n"
   ]
  },
  {
   "cell_type": "markdown",
   "id": "62b6485d-ca9c-4cfb-b143-2d1231e3323d",
   "metadata": {},
   "source": [
    "### **Tensor Properties**\n",
    "- Accessing this property is equivalent to calling `adjoint()`."
   ]
  },
  {
   "cell_type": "markdown",
   "id": "6a30b539-4ae8-4344-8bae-5d59b0a6c099",
   "metadata": {},
   "source": [
    "https://pytorch.org/docs/stable/tensors.html#torch-tensor"
   ]
  },
  {
   "cell_type": "code",
   "execution_count": null,
   "id": "1c9da931-b968-4818-9ced-e338681c106b",
   "metadata": {},
   "outputs": [],
   "source": []
  }
 ],
 "metadata": {
  "kernelspec": {
   "display_name": "Python 3 (ipykernel)",
   "language": "python",
   "name": "python3"
  },
  "language_info": {
   "codemirror_mode": {
    "name": "ipython",
    "version": 3
   },
   "file_extension": ".py",
   "mimetype": "text/x-python",
   "name": "python",
   "nbconvert_exporter": "python",
   "pygments_lexer": "ipython3",
   "version": "3.11.5"
  }
 },
 "nbformat": 4,
 "nbformat_minor": 5
}
