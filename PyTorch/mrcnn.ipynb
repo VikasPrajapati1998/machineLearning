{
 "cells": [
  {
   "cell_type": "code",
   "execution_count": 1,
   "id": "040317c9",
   "metadata": {
    "_cell_guid": "b1076dfc-b9ad-4769-8c92-a6c4dae69d19",
    "_uuid": "8f2839f25d086af736a60e9eeb907d3b93b6e0e5",
    "execution": {
     "iopub.execute_input": "2024-08-27T04:38:53.957842Z",
     "iopub.status.busy": "2024-08-27T04:38:53.957062Z",
     "iopub.status.idle": "2024-08-27T04:38:56.213472Z",
     "shell.execute_reply": "2024-08-27T04:38:56.212367Z"
    },
    "papermill": {
     "duration": 2.26315,
     "end_time": "2024-08-27T04:38:56.215903",
     "exception": false,
     "start_time": "2024-08-27T04:38:53.952753",
     "status": "completed"
    },
    "tags": []
   },
   "outputs": [
    {
     "name": "stdout",
     "output_type": "stream",
     "text": [
      "Cloning into 'PyTorch-MaskRCNN'...\r\n",
      "remote: Enumerating objects: 821, done.\u001b[K\r\n",
      "remote: Counting objects: 100% (185/185), done.\u001b[K\r\n",
      "remote: Compressing objects: 100% (82/82), done.\u001b[K\r\n",
      "remote: Total 821 (delta 139), reused 130 (delta 103), pack-reused 636 (from 1)\u001b[K\r\n",
      "Receiving objects: 100% (821/821), 4.43 MiB | 17.30 MiB/s, done.\r\n",
      "Resolving deltas: 100% (487/487), done.\r\n"
     ]
    }
   ],
   "source": [
    "!git clone https://github.com/Vikas-McW/PyTorch-MaskRCNN.git"
   ]
  },
  {
   "cell_type": "code",
   "execution_count": 2,
   "id": "25139618",
   "metadata": {
    "execution": {
     "iopub.execute_input": "2024-08-27T04:38:56.223856Z",
     "iopub.status.busy": "2024-08-27T04:38:56.223539Z",
     "iopub.status.idle": "2024-08-27T04:38:57.199344Z",
     "shell.execute_reply": "2024-08-27T04:38:57.198238Z"
    },
    "papermill": {
     "duration": 0.982416,
     "end_time": "2024-08-27T04:38:57.201757",
     "exception": false,
     "start_time": "2024-08-27T04:38:56.219341",
     "status": "completed"
    },
    "tags": []
   },
   "outputs": [],
   "source": [
    "!cd PyTorch-MaskRCNN"
   ]
  },
  {
   "cell_type": "code",
   "execution_count": 3,
   "id": "adc31201",
   "metadata": {
    "execution": {
     "iopub.execute_input": "2024-08-27T04:38:57.209918Z",
     "iopub.status.busy": "2024-08-27T04:38:57.209121Z",
     "iopub.status.idle": "2024-08-27T04:39:18.188237Z",
     "shell.execute_reply": "2024-08-27T04:39:18.187104Z"
    },
    "papermill": {
     "duration": 20.985864,
     "end_time": "2024-08-27T04:39:18.190890",
     "exception": false,
     "start_time": "2024-08-27T04:38:57.205026",
     "status": "completed"
    },
    "tags": []
   },
   "outputs": [
    {
     "name": "stdout",
     "output_type": "stream",
     "text": [
      "Requirement already satisfied: torch in /opt/conda/lib/python3.10/site-packages (from -r /kaggle/working/PyTorch-MaskRCNN/requirements.txt (line 2)) (2.1.2)\r\n",
      "Requirement already satisfied: onnx in /opt/conda/lib/python3.10/site-packages (from -r /kaggle/working/PyTorch-MaskRCNN/requirements.txt (line 3)) (1.15.0)\r\n",
      "Collecting maskrcnn (from -r /kaggle/working/PyTorch-MaskRCNN/requirements.txt (line 4))\r\n",
      "  Downloading maskrcnn-0.0.1-py3-none-any.whl.metadata (598 bytes)\r\n",
      "Requirement already satisfied: torchvision in /opt/conda/lib/python3.10/site-packages (from -r /kaggle/working/PyTorch-MaskRCNN/requirements.txt (line 5)) (0.16.2)\r\n",
      "Collecting pycocotools (from -r /kaggle/working/PyTorch-MaskRCNN/requirements.txt (line 6))\r\n",
      "  Downloading pycocotools-2.0.8-cp310-cp310-manylinux_2_17_x86_64.manylinux2014_x86_64.whl.metadata (1.1 kB)\r\n",
      "Requirement already satisfied: opencv-python in /opt/conda/lib/python3.10/site-packages (from -r /kaggle/working/PyTorch-MaskRCNN/requirements.txt (line 7)) (4.9.0.80)\r\n",
      "Requirement already satisfied: matplotlib in /opt/conda/lib/python3.10/site-packages (from -r /kaggle/working/PyTorch-MaskRCNN/requirements.txt (line 8)) (3.7.5)\r\n",
      "Collecting onnxruntime (from -r /kaggle/working/PyTorch-MaskRCNN/requirements.txt (line 9))\r\n",
      "  Downloading onnxruntime-1.19.0-cp310-cp310-manylinux_2_27_x86_64.manylinux_2_28_x86_64.whl.metadata (4.3 kB)\r\n",
      "Collecting onnxsim (from -r /kaggle/working/PyTorch-MaskRCNN/requirements.txt (line 10))\r\n",
      "  Downloading onnxsim-0.4.36-cp310-cp310-manylinux_2_17_x86_64.manylinux2014_x86_64.whl.metadata (4.3 kB)\r\n",
      "Requirement already satisfied: timm in /opt/conda/lib/python3.10/site-packages (from -r /kaggle/working/PyTorch-MaskRCNN/requirements.txt (line 11)) (0.9.16)\r\n",
      "Collecting utils (from -r /kaggle/working/PyTorch-MaskRCNN/requirements.txt (line 12))\r\n",
      "  Downloading utils-1.0.2.tar.gz (13 kB)\r\n",
      "  Preparing metadata (setup.py) ... \u001b[?25l-\b \bdone\r\n",
      "\u001b[?25hRequirement already satisfied: filelock in /opt/conda/lib/python3.10/site-packages (from torch->-r /kaggle/working/PyTorch-MaskRCNN/requirements.txt (line 2)) (3.13.1)\r\n",
      "Requirement already satisfied: typing-extensions in /opt/conda/lib/python3.10/site-packages (from torch->-r /kaggle/working/PyTorch-MaskRCNN/requirements.txt (line 2)) (4.9.0)\r\n",
      "Requirement already satisfied: sympy in /opt/conda/lib/python3.10/site-packages (from torch->-r /kaggle/working/PyTorch-MaskRCNN/requirements.txt (line 2)) (1.12)\r\n",
      "Requirement already satisfied: networkx in /opt/conda/lib/python3.10/site-packages (from torch->-r /kaggle/working/PyTorch-MaskRCNN/requirements.txt (line 2)) (3.2.1)\r\n",
      "Requirement already satisfied: jinja2 in /opt/conda/lib/python3.10/site-packages (from torch->-r /kaggle/working/PyTorch-MaskRCNN/requirements.txt (line 2)) (3.1.2)\r\n",
      "Requirement already satisfied: fsspec in /opt/conda/lib/python3.10/site-packages (from torch->-r /kaggle/working/PyTorch-MaskRCNN/requirements.txt (line 2)) (2024.2.0)\r\n",
      "Requirement already satisfied: numpy in /opt/conda/lib/python3.10/site-packages (from onnx->-r /kaggle/working/PyTorch-MaskRCNN/requirements.txt (line 3)) (1.26.4)\r\n",
      "Requirement already satisfied: protobuf>=3.20.2 in /opt/conda/lib/python3.10/site-packages (from onnx->-r /kaggle/working/PyTorch-MaskRCNN/requirements.txt (line 3)) (3.20.3)\r\n",
      "Requirement already satisfied: requests in /opt/conda/lib/python3.10/site-packages (from torchvision->-r /kaggle/working/PyTorch-MaskRCNN/requirements.txt (line 5)) (2.31.0)\r\n",
      "Requirement already satisfied: pillow!=8.3.*,>=5.3.0 in /opt/conda/lib/python3.10/site-packages (from torchvision->-r /kaggle/working/PyTorch-MaskRCNN/requirements.txt (line 5)) (9.5.0)\r\n",
      "Requirement already satisfied: contourpy>=1.0.1 in /opt/conda/lib/python3.10/site-packages (from matplotlib->-r /kaggle/working/PyTorch-MaskRCNN/requirements.txt (line 8)) (1.2.0)\r\n",
      "Requirement already satisfied: cycler>=0.10 in /opt/conda/lib/python3.10/site-packages (from matplotlib->-r /kaggle/working/PyTorch-MaskRCNN/requirements.txt (line 8)) (0.12.1)\r\n",
      "Requirement already satisfied: fonttools>=4.22.0 in /opt/conda/lib/python3.10/site-packages (from matplotlib->-r /kaggle/working/PyTorch-MaskRCNN/requirements.txt (line 8)) (4.47.0)\r\n",
      "Requirement already satisfied: kiwisolver>=1.0.1 in /opt/conda/lib/python3.10/site-packages (from matplotlib->-r /kaggle/working/PyTorch-MaskRCNN/requirements.txt (line 8)) (1.4.5)\r\n",
      "Requirement already satisfied: packaging>=20.0 in /opt/conda/lib/python3.10/site-packages (from matplotlib->-r /kaggle/working/PyTorch-MaskRCNN/requirements.txt (line 8)) (21.3)\r\n",
      "Requirement already satisfied: pyparsing>=2.3.1 in /opt/conda/lib/python3.10/site-packages (from matplotlib->-r /kaggle/working/PyTorch-MaskRCNN/requirements.txt (line 8)) (3.1.1)\r\n",
      "Requirement already satisfied: python-dateutil>=2.7 in /opt/conda/lib/python3.10/site-packages (from matplotlib->-r /kaggle/working/PyTorch-MaskRCNN/requirements.txt (line 8)) (2.8.2)\r\n",
      "Collecting coloredlogs (from onnxruntime->-r /kaggle/working/PyTorch-MaskRCNN/requirements.txt (line 9))\r\n",
      "  Downloading coloredlogs-15.0.1-py2.py3-none-any.whl.metadata (12 kB)\r\n",
      "Requirement already satisfied: flatbuffers in /opt/conda/lib/python3.10/site-packages (from onnxruntime->-r /kaggle/working/PyTorch-MaskRCNN/requirements.txt (line 9)) (23.5.26)\r\n",
      "Requirement already satisfied: rich in /opt/conda/lib/python3.10/site-packages (from onnxsim->-r /kaggle/working/PyTorch-MaskRCNN/requirements.txt (line 10)) (13.7.0)\r\n",
      "Requirement already satisfied: pyyaml in /opt/conda/lib/python3.10/site-packages (from timm->-r /kaggle/working/PyTorch-MaskRCNN/requirements.txt (line 11)) (6.0.1)\r\n",
      "Requirement already satisfied: huggingface_hub in /opt/conda/lib/python3.10/site-packages (from timm->-r /kaggle/working/PyTorch-MaskRCNN/requirements.txt (line 11)) (0.20.3)\r\n",
      "Requirement already satisfied: safetensors in /opt/conda/lib/python3.10/site-packages (from timm->-r /kaggle/working/PyTorch-MaskRCNN/requirements.txt (line 11)) (0.4.2)\r\n",
      "Requirement already satisfied: six>=1.5 in /opt/conda/lib/python3.10/site-packages (from python-dateutil>=2.7->matplotlib->-r /kaggle/working/PyTorch-MaskRCNN/requirements.txt (line 8)) (1.16.0)\r\n",
      "Collecting humanfriendly>=9.1 (from coloredlogs->onnxruntime->-r /kaggle/working/PyTorch-MaskRCNN/requirements.txt (line 9))\r\n",
      "  Downloading humanfriendly-10.0-py2.py3-none-any.whl.metadata (9.2 kB)\r\n",
      "Requirement already satisfied: tqdm>=4.42.1 in /opt/conda/lib/python3.10/site-packages (from huggingface_hub->timm->-r /kaggle/working/PyTorch-MaskRCNN/requirements.txt (line 11)) (4.66.1)\r\n",
      "Requirement already satisfied: MarkupSafe>=2.0 in /opt/conda/lib/python3.10/site-packages (from jinja2->torch->-r /kaggle/working/PyTorch-MaskRCNN/requirements.txt (line 2)) (2.1.3)\r\n",
      "Requirement already satisfied: charset-normalizer<4,>=2 in /opt/conda/lib/python3.10/site-packages (from requests->torchvision->-r /kaggle/working/PyTorch-MaskRCNN/requirements.txt (line 5)) (3.3.2)\r\n",
      "Requirement already satisfied: idna<4,>=2.5 in /opt/conda/lib/python3.10/site-packages (from requests->torchvision->-r /kaggle/working/PyTorch-MaskRCNN/requirements.txt (line 5)) (3.6)\r\n",
      "Requirement already satisfied: urllib3<3,>=1.21.1 in /opt/conda/lib/python3.10/site-packages (from requests->torchvision->-r /kaggle/working/PyTorch-MaskRCNN/requirements.txt (line 5)) (1.26.18)\r\n",
      "Requirement already satisfied: certifi>=2017.4.17 in /opt/conda/lib/python3.10/site-packages (from requests->torchvision->-r /kaggle/working/PyTorch-MaskRCNN/requirements.txt (line 5)) (2024.2.2)\r\n",
      "Requirement already satisfied: markdown-it-py>=2.2.0 in /opt/conda/lib/python3.10/site-packages (from rich->onnxsim->-r /kaggle/working/PyTorch-MaskRCNN/requirements.txt (line 10)) (3.0.0)\r\n",
      "Requirement already satisfied: pygments<3.0.0,>=2.13.0 in /opt/conda/lib/python3.10/site-packages (from rich->onnxsim->-r /kaggle/working/PyTorch-MaskRCNN/requirements.txt (line 10)) (2.17.2)\r\n",
      "Requirement already satisfied: mpmath>=0.19 in /opt/conda/lib/python3.10/site-packages (from sympy->torch->-r /kaggle/working/PyTorch-MaskRCNN/requirements.txt (line 2)) (1.3.0)\r\n",
      "Requirement already satisfied: mdurl~=0.1 in /opt/conda/lib/python3.10/site-packages (from markdown-it-py>=2.2.0->rich->onnxsim->-r /kaggle/working/PyTorch-MaskRCNN/requirements.txt (line 10)) (0.1.2)\r\n",
      "Downloading maskrcnn-0.0.1-py3-none-any.whl (2.2 kB)\r\n",
      "Downloading pycocotools-2.0.8-cp310-cp310-manylinux_2_17_x86_64.manylinux2014_x86_64.whl (427 kB)\r\n",
      "\u001b[2K   \u001b[90m━━━━━━━━━━━━━━━━━━━━━━━━━━━━━━━━━━━━━━━━\u001b[0m \u001b[32m427.8/427.8 kB\u001b[0m \u001b[31m6.1 MB/s\u001b[0m eta \u001b[36m0:00:00\u001b[0m\r\n",
      "\u001b[?25hDownloading onnxruntime-1.19.0-cp310-cp310-manylinux_2_27_x86_64.manylinux_2_28_x86_64.whl (13.2 MB)\r\n",
      "\u001b[2K   \u001b[90m━━━━━━━━━━━━━━━━━━━━━━━━━━━━━━━━━━━━━━━━\u001b[0m \u001b[32m13.2/13.2 MB\u001b[0m \u001b[31m84.0 MB/s\u001b[0m eta \u001b[36m0:00:00\u001b[0m\r\n",
      "\u001b[?25hDownloading onnxsim-0.4.36-cp310-cp310-manylinux_2_17_x86_64.manylinux2014_x86_64.whl (2.3 MB)\r\n",
      "\u001b[2K   \u001b[90m━━━━━━━━━━━━━━━━━━━━━━━━━━━━━━━━━━━━━━━━\u001b[0m \u001b[32m2.3/2.3 MB\u001b[0m \u001b[31m62.4 MB/s\u001b[0m eta \u001b[36m0:00:00\u001b[0m\r\n",
      "\u001b[?25hDownloading coloredlogs-15.0.1-py2.py3-none-any.whl (46 kB)\r\n",
      "\u001b[2K   \u001b[90m━━━━━━━━━━━━━━━━━━━━━━━━━━━━━━━━━━━━━━━━\u001b[0m \u001b[32m46.0/46.0 kB\u001b[0m \u001b[31m2.7 MB/s\u001b[0m eta \u001b[36m0:00:00\u001b[0m\r\n",
      "\u001b[?25hDownloading humanfriendly-10.0-py2.py3-none-any.whl (86 kB)\r\n",
      "\u001b[2K   \u001b[90m━━━━━━━━━━━━━━━━━━━━━━━━━━━━━━━━━━━━━━━━\u001b[0m \u001b[32m86.8/86.8 kB\u001b[0m \u001b[31m5.3 MB/s\u001b[0m eta \u001b[36m0:00:00\u001b[0m\r\n",
      "\u001b[?25hBuilding wheels for collected packages: utils\r\n",
      "  Building wheel for utils (setup.py) ... \u001b[?25l-\b \b\\\b \bdone\r\n",
      "\u001b[?25h  Created wheel for utils: filename=utils-1.0.2-py2.py3-none-any.whl size=13905 sha256=8e59eac2e108aaf12658311c873c5959a100011dd7cfb046084a5d8b5a11f031\r\n",
      "  Stored in directory: /root/.cache/pip/wheels/b8/39/f5/9d0ca31dba85773ececf0a7f5469f18810e1c8a8ed9da28ca7\r\n",
      "Successfully built utils\r\n",
      "Installing collected packages: maskrcnn, utils, humanfriendly, coloredlogs, pycocotools, onnxsim, onnxruntime\r\n",
      "Successfully installed coloredlogs-15.0.1 humanfriendly-10.0 maskrcnn-0.0.1 onnxruntime-1.19.0 onnxsim-0.4.36 pycocotools-2.0.8 utils-1.0.2\r\n"
     ]
    }
   ],
   "source": [
    "!pip install -r /kaggle/working/PyTorch-MaskRCNN/requirements.txt"
   ]
  },
  {
   "cell_type": "code",
   "execution_count": 4,
   "id": "f584f742",
   "metadata": {
    "execution": {
     "iopub.execute_input": "2024-08-27T04:39:18.205112Z",
     "iopub.status.busy": "2024-08-27T04:39:18.204404Z",
     "iopub.status.idle": "2024-08-27T04:39:27.796431Z",
     "shell.execute_reply": "2024-08-27T04:39:27.795258Z"
    },
    "papermill": {
     "duration": 9.60177,
     "end_time": "2024-08-27T04:39:27.798896",
     "exception": false,
     "start_time": "2024-08-27T04:39:18.197126",
     "status": "completed"
    },
    "tags": []
   },
   "outputs": [
    {
     "name": "stdout",
     "output_type": "stream",
     "text": [
      "cuda: True\r\n",
      "available GPU(s): 1\r\n",
      "0: {'name': 'Tesla P100-PCIE-16GB', 'capability': [6, 0], 'total_momory': 15.89, 'sm_count': 56}\r\n",
      "\r\n",
      "device: cuda\r\n",
      "loading annotations into memory...\r\n",
      "Traceback (most recent call last):\r\n",
      "  File \"/kaggle/working/PyTorch-MaskRCNN/eval.py\", line 154, in <module>\r\n",
      "    ds = pmr.datasets(dataset, data_dir, \"val2017\", train=True)\r\n",
      "  File \"/kaggle/working/PyTorch-MaskRCNN/pytorch_mask_rcnn/datasets/utils.py\", line 13, in datasets\r\n",
      "    return COCODataset(*args, **kwargs)\r\n",
      "  File \"/kaggle/working/PyTorch-MaskRCNN/pytorch_mask_rcnn/datasets/coco_dataset.py\", line 18, in __init__\r\n",
      "    self.coco = COCO(ann_file)\r\n",
      "  File \"/opt/conda/lib/python3.10/site-packages/pycocotools/coco.py\", line 81, in __init__\r\n",
      "    with open(annotation_file, 'r') as f:\r\n",
      "FileNotFoundError: [Errno 2] No such file or directory: 'dataset/COCO/coco2017/annotations/instances_val2017.json'\r\n"
     ]
    }
   ],
   "source": [
    "!python /kaggle/working/PyTorch-MaskRCNN/eval.py --data-dir \"/kaggle/input/coco-2017-dataset/coco2017/\" --ckpt-path \"/kaggle/input/mrcnn-pytorch/pytorch/mask_rcnn_pytorch_fp32/1/mask_rcnn_pytorch.pth\""
   ]
  }
 ],
 "metadata": {
  "kaggle": {
   "accelerator": "gpu",
   "dataSources": [
    {
     "datasetId": 857191,
     "sourceId": 1462296,
     "sourceType": "datasetVersion"
    },
    {
     "datasetId": 4635910,
     "sourceId": 7895093,
     "sourceType": "datasetVersion"
    },
    {
     "isSourceIdPinned": true,
     "modelId": 28260,
     "modelInstanceId": 18504,
     "sourceId": 22334,
     "sourceType": "modelInstanceVersion"
    }
   ],
   "dockerImageVersionId": 30664,
   "isGpuEnabled": true,
   "isInternetEnabled": true,
   "language": "python",
   "sourceType": "notebook"
  },
  "kernelspec": {
   "display_name": "Python 3",
   "language": "python",
   "name": "python3"
  },
  "language_info": {
   "codemirror_mode": {
    "name": "ipython",
    "version": 3
   },
   "file_extension": ".py",
   "mimetype": "text/x-python",
   "name": "python",
   "nbconvert_exporter": "python",
   "pygments_lexer": "ipython3",
   "version": "3.10.13"
  },
  "papermill": {
   "default_parameters": {},
   "duration": 36.900302,
   "end_time": "2024-08-27T04:39:28.023742",
   "environment_variables": {},
   "exception": null,
   "input_path": "__notebook__.ipynb",
   "output_path": "__notebook__.ipynb",
   "parameters": {},
   "start_time": "2024-08-27T04:38:51.123440",
   "version": "2.5.0"
  }
 },
 "nbformat": 4,
 "nbformat_minor": 5
}
