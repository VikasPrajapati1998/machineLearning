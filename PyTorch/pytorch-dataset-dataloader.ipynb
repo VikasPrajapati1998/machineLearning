{
 "cells": [
  {
   "cell_type": "markdown",
   "id": "473ccce8",
   "metadata": {
    "papermill": {
     "duration": 0.004298,
     "end_time": "2024-04-16T06:58:03.305267",
     "exception": false,
     "start_time": "2024-04-16T06:58:03.300969",
     "status": "completed"
    },
    "tags": []
   },
   "source": [
    "# ****Datasets and DataLoaders****\n",
    "- PyTorch provides two data primitives : \n",
    "    - `torch.utils.data.Dataset` : `Dataset` stores the samples and their corresponding labels\n",
    "    - `torch.utils.data.DataLoader` : `DataLoader` wraps an iterable around the `Dataset` to enable easy access to the samples\n",
    "- PyTorch domain libraries provide a number of pre-loaded datasets that subclass `torch.utils.data.Dataset` and implement functions specific to the particular data."
   ]
  },
  {
   "cell_type": "code",
   "execution_count": 1,
   "id": "74a1bff2",
   "metadata": {
    "_cell_guid": "b1076dfc-b9ad-4769-8c92-a6c4dae69d19",
    "_uuid": "8f2839f25d086af736a60e9eeb907d3b93b6e0e5",
    "execution": {
     "iopub.execute_input": "2024-04-16T06:58:03.314717Z",
     "iopub.status.busy": "2024-04-16T06:58:03.313831Z",
     "iopub.status.idle": "2024-04-16T06:58:52.357384Z",
     "shell.execute_reply": "2024-04-16T06:58:52.356294Z"
    },
    "papermill": {
     "duration": 49.050689,
     "end_time": "2024-04-16T06:58:52.359859",
     "exception": false,
     "start_time": "2024-04-16T06:58:03.309170",
     "status": "completed"
    },
    "tags": []
   },
   "outputs": [
    {
     "name": "stdout",
     "output_type": "stream",
     "text": [
      "Requirement already satisfied: torch in /opt/conda/lib/python3.10/site-packages (2.1.2+cpu)\r\n",
      "Requirement already satisfied: filelock in /opt/conda/lib/python3.10/site-packages (from torch) (3.13.1)\r\n",
      "Requirement already satisfied: typing-extensions in /opt/conda/lib/python3.10/site-packages (from torch) (4.9.0)\r\n",
      "Requirement already satisfied: sympy in /opt/conda/lib/python3.10/site-packages (from torch) (1.12)\r\n",
      "Requirement already satisfied: networkx in /opt/conda/lib/python3.10/site-packages (from torch) (3.2.1)\r\n",
      "Requirement already satisfied: jinja2 in /opt/conda/lib/python3.10/site-packages (from torch) (3.1.2)\r\n",
      "Requirement already satisfied: fsspec in /opt/conda/lib/python3.10/site-packages (from torch) (2024.2.0)\r\n",
      "Requirement already satisfied: MarkupSafe>=2.0 in /opt/conda/lib/python3.10/site-packages (from jinja2->torch) (2.1.3)\r\n",
      "Requirement already satisfied: mpmath>=0.19 in /opt/conda/lib/python3.10/site-packages (from sympy->torch) (1.3.0)\r\n",
      "Requirement already satisfied: torchvision in /opt/conda/lib/python3.10/site-packages (0.16.2+cpu)\r\n",
      "Requirement already satisfied: numpy in /opt/conda/lib/python3.10/site-packages (from torchvision) (1.26.4)\r\n",
      "Requirement already satisfied: requests in /opt/conda/lib/python3.10/site-packages (from torchvision) (2.31.0)\r\n",
      "Requirement already satisfied: torch==2.1.2 in /opt/conda/lib/python3.10/site-packages (from torchvision) (2.1.2+cpu)\r\n",
      "Requirement already satisfied: pillow!=8.3.*,>=5.3.0 in /opt/conda/lib/python3.10/site-packages (from torchvision) (9.5.0)\r\n",
      "Requirement already satisfied: filelock in /opt/conda/lib/python3.10/site-packages (from torch==2.1.2->torchvision) (3.13.1)\r\n",
      "Requirement already satisfied: typing-extensions in /opt/conda/lib/python3.10/site-packages (from torch==2.1.2->torchvision) (4.9.0)\r\n",
      "Requirement already satisfied: sympy in /opt/conda/lib/python3.10/site-packages (from torch==2.1.2->torchvision) (1.12)\r\n",
      "Requirement already satisfied: networkx in /opt/conda/lib/python3.10/site-packages (from torch==2.1.2->torchvision) (3.2.1)\r\n",
      "Requirement already satisfied: jinja2 in /opt/conda/lib/python3.10/site-packages (from torch==2.1.2->torchvision) (3.1.2)\r\n",
      "Requirement already satisfied: fsspec in /opt/conda/lib/python3.10/site-packages (from torch==2.1.2->torchvision) (2024.2.0)\r\n",
      "Requirement already satisfied: charset-normalizer<4,>=2 in /opt/conda/lib/python3.10/site-packages (from requests->torchvision) (3.3.2)\r\n",
      "Requirement already satisfied: idna<4,>=2.5 in /opt/conda/lib/python3.10/site-packages (from requests->torchvision) (3.6)\r\n",
      "Requirement already satisfied: urllib3<3,>=1.21.1 in /opt/conda/lib/python3.10/site-packages (from requests->torchvision) (1.26.18)\r\n",
      "Requirement already satisfied: certifi>=2017.4.17 in /opt/conda/lib/python3.10/site-packages (from requests->torchvision) (2024.2.2)\r\n",
      "Requirement already satisfied: MarkupSafe>=2.0 in /opt/conda/lib/python3.10/site-packages (from jinja2->torch==2.1.2->torchvision) (2.1.3)\r\n",
      "Requirement already satisfied: mpmath>=0.19 in /opt/conda/lib/python3.10/site-packages (from sympy->torch==2.1.2->torchvision) (1.3.0)\r\n",
      "Requirement already satisfied: matplotlib in /opt/conda/lib/python3.10/site-packages (3.7.5)\r\n",
      "Requirement already satisfied: contourpy>=1.0.1 in /opt/conda/lib/python3.10/site-packages (from matplotlib) (1.2.0)\r\n",
      "Requirement already satisfied: cycler>=0.10 in /opt/conda/lib/python3.10/site-packages (from matplotlib) (0.12.1)\r\n",
      "Requirement already satisfied: fonttools>=4.22.0 in /opt/conda/lib/python3.10/site-packages (from matplotlib) (4.47.0)\r\n",
      "Requirement already satisfied: kiwisolver>=1.0.1 in /opt/conda/lib/python3.10/site-packages (from matplotlib) (1.4.5)\r\n",
      "Requirement already satisfied: numpy<2,>=1.20 in /opt/conda/lib/python3.10/site-packages (from matplotlib) (1.26.4)\r\n",
      "Requirement already satisfied: packaging>=20.0 in /opt/conda/lib/python3.10/site-packages (from matplotlib) (21.3)\r\n",
      "Requirement already satisfied: pillow>=6.2.0 in /opt/conda/lib/python3.10/site-packages (from matplotlib) (9.5.0)\r\n",
      "Requirement already satisfied: pyparsing>=2.3.1 in /opt/conda/lib/python3.10/site-packages (from matplotlib) (3.1.1)\r\n",
      "Requirement already satisfied: python-dateutil>=2.7 in /opt/conda/lib/python3.10/site-packages (from matplotlib) (2.9.0.post0)\r\n",
      "Requirement already satisfied: six>=1.5 in /opt/conda/lib/python3.10/site-packages (from python-dateutil>=2.7->matplotlib) (1.16.0)\r\n",
      "Requirement already satisfied: pandas in /opt/conda/lib/python3.10/site-packages (2.2.1)\r\n",
      "Requirement already satisfied: numpy<2,>=1.22.4 in /opt/conda/lib/python3.10/site-packages (from pandas) (1.26.4)\r\n",
      "Requirement already satisfied: python-dateutil>=2.8.2 in /opt/conda/lib/python3.10/site-packages (from pandas) (2.9.0.post0)\r\n",
      "Requirement already satisfied: pytz>=2020.1 in /opt/conda/lib/python3.10/site-packages (from pandas) (2023.3.post1)\r\n",
      "Requirement already satisfied: tzdata>=2022.7 in /opt/conda/lib/python3.10/site-packages (from pandas) (2023.4)\r\n",
      "Requirement already satisfied: six>=1.5 in /opt/conda/lib/python3.10/site-packages (from python-dateutil>=2.8.2->pandas) (1.16.0)\r\n"
     ]
    }
   ],
   "source": [
    "!pip install torch\n",
    "!pip install torchvision\n",
    "!pip install matplotlib\n",
    "!pip install pandas"
   ]
  },
  {
   "cell_type": "markdown",
   "id": "8bac0657",
   "metadata": {
    "papermill": {
     "duration": 0.003913,
     "end_time": "2024-04-16T06:58:52.368158",
     "exception": false,
     "start_time": "2024-04-16T06:58:52.364245",
     "status": "completed"
    },
    "tags": []
   },
   "source": [
    "# **Loading a Dataset**\n",
    "    - We load the dataset with the following parameters : \n",
    "        - `root` : root is the path where the train/test data is stored.\n",
    "        - `train` : train specifies training or test dataset.\n",
    "        - `download=True` : Downloads the data from the internet if it's not available at root.\n",
    "        - `transform` and `target_transform` : specify the feature and label transformations."
   ]
  },
  {
   "cell_type": "code",
   "execution_count": 2,
   "id": "de57c355",
   "metadata": {
    "execution": {
     "iopub.execute_input": "2024-04-16T06:58:52.378410Z",
     "iopub.status.busy": "2024-04-16T06:58:52.378025Z",
     "iopub.status.idle": "2024-04-16T06:59:03.581321Z",
     "shell.execute_reply": "2024-04-16T06:59:03.580014Z"
    },
    "papermill": {
     "duration": 11.211728,
     "end_time": "2024-04-16T06:59:03.583941",
     "exception": false,
     "start_time": "2024-04-16T06:58:52.372213",
     "status": "completed"
    },
    "tags": []
   },
   "outputs": [
    {
     "name": "stdout",
     "output_type": "stream",
     "text": [
      "Downloading http://fashion-mnist.s3-website.eu-central-1.amazonaws.com/train-images-idx3-ubyte.gz\n",
      "Downloading http://fashion-mnist.s3-website.eu-central-1.amazonaws.com/train-images-idx3-ubyte.gz to data/FashionMNIST/raw/train-images-idx3-ubyte.gz\n"
     ]
    },
    {
     "name": "stderr",
     "output_type": "stream",
     "text": [
      "100%|██████████| 26421880/26421880 [00:01<00:00, 18569026.24it/s]\n"
     ]
    },
    {
     "name": "stdout",
     "output_type": "stream",
     "text": [
      "Extracting data/FashionMNIST/raw/train-images-idx3-ubyte.gz to data/FashionMNIST/raw\n",
      "\n",
      "Downloading http://fashion-mnist.s3-website.eu-central-1.amazonaws.com/train-labels-idx1-ubyte.gz\n",
      "Downloading http://fashion-mnist.s3-website.eu-central-1.amazonaws.com/train-labels-idx1-ubyte.gz to data/FashionMNIST/raw/train-labels-idx1-ubyte.gz\n"
     ]
    },
    {
     "name": "stderr",
     "output_type": "stream",
     "text": [
      "100%|██████████| 29515/29515 [00:00<00:00, 305479.32it/s]\n"
     ]
    },
    {
     "name": "stdout",
     "output_type": "stream",
     "text": [
      "Extracting data/FashionMNIST/raw/train-labels-idx1-ubyte.gz to data/FashionMNIST/raw\n",
      "\n",
      "Downloading http://fashion-mnist.s3-website.eu-central-1.amazonaws.com/t10k-images-idx3-ubyte.gz\n",
      "Downloading http://fashion-mnist.s3-website.eu-central-1.amazonaws.com/t10k-images-idx3-ubyte.gz to data/FashionMNIST/raw/t10k-images-idx3-ubyte.gz\n"
     ]
    },
    {
     "name": "stderr",
     "output_type": "stream",
     "text": [
      "100%|██████████| 4422102/4422102 [00:00<00:00, 5516901.30it/s]\n"
     ]
    },
    {
     "name": "stdout",
     "output_type": "stream",
     "text": [
      "Extracting data/FashionMNIST/raw/t10k-images-idx3-ubyte.gz to data/FashionMNIST/raw\n",
      "\n",
      "Downloading http://fashion-mnist.s3-website.eu-central-1.amazonaws.com/t10k-labels-idx1-ubyte.gz\n",
      "Downloading http://fashion-mnist.s3-website.eu-central-1.amazonaws.com/t10k-labels-idx1-ubyte.gz to data/FashionMNIST/raw/t10k-labels-idx1-ubyte.gz\n"
     ]
    },
    {
     "name": "stderr",
     "output_type": "stream",
     "text": [
      "100%|██████████| 5148/5148 [00:00<00:00, 14932418.39it/s]"
     ]
    },
    {
     "name": "stdout",
     "output_type": "stream",
     "text": [
      "Extracting data/FashionMNIST/raw/t10k-labels-idx1-ubyte.gz to data/FashionMNIST/raw\n",
      "\n",
      "Data Loaded...!\n"
     ]
    },
    {
     "name": "stderr",
     "output_type": "stream",
     "text": [
      "\n"
     ]
    }
   ],
   "source": [
    "import torch\n",
    "from torch.utils.data import Dataset\n",
    "from torchvision import datasets\n",
    "from torchvision.transforms import ToTensor\n",
    "import matplotlib.pyplot as plt\n",
    "\n",
    "# load train data\n",
    "train_data = datasets.FashionMNIST(\n",
    "    root=\"data\",\n",
    "    train=True,   # true for train data only\n",
    "    download=True,\n",
    "    transform=ToTensor()\n",
    ")\n",
    "\n",
    "# load test data\n",
    "test_data = datasets.FashionMNIST(\n",
    "    root=\"data\",\n",
    "    train=False,  # false for test data\n",
    "    download=True,\n",
    "    transform=ToTensor()\n",
    ")\n",
    "\n",
    "print(\"Data Loaded...!\")\n"
   ]
  },
  {
   "cell_type": "markdown",
   "id": "85bb818e",
   "metadata": {
    "papermill": {
     "duration": 0.006664,
     "end_time": "2024-04-16T06:59:03.597677",
     "exception": false,
     "start_time": "2024-04-16T06:59:03.591013",
     "status": "completed"
    },
    "tags": []
   },
   "source": [
    "# **Iterating and Visualizing the Dataset**\n",
    "- We can index `Datasets` manually like a list: `train_data[index]`. We use `matplotlib` to visualize some samples in our train_data."
   ]
  },
  {
   "cell_type": "code",
   "execution_count": 3,
   "id": "ca39c121",
   "metadata": {
    "execution": {
     "iopub.execute_input": "2024-04-16T06:59:03.614071Z",
     "iopub.status.busy": "2024-04-16T06:59:03.613435Z",
     "iopub.status.idle": "2024-04-16T06:59:05.072616Z",
     "shell.execute_reply": "2024-04-16T06:59:05.071822Z"
    },
    "papermill": {
     "duration": 1.469969,
     "end_time": "2024-04-16T06:59:05.075116",
     "exception": false,
     "start_time": "2024-04-16T06:59:03.605147",
     "status": "completed"
    },
    "tags": []
   },
   "outputs": [
    {
     "data": {
      "image/png": "[encoded data removed]",
      "text/plain": [
       "<Figure size 1600x1600 with 16 Axes>"
      ]
     },
     "metadata": {},
     "output_type": "display_data"
    }
   ],
   "source": [
    "label_map = {\n",
    "    0: \"T-Shirt\",\n",
    "    1: \"Trouser\",\n",
    "    2: \"Pullover\",\n",
    "    3: \"Dress\",\n",
    "    4: \"Coat\",\n",
    "    5: \"Sandal\",\n",
    "    6: \"Shirt\",\n",
    "    7: \"Sneaker\",\n",
    "    8: \"Bag\",\n",
    "    9: \"Ankle Boot\",\n",
    "}\n",
    "\n",
    "figure = plt.figure(figsize=(16, 16))\n",
    "cols, rows = 4, 4\n",
    "for i in range(1, cols * rows + 1) : \n",
    "    sample_idx = torch.randint(len(train_data), size=(1,)).item()\n",
    "    img, label = train_data[sample_idx]\n",
    "    figure.add_subplot(rows, cols, i)\n",
    "    plt.title(label_map[label])\n",
    "    plt.axis(\"off\")\n",
    "    plt.imshow(img.squeeze(), cmap=\"gray\")\n",
    "plt.show()\n"
   ]
  },
  {
   "cell_type": "markdown",
   "id": "e2190f2c",
   "metadata": {
    "papermill": {
     "duration": 0.008013,
     "end_time": "2024-04-16T06:59:05.091226",
     "exception": false,
     "start_time": "2024-04-16T06:59:05.083213",
     "status": "completed"
    },
    "tags": []
   },
   "source": [
    "# **Creating Custom Dataset for Your Files**\n",
    "- A custom Dataset class must implement three functions : ***`__init__`***, ***`__len__`***, and ***`__getitem__`***. Images are stored into a directory **`img_dir`**, and their labels are stored separately in a csv file **`annotations_file`**."
   ]
  },
  {
   "cell_type": "code",
   "execution_count": 4,
   "id": "4feda670",
   "metadata": {
    "execution": {
     "iopub.execute_input": "2024-04-16T06:59:05.108856Z",
     "iopub.status.busy": "2024-04-16T06:59:05.108427Z",
     "iopub.status.idle": "2024-04-16T06:59:05.827608Z",
     "shell.execute_reply": "2024-04-16T06:59:05.826630Z"
    },
    "papermill": {
     "duration": 0.731005,
     "end_time": "2024-04-16T06:59:05.830278",
     "exception": false,
     "start_time": "2024-04-16T06:59:05.099273",
     "status": "completed"
    },
    "tags": []
   },
   "outputs": [],
   "source": [
    "import os\n",
    "import pandas as pd\n",
    "from torchvision.io import read_image\n",
    "\n",
    "class CustomImageDataset(Dataset):\n",
    "    def __init__(self, annotations_file, img_dir, transform=None, target_transform=None):\n",
    "        self.img_labels = pd.read_csv(annotations_file)\n",
    "        self.img_dir = img_dir\n",
    "        self.transform = transform\n",
    "        self.target_transform = target_transform\n",
    "        \n",
    "    def __len__(self):\n",
    "        return len(self.img_labels)\n",
    "    \n",
    "    def __getitem__(self, idx):\n",
    "        img_path = os.path.join(self.img_dir, self.img_labels.iloc[idx, 0])  # get the image path\n",
    "        image = read_image(img_path) # read the images\n",
    "        label = self.img_labels.iloc[idx, 1]  # read the labels\n",
    "        if self.transform:\n",
    "            image = self.transform(image)\n",
    "        if self.target_transform:\n",
    "            label = self.target_transform(label)\n",
    "        return image, label\n",
    "\n",
    "    "
   ]
  },
  {
   "cell_type": "markdown",
   "id": "4d92d18b",
   "metadata": {
    "papermill": {
     "duration": 0.007678,
     "end_time": "2024-04-16T06:59:05.846139",
     "exception": false,
     "start_time": "2024-04-16T06:59:05.838461",
     "status": "completed"
    },
    "tags": []
   },
   "source": [
    "## **Preparing your data for training with DataLoaders**\n",
    "- The `Dataset` retrieves our dataset's features and labels one sample at a time. While training a model, we typically want to pass samples in `minibatches`, reshuffle the data at every epoch to reduce model overfitting, and use Python's `multiprocessing` to speed data retrieval.\n",
    "- `DataLoader` is an iterable that abstracts this complexity for us in an easy API.\n",
    "- PyTorch data loading utility is the `torch.utils.data.DataLoader` class. It represents a Python iterable over a dataset, with support for\n",
    "    - map-style and iterable-style datasets\n",
    "    - customizing data loading order\n",
    "    - automatic batching\n",
    "    - single-and multi-process data loading\n",
    "    - automatic memory pinning.\n",
    "\n",
    "`DataLoader(dataset, batch_size=1, shuffle=False, sampler=None,\n",
    "           batch_sampler=None, num_workers=0, collate_fn=None,\n",
    "           pin_memory=False, drop_last=False, timeout=0,\n",
    "           worker_init_fn=None, *, prefetch_factor=2,\n",
    "           persistent_workers=False)`\n"
   ]
  },
  {
   "cell_type": "code",
   "execution_count": 5,
   "id": "e0349a83",
   "metadata": {
    "execution": {
     "iopub.execute_input": "2024-04-16T06:59:05.865158Z",
     "iopub.status.busy": "2024-04-16T06:59:05.864365Z",
     "iopub.status.idle": "2024-04-16T06:59:05.869966Z",
     "shell.execute_reply": "2024-04-16T06:59:05.868870Z"
    },
    "papermill": {
     "duration": 0.018057,
     "end_time": "2024-04-16T06:59:05.872134",
     "exception": false,
     "start_time": "2024-04-16T06:59:05.854077",
     "status": "completed"
    },
    "tags": []
   },
   "outputs": [],
   "source": [
    "from torch.utils.data import DataLoader\n",
    "\n",
    "train_dataloader = DataLoader(train_data, batch_size=64, shuffle=True)\n",
    "test_dataloader = DataLoader(test_data, batch_size=64, shuffle=True)\n",
    "\n"
   ]
  },
  {
   "cell_type": "markdown",
   "id": "9471b4d4",
   "metadata": {
    "papermill": {
     "duration": 0.007737,
     "end_time": "2024-04-16T06:59:05.887995",
     "exception": false,
     "start_time": "2024-04-16T06:59:05.880258",
     "status": "completed"
    },
    "tags": []
   },
   "source": [
    "## **Iterate through the DataLoader**\n",
    "- We have loaded that dataset into the `DataLoader` and can iterate through the dataset as needed. Each iteration below returns a batch of `train_features` and `train_labels` (containing `batch_size=64` fetures and labels respectively). Because we specified `shuffle=True`, after we iterate over all batches the data is shuffled."
   ]
  },
  {
   "cell_type": "code",
   "execution_count": 6,
   "id": "197ddf73",
   "metadata": {
    "execution": {
     "iopub.execute_input": "2024-04-16T06:59:05.905655Z",
     "iopub.status.busy": "2024-04-16T06:59:05.905309Z",
     "iopub.status.idle": "2024-04-16T06:59:06.146361Z",
     "shell.execute_reply": "2024-04-16T06:59:06.145348Z"
    },
    "papermill": {
     "duration": 0.252449,
     "end_time": "2024-04-16T06:59:06.148444",
     "exception": false,
     "start_time": "2024-04-16T06:59:05.895995",
     "status": "completed"
    },
    "tags": []
   },
   "outputs": [
    {
     "name": "stdout",
     "output_type": "stream",
     "text": [
      "Feature batch shape : torch.Size([64, 1, 28, 28])\n",
      "Labels batch shape : torch.Size([64])\n"
     ]
    },
    {
     "data": {
      "image/png": "[encoded data removed]",
      "text/plain": [
       "<Figure size 640x480 with 1 Axes>"
      ]
     },
     "metadata": {},
     "output_type": "display_data"
    },
    {
     "name": "stdout",
     "output_type": "stream",
     "text": [
      "Label: 4\n"
     ]
    }
   ],
   "source": [
    "# display image and label\n",
    "train_features, train_labels = next(iter(train_dataloader))\n",
    "print(f\"Feature batch shape : {train_features.size()}\")\n",
    "print(f\"Labels batch shape : {train_labels.size()}\")\n",
    "img = train_features[0].squeeze()\n",
    "label = train_labels[0]\n",
    "plt.imshow(img, cmap=\"gray\")\n",
    "plt.show()\n",
    "print(f\"Label: {label}\")\n"
   ]
  },
  {
   "cell_type": "code",
   "execution_count": null,
   "id": "00accaf9",
   "metadata": {
    "papermill": {
     "duration": 0.007971,
     "end_time": "2024-04-16T06:59:06.164686",
     "exception": false,
     "start_time": "2024-04-16T06:59:06.156715",
     "status": "completed"
    },
    "tags": []
   },
   "outputs": [],
   "source": []
  }
 ],
 "metadata": {
  "kaggle": {
   "accelerator": "none",
   "dataSources": [],
   "dockerImageVersionId": 30684,
   "isGpuEnabled": false,
   "isInternetEnabled": true,
   "language": "python",
   "sourceType": "notebook"
  },
  "kernelspec": {
   "display_name": "Python 3",
   "language": "python",
   "name": "python3"
  },
  "language_info": {
   "codemirror_mode": {
    "name": "ipython",
    "version": 3
   },
   "file_extension": ".py",
   "mimetype": "text/x-python",
   "name": "python",
   "nbconvert_exporter": "python",
   "pygments_lexer": "ipython3",
   "version": "3.10.13"
  },
  "papermill": {
   "default_parameters": {},
   "duration": 66.845605,
   "end_time": "2024-04-16T06:59:07.498898",
   "environment_variables": {},
   "exception": null,
   "input_path": "__notebook__.ipynb",
   "output_path": "__notebook__.ipynb",
   "parameters": {},
   "start_time": "2024-04-16T06:58:00.653293",
   "version": "2.5.0"
  }
 },
 "nbformat": 4,
 "nbformat_minor": 5
}
