{
 "cells": [
  {
   "cell_type": "markdown",
   "id": "8e23fa0c",
   "metadata": {
    "id": "t6MPjfT5NrKQ",
    "papermill": {
     "duration": 0.003902,
     "end_time": "2024-03-10T08:49:49.289571",
     "exception": false,
     "start_time": "2024-03-10T08:49:49.285669",
     "status": "completed"
    },
    "tags": []
   },
   "source": [
    "<div align=\"center\">\n",
    "\n",
    "  <a href=\"https://ultralytics.com/yolov5\" target=\"_blank\">\n",
    "    <img width=\"1024\", src=\"https://raw.githubusercontent.com/ultralytics/assets/master/yolov5/v70/splash.png\"></a>\n",
    "\n",
    "\n",
    "<br>\n",
    "  <a href=\"https://bit.ly/yolov5-paperspace-notebook\"><img src=\"https://assets.paperspace.io/img/gradient-badge.svg\" alt=\"Run on Gradient\"></a>\n",
    "  <a href=\"https://colab.research.google.com/github/ultralytics/yolov5/blob/master/tutorial.ipynb\"><img src=\"https://colab.research.google.com/assets/colab-badge.svg\" alt=\"Open In Colab\"></a>\n",
    "  <a href=\"https://www.kaggle.com/ultralytics/yolov5\"><img src=\"https://kaggle.com/static/images/open-in-kaggle.svg\" alt=\"Open In Kaggle\"></a>\n",
    "<br>\n",
    "\n",
    "This <a href=\"https://github.com/ultralytics/yolov5\">YOLOv5</a> 🚀 notebook by <a href=\"https://ultralytics.com\">Ultralytics</a> presents simple train, validate and predict examples to help start your AI adventure.<br>See <a href=\"https://github.com/ultralytics/yolov5/issues/new/choose\">GitHub</a> for community support or <a href=\"https://ultralytics.com/contact\">contact us</a> for professional support.\n",
    "\n",
    "</div>"
   ]
  },
  {
   "cell_type": "markdown",
   "id": "e3215601",
   "metadata": {
    "id": "7mGmQbAO5pQb",
    "papermill": {
     "duration": 0.002822,
     "end_time": "2024-03-10T08:49:49.295811",
     "exception": false,
     "start_time": "2024-03-10T08:49:49.292989",
     "status": "completed"
    },
    "tags": []
   },
   "source": [
    "# Setup\n",
    "\n",
    "Clone GitHub [repository](https://github.com/ultralytics/yolov5), install [dependencies](https://github.com/ultralytics/yolov5/blob/master/requirements.txt) and check PyTorch and GPU."
   ]
  },
  {
   "cell_type": "code",
   "execution_count": 1,
   "id": "f77adf7e",
   "metadata": {
    "execution": {
     "iopub.execute_input": "2024-03-10T08:49:49.304860Z",
     "iopub.status.busy": "2024-03-10T08:49:49.304198Z",
     "iopub.status.idle": "2024-03-10T08:51:29.467687Z",
     "shell.execute_reply": "2024-03-10T08:51:29.466518Z"
    },
    "id": "wbvMlHd_QwMG",
    "outputId": "f9f016ad-3dcf-4bd2-e1c3-d5b79efc6f32",
    "papermill": {
     "duration": 100.170774,
     "end_time": "2024-03-10T08:51:29.469435",
     "exception": true,
     "start_time": "2024-03-10T08:49:49.298661",
     "status": "failed"
    },
    "tags": []
   },
   "outputs": [
    {
     "name": "stdout",
     "output_type": "stream",
     "text": [
      "Cloning into 'yolov5'...\r\n"
     ]
    },
    {
     "name": "stdout",
     "output_type": "stream",
     "text": [
      "remote: Enumerating objects: 16527, done.\u001b[K\r\n",
      "remote: Counting objects:   0% (1/119)\u001b[K\r",
      "remote: Counting objects:   1% (2/119)\u001b[K\r",
      "remote: Counting objects:   2% (3/119)\u001b[K\r",
      "remote: Counting objects:   3% (4/119)\u001b[K\r",
      "remote: Counting objects:   4% (5/119)\u001b[K\r",
      "remote: Counting objects:   5% (6/119)\u001b[K\r",
      "remote: Counting objects:   6% (8/119)\u001b[K\r",
      "remote: Counting objects:   7% (9/119)\u001b[K\r",
      "remote: Counting objects:   8% (10/119)\u001b[K\r",
      "remote: Counting objects:   9% (11/119)\u001b[K\r",
      "remote: Counting objects:  10% (12/119)\u001b[K\r",
      "remote: Counting objects:  11% (14/119)\u001b[K\r",
      "remote: Counting objects:  12% (15/119)\u001b[K\r",
      "remote: Counting objects:  13% (16/119)\u001b[K\r",
      "remote: Counting objects:  14% (17/119)\u001b[K\r",
      "remote: Counting objects:  15% (18/119)\u001b[K\r",
      "remote: Counting objects:  16% (20/119)\u001b[K\r",
      "remote: Counting objects:  17% (21/119)\u001b[K\r",
      "remote: Counting objects:  18% (22/119)\u001b[K\r",
      "remote: Counting objects:  19% (23/119)\u001b[K\r",
      "remote: Counting objects:  20% (24/119)\u001b[K\r",
      "remote: Counting objects:  21% (25/119)\u001b[K\r",
      "remote: Counting objects:  22% (27/119)\u001b[K\r",
      "remote: Counting objects:  23% (28/119)\u001b[K\r",
      "remote: Counting objects:  24% (29/119)\u001b[K\r",
      "remote: Counting objects:  25% (30/119)\u001b[K\r",
      "remote: Counting objects:  26% (31/119)\u001b[K\r",
      "remote: Counting objects:  27% (33/119)\u001b[K\r",
      "remote: Counting objects:  28% (34/119)\u001b[K\r",
      "remote: Counting objects:  29% (35/119)\u001b[K\r",
      "remote: Counting objects:  30% (36/119)\u001b[K\r",
      "remote: Counting objects:  31% (37/119)\u001b[K\r",
      "remote: Counting objects:  32% (39/119)\u001b[K\r",
      "remote: Counting objects:  33% (40/119)\u001b[K\r",
      "remote: Counting objects:  34% (41/119)\u001b[K\r",
      "remote: Counting objects:  35% (42/119)\u001b[K\r",
      "remote: Counting objects:  36% (43/119)\u001b[K\r",
      "remote: Counting objects:  37% (45/119)\u001b[K\r",
      "remote: Counting objects:  38% (46/119)\u001b[K\r",
      "remote: Counting objects:  39% (47/119)\u001b[K\r",
      "remote: Counting objects:  40% (48/119)\u001b[K\r",
      "remote: Counting objects:  41% (49/119)\u001b[K\r",
      "remote: Counting objects:  42% (50/119)\u001b[K\r",
      "remote: Counting objects:  43% (52/119)\u001b[K\r",
      "remote: Counting objects:  44% (53/119)\u001b[K\r",
      "remote: Counting objects:  45% (54/119)\u001b[K\r",
      "remote: Counting objects:  46% (55/119)\u001b[K\r",
      "remote: Counting objects:  47% (56/119)\u001b[K\r",
      "remote: Counting objects:  48% (58/119)\u001b[K\r",
      "remote: Counting objects:  49% (59/119)\u001b[K\r",
      "remote: Counting objects:  50% (60/119)\u001b[K\r",
      "remote: Counting objects:  51% (61/119)\u001b[K\r",
      "remote: Counting objects:  52% (62/119)\u001b[K\r",
      "remote: Counting objects:  53% (64/119)\u001b[K\r",
      "remote: Counting objects:  54% (65/119)\u001b[K\r",
      "remote: Counting objects:  55% (66/119)\u001b[K\r",
      "remote: Counting objects:  56% (67/119)\u001b[K\r",
      "remote: Counting objects:  57% (68/119)\u001b[K\r",
      "remote: Counting objects:  58% (70/119)\u001b[K\r",
      "remote: Counting objects:  59% (71/119)\u001b[K\r",
      "remote: Counting objects:  60% (72/119)\u001b[K\r",
      "remote: Counting objects:  61% (73/119)\u001b[K\r",
      "remote: Counting objects:  62% (74/119)\u001b[K\r",
      "remote: Counting objects:  63% (75/119)\u001b[K\r",
      "remote: Counting objects:  64% (77/119)\u001b[K\r",
      "remote: Counting objects:  65% (78/119)\u001b[K\r",
      "remote: Counting objects:  66% (79/119)\u001b[K\r",
      "remote: Counting objects:  67% (80/119)\u001b[K\r",
      "remote: Counting objects:  68% (81/119)\u001b[K\r",
      "remote: Counting objects:  69% (83/119)\u001b[K\r",
      "remote: Counting objects:  70% (84/119)\u001b[K\r",
      "remote: Counting objects:  71% (85/119)\u001b[K\r",
      "remote: Counting objects:  72% (86/119)\u001b[K\r",
      "remote: Counting objects:  73% (87/119)\u001b[K\r",
      "remote: Counting objects:  74% (89/119)\u001b[K\r",
      "remote: Counting objects:  75% (90/119)\u001b[K\r",
      "remote: Counting objects:  76% (91/119)\u001b[K\r",
      "remote: Counting objects:  77% (92/119)\u001b[K\r",
      "remote: Counting objects:  78% (93/119)\u001b[K\r",
      "remote: Counting objects:  79% (95/119)\u001b[K\r",
      "remote: Counting objects:  80% (96/119)\u001b[K\r",
      "remote: Counting objects:  81% (97/119)\u001b[K\r",
      "remote: Counting objects:  82% (98/119)\u001b[K\r",
      "remote: Counting objects:  83% (99/119)\u001b[K\r",
      "remote: Counting objects:  84% (100/119)\u001b[K\r",
      "remote: Counting objects:  85% (102/119)\u001b[K\r",
      "remote: Counting objects:  86% (103/119)\u001b[K\r",
      "remote: Counting objects:  87% (104/119)\u001b[K\r",
      "remote: Counting objects:  88% (105/119)\u001b[K\r",
      "remote: Counting objects:  89% (106/119)\u001b[K\r",
      "remote: Counting objects:  90% (108/119)\u001b[K\r",
      "remote: Counting objects:  91% (109/119)\u001b[K\r",
      "remote: Counting objects:  92% (110/119)\u001b[K\r",
      "remote: Counting objects:  93% (111/119)\u001b[K\r",
      "remote: Counting objects:  94% (112/119)\u001b[K\r",
      "remote: Counting objects:  95% (114/119)\u001b[K\r",
      "remote: Counting objects:  96% (115/119)\u001b[K\r",
      "remote: Counting objects:  97% (116/119)\u001b[K\r",
      "remote: Counting objects:  98% (117/119)\u001b[K\r",
      "remote: Counting objects:  99% (118/119)\u001b[K\r",
      "remote: Counting objects: 100% (119/119)\u001b[K\r",
      "remote: Counting objects: 100% (119/119), done.\u001b[K\r\n",
      "remote: Compressing objects:   0% (1/104)\u001b[K\r",
      "remote: Compressing objects:   1% (2/104)\u001b[K\r",
      "remote: Compressing objects:   2% (3/104)\u001b[K\r",
      "remote: Compressing objects:   3% (4/104)\u001b[K\r",
      "remote: Compressing objects:   4% (5/104)\u001b[K\r",
      "remote: Compressing objects:   5% (6/104)\u001b[K\r",
      "remote: Compressing objects:   6% (7/104)\u001b[K\r",
      "remote: Compressing objects:   7% (8/104)\u001b[K\r",
      "remote: Compressing objects:   8% (9/104)\u001b[K\r",
      "remote: Compressing objects:   9% (10/104)\u001b[K\r",
      "remote: Compressing objects:  10% (11/104)\u001b[K\r",
      "remote: Compressing objects:  11% (12/104)\u001b[K\r",
      "remote: Compressing objects:  12% (13/104)\u001b[K\r",
      "remote: Compressing objects:  13% (14/104)\u001b[K\r",
      "remote: Compressing objects:  14% (15/104)\u001b[K\r",
      "remote: Compressing objects:  15% (16/104)\u001b[K\r",
      "remote: Compressing objects:  16% (17/104)\u001b[K\r",
      "remote: Compressing objects:  17% (18/104)\u001b[K\r",
      "remote: Compressing objects:  18% (19/104)\u001b[K\r",
      "remote: Compressing objects:  19% (20/104)\u001b[K\r",
      "remote: Compressing objects:  20% (21/104)\u001b[K\r"
     ]
    },
    {
     "name": "stdout",
     "output_type": "stream",
     "text": [
      "remote: Compressing objects:  21% (22/104)\u001b[K\r",
      "remote: Compressing objects:  22% (23/104)\u001b[K\r",
      "remote: Compressing objects:  23% (24/104)\u001b[K\r",
      "remote: Compressing objects:  24% (25/104)\u001b[K\r",
      "remote: Compressing objects:  25% (26/104)\u001b[K\r",
      "remote: Compressing objects:  26% (28/104)\u001b[K\r",
      "remote: Compressing objects:  27% (29/104)\u001b[K\r",
      "remote: Compressing objects:  28% (30/104)\u001b[K\r",
      "remote: Compressing objects:  29% (31/104)\u001b[K\r",
      "remote: Compressing objects:  30% (32/104)\u001b[K\r",
      "remote: Compressing objects:  31% (33/104)\u001b[K\r",
      "remote: Compressing objects:  32% (34/104)\u001b[K\r",
      "remote: Compressing objects:  33% (35/104)\u001b[K\r",
      "remote: Compressing objects:  34% (36/104)\u001b[K\r",
      "remote: Compressing objects:  35% (37/104)\u001b[K\r",
      "remote: Compressing objects:  36% (38/104)\u001b[K\r",
      "remote: Compressing objects:  37% (39/104)\u001b[K\r",
      "remote: Compressing objects:  38% (40/104)\u001b[K\r",
      "remote: Compressing objects:  39% (41/104)\u001b[K\r",
      "remote: Compressing objects:  40% (42/104)\u001b[K\r",
      "remote: Compressing objects:  41% (43/104)\u001b[K\r",
      "remote: Compressing objects:  42% (44/104)\u001b[K\r",
      "remote: Compressing objects:  43% (45/104)\u001b[K\r",
      "remote: Compressing objects:  44% (46/104)\u001b[K\r",
      "remote: Compressing objects:  45% (47/104)\u001b[K\r",
      "remote: Compressing objects:  46% (48/104)\u001b[K\r",
      "remote: Compressing objects:  47% (49/104)\u001b[K\r",
      "remote: Compressing objects:  48% (50/104)\u001b[K\r",
      "remote: Compressing objects:  49% (51/104)\u001b[K\r",
      "remote: Compressing objects:  50% (52/104)\u001b[K\r",
      "remote: Compressing objects:  51% (54/104)\u001b[K\r",
      "remote: Compressing objects:  52% (55/104)\u001b[K\r",
      "remote: Compressing objects:  53% (56/104)\u001b[K\r",
      "remote: Compressing objects:  54% (57/104)\u001b[K\r",
      "remote: Compressing objects:  55% (58/104)\u001b[K\r",
      "remote: Compressing objects:  56% (59/104)\u001b[K\r",
      "remote: Compressing objects:  57% (60/104)\u001b[K\r",
      "remote: Compressing objects:  58% (61/104)\u001b[K\r",
      "remote: Compressing objects:  59% (62/104)\u001b[K\r",
      "remote: Compressing objects:  60% (63/104)\u001b[K\r",
      "remote: Compressing objects:  61% (64/104)\u001b[K\r",
      "remote: Compressing objects:  62% (65/104)\u001b[K\r",
      "remote: Compressing objects:  63% (66/104)\u001b[K\r",
      "remote: Compressing objects:  64% (67/104)\u001b[K\r",
      "remote: Compressing objects:  65% (68/104)\u001b[K\r",
      "remote: Compressing objects:  66% (69/104)\u001b[K\r",
      "remote: Compressing objects:  67% (70/104)\u001b[K\r",
      "remote: Compressing objects:  68% (71/104)\u001b[K\r",
      "remote: Compressing objects:  69% (72/104)\u001b[K\r",
      "remote: Compressing objects:  70% (73/104)\u001b[K\r",
      "remote: Compressing objects:  71% (74/104)\u001b[K\r",
      "remote: Compressing objects:  72% (75/104)\u001b[K\r",
      "remote: Compressing objects:  73% (76/104)\u001b[K\r",
      "remote: Compressing objects:  74% (77/104)\u001b[K\r",
      "remote: Compressing objects:  75% (78/104)\u001b[K\r",
      "remote: Compressing objects:  76% (80/104)\u001b[K\r",
      "remote: Compressing objects:  77% (81/104)\u001b[K\r",
      "remote: Compressing objects:  78% (82/104)\u001b[K\r",
      "remote: Compressing objects:  79% (83/104)\u001b[K\r",
      "remote: Compressing objects:  80% (84/104)\u001b[K\r",
      "remote: Compressing objects:  81% (85/104)\u001b[K\r",
      "remote: Compressing objects:  82% (86/104)\u001b[K\r",
      "remote: Compressing objects:  83% (87/104)\u001b[K\r",
      "remote: Compressing objects:  84% (88/104)\u001b[K\r",
      "remote: Compressing objects:  85% (89/104)\u001b[K\r",
      "remote: Compressing objects:  86% (90/104)\u001b[K\r",
      "remote: Compressing objects:  87% (91/104)\u001b[K\r",
      "remote: Compressing objects:  88% (92/104)\u001b[K\r",
      "remote: Compressing objects:  89% (93/104)\u001b[K\r",
      "remote: Compressing objects:  90% (94/104)\u001b[K\r",
      "remote: Compressing objects:  91% (95/104)\u001b[K\r",
      "remote: Compressing objects:  92% (96/104)\u001b[K\r",
      "remote: Compressing objects:  93% (97/104)\u001b[K\r",
      "remote: Compressing objects:  94% (98/104)\u001b[K\r",
      "remote: Compressing objects:  95% (99/104)\u001b[K\r",
      "remote: Compressing objects:  96% (100/104)\u001b[K\r",
      "remote: Compressing objects:  97% (101/104)\u001b[K\r",
      "remote: Compressing objects:  98% (102/104)\u001b[K\r",
      "remote: Compressing objects:  99% (103/104)\u001b[K\r",
      "remote: Compressing objects: 100% (104/104)\u001b[K\r",
      "remote: Compressing objects: 100% (104/104), done.\u001b[K\r\n",
      "Receiving objects:   0% (1/16527)\r"
     ]
    },
    {
     "name": "stdout",
     "output_type": "stream",
     "text": [
      "Receiving objects:   1% (166/16527)\r"
     ]
    },
    {
     "name": "stdout",
     "output_type": "stream",
     "text": [
      "Receiving objects:   2% (331/16527)\r",
      "Receiving objects:   3% (496/16527)\r",
      "Receiving objects:   4% (662/16527)\r",
      "Receiving objects:   5% (827/16527)\r",
      "Receiving objects:   6% (992/16527)\r",
      "Receiving objects:   7% (1157/16527)\r",
      "Receiving objects:   8% (1323/16527)\r",
      "Receiving objects:   9% (1488/16527)\r",
      "Receiving objects:  10% (1653/16527)\r"
     ]
    },
    {
     "name": "stdout",
     "output_type": "stream",
     "text": [
      "Receiving objects:  11% (1818/16527)\r",
      "Receiving objects:  12% (1984/16527)\r",
      "Receiving objects:  13% (2149/16527)\r",
      "Receiving objects:  14% (2314/16527)\r",
      "Receiving objects:  15% (2480/16527)\r",
      "Receiving objects:  16% (2645/16527)\r",
      "Receiving objects:  17% (2810/16527)\r",
      "Receiving objects:  18% (2975/16527)\r",
      "Receiving objects:  19% (3141/16527)\r",
      "Receiving objects:  20% (3306/16527)\r",
      "Receiving objects:  21% (3471/16527)\r",
      "Receiving objects:  22% (3636/16527)\r"
     ]
    },
    {
     "name": "stdout",
     "output_type": "stream",
     "text": [
      "Receiving objects:  23% (3802/16527)\r",
      "Receiving objects:  24% (3967/16527)\r",
      "Receiving objects:  25% (4132/16527)\r",
      "Receiving objects:  26% (4298/16527)\r",
      "Receiving objects:  27% (4463/16527)\r",
      "Receiving objects:  28% (4628/16527)\r",
      "Receiving objects:  29% (4793/16527)\r",
      "Receiving objects:  30% (4959/16527)\r",
      "Receiving objects:  31% (5124/16527)\r",
      "Receiving objects:  32% (5289/16527)\r"
     ]
    },
    {
     "name": "stdout",
     "output_type": "stream",
     "text": [
      "Receiving objects:  33% (5454/16527)\r",
      "Receiving objects:  34% (5620/16527)\r",
      "Receiving objects:  35% (5785/16527)\r",
      "Receiving objects:  36% (5950/16527)\r",
      "Receiving objects:  37% (6115/16527)\r",
      "Receiving objects:  38% (6281/16527)\r",
      "Receiving objects:  39% (6446/16527)\r",
      "Receiving objects:  40% (6611/16527)\r",
      "Receiving objects:  41% (6777/16527)\r",
      "Receiving objects:  42% (6942/16527)\r",
      "Receiving objects:  43% (7107/16527)\r",
      "Receiving objects:  44% (7272/16527)\r"
     ]
    },
    {
     "name": "stdout",
     "output_type": "stream",
     "text": [
      "Receiving objects:  45% (7438/16527)\r",
      "Receiving objects:  46% (7603/16527)\r",
      "Receiving objects:  47% (7768/16527)\r",
      "Receiving objects:  48% (7933/16527)\r",
      "Receiving objects:  49% (8099/16527)\r",
      "Receiving objects:  50% (8264/16527)\r",
      "Receiving objects:  51% (8429/16527)\r",
      "Receiving objects:  52% (8595/16527)\r",
      "Receiving objects:  53% (8760/16527)\r",
      "Receiving objects:  54% (8925/16527)\r",
      "Receiving objects:  55% (9090/16527)\r",
      "Receiving objects:  56% (9256/16527)\r",
      "Receiving objects:  57% (9421/16527)\r",
      "Receiving objects:  58% (9586/16527)\r",
      "Receiving objects:  59% (9751/16527)\r",
      "Receiving objects:  60% (9917/16527)\r",
      "Receiving objects:  61% (10082/16527)\r"
     ]
    },
    {
     "name": "stdout",
     "output_type": "stream",
     "text": [
      "Receiving objects:  62% (10247/16527)\r",
      "Receiving objects:  63% (10413/16527)\r",
      "Receiving objects:  64% (10578/16527)\r",
      "Receiving objects:  65% (10743/16527)\r",
      "Receiving objects:  66% (10908/16527)\r",
      "Receiving objects:  67% (11074/16527)\r"
     ]
    },
    {
     "name": "stdout",
     "output_type": "stream",
     "text": [
      "Receiving objects:  68% (11239/16527)\r",
      "Receiving objects:  69% (11404/16527)\r",
      "Receiving objects:  70% (11569/16527)\r",
      "Receiving objects:  71% (11735/16527)\r",
      "Receiving objects:  72% (11900/16527)\r",
      "Receiving objects:  73% (12065/16527)\r",
      "Receiving objects:  74% (12230/16527)\r",
      "Receiving objects:  75% (12396/16527)\r",
      "Receiving objects:  76% (12561/16527)\r"
     ]
    },
    {
     "name": "stdout",
     "output_type": "stream",
     "text": [
      "Receiving objects:  77% (12726/16527)\r",
      "Receiving objects:  78% (12892/16527)\r",
      "Receiving objects:  79% (13057/16527)\r",
      "Receiving objects:  80% (13222/16527)\r",
      "Receiving objects:  81% (13387/16527)\r",
      "Receiving objects:  82% (13553/16527)\r",
      "Receiving objects:  83% (13718/16527)\r",
      "Receiving objects:  84% (13883/16527)\r",
      "Receiving objects:  85% (14048/16527)\r",
      "Receiving objects:  86% (14214/16527)\r",
      "Receiving objects:  87% (14379/16527)\r",
      "Receiving objects:  88% (14544/16527)\r",
      "Receiving objects:  89% (14710/16527)\r",
      "Receiving objects:  90% (14875/16527)\r",
      "Receiving objects:  91% (15040/16527)\r",
      "Receiving objects:  92% (15205/16527)\r",
      "Receiving objects:  93% (15371/16527)\r",
      "Receiving objects:  94% (15536/16527)\r",
      "Receiving objects:  95% (15701/16527)\r",
      "Receiving objects:  96% (15866/16527)\r",
      "Receiving objects:  97% (16032/16527)\r",
      "Receiving objects:  98% (16197/16527)\r",
      "Receiving objects:  99% (16362/16527)\r",
      "remote: Total 16527 (delta 50), reused 49 (delta 15), pack-reused 16408\u001b[K\r\n"
     ]
    },
    {
     "name": "stdout",
     "output_type": "stream",
     "text": [
      "Receiving objects: 100% (16527/16527)\r",
      "Receiving objects: 100% (16527/16527), 15.19 MiB | 31.68 MiB/s, done.\r\n",
      "Resolving deltas:   0% (0/11313)\r",
      "Resolving deltas:   1% (115/11313)\r",
      "Resolving deltas:   2% (229/11313)\r",
      "Resolving deltas:   3% (346/11313)\r",
      "Resolving deltas:   4% (454/11313)\r",
      "Resolving deltas:   5% (567/11313)\r",
      "Resolving deltas:   6% (679/11313)\r",
      "Resolving deltas:   7% (792/11313)\r",
      "Resolving deltas:   8% (906/11313)\r",
      "Resolving deltas:   9% (1019/11313)\r",
      "Resolving deltas:  10% (1132/11313)\r",
      "Resolving deltas:  11% (1245/11313)\r",
      "Resolving deltas:  12% (1358/11313)\r",
      "Resolving deltas:  13% (1473/11313)\r",
      "Resolving deltas:  14% (1584/11313)\r",
      "Resolving deltas:  15% (1698/11313)\r",
      "Resolving deltas:  16% (1811/11313)\r",
      "Resolving deltas:  17% (1924/11313)\r"
     ]
    },
    {
     "name": "stdout",
     "output_type": "stream",
     "text": [
      "Resolving deltas:  18% (2037/11313)\r",
      "Resolving deltas:  19% (2150/11313)\r",
      "Resolving deltas:  20% (2263/11313)\r",
      "Resolving deltas:  21% (2376/11313)\r",
      "Resolving deltas:  22% (2489/11313)\r",
      "Resolving deltas:  23% (2602/11313)\r",
      "Resolving deltas:  24% (2716/11313)\r",
      "Resolving deltas:  25% (2829/11313)\r",
      "Resolving deltas:  26% (2942/11313)\r",
      "Resolving deltas:  27% (3055/11313)\r",
      "Resolving deltas:  28% (3168/11313)\r",
      "Resolving deltas:  29% (3281/11313)\r",
      "Resolving deltas:  30% (3394/11313)\r",
      "Resolving deltas:  31% (3509/11313)\r",
      "Resolving deltas:  32% (3624/11313)\r",
      "Resolving deltas:  33% (3737/11313)\r",
      "Resolving deltas:  34% (3847/11313)\r",
      "Resolving deltas:  35% (3961/11313)\r",
      "Resolving deltas:  36% (4073/11313)\r",
      "Resolving deltas:  37% (4186/11313)\r",
      "Resolving deltas:  38% (4299/11313)\r",
      "Resolving deltas:  39% (4413/11313)\r",
      "Resolving deltas:  40% (4527/11313)\r",
      "Resolving deltas:  41% (4641/11313)\r",
      "Resolving deltas:  42% (4752/11313)\r",
      "Resolving deltas:  43% (4865/11313)\r"
     ]
    },
    {
     "name": "stdout",
     "output_type": "stream",
     "text": [
      "Resolving deltas:  44% (4979/11313)\r",
      "Resolving deltas:  45% (5097/11313)\r",
      "Resolving deltas:  46% (5204/11313)\r",
      "Resolving deltas:  47% (5318/11313)\r",
      "Resolving deltas:  48% (5431/11313)\r",
      "Resolving deltas:  49% (5544/11313)\r",
      "Resolving deltas:  50% (5657/11313)\r",
      "Resolving deltas:  51% (5770/11313)\r",
      "Resolving deltas:  52% (5883/11313)\r",
      "Resolving deltas:  53% (5997/11313)\r",
      "Resolving deltas:  54% (6110/11313)\r",
      "Resolving deltas:  55% (6225/11313)\r",
      "Resolving deltas:  56% (6336/11313)\r",
      "Resolving deltas:  57% (6449/11313)\r",
      "Resolving deltas:  58% (6562/11313)\r",
      "Resolving deltas:  59% (6675/11313)\r",
      "Resolving deltas:  60% (6788/11313)\r",
      "Resolving deltas:  61% (6903/11313)\r",
      "Resolving deltas:  62% (7015/11313)\r",
      "Resolving deltas:  63% (7129/11313)\r",
      "Resolving deltas:  64% (7241/11313)\r",
      "Resolving deltas:  65% (7354/11313)\r",
      "Resolving deltas:  66% (7467/11313)\r",
      "Resolving deltas:  67% (7580/11313)\r",
      "Resolving deltas:  68% (7693/11313)\r",
      "Resolving deltas:  69% (7806/11313)\r",
      "Resolving deltas:  70% (7922/11313)\r"
     ]
    },
    {
     "name": "stdout",
     "output_type": "stream",
     "text": [
      "Resolving deltas:  71% (8033/11313)\r",
      "Resolving deltas:  72% (8147/11313)\r",
      "Resolving deltas:  73% (8259/11313)\r",
      "Resolving deltas:  74% (8372/11313)\r",
      "Resolving deltas:  75% (8485/11313)\r",
      "Resolving deltas:  76% (8598/11313)\r",
      "Resolving deltas:  77% (8712/11313)\r",
      "Resolving deltas:  78% (8825/11313)\r",
      "Resolving deltas:  79% (8938/11313)\r",
      "Resolving deltas:  80% (9053/11313)\r",
      "Resolving deltas:  81% (9164/11313)\r",
      "Resolving deltas:  82% (9277/11313)\r",
      "Resolving deltas:  83% (9390/11313)\r",
      "Resolving deltas:  84% (9503/11313)\r",
      "Resolving deltas:  85% (9617/11313)\r",
      "Resolving deltas:  86% (9730/11313)\r",
      "Resolving deltas:  87% (9843/11313)\r",
      "Resolving deltas:  88% (9957/11313)\r",
      "Resolving deltas:  89% (10070/11313)\r",
      "Resolving deltas:  90% (10183/11313)\r",
      "Resolving deltas:  91% (10295/11313)\r",
      "Resolving deltas:  92% (10408/11313)\r"
     ]
    },
    {
     "name": "stdout",
     "output_type": "stream",
     "text": [
      "Resolving deltas:  93% (10522/11313)\r",
      "Resolving deltas:  94% (10636/11313)\r",
      "Resolving deltas:  95% (10748/11313)\r",
      "Resolving deltas:  96% (10861/11313)\r",
      "Resolving deltas:  97% (10974/11313)\r",
      "Resolving deltas:  98% (11088/11313)\r",
      "Resolving deltas:  99% (11200/11313)\r",
      "Resolving deltas: 100% (11313/11313)\r",
      "Resolving deltas: 100% (11313/11313), done.\r\n"
     ]
    },
    {
     "name": "stdout",
     "output_type": "stream",
     "text": [
      "/kaggle/working/yolov5\n"
     ]
    },
    {
     "name": "stderr",
     "output_type": "stream",
     "text": [
      "/usr/local/lib/python3.10/site-packages/IPython/core/magics/osm.py:417: UserWarning: This is now an optional IPython functionality, setting dhist requires you to install the `pickleshare` library.\n",
      "  self.shell.db['dhist'] = compress_dhist(dhist)[-100:]\n"
     ]
    },
    {
     "name": "stdout",
     "output_type": "stream",
     "text": [
      "\u001b[33mWARNING: Running pip as the 'root' user can result in broken permissions and conflicting behaviour with the system package manager. It is recommended to use a virtual environment instead: https://pip.pypa.io/warnings/venv\u001b[0m\u001b[33m\r\n",
      "\u001b[0m"
     ]
    },
    {
     "name": "stdout",
     "output_type": "stream",
     "text": [
      "\r\n",
      "\u001b[1m[\u001b[0m\u001b[34;49mnotice\u001b[0m\u001b[1;39;49m]\u001b[0m\u001b[39;49m A new release of pip is available: \u001b[0m\u001b[31;49m23.0.1\u001b[0m\u001b[39;49m -> \u001b[0m\u001b[32;49m24.0\u001b[0m\r\n",
      "\u001b[1m[\u001b[0m\u001b[34;49mnotice\u001b[0m\u001b[1;39;49m]\u001b[0m\u001b[39;49m To update, run: \u001b[0m\u001b[32;49mpip install --upgrade pip\u001b[0m\r\n"
     ]
    },
    {
     "name": "stdout",
     "output_type": "stream",
     "text": [
      "Note: you may need to restart the kernel to use updated packages.\n"
     ]
    },
    {
     "name": "stdout",
     "output_type": "stream",
     "text": [
      "Checking setup...\n"
     ]
    },
    {
     "ename": "ImportError",
     "evalue": "libGL.so.1: cannot open shared object file: No such file or directory",
     "output_type": "error",
     "traceback": [
      "\u001b[0;31m---------------------------------------------------------------------------\u001b[0m",
      "\u001b[0;31mImportError\u001b[0m                               Traceback (most recent call last)",
      "Cell \u001b[0;32mIn[1], line 7\u001b[0m\n\u001b[1;32m      5\u001b[0m \u001b[38;5;28;01mimport\u001b[39;00m \u001b[38;5;21;01mtorch\u001b[39;00m\n\u001b[1;32m      6\u001b[0m \u001b[38;5;28;01mimport\u001b[39;00m \u001b[38;5;21;01mutils\u001b[39;00m\n\u001b[0;32m----> 7\u001b[0m display \u001b[38;5;241m=\u001b[39m \u001b[43mutils\u001b[49m\u001b[38;5;241;43m.\u001b[39;49m\u001b[43mnotebook_init\u001b[49m\u001b[43m(\u001b[49m\u001b[43m)\u001b[49m  \u001b[38;5;66;03m# checks\u001b[39;00m\n",
      "File \u001b[0;32m/kaggle/working/yolov5/utils/__init__.py:65\u001b[0m, in \u001b[0;36mnotebook_init\u001b[0;34m(verbose)\u001b[0m\n\u001b[1;32m     62\u001b[0m \u001b[38;5;28;01mimport\u001b[39;00m \u001b[38;5;21;01mos\u001b[39;00m\n\u001b[1;32m     63\u001b[0m \u001b[38;5;28;01mimport\u001b[39;00m \u001b[38;5;21;01mshutil\u001b[39;00m\n\u001b[0;32m---> 65\u001b[0m \u001b[38;5;28;01mfrom\u001b[39;00m \u001b[38;5;21;01multralytics\u001b[39;00m\u001b[38;5;21;01m.\u001b[39;00m\u001b[38;5;21;01mutils\u001b[39;00m\u001b[38;5;21;01m.\u001b[39;00m\u001b[38;5;21;01mchecks\u001b[39;00m \u001b[38;5;28;01mimport\u001b[39;00m check_requirements\n\u001b[1;32m     67\u001b[0m \u001b[38;5;28;01mfrom\u001b[39;00m \u001b[38;5;21;01mutils\u001b[39;00m\u001b[38;5;21;01m.\u001b[39;00m\u001b[38;5;21;01mgeneral\u001b[39;00m \u001b[38;5;28;01mimport\u001b[39;00m check_font, is_colab\n\u001b[1;32m     68\u001b[0m \u001b[38;5;28;01mfrom\u001b[39;00m \u001b[38;5;21;01mutils\u001b[39;00m\u001b[38;5;21;01m.\u001b[39;00m\u001b[38;5;21;01mtorch_utils\u001b[39;00m \u001b[38;5;28;01mimport\u001b[39;00m select_device  \u001b[38;5;66;03m# imports\u001b[39;00m\n",
      "File \u001b[0;32m/usr/local/lib/python3.10/site-packages/ultralytics/__init__.py:5\u001b[0m\n\u001b[1;32m      1\u001b[0m \u001b[38;5;66;03m# Ultralytics YOLO 🚀, AGPL-3.0 license\u001b[39;00m\n\u001b[1;32m      3\u001b[0m __version__ \u001b[38;5;241m=\u001b[39m \u001b[38;5;124m\"\u001b[39m\u001b[38;5;124m8.1.25\u001b[39m\u001b[38;5;124m\"\u001b[39m\n\u001b[0;32m----> 5\u001b[0m \u001b[38;5;28;01mfrom\u001b[39;00m \u001b[38;5;21;01multralytics\u001b[39;00m\u001b[38;5;21;01m.\u001b[39;00m\u001b[38;5;21;01mdata\u001b[39;00m\u001b[38;5;21;01m.\u001b[39;00m\u001b[38;5;21;01mexplorer\u001b[39;00m\u001b[38;5;21;01m.\u001b[39;00m\u001b[38;5;21;01mexplorer\u001b[39;00m \u001b[38;5;28;01mimport\u001b[39;00m Explorer\n\u001b[1;32m      6\u001b[0m \u001b[38;5;28;01mfrom\u001b[39;00m \u001b[38;5;21;01multralytics\u001b[39;00m\u001b[38;5;21;01m.\u001b[39;00m\u001b[38;5;21;01mmodels\u001b[39;00m \u001b[38;5;28;01mimport\u001b[39;00m RTDETR, SAM, YOLO, YOLOWorld\n\u001b[1;32m      7\u001b[0m \u001b[38;5;28;01mfrom\u001b[39;00m \u001b[38;5;21;01multralytics\u001b[39;00m\u001b[38;5;21;01m.\u001b[39;00m\u001b[38;5;21;01mmodels\u001b[39;00m\u001b[38;5;21;01m.\u001b[39;00m\u001b[38;5;21;01mfastsam\u001b[39;00m \u001b[38;5;28;01mimport\u001b[39;00m FastSAM\n",
      "File \u001b[0;32m/usr/local/lib/python3.10/site-packages/ultralytics/data/__init__.py:3\u001b[0m\n\u001b[1;32m      1\u001b[0m \u001b[38;5;66;03m# Ultralytics YOLO 🚀, AGPL-3.0 license\u001b[39;00m\n\u001b[0;32m----> 3\u001b[0m \u001b[38;5;28;01mfrom\u001b[39;00m \u001b[38;5;21;01m.\u001b[39;00m\u001b[38;5;21;01mbase\u001b[39;00m \u001b[38;5;28;01mimport\u001b[39;00m BaseDataset\n\u001b[1;32m      4\u001b[0m \u001b[38;5;28;01mfrom\u001b[39;00m \u001b[38;5;21;01m.\u001b[39;00m\u001b[38;5;21;01mbuild\u001b[39;00m \u001b[38;5;28;01mimport\u001b[39;00m build_dataloader, build_yolo_dataset, load_inference_source\n\u001b[1;32m      5\u001b[0m \u001b[38;5;28;01mfrom\u001b[39;00m \u001b[38;5;21;01m.\u001b[39;00m\u001b[38;5;21;01mdataset\u001b[39;00m \u001b[38;5;28;01mimport\u001b[39;00m ClassificationDataset, SemanticDataset, YOLODataset\n",
      "File \u001b[0;32m/usr/local/lib/python3.10/site-packages/ultralytics/data/base.py:12\u001b[0m\n\u001b[1;32m      9\u001b[0m \u001b[38;5;28;01mfrom\u001b[39;00m \u001b[38;5;21;01mpathlib\u001b[39;00m \u001b[38;5;28;01mimport\u001b[39;00m Path\n\u001b[1;32m     10\u001b[0m \u001b[38;5;28;01mfrom\u001b[39;00m \u001b[38;5;21;01mtyping\u001b[39;00m \u001b[38;5;28;01mimport\u001b[39;00m Optional\n\u001b[0;32m---> 12\u001b[0m \u001b[38;5;28;01mimport\u001b[39;00m \u001b[38;5;21;01mcv2\u001b[39;00m\n\u001b[1;32m     13\u001b[0m \u001b[38;5;28;01mimport\u001b[39;00m \u001b[38;5;21;01mnumpy\u001b[39;00m \u001b[38;5;28;01mas\u001b[39;00m \u001b[38;5;21;01mnp\u001b[39;00m\n\u001b[1;32m     14\u001b[0m \u001b[38;5;28;01mimport\u001b[39;00m \u001b[38;5;21;01mpsutil\u001b[39;00m\n",
      "File \u001b[0;32m/usr/local/lib/python3.10/site-packages/cv2/__init__.py:181\u001b[0m\n\u001b[1;32m    176\u001b[0m             \u001b[38;5;28;01mif\u001b[39;00m DEBUG: \u001b[38;5;28mprint\u001b[39m(\u001b[38;5;124m\"\u001b[39m\u001b[38;5;124mExtra Python code for\u001b[39m\u001b[38;5;124m\"\u001b[39m, submodule, \u001b[38;5;124m\"\u001b[39m\u001b[38;5;124mis loaded\u001b[39m\u001b[38;5;124m\"\u001b[39m)\n\u001b[1;32m    178\u001b[0m     \u001b[38;5;28;01mif\u001b[39;00m DEBUG: \u001b[38;5;28mprint\u001b[39m(\u001b[38;5;124m'\u001b[39m\u001b[38;5;124mOpenCV loader: DONE\u001b[39m\u001b[38;5;124m'\u001b[39m)\n\u001b[0;32m--> 181\u001b[0m \u001b[43mbootstrap\u001b[49m\u001b[43m(\u001b[49m\u001b[43m)\u001b[49m\n",
      "File \u001b[0;32m/usr/local/lib/python3.10/site-packages/cv2/__init__.py:153\u001b[0m, in \u001b[0;36mbootstrap\u001b[0;34m()\u001b[0m\n\u001b[1;32m    149\u001b[0m \u001b[38;5;28;01mif\u001b[39;00m DEBUG: \u001b[38;5;28mprint\u001b[39m(\u001b[38;5;124m\"\u001b[39m\u001b[38;5;124mRelink everything from native cv2 module to cv2 package\u001b[39m\u001b[38;5;124m\"\u001b[39m)\n\u001b[1;32m    151\u001b[0m py_module \u001b[38;5;241m=\u001b[39m sys\u001b[38;5;241m.\u001b[39mmodules\u001b[38;5;241m.\u001b[39mpop(\u001b[38;5;124m\"\u001b[39m\u001b[38;5;124mcv2\u001b[39m\u001b[38;5;124m\"\u001b[39m)\n\u001b[0;32m--> 153\u001b[0m native_module \u001b[38;5;241m=\u001b[39m \u001b[43mimportlib\u001b[49m\u001b[38;5;241;43m.\u001b[39;49m\u001b[43mimport_module\u001b[49m\u001b[43m(\u001b[49m\u001b[38;5;124;43m\"\u001b[39;49m\u001b[38;5;124;43mcv2\u001b[39;49m\u001b[38;5;124;43m\"\u001b[39;49m\u001b[43m)\u001b[49m\n\u001b[1;32m    155\u001b[0m sys\u001b[38;5;241m.\u001b[39mmodules[\u001b[38;5;124m\"\u001b[39m\u001b[38;5;124mcv2\u001b[39m\u001b[38;5;124m\"\u001b[39m] \u001b[38;5;241m=\u001b[39m py_module\n\u001b[1;32m    156\u001b[0m \u001b[38;5;28msetattr\u001b[39m(py_module, \u001b[38;5;124m\"\u001b[39m\u001b[38;5;124m_native\u001b[39m\u001b[38;5;124m\"\u001b[39m, native_module)\n",
      "File \u001b[0;32m/usr/local/lib/python3.10/importlib/__init__.py:126\u001b[0m, in \u001b[0;36mimport_module\u001b[0;34m(name, package)\u001b[0m\n\u001b[1;32m    124\u001b[0m             \u001b[38;5;28;01mbreak\u001b[39;00m\n\u001b[1;32m    125\u001b[0m         level \u001b[38;5;241m+\u001b[39m\u001b[38;5;241m=\u001b[39m \u001b[38;5;241m1\u001b[39m\n\u001b[0;32m--> 126\u001b[0m \u001b[38;5;28;01mreturn\u001b[39;00m \u001b[43m_bootstrap\u001b[49m\u001b[38;5;241;43m.\u001b[39;49m\u001b[43m_gcd_import\u001b[49m\u001b[43m(\u001b[49m\u001b[43mname\u001b[49m\u001b[43m[\u001b[49m\u001b[43mlevel\u001b[49m\u001b[43m:\u001b[49m\u001b[43m]\u001b[49m\u001b[43m,\u001b[49m\u001b[43m \u001b[49m\u001b[43mpackage\u001b[49m\u001b[43m,\u001b[49m\u001b[43m \u001b[49m\u001b[43mlevel\u001b[49m\u001b[43m)\u001b[49m\n",
      "\u001b[0;31mImportError\u001b[0m: libGL.so.1: cannot open shared object file: No such file or directory"
     ]
    }
   ],
   "source": [
    "!git clone https://github.com/ultralytics/yolov5  # clone\n",
    "%cd yolov5\n",
    "%pip install -qr requirements.txt  # install\n",
    "\n",
    "import torch\n",
    "import utils\n",
    "display = utils.notebook_init()  # checks"
   ]
  },
  {
   "cell_type": "markdown",
   "id": "de098cba",
   "metadata": {
    "id": "4JnkELT0cIJg",
    "papermill": {
     "duration": null,
     "end_time": null,
     "exception": null,
     "start_time": null,
     "status": "pending"
    },
    "tags": []
   },
   "source": [
    "# 1. Detect\n",
    "\n",
    "`detect.py` runs YOLOv5 inference on a variety of sources, downloading models automatically from the [latest YOLOv5 release](https://github.com/ultralytics/yolov5/releases), and saving results to `runs/detect`. Example inference sources are:\n",
    "\n",
    "```shell\n",
    "python detect.py --source 0  # webcam\n",
    "                          img.jpg  # image \n",
    "                          vid.mp4  # video\n",
    "                          screen  # screenshot\n",
    "                          path/  # directory\n",
    "                         'path/*.jpg'  # glob\n",
    "                         'https://youtu.be/Zgi9g1ksQHc'  # YouTube\n",
    "                         'rtsp://example.com/media.mp4'  # RTSP, RTMP, HTTP stream\n",
    "```"
   ]
  },
  {
   "cell_type": "code",
   "execution_count": null,
   "id": "4ec855e4",
   "metadata": {
    "id": "zR9ZbuQCH7FX",
    "outputId": "b4db5c49-f501-4505-cf0d-a1d35236c485",
    "papermill": {
     "duration": null,
     "end_time": null,
     "exception": null,
     "start_time": null,
     "status": "pending"
    },
    "tags": []
   },
   "outputs": [],
   "source": [
    "!python detect.py --weights yolov5s.pt --img 640 --conf 0.25 --source data/images\n",
    "# display.Image(filename='runs/detect/exp/zidane.jpg', width=600)"
   ]
  },
  {
   "cell_type": "markdown",
   "id": "9fcc2018",
   "metadata": {
    "id": "hkAzDWJ7cWTr",
    "papermill": {
     "duration": null,
     "end_time": null,
     "exception": null,
     "start_time": null,
     "status": "pending"
    },
    "tags": []
   },
   "source": [
    "&nbsp;&nbsp;&nbsp;&nbsp;&nbsp;&nbsp;&nbsp;&nbsp;\n",
    "<img align=\"left\" src=\"https://user-images.githubusercontent.com/26833433/127574988-6a558aa1-d268-44b9-bf6b-62d4c605cc72.jpg\" width=\"600\">"
   ]
  },
  {
   "cell_type": "markdown",
   "id": "3b1e82f5",
   "metadata": {
    "id": "0eq1SMWl6Sfn",
    "papermill": {
     "duration": null,
     "end_time": null,
     "exception": null,
     "start_time": null,
     "status": "pending"
    },
    "tags": []
   },
   "source": [
    "# 2. Validate\n",
    "Validate a model's accuracy on the [COCO](https://cocodataset.org/#home) dataset's `val` or `test` splits. Models are downloaded automatically from the [latest YOLOv5 release](https://github.com/ultralytics/yolov5/releases). To show results by class use the `--verbose` flag."
   ]
  },
  {
   "cell_type": "code",
   "execution_count": null,
   "id": "fbb51e09",
   "metadata": {
    "id": "WQPtK1QYVaD_",
    "outputId": "c7d0a0d2-abfb-44c3-d60d-f99d0e7aabad",
    "papermill": {
     "duration": null,
     "end_time": null,
     "exception": null,
     "start_time": null,
     "status": "pending"
    },
    "tags": []
   },
   "outputs": [],
   "source": [
    "# Download COCO val\n",
    "torch.hub.download_url_to_file('https://ultralytics.com/assets/coco2017val.zip', 'tmp.zip')  # download (780M - 5000 images)\n",
    "!unzip -q tmp.zip -d ../datasets && rm tmp.zip  # unzip"
   ]
  },
  {
   "cell_type": "code",
   "execution_count": null,
   "id": "f6e58622",
   "metadata": {
    "id": "X58w8JLpMnjH",
    "outputId": "5fc61358-7bc5-4310-a310-9059f66c6322",
    "papermill": {
     "duration": null,
     "end_time": null,
     "exception": null,
     "start_time": null,
     "status": "pending"
    },
    "tags": []
   },
   "outputs": [],
   "source": [
    "# Validate YOLOv5s on COCO val\n",
    "!python val.py --weights yolov5s.pt --data coco.yaml --img 640 --half"
   ]
  },
  {
   "cell_type": "markdown",
   "id": "7c0b4217",
   "metadata": {
    "id": "ZY2VXXXu74w5",
    "papermill": {
     "duration": null,
     "end_time": null,
     "exception": null,
     "start_time": null,
     "status": "pending"
    },
    "tags": []
   },
   "source": [
    "# 3. Train\n",
    "\n",
    "<p align=\"\"><a href=\"https://roboflow.com/?ref=ultralytics\"><img width=\"1000\" src=\"https://github.com/ultralytics/assets/raw/master/im/integrations-loop.png\"/></a></p>\n",
    "Close the active learning loop by sampling images from your inference conditions with the `roboflow` pip package\n",
    "<br><br>\n",
    "\n",
    "Train a YOLOv5s model on the [COCO128](https://www.kaggle.com/ultralytics/coco128) dataset with `--data coco128.yaml`, starting from pretrained `--weights yolov5s.pt`, or from randomly initialized `--weights '' --cfg yolov5s.yaml`.\n",
    "\n",
    "- **Pretrained [Models](https://github.com/ultralytics/yolov5/tree/master/models)** are downloaded\n",
    "automatically from the [latest YOLOv5 release](https://github.com/ultralytics/yolov5/releases)\n",
    "- **[Datasets](https://github.com/ultralytics/yolov5/tree/master/data)** available for autodownload include: [COCO](https://github.com/ultralytics/yolov5/blob/master/data/coco.yaml), [COCO128](https://github.com/ultralytics/yolov5/blob/master/data/coco128.yaml), [VOC](https://github.com/ultralytics/yolov5/blob/master/data/VOC.yaml), [Argoverse](https://github.com/ultralytics/yolov5/blob/master/data/Argoverse.yaml), [VisDrone](https://github.com/ultralytics/yolov5/blob/master/data/VisDrone.yaml), [GlobalWheat](https://github.com/ultralytics/yolov5/blob/master/data/GlobalWheat2020.yaml), [xView](https://github.com/ultralytics/yolov5/blob/master/data/xView.yaml), [Objects365](https://github.com/ultralytics/yolov5/blob/master/data/Objects365.yaml), [SKU-110K](https://github.com/ultralytics/yolov5/blob/master/data/SKU-110K.yaml).\n",
    "- **Training Results** are saved to `runs/train/` with incrementing run directories, i.e. `runs/train/exp2`, `runs/train/exp3` etc.\n",
    "<br><br>\n",
    "\n",
    "A **Mosaic Dataloader** is used for training which combines 4 images into 1 mosaic.\n",
    "\n",
    "## Train on Custom Data with Roboflow 🌟 NEW\n",
    "\n",
    "[Roboflow](https://roboflow.com/?ref=ultralytics) enables you to easily **organize, label, and prepare** a high quality dataset with your own custom data. Roboflow also makes it easy to establish an active learning pipeline, collaborate with your team on dataset improvement, and integrate directly into your model building workflow with the `roboflow` pip package.\n",
    "\n",
    "- Custom Training Example: [https://blog.roboflow.com/how-to-train-yolov5-on-a-custom-dataset/](https://blog.roboflow.com/how-to-train-yolov5-on-a-custom-dataset/?ref=ultralytics)\n",
    "- Custom Training Notebook: [![Open In Colab](https://colab.research.google.com/assets/colab-badge.svg)](https://colab.research.google.com/github/roboflow-ai/yolov5-custom-training-tutorial/blob/main/yolov5-custom-training.ipynb)\n",
    "<br>\n",
    "\n",
    "<p align=\"\"><a href=\"https://roboflow.com/?ref=ultralytics\"><img width=\"480\" src=\"https://uploads-ssl.webflow.com/5f6bc60e665f54545a1e52a5/6152a275ad4b4ac20cd2e21a_roboflow-annotate.gif\"/></a></p>Label images lightning fast (including with model-assisted labeling)"
   ]
  },
  {
   "cell_type": "code",
   "execution_count": null,
   "id": "f0f50754",
   "metadata": {
    "id": "i3oKtE4g-aNn",
    "papermill": {
     "duration": null,
     "end_time": null,
     "exception": null,
     "start_time": null,
     "status": "pending"
    },
    "tags": []
   },
   "outputs": [],
   "source": [
    "#@title Select YOLOv5 🚀 logger {run: 'auto'}\n",
    "logger = 'TensorBoard' #@param ['TensorBoard', 'Comet', 'ClearML']\n",
    "\n",
    "if logger == 'TensorBoard':\n",
    "  %load_ext tensorboard\n",
    "  %tensorboard --logdir runs/train\n",
    "elif logger == 'Comet':\n",
    "  %pip install -q comet_ml\n",
    "  import comet_ml; comet_ml.init()\n",
    "elif logger == 'ClearML':\n",
    "  %pip install -q clearml\n",
    "  import clearml; clearml.browser_login()"
   ]
  },
  {
   "cell_type": "code",
   "execution_count": null,
   "id": "8ecd952e",
   "metadata": {
    "id": "1NcFxRcFdJ_O",
    "outputId": "721b9028-767f-4a05-c964-692c245f7398",
    "papermill": {
     "duration": null,
     "end_time": null,
     "exception": null,
     "start_time": null,
     "status": "pending"
    },
    "tags": []
   },
   "outputs": [],
   "source": [
    "# Train YOLOv5s on COCO128 for 3 epochs\n",
    "!python train.py --img 640 --batch 16 --epochs 3 --data coco128.yaml --weights yolov5s.pt --cache"
   ]
  },
  {
   "cell_type": "markdown",
   "id": "dc09ae09",
   "metadata": {
    "id": "15glLzbQx5u0",
    "papermill": {
     "duration": null,
     "end_time": null,
     "exception": null,
     "start_time": null,
     "status": "pending"
    },
    "tags": []
   },
   "source": [
    "# 4. Visualize"
   ]
  },
  {
   "cell_type": "markdown",
   "id": "5b073a97",
   "metadata": {
    "id": "nWOsI5wJR1o3",
    "papermill": {
     "duration": null,
     "end_time": null,
     "exception": null,
     "start_time": null,
     "status": "pending"
    },
    "tags": []
   },
   "source": [
    "## Comet Logging and Visualization 🌟 NEW\n",
    "[Comet](https://bit.ly/yolov5-readme-comet) is now fully integrated with YOLOv5. Track and visualize model metrics in real time, save your hyperparameters, datasets, and model checkpoints, and visualize your model predictions with [Comet Custom Panels](https://bit.ly/yolov5-colab-comet-panels)! Comet makes sure you never lose track of your work and makes it easy to share results and collaborate across teams of all sizes! \n",
    "\n",
    "Getting started is easy:\n",
    "```shell\n",
    "pip install comet_ml  # 1. install\n",
    "export COMET_API_KEY=<Your API Key>  # 2. paste API key\n",
    "python train.py --img 640 --epochs 3 --data coco128.yaml --weights yolov5s.pt  # 3. train\n",
    "```\n",
    "\n",
    "To learn more about all of the supported Comet features for this integration, check out the [Comet Tutorial](https://github.com/ultralytics/yolov5/tree/master/utils/loggers/comet). If you'd like to learn more about Comet, head over to our [documentation](https://bit.ly/yolov5-colab-comet-docs). Get started by trying out the Comet Colab Notebook:\n",
    "[![Open In Colab](https://colab.research.google.com/assets/colab-badge.svg)](https://colab.research.google.com/drive/1RG0WOQyxlDlo5Km8GogJpIEJlg_5lyYO?usp=sharing)\n",
    "\n",
    "<img width=\"1920\" alt=\"yolo-ui\" src=\"https://user-images.githubusercontent.com/26833433/202851203-164e94e1-2238-46dd-91f8-de020e9d6b41.png\">"
   ]
  },
  {
   "cell_type": "markdown",
   "id": "b591a4dd",
   "metadata": {
    "id": "Lay2WsTjNJzP",
    "papermill": {
     "duration": null,
     "end_time": null,
     "exception": null,
     "start_time": null,
     "status": "pending"
    },
    "tags": []
   },
   "source": [
    "## ClearML Logging and Automation 🌟 NEW\n",
    "\n",
    "[ClearML](https://cutt.ly/yolov5-notebook-clearml) is completely integrated into YOLOv5 to track your experimentation, manage dataset versions and even remotely execute training runs. To enable ClearML (check cells above):\n",
    "\n",
    "- `pip install clearml`\n",
    "- run `clearml-init` to connect to a ClearML server (**deploy your own [open-source server](https://github.com/allegroai/clearml-server)**, or use our [free hosted server](https://cutt.ly/yolov5-notebook-clearml))\n",
    "\n",
    "You'll get all the great expected features from an experiment manager: live updates, model upload, experiment comparison etc. but ClearML also tracks uncommitted changes and installed packages for example. Thanks to that ClearML Tasks (which is what we call experiments) are also reproducible on different machines! With only 1 extra line, we can schedule a YOLOv5 training task on a queue to be executed by any number of ClearML Agents (workers).\n",
    "\n",
    "You can use ClearML Data to version your dataset and then pass it to YOLOv5 simply using its unique ID. This will help you keep track of your data without adding extra hassle. Explore the [ClearML Tutorial](https://github.com/ultralytics/yolov5/tree/master/utils/loggers/clearml) for details!\n",
    "\n",
    "<a href=\"https://cutt.ly/yolov5-notebook-clearml\">\n",
    "<img alt=\"ClearML Experiment Management UI\" src=\"https://github.com/thepycoder/clearml_screenshots/raw/main/scalars.jpg\" width=\"1280\"/></a>"
   ]
  },
  {
   "cell_type": "markdown",
   "id": "a9e3e878",
   "metadata": {
    "id": "-WPvRbS5Swl6",
    "papermill": {
     "duration": null,
     "end_time": null,
     "exception": null,
     "start_time": null,
     "status": "pending"
    },
    "tags": []
   },
   "source": [
    "## Local Logging\n",
    "\n",
    "Training results are automatically logged with [Tensorboard](https://www.tensorflow.org/tensorboard) and [CSV](https://github.com/ultralytics/yolov5/pull/4148) loggers to `runs/train`, with a new experiment directory created for each new training as `runs/train/exp2`, `runs/train/exp3`, etc.\n",
    "\n",
    "This directory contains train and val statistics, mosaics, labels, predictions and augmentated mosaics, as well as metrics and charts including precision-recall (PR) curves and confusion matrices. \n",
    "\n",
    "<img alt=\"Local logging results\" src=\"https://user-images.githubusercontent.com/26833433/183222430-e1abd1b7-782c-4cde-b04d-ad52926bf818.jpg\" width=\"1280\"/>\n"
   ]
  },
  {
   "cell_type": "markdown",
   "id": "426877b5",
   "metadata": {
    "id": "Zelyeqbyt3GD",
    "papermill": {
     "duration": null,
     "end_time": null,
     "exception": null,
     "start_time": null,
     "status": "pending"
    },
    "tags": []
   },
   "source": [
    "# Environments\n",
    "\n",
    "YOLOv5 may be run in any of the following up-to-date verified environments (with all dependencies including [CUDA](https://developer.nvidia.com/cuda)/[CUDNN](https://developer.nvidia.com/cudnn), [Python](https://www.python.org/) and [PyTorch](https://pytorch.org/) preinstalled):\n",
    "\n",
    "- **Notebooks** with free GPU: <a href=\"https://bit.ly/yolov5-paperspace-notebook\"><img src=\"https://assets.paperspace.io/img/gradient-badge.svg\" alt=\"Run on Gradient\"></a> <a href=\"https://colab.research.google.com/github/ultralytics/yolov5/blob/master/tutorial.ipynb\"><img src=\"https://colab.research.google.com/assets/colab-badge.svg\" alt=\"Open In Colab\"></a> <a href=\"https://www.kaggle.com/ultralytics/yolov5\"><img src=\"https://kaggle.com/static/images/open-in-kaggle.svg\" alt=\"Open In Kaggle\"></a>\n",
    "- **Google Cloud** Deep Learning VM. See [GCP Quickstart Guide](https://github.com/ultralytics/yolov5/wiki/GCP-Quickstart)\n",
    "- **Amazon** Deep Learning AMI. See [AWS Quickstart Guide](https://github.com/ultralytics/yolov5/wiki/AWS-Quickstart)\n",
    "- **Docker Image**. See [Docker Quickstart Guide](https://github.com/ultralytics/yolov5/wiki/Docker-Quickstart) <a href=\"https://hub.docker.com/r/ultralytics/yolov5\"><img src=\"https://img.shields.io/docker/pulls/ultralytics/yolov5?logo=docker\" alt=\"Docker Pulls\"></a>\n"
   ]
  },
  {
   "cell_type": "markdown",
   "id": "fae9d22b",
   "metadata": {
    "id": "6Qu7Iesl0p54",
    "papermill": {
     "duration": null,
     "end_time": null,
     "exception": null,
     "start_time": null,
     "status": "pending"
    },
    "tags": []
   },
   "source": [
    "# Status\n",
    "\n",
    "![YOLOv5 CI](https://github.com/ultralytics/yolov5/actions/workflows/ci-testing.yml/badge.svg)\n",
    "\n",
    "If this badge is green, all [YOLOv5 GitHub Actions](https://github.com/ultralytics/yolov5/actions) Continuous Integration (CI) tests are currently passing. CI tests verify correct operation of YOLOv5 training ([train.py](https://github.com/ultralytics/yolov5/blob/master/train.py)), testing ([val.py](https://github.com/ultralytics/yolov5/blob/master/val.py)), inference ([detect.py](https://github.com/ultralytics/yolov5/blob/master/detect.py)) and export ([export.py](https://github.com/ultralytics/yolov5/blob/master/export.py)) on macOS, Windows, and Ubuntu every 24 hours and on every commit.\n"
   ]
  },
  {
   "cell_type": "markdown",
   "id": "c5ded1af",
   "metadata": {
    "id": "IEijrePND_2I",
    "papermill": {
     "duration": null,
     "end_time": null,
     "exception": null,
     "start_time": null,
     "status": "pending"
    },
    "tags": []
   },
   "source": [
    "# Appendix\n",
    "\n",
    "Additional content below."
   ]
  },
  {
   "cell_type": "code",
   "execution_count": null,
   "id": "7d04c3f0",
   "metadata": {
    "id": "GMusP4OAxFu6",
    "papermill": {
     "duration": null,
     "end_time": null,
     "exception": null,
     "start_time": null,
     "status": "pending"
    },
    "tags": []
   },
   "outputs": [],
   "source": [
    "# YOLOv5 PyTorch HUB Inference (DetectionModels only)\n",
    "import torch\n",
    "\n",
    "model = torch.hub.load('ultralytics/yolov5', 'yolov5s')  # yolov5n - yolov5x6 or custom\n",
    "im = 'https://ultralytics.com/images/zidane.jpg'  # file, Path, PIL.Image, OpenCV, nparray, list\n",
    "results = model(im)  # inference\n",
    "results.print()  # or .show(), .save(), .crop(), .pandas(), etc."
   ]
  }
 ],
 "metadata": {
  "kaggle": {
   "accelerator": "tpu1vmV38",
   "dataSources": [
    {
     "datasetId": 756977,
     "sourceId": 4352009,
     "sourceType": "datasetVersion"
    }
   ],
   "isGpuEnabled": false,
   "isInternetEnabled": true,
   "language": "python",
   "sourceType": "notebook"
  },
  "kernelspec": {
   "display_name": "Python 3",
   "language": "python",
   "name": "python3"
  },
  "language_info": {
   "codemirror_mode": {
    "name": "ipython",
    "version": 3
   },
   "file_extension": ".py",
   "mimetype": "text/x-python",
   "name": "python",
   "nbconvert_exporter": "python",
   "pygments_lexer": "ipython3",
   "version": "3.10.13"
  },
  "papermill": {
   "default_parameters": {},
   "duration": 102.71099,
   "end_time": "2024-03-10T08:51:30.092563",
   "environment_variables": {},
   "exception": true,
   "input_path": "__notebook__.ipynb",
   "output_path": "__notebook__.ipynb",
   "parameters": {},
   "start_time": "2024-03-10T08:49:47.381573",
   "version": "2.5.0"
  }
 },
 "nbformat": 4,
 "nbformat_minor": 5
}
