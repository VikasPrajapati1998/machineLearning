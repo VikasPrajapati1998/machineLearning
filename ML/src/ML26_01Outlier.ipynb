{
 "cells": [
  {
   "cell_type": "markdown",
   "id": "04733b80-5040-48da-b71d-e89f20f32e8d",
   "metadata": {},
   "source": [
    "# <b style=\"color:aqua\">Outliers</b>"
   ]
  },
  {
   "cell_type": "markdown",
   "id": "df7f1d28-759f-4568-a38d-e9f4cb4cdaba",
   "metadata": {},
   "source": [
    "- ## <b style=\"color:green\">What is Outliers?</b>\n",
    "  - Outliers are those data points that are significantly different from the rest of the dataset. They are often abnormal observations that skew the data distribution, and arise due to inconsistent data entry, or erroneous observations.\n",
    "  - Outliers are not always dangerous? As a data scientist we have to analyze that, that data is an important observation or an outlier.\n",
    "  - We should remove Outlier from the data.\n",
    "  - Some times Outliers are important data.\n",
    "  - Outlier can change the distribution of data.\n",
    "- ## <b style=\"color:green\">Effects of Outliers</b>\n",
    "    - It's effect on some algorithms, Like\n",
    "    - Linear Regression\n",
    "    - Logistic Regression\n",
    "    - AdaBoost\n",
    "    - Deep Learning\n",
    "  - Outliers always effect a weights base algorithms.\n",
    "  - Tree based algorithms does not effected by Outliers.\n",
    "- ## <b style=\"color:green\">How to treat Outliers?</b>\n",
    "  - Trimming (Remove the Outlier)\n",
    "  - Capping (Put a limit on data distribution)\n",
    "  - Consider as NaN.\n",
    "  - Discritization\n",
    "- ## <b style=\"color:green\">How to detect Outliers?</b>\n",
    "  - <b style=\"color:red\">Normal Distribution</b>\n",
    "    - Normal distribution, also known as the Gaussian distribution, is a probability distribution that is symmetric about the mean, showing that data near the mean are more frequent in occurrence than data far from the mean. In graphical form, the normal distribution appears as a \"bell curve\".\n",
    "    - \\\n",
    "      ![NoramlDistribution](../img/normalDistribution01.jpg)\n",
    "  - <b style=\"color:red\">Standard Deviation</b>\n",
    "    - Standard deviation is a statistic that measures the dispersion of a dataset relative to its mean and is calculated as the square root of the variance. The standard deviation is calculated as the square root of variance by determining each data point's deviation relative to the mean.\n",
    "    -  \\\n",
    "      ![Standard Deviation](../img/sd01.jpg)\n",
    "    - \\\n",
    "      ![Standard Deviation](../img/sd02.jpg)\n",
    "    - \\\n",
    "      ![Standard Deviation](../img/sd03.jpg)\n",
    "    - \\\n",
    "      ![Standard Deviation](../img/sd05.jpg)\n",
    "    - \\\n",
    "      ![Standard Deviation](../img/sd07.jpg)\n",
    "    - \\\n",
    "      ![Standard Deviation](../img/sd04.jpg)\n",
    "  "
   ]
  },
  {
   "cell_type": "markdown",
   "id": "8eedb67e-a7d5-4803-9031-c82a3ee35745",
   "metadata": {},
   "source": [
    "- <b style=\"color:red\">Variance</b>\n",
    "    - The term variance refers to a statistical measurement of the spread between numbers in a data set. More specifically, variance measures how far each number in the set is from the mean (average), and thus from every other number in the set. Variance is often depicted by this symbol: σ2. It is used by both analysts and traders to determine volatility and market security.\n",
    "    -  \\\n",
    "      ![Variance](../img/variance01.jpg)\n",
    "    - \\\n",
    "      ![Variance](../img/variance02.jpg).\n",
    "  - <b style=\"color:red\">Standard Score (Z-Score)</b>\n",
    "    - The Z score, or standard score, is the number of standard deviations a given data point lies above or below the mean. The mean is the average of all values in a group, added together, and then divided by the total number of items in the group.\n",
    "    - To calculate the Z-score, subtract the mean from each of the individual data points and divide the result by the standard deviation. Results of zero show the point and the mean equal. A result of one indicates the point is one standard deviation above the mean and when data points are below the mean, the Z-score is negative\n",
    "    -  Z-score is a statistical measurement that describes a value's relationship to the mean of a group of values. Z-score is measured in terms of standard deviations from the mean. If a Z-score is 0, it indicates that the data point's score is identical to the mean score. A Z-score of 1.0 would indicate a value that is one standard deviation from the mean. Z-scores may be positive or negative, with a positive value indicating the score is above the mean and a negative score indicating it is below the mea\n",
    "      \n",
    "    -  \\\n",
    "      ![z-score](../img/z01.jpg)\n",
    "    -  \\\n",
    "      ![z-score](../img/z02.jpg)\n",
    "\n",
    " - <b style=\"color:red\">Skewness</b>\n",
    "   - Skewness is a measurement of the distortion of symmetrical\n",
    "distribution or asymmetry in a data set. Skewness is demonstrated on\n",
    "a bell curve when data points are not distributed symmetrically to the\n",
    "left and right sides of the median on a bell curve. If the bell curve is\n",
    "shifted to the left or the right, it is said to be skewed.\n",
    "    - Skewness can be quantified as a representation of the extent to which\n",
    "a given distribution varies from a normal distribution. A normal\n",
    "distribution has a zero skew, while a lognormal distribution, for\n",
    "example, would exhibit some right skew.\n",
    "    - <ins style=\"color:blue\">Key Takeaways</ins>\n",
    "      - Skewness is the degree of asymmetry observed in a probability distribution.\n",
    "      - Distributions can exhibit right (positive) skewness or left (negative) skewness to varying degrees. A normal distribution (bell curve) exhibits zero skewness.\n",
    "      - Investors note right-skewness when judging a return distribution because it better represents the extremes of the data set rather than focusing solely on the average.\n",
    "      - Skewness informs users of the direction of outliers, though it does not tell users the number that occurs.\n",
    "      - Skewness is often found in stock market returns as well as the distribution of average individual income.\n",
    "      - \\\n",
    "        ![skewness](../img/skew01.jpg)\n",
    "      - \\\n",
    "        ![skewness](../img/skew02.jpg)\n",
    "      - \\\n",
    "        ![skewness](../img/skew03.jpg)\n"
   ]
  },
  {
   "cell_type": "markdown",
   "id": "83810cec-f2fb-4dd9-b6df-d4894c137b1d",
   "metadata": {},
   "source": [
    "## "
   ]
  },
  {
   "cell_type": "markdown",
   "id": "2034dec6-95f9-47b2-8252-93d5a82dd3a4",
   "metadata": {},
   "source": [
    "## <b style=\"color:green\">Techniques for Outlier Detection and Removal</b>\n",
    "- __Z-Score Transform__\n",
    "- __IQR Based Filtering__\n",
    "- __Percentile__\n",
    "- __Winsorization__"
   ]
  },
  {
   "cell_type": "code",
   "execution_count": null,
   "id": "41a2f63c-d53c-4987-b8b8-bf1f09c1575d",
   "metadata": {},
   "outputs": [],
   "source": []
  }
 ],
 "metadata": {
  "kernelspec": {
   "display_name": "Python 3 (ipykernel)",
   "language": "python",
   "name": "python3"
  },
  "language_info": {
   "codemirror_mode": {
    "name": "ipython",
    "version": 3
   },
   "file_extension": ".py",
   "mimetype": "text/x-python",
   "name": "python",
   "nbconvert_exporter": "python",
   "pygments_lexer": "ipython3",
   "version": "3.10.11"
  }
 },
 "nbformat": 4,
 "nbformat_minor": 5
}
