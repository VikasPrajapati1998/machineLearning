{
 "cells": [
  {
   "cell_type": "markdown",
   "id": "2a49128e-a4e8-43ae-97a2-79b480a549e5",
   "metadata": {
    "editable": true,
    "slideshow": {
     "slide_type": ""
    },
    "tags": []
   },
   "source": [
    "# <b style=\"color:aqua\">Feature Engineering</b>\n",
    "1. Feature Transformation\n",
    "   - Missing Value Imputation\n",
    "   - Handling Categorical Features\n",
    "   - Outlier Detection\n",
    "   - Feature Scaling\n",
    "2. Feature Construction\n",
    "3. Feature Selection\n",
    "4. Feature Extraction\n",
    "\n",
    "- Point no 3 and 4 are related to `Curse of Dimensionality`."
   ]
  },
  {
   "cell_type": "markdown",
   "id": "42abd34c-bca4-442f-a632-e2cecb0ceffc",
   "metadata": {
    "editable": true,
    "slideshow": {
     "slide_type": ""
    },
    "tags": []
   },
   "source": [
    "## <b style=\"color:olive\">Curse of Dimensionality</b>\n",
    "- Feature Selection\n",
    "  - It is use after create the model. We analyze that if reduce some feature the how much accuracy affected.\n",
    "  - There is optimal number of features in a model. Which have highest importance for prediction.\n",
    "- Feature Extraction\n",
    "  - PCA"
   ]
  },
  {
   "cell_type": "markdown",
   "id": "fc3f7014-22f5-43eb-a526-39fdaf239ad6",
   "metadata": {
    "editable": true,
    "slideshow": {
     "slide_type": ""
    },
    "tags": []
   },
   "source": [
    "### **Curse of Dimensionality**\n",
    "- Columns == Feature == Dimensions\n",
    "- There are optimal number of feature on which machine is performing good.\n",
    "  - [ Number of Feature < Optimal Feature ] ==> Accuracy Down\n",
    "  - [ Number of Feature > Optimal Feature ] ==> Accuracy Down of May no affect.\n",
    "- Take a optimal set of features.\n",
    "- High Dimension Data :\n",
    "  - Image\n",
    "  - Text Data\n",
    "- __Sparsity__ : Sparse data is a type of data that does not contain the actual values of features; it is a dataset containing a high amount of zero or null values.\n",
    "  - Difficult to find the valuable data in big data.\n",
    "- Increase the usless data in dataset create sparsity.\n",
    "- Sparsity effect in two way :\n",
    "  - Performance Decreases\n",
    "  - Computation Increases\n",
    "- Solution of Sparsity is __Dimensionality Reduction__ (Reduce the number of Columns(_features_)).\n",
    "  - Feature Selection (Select some specific _Feature_ from the given dataset.)\n",
    "    - Forward Selection\n",
    "    - Backward Elimination\n",
    "    - Bi-Direction Eliminatoin\n",
    "  - Feature Extraction (Create new _Features_ using the available _Features_ of dataset.)\n",
    "    - PCA : Principal Component Analysis\n",
    "    - LDA : Linear Discriminant Analysis\n",
    "    - t-SNE\n",
    "- __Overall__ : High Dimesional data is harmfull to work. After a certain dimension it is very tough to analyze and do calculation.\n",
    "    High-Dimension Data increase the computation and cost. It is hard to understand and modify.\n"
   ]
  },
  {
   "cell_type": "code",
   "execution_count": null,
   "id": "06ca5ff9-2af6-49eb-b685-8c13fd40f8bb",
   "metadata": {
    "editable": true,
    "slideshow": {
     "slide_type": ""
    },
    "tags": []
   },
   "outputs": [],
   "source": []
  }
 ],
 "metadata": {
  "kernelspec": {
   "display_name": "Python 3 (ipykernel)",
   "language": "python",
   "name": "python3"
  },
  "language_info": {
   "codemirror_mode": {
    "name": "ipython",
    "version": 3
   },
   "file_extension": ".py",
   "mimetype": "text/x-python",
   "name": "python",
   "nbconvert_exporter": "python",
   "pygments_lexer": "ipython3",
   "version": "3.10.12"
  }
 },
 "nbformat": 4,
 "nbformat_minor": 5
}
