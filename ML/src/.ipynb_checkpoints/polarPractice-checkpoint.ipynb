{
 "cells": [
  {
   "cell_type": "markdown",
   "id": "810cb03b-54cc-4007-bb02-2ea9d7e344b6",
   "metadata": {},
   "source": [
    "# **<font color=\"blue\">Polar</font>**"
   ]
  },
  {
   "cell_type": "markdown",
   "id": "24968376-e269-425f-844d-de12d99db467",
   "metadata": {},
   "source": [
    "### **Goal of Polar**\n",
    "<ul>\n",
    "    <li>Utilizes all available cores on your machine.</li>\n",
    "    <li>Optimizes queries to reduce unneeded work/memory allocations.</li>\n",
    "    <li>Handles datasets much larger than your available RAM.</li>\n",
    "    <li>Has an API that is consistent and predictable.</li>\n",
    "    <li>Has a strict schema (data-types should be known before running the query)</li>\n",
    "    <li>Polars is written in Rust which gives it C/C++ performance and allows it to fully control\n",
    "    performance critical parts in a query engine.</li>\n",
    "</ul>\n"
   ]
  },
  {
   "cell_type": "code",
   "execution_count": 1,
   "id": "a3ab5ce8-6440-4626-82b0-7b06c254f9dd",
   "metadata": {},
   "outputs": [],
   "source": [
    "# !python -m pip install polars[all]"
   ]
  },
  {
   "cell_type": "code",
   "execution_count": 2,
   "id": "d896d344-bc8b-4f3c-9aa3-74f904d00f78",
   "metadata": {},
   "outputs": [],
   "source": [
    "import polars as pl"
   ]
  },
  {
   "cell_type": "code",
   "execution_count": 3,
   "id": "6eaf2722-d3bc-4c44-a6b6-a1eba68b36ea",
   "metadata": {},
   "outputs": [
    {
     "data": {
      "text/html": [
       "<div><style>\n",
       ".dataframe > thead > tr,\n",
       ".dataframe > tbody > tr {\n",
       "  text-align: right;\n",
       "  white-space: pre-wrap;\n",
       "}\n",
       "</style>\n",
       "<small>shape: (5, 7)</small><table border=\"1\" class=\"dataframe\"><thead><tr><th>account number</th><th>name</th><th>sku</th><th>quantity</th><th>unit price</th><th>ext price</th><th>date</th></tr><tr><td>i64</td><td>str</td><td>str</td><td>i64</td><td>f64</td><td>f64</td><td>datetime[μs]</td></tr></thead><tbody><tr><td>740150</td><td>&quot;Barton LLC&quot;</td><td>&quot;B1-20000&quot;</td><td>39</td><td>86.69</td><td>3380.91</td><td>2018-01-01 07:21:51</td></tr><tr><td>714466</td><td>&quot;Trantow-Barrows&quot;</td><td>&quot;S2-77896&quot;</td><td>-1</td><td>63.16</td><td>-63.16</td><td>2018-01-01 10:00:47</td></tr><tr><td>218895</td><td>&quot;Kulas Inc&quot;</td><td>&quot;B1-69924&quot;</td><td>23</td><td>90.7</td><td>2086.1</td><td>2018-01-01 13:24:58</td></tr><tr><td>307599</td><td>&quot;Kassulke, Ondricka and Metz&quot;</td><td>&quot;S1-65481&quot;</td><td>41</td><td>21.05</td><td>863.05</td><td>2018-01-01 15:05:22</td></tr><tr><td>412290</td><td>&quot;Jerde-Hilpert&quot;</td><td>&quot;S2-34077&quot;</td><td>6</td><td>83.21</td><td>499.26</td><td>2018-01-01 23:26:55</td></tr></tbody></table></div>"
      ],
      "text/plain": [
       "shape: (5, 7)\n",
       "┌────────────────┬─────────────────────────────┬──────────┬──────────┬────────────┬───────────┬─────────────────────┐\n",
       "│ account number ┆ name                        ┆ sku      ┆ quantity ┆ unit price ┆ ext price ┆ date                │\n",
       "│ ---            ┆ ---                         ┆ ---      ┆ ---      ┆ ---        ┆ ---       ┆ ---                 │\n",
       "│ i64            ┆ str                         ┆ str      ┆ i64      ┆ f64        ┆ f64       ┆ datetime[μs]        │\n",
       "╞════════════════╪═════════════════════════════╪══════════╪══════════╪════════════╪═══════════╪═════════════════════╡\n",
       "│ 740150         ┆ Barton LLC                  ┆ B1-20000 ┆ 39       ┆ 86.69      ┆ 3380.91   ┆ 2018-01-01 07:21:51 │\n",
       "│ 714466         ┆ Trantow-Barrows             ┆ S2-77896 ┆ -1       ┆ 63.16      ┆ -63.16    ┆ 2018-01-01 10:00:47 │\n",
       "│ 218895         ┆ Kulas Inc                   ┆ B1-69924 ┆ 23       ┆ 90.7       ┆ 2086.1    ┆ 2018-01-01 13:24:58 │\n",
       "│ 307599         ┆ Kassulke, Ondricka and Metz ┆ S1-65481 ┆ 41       ┆ 21.05      ┆ 863.05    ┆ 2018-01-01 15:05:22 │\n",
       "│ 412290         ┆ Jerde-Hilpert               ┆ S2-34077 ┆ 6        ┆ 83.21      ┆ 499.26    ┆ 2018-01-01 23:26:55 │\n",
       "└────────────────┴─────────────────────────────┴──────────┴──────────┴────────────┴───────────┴─────────────────────┘"
      ]
     },
     "execution_count": 3,
     "metadata": {},
     "output_type": "execute_result"
    }
   ],
   "source": [
    "df = pl.read_excel(source=\"../data/2018_Sales_Total_v2.xlsx\", schema_overrides={\"date\": pl.Datetime})\n",
    "df.head()"
   ]
  },
  {
   "cell_type": "code",
   "execution_count": 4,
   "id": "75c4c15f-2081-47ff-89f2-5d2c21519d8f",
   "metadata": {},
   "outputs": [
    {
     "data": {
      "text/plain": [
       "(1507, 7)"
      ]
     },
     "execution_count": 4,
     "metadata": {},
     "output_type": "execute_result"
    }
   ],
   "source": [
    "df.shape"
   ]
  },
  {
   "cell_type": "code",
   "execution_count": 5,
   "id": "4014bc84-6e4d-4a45-be1b-f59cdd512f95",
   "metadata": {},
   "outputs": [
    {
     "data": {
      "text/plain": [
       "Schema([('account number', Int64),\n",
       "        ('name', String),\n",
       "        ('sku', String),\n",
       "        ('quantity', Int64),\n",
       "        ('unit price', Float64),\n",
       "        ('ext price', Float64),\n",
       "        ('date', Datetime(time_unit='us', time_zone=None))])"
      ]
     },
     "execution_count": 5,
     "metadata": {},
     "output_type": "execute_result"
    }
   ],
   "source": [
    "df.schema"
   ]
  },
  {
   "cell_type": "code",
   "execution_count": 6,
   "id": "17253ded-653b-415a-af9a-fa0949187f35",
   "metadata": {},
   "outputs": [
    {
     "data": {
      "text/html": [
       "<div><style>\n",
       ".dataframe > thead > tr,\n",
       ".dataframe > tbody > tr {\n",
       "  text-align: right;\n",
       "  white-space: pre-wrap;\n",
       "}\n",
       "</style>\n",
       "<small>shape: (9, 8)</small><table border=\"1\" class=\"dataframe\"><thead><tr><th>statistic</th><th>account number</th><th>name</th><th>sku</th><th>quantity</th><th>unit price</th><th>ext price</th><th>date</th></tr><tr><td>str</td><td>f64</td><td>str</td><td>str</td><td>f64</td><td>f64</td><td>f64</td><td>str</td></tr></thead><tbody><tr><td>&quot;count&quot;</td><td>1507.0</td><td>&quot;1507&quot;</td><td>&quot;1507&quot;</td><td>1507.0</td><td>1507.0</td><td>1507.0</td><td>&quot;1507&quot;</td></tr><tr><td>&quot;null_count&quot;</td><td>0.0</td><td>&quot;0&quot;</td><td>&quot;0&quot;</td><td>0.0</td><td>0.0</td><td>0.0</td><td>&quot;0&quot;</td></tr><tr><td>&quot;mean&quot;</td><td>486155.565362</td><td>null</td><td>null</td><td>24.439283</td><td>54.919827</td><td>1349.851194</td><td>&quot;2018-06-30 04:32:03.327139&quot;</td></tr><tr><td>&quot;std&quot;</td><td>222189.242438</td><td>null</td><td>null</td><td>14.811189</td><td>25.89196</td><td>1110.820807</td><td>null</td></tr><tr><td>&quot;min&quot;</td><td>141962.0</td><td>&quot;Barton LLC&quot;</td><td>&quot;B1-04202&quot;</td><td>-1.0</td><td>10.03</td><td>-97.16</td><td>&quot;2018-01-01 07:21:51&quot;</td></tr><tr><td>&quot;25%&quot;</td><td>257198.0</td><td>null</td><td>null</td><td>12.0</td><td>32.41</td><td>472.3</td><td>&quot;2018-03-31 11:37:34&quot;</td></tr><tr><td>&quot;50%&quot;</td><td>424914.0</td><td>null</td><td>null</td><td>25.0</td><td>55.14</td><td>1049.28</td><td>&quot;2018-06-26 18:27:42&quot;</td></tr><tr><td>&quot;75%&quot;</td><td>714466.0</td><td>null</td><td>null</td><td>37.0</td><td>77.06</td><td>2053.26</td><td>&quot;2018-09-30 01:03:08&quot;</td></tr><tr><td>&quot;max&quot;</td><td>786968.0</td><td>&quot;Will LLC&quot;</td><td>&quot;S2-83881&quot;</td><td>100.0</td><td>99.85</td><td>8819.0</td><td>&quot;2018-12-31 12:48:35&quot;</td></tr></tbody></table></div>"
      ],
      "text/plain": [
       "shape: (9, 8)\n",
       "┌────────────┬────────────────┬────────────┬──────────┬───────────┬────────────┬─────────────┬─────────────────────┐\n",
       "│ statistic  ┆ account number ┆ name       ┆ sku      ┆ quantity  ┆ unit price ┆ ext price   ┆ date                │\n",
       "│ ---        ┆ ---            ┆ ---        ┆ ---      ┆ ---       ┆ ---        ┆ ---         ┆ ---                 │\n",
       "│ str        ┆ f64            ┆ str        ┆ str      ┆ f64       ┆ f64        ┆ f64         ┆ str                 │\n",
       "╞════════════╪════════════════╪════════════╪══════════╪═══════════╪════════════╪═════════════╪═════════════════════╡\n",
       "│ count      ┆ 1507.0         ┆ 1507       ┆ 1507     ┆ 1507.0    ┆ 1507.0     ┆ 1507.0      ┆ 1507                │\n",
       "│ null_count ┆ 0.0            ┆ 0          ┆ 0        ┆ 0.0       ┆ 0.0        ┆ 0.0         ┆ 0                   │\n",
       "│ mean       ┆ 486155.565362  ┆ null       ┆ null     ┆ 24.439283 ┆ 54.919827  ┆ 1349.851194 ┆ 2018-06-30          │\n",
       "│            ┆                ┆            ┆          ┆           ┆            ┆             ┆ 04:32:03.327139     │\n",
       "│ std        ┆ 222189.242438  ┆ null       ┆ null     ┆ 14.811189 ┆ 25.89196   ┆ 1110.820807 ┆ null                │\n",
       "│ min        ┆ 141962.0       ┆ Barton LLC ┆ B1-04202 ┆ -1.0      ┆ 10.03      ┆ -97.16      ┆ 2018-01-01 07:21:51 │\n",
       "│ 25%        ┆ 257198.0       ┆ null       ┆ null     ┆ 12.0      ┆ 32.41      ┆ 472.3       ┆ 2018-03-31 11:37:34 │\n",
       "│ 50%        ┆ 424914.0       ┆ null       ┆ null     ┆ 25.0      ┆ 55.14      ┆ 1049.28     ┆ 2018-06-26 18:27:42 │\n",
       "│ 75%        ┆ 714466.0       ┆ null       ┆ null     ┆ 37.0      ┆ 77.06      ┆ 2053.26     ┆ 2018-09-30 01:03:08 │\n",
       "│ max        ┆ 786968.0       ┆ Will LLC   ┆ S2-83881 ┆ 100.0     ┆ 99.85      ┆ 8819.0      ┆ 2018-12-31 12:48:35 │\n",
       "└────────────┴────────────────┴────────────┴──────────┴───────────┴────────────┴─────────────┴─────────────────────┘"
      ]
     },
     "execution_count": 6,
     "metadata": {},
     "output_type": "execute_result"
    }
   ],
   "source": [
    "df.describe()"
   ]
  },
  {
   "cell_type": "markdown",
   "id": "1dfdab6f-5ecf-4b4e-a7ea-d2126f14a8fa",
   "metadata": {},
   "source": [
    "### **Basic Concepts - Selecting and Filtering Rows and Columns**\n",
    "- `select` to choose the subset of columns you want to work with\n",
    "- `filter` to choose the subset of rows you want to work with\n",
    "- `with_columns` to create new columns\n",
    "- `group_by` to group data together"
   ]
  },
  {
   "cell_type": "code",
   "execution_count": 7,
   "id": "5f4691b4-00d7-4d27-9b6e-0b1cd375e0b8",
   "metadata": {},
   "outputs": [
    {
     "data": {
      "text/html": [
       "<div><style>\n",
       ".dataframe > thead > tr,\n",
       ".dataframe > tbody > tr {\n",
       "  text-align: right;\n",
       "  white-space: pre-wrap;\n",
       "}\n",
       "</style>\n",
       "<small>shape: (1_507, 3)</small><table border=\"1\" class=\"dataframe\"><thead><tr><th>name</th><th>quantity</th><th>sku</th></tr><tr><td>str</td><td>i64</td><td>str</td></tr></thead><tbody><tr><td>&quot;Barton LLC&quot;</td><td>39</td><td>&quot;B1-20000&quot;</td></tr><tr><td>&quot;Trantow-Barrows&quot;</td><td>-1</td><td>&quot;S2-77896&quot;</td></tr><tr><td>&quot;Kulas Inc&quot;</td><td>23</td><td>&quot;B1-69924&quot;</td></tr><tr><td>&quot;Kassulke, Ondricka and Metz&quot;</td><td>41</td><td>&quot;S1-65481&quot;</td></tr><tr><td>&quot;Jerde-Hilpert&quot;</td><td>6</td><td>&quot;S2-34077&quot;</td></tr><tr><td>&hellip;</td><td>&hellip;</td><td>&hellip;</td></tr><tr><td>&quot;White-Trantow&quot;</td><td>37</td><td>&quot;B1-69924&quot;</td></tr><tr><td>&quot;White-Trantow&quot;</td><td>16</td><td>&quot;S1-47412&quot;</td></tr><tr><td>&quot;White-Trantow&quot;</td><td>75</td><td>&quot;B1-86481&quot;</td></tr><tr><td>&quot;White-Trantow&quot;</td><td>20</td><td>&quot;S1-82801&quot;</td></tr><tr><td>&quot;White-Trantow&quot;</td><td>100</td><td>&quot;S2-83881&quot;</td></tr></tbody></table></div>"
      ],
      "text/plain": [
       "shape: (1_507, 3)\n",
       "┌─────────────────────────────┬──────────┬──────────┐\n",
       "│ name                        ┆ quantity ┆ sku      │\n",
       "│ ---                         ┆ ---      ┆ ---      │\n",
       "│ str                         ┆ i64      ┆ str      │\n",
       "╞═════════════════════════════╪══════════╪══════════╡\n",
       "│ Barton LLC                  ┆ 39       ┆ B1-20000 │\n",
       "│ Trantow-Barrows             ┆ -1       ┆ S2-77896 │\n",
       "│ Kulas Inc                   ┆ 23       ┆ B1-69924 │\n",
       "│ Kassulke, Ondricka and Metz ┆ 41       ┆ S1-65481 │\n",
       "│ Jerde-Hilpert               ┆ 6        ┆ S2-34077 │\n",
       "│ …                           ┆ …        ┆ …        │\n",
       "│ White-Trantow               ┆ 37       ┆ B1-69924 │\n",
       "│ White-Trantow               ┆ 16       ┆ S1-47412 │\n",
       "│ White-Trantow               ┆ 75       ┆ B1-86481 │\n",
       "│ White-Trantow               ┆ 20       ┆ S1-82801 │\n",
       "│ White-Trantow               ┆ 100      ┆ S2-83881 │\n",
       "└─────────────────────────────┴──────────┴──────────┘"
      ]
     },
     "execution_count": 7,
     "metadata": {},
     "output_type": "execute_result"
    }
   ],
   "source": [
    "df.select(pl.col(\"name\", \"quantity\", \"sku\"))"
   ]
  },
  {
   "cell_type": "code",
   "execution_count": 9,
   "id": "56c60901-ab7e-4fc8-b3e9-4784fae04195",
   "metadata": {},
   "outputs": [
    {
     "data": {
      "text/html": [
       "<div><style>\n",
       ".dataframe > thead > tr,\n",
       ".dataframe > tbody > tr {\n",
       "  text-align: right;\n",
       "  white-space: pre-wrap;\n",
       "}\n",
       "</style>\n",
       "<small>shape: (6, 7)</small><table border=\"1\" class=\"dataframe\"><thead><tr><th>account number</th><th>name</th><th>sku</th><th>quantity</th><th>unit price</th><th>ext price</th><th>date</th></tr><tr><td>i64</td><td>str</td><td>str</td><td>i64</td><td>f64</td><td>f64</td><td>datetime[μs]</td></tr></thead><tbody><tr><td>424914</td><td>&quot;White-Trantow&quot;</td><td>&quot;S1-06532&quot;</td><td>55</td><td>68.74</td><td>3780.7</td><td>2018-11-18 23:45:09</td></tr><tr><td>424914</td><td>&quot;White-Trantow&quot;</td><td>&quot;B1-86481&quot;</td><td>75</td><td>28.89</td><td>2166.75</td><td>2018-12-19 13:03:54</td></tr><tr><td>424914</td><td>&quot;White-Trantow&quot;</td><td>&quot;S2-83881&quot;</td><td>100</td><td>88.19</td><td>8819.0</td><td>2018-12-17 00:46:26</td></tr><tr><td>424914</td><td>&quot;White-Trantow&quot;</td><td>&quot;S1-06532&quot;</td><td>55</td><td>68.74</td><td>3780.7</td><td>2018-11-19 23:45:09</td></tr><tr><td>424914</td><td>&quot;White-Trantow&quot;</td><td>&quot;B1-86481&quot;</td><td>75</td><td>28.89</td><td>2166.75</td><td>2018-12-29 13:03:54</td></tr><tr><td>424914</td><td>&quot;White-Trantow&quot;</td><td>&quot;S2-83881&quot;</td><td>100</td><td>88.19</td><td>8819.0</td><td>2018-12-16 00:46:26</td></tr></tbody></table></div>"
      ],
      "text/plain": [
       "shape: (6, 7)\n",
       "┌────────────────┬───────────────┬──────────┬──────────┬────────────┬───────────┬─────────────────────┐\n",
       "│ account number ┆ name          ┆ sku      ┆ quantity ┆ unit price ┆ ext price ┆ date                │\n",
       "│ ---            ┆ ---           ┆ ---      ┆ ---      ┆ ---        ┆ ---       ┆ ---                 │\n",
       "│ i64            ┆ str           ┆ str      ┆ i64      ┆ f64        ┆ f64       ┆ datetime[μs]        │\n",
       "╞════════════════╪═══════════════╪══════════╪══════════╪════════════╪═══════════╪═════════════════════╡\n",
       "│ 424914         ┆ White-Trantow ┆ S1-06532 ┆ 55       ┆ 68.74      ┆ 3780.7    ┆ 2018-11-18 23:45:09 │\n",
       "│ 424914         ┆ White-Trantow ┆ B1-86481 ┆ 75       ┆ 28.89      ┆ 2166.75   ┆ 2018-12-19 13:03:54 │\n",
       "│ 424914         ┆ White-Trantow ┆ S2-83881 ┆ 100      ┆ 88.19      ┆ 8819.0    ┆ 2018-12-17 00:46:26 │\n",
       "│ 424914         ┆ White-Trantow ┆ S1-06532 ┆ 55       ┆ 68.74      ┆ 3780.7    ┆ 2018-11-19 23:45:09 │\n",
       "│ 424914         ┆ White-Trantow ┆ B1-86481 ┆ 75       ┆ 28.89      ┆ 2166.75   ┆ 2018-12-29 13:03:54 │\n",
       "│ 424914         ┆ White-Trantow ┆ S2-83881 ┆ 100      ┆ 88.19      ┆ 8819.0    ┆ 2018-12-16 00:46:26 │\n",
       "└────────────────┴───────────────┴──────────┴──────────┴────────────┴───────────┴─────────────────────┘"
      ]
     },
     "execution_count": 9,
     "metadata": {},
     "output_type": "execute_result"
    }
   ],
   "source": [
    "df.filter(pl.col(\"quantity\") > 50)"
   ]
  },
  {
   "cell_type": "markdown",
   "id": "69043a1e-7efd-4489-983f-f8288853654b",
   "metadata": {},
   "source": [
    "### **Basic Concepts - adding columns**"
   ]
  },
  {
   "cell_type": "code",
   "execution_count": null,
   "id": "3e6e40bc-fb03-4606-8728-66b03aa5edb1",
   "metadata": {},
   "outputs": [],
   "source": [
    "df.with_columns((pl.col(\"date\").dt.strftime(\"%b\").alias(\"month_name\")))"
   ]
  },
  {
   "cell_type": "code",
   "execution_count": null,
   "id": "99209fe5-afc4-4e37-ba92-9267707f986d",
   "metadata": {},
   "outputs": [],
   "source": [
    "df.with_columns(\n",
    "    (pl.col(\"quantity\") / pl.col(\"quantity\").sum()).alias(\"pct_total\")\n",
    ")"
   ]
  },
  {
   "cell_type": "code",
   "execution_count": null,
   "id": "23b06838-5a60-47c5-b3f0-e4618817349d",
   "metadata": {},
   "outputs": [],
   "source": [
    "df.with_columns(pl.col(\"sku\").str.starts_with(\"S\").alias(\"special\"))"
   ]
  },
  {
   "cell_type": "code",
   "execution_count": null,
   "id": "551dbc42-ee0e-412b-bddf-3ea743a68977",
   "metadata": {},
   "outputs": [],
   "source": [
    "df.with_columns(\n",
    "    pl.when(pl.col(\"sku\").str.starts_with(\"S\")) # if\n",
    "    .then(pl.lit(\"Special\")) # then\n",
    "    .otherwise(pl.col(\"sku\")) # else\n",
    "    .alias(\"sales_status\")  # column name\n",
    ")"
   ]
  },
  {
   "cell_type": "markdown",
   "id": "16ba9d12-10bc-4229-aeee-99be5546bc12",
   "metadata": {},
   "source": [
    "### **Basic Concepts - groupint data**"
   ]
  },
  {
   "cell_type": "code",
   "execution_count": null,
   "id": "f0e36731-3c07-49b1-94d7-cf7941a476c3",
   "metadata": {},
   "outputs": [],
   "source": [
    "df.group_by(\"name\", \"sku\").agg(pl.col(\"quantity\").sum().alias(\"qty-total\"))"
   ]
  },
  {
   "cell_type": "code",
   "execution_count": null,
   "id": "730aac3e-3822-4470-9fea-47e549f275b8",
   "metadata": {},
   "outputs": [],
   "source": [
    "df.sort(by=\"date\").group_by_dynamic(\"date\", every=\"1mo\").agg(\n",
    "    pl.col(\"quantity\").sum().alias(\"qty-total-month\")\n",
    ")"
   ]
  },
  {
   "cell_type": "code",
   "execution_count": null,
   "id": "dc9e11d5-8505-4f5d-8e55-7ac4bd250e7d",
   "metadata": {},
   "outputs": [],
   "source": [
    "df.sort(by=\"date\").group_by_dynamic(\"date\", every=\"1mo\").agg(\n",
    "    pl.col(\"quantity\").sum().alias(\"qty-total-month\")\n",
    ").with_columns(pl.col(\"date\").dt.strftime(\"%b-%Y\").alias(\"month_name\")).select(\n",
    "    pl.col(\"month_name\", \"qty-total-month\")\n",
    ")"
   ]
  },
  {
   "cell_type": "code",
   "execution_count": null,
   "id": "e4d1ad45-5f66-4a43-96eb-b5ca00b0c178",
   "metadata": {},
   "outputs": [],
   "source": [
    "df_month = df.with_columns(\n",
    "    (pl.col(\"date\").dt.month().alias(\"month\")),\n",
    "    (pl.col(\"date\").dt.strftime(\"%b\").alias(\"month_name\")),\n",
    "    (pl.col(\"quantity\") / pl.col(\"quantity\").sum()).alias(\"pct_total\"),\n",
    "    (\n",
    "        pl.when(pl.col(\"sku\").str.starts_with(\"S\"))\n",
    "        .then(pl.lit(\"Special\"))\n",
    "        .otherwise(pl.col(\"sku\"))\n",
    "        .alias(\"sales_status\")\n",
    "    ),\n",
    ").select(\n",
    "    pl.col(\n",
    "        \"name\", \"quantity\", \"sku\", \"month\", \"month_name\", \"sales_status\", \"pct_total\"\n",
    "    )\n",
    ")\n",
    "df_month"
   ]
  },
  {
   "cell_type": "markdown",
   "id": "be78f934-f311-4e97-9775-799551ff2ffd",
   "metadata": {},
   "source": [
    "- `to_pandas()` : convert to pandas df\n",
    "- `from_pandas()` : convert pandas to polar\n",
    "- `write_excel()` : save as excel file."
   ]
  },
  {
   "cell_type": "code",
   "execution_count": null,
   "id": "911aa17b-3ba5-41ba-a263-be0a4ca345fa",
   "metadata": {},
   "outputs": [],
   "source": [
    "df.with_columns(\n",
    "    pl.when(pl.col(\"sku\").str.starts_with(\"S\")) # if\n",
    "    .then(pl.lit(\"Special\"))  # then\n",
    "    .otherwise(pl.lit(\"Standard\"))  # else\n",
    "    .alias(\"sales_status\")  # name of column\n",
    ").to_pandas()"
   ]
  },
  {
   "cell_type": "markdown",
   "id": "dda7cab4-bf8c-42eb-b8a1-c6ba103bc72c",
   "metadata": {},
   "source": [
    "### **Other Tests**"
   ]
  },
  {
   "cell_type": "code",
   "execution_count": 22,
   "id": "37bb8322-e249-445a-9b7f-f0cad1ca62f7",
   "metadata": {},
   "outputs": [
    {
     "name": "stderr",
     "output_type": "stream",
     "text": [
      "C:\\Users\\vikas\\AppData\\Local\\Temp\\ipykernel_15316\\4170360439.py:2: DeprecationWarning: The argument `dtypes` for `read_csv` is deprecated. It has been renamed to `schema_overrides`.\n",
      "  df = pl.read_csv(path,\n"
     ]
    },
    {
     "data": {
      "text/html": [
       "<div><style>\n",
       ".dataframe > thead > tr,\n",
       ".dataframe > tbody > tr {\n",
       "  text-align: right;\n",
       "  white-space: pre-wrap;\n",
       "}\n",
       "</style>\n",
       "<small>shape: (5, 81)</small><table border=\"1\" class=\"dataframe\"><thead><tr><th>Id</th><th>MSSubClass</th><th>MSZoning</th><th>LotFrontage</th><th>LotArea</th><th>Street</th><th>Alley</th><th>LotShape</th><th>LandContour</th><th>Utilities</th><th>LotConfig</th><th>LandSlope</th><th>Neighborhood</th><th>Condition1</th><th>Condition2</th><th>BldgType</th><th>HouseStyle</th><th>OverallQual</th><th>OverallCond</th><th>YearBuilt</th><th>YearRemodAdd</th><th>RoofStyle</th><th>RoofMatl</th><th>Exterior1st</th><th>Exterior2nd</th><th>MasVnrType</th><th>MasVnrArea</th><th>ExterQual</th><th>ExterCond</th><th>Foundation</th><th>BsmtQual</th><th>BsmtCond</th><th>BsmtExposure</th><th>BsmtFinType1</th><th>BsmtFinSF1</th><th>BsmtFinType2</th><th>BsmtFinSF2</th><th>&hellip;</th><th>2ndFlrSF</th><th>LowQualFinSF</th><th>GrLivArea</th><th>BsmtFullBath</th><th>BsmtHalfBath</th><th>FullBath</th><th>HalfBath</th><th>BedroomAbvGr</th><th>KitchenAbvGr</th><th>KitchenQual</th><th>TotRmsAbvGrd</th><th>Functional</th><th>Fireplaces</th><th>FireplaceQu</th><th>GarageType</th><th>GarageYrBlt</th><th>GarageFinish</th><th>GarageCars</th><th>GarageArea</th><th>GarageQual</th><th>GarageCond</th><th>PavedDrive</th><th>WoodDeckSF</th><th>OpenPorchSF</th><th>EnclosedPorch</th><th>3SsnPorch</th><th>ScreenPorch</th><th>PoolArea</th><th>PoolQC</th><th>Fence</th><th>MiscFeature</th><th>MiscVal</th><th>MoSold</th><th>YrSold</th><th>SaleType</th><th>SaleCondition</th><th>SalePrice</th></tr><tr><td>i64</td><td>i64</td><td>str</td><td>i64</td><td>i64</td><td>str</td><td>str</td><td>str</td><td>str</td><td>str</td><td>str</td><td>str</td><td>str</td><td>str</td><td>str</td><td>str</td><td>str</td><td>i64</td><td>i64</td><td>i64</td><td>i64</td><td>str</td><td>str</td><td>str</td><td>str</td><td>str</td><td>f64</td><td>str</td><td>str</td><td>str</td><td>str</td><td>str</td><td>str</td><td>str</td><td>i64</td><td>str</td><td>i64</td><td>&hellip;</td><td>i64</td><td>i64</td><td>i64</td><td>i64</td><td>i64</td><td>i64</td><td>i64</td><td>i64</td><td>i64</td><td>str</td><td>i64</td><td>str</td><td>i64</td><td>str</td><td>str</td><td>i64</td><td>str</td><td>i64</td><td>i64</td><td>str</td><td>str</td><td>str</td><td>i64</td><td>i64</td><td>i64</td><td>i64</td><td>i64</td><td>i64</td><td>str</td><td>str</td><td>str</td><td>i64</td><td>i64</td><td>i64</td><td>str</td><td>str</td><td>i64</td></tr></thead><tbody><tr><td>1</td><td>60</td><td>&quot;RL&quot;</td><td>65</td><td>8450</td><td>&quot;Pave&quot;</td><td>null</td><td>&quot;Reg&quot;</td><td>&quot;Lvl&quot;</td><td>&quot;AllPub&quot;</td><td>&quot;Inside&quot;</td><td>&quot;Gtl&quot;</td><td>&quot;CollgCr&quot;</td><td>&quot;Norm&quot;</td><td>&quot;Norm&quot;</td><td>&quot;1Fam&quot;</td><td>&quot;2Story&quot;</td><td>7</td><td>5</td><td>2003</td><td>2003</td><td>&quot;Gable&quot;</td><td>&quot;CompShg&quot;</td><td>&quot;VinylSd&quot;</td><td>&quot;VinylSd&quot;</td><td>&quot;BrkFace&quot;</td><td>196.0</td><td>&quot;Gd&quot;</td><td>&quot;TA&quot;</td><td>&quot;PConc&quot;</td><td>&quot;Gd&quot;</td><td>&quot;TA&quot;</td><td>&quot;No&quot;</td><td>&quot;GLQ&quot;</td><td>706</td><td>&quot;Unf&quot;</td><td>0</td><td>&hellip;</td><td>854</td><td>0</td><td>1710</td><td>1</td><td>0</td><td>2</td><td>1</td><td>3</td><td>1</td><td>&quot;Gd&quot;</td><td>8</td><td>&quot;Typ&quot;</td><td>0</td><td>null</td><td>&quot;Attchd&quot;</td><td>2003</td><td>&quot;RFn&quot;</td><td>2</td><td>548</td><td>&quot;TA&quot;</td><td>&quot;TA&quot;</td><td>&quot;Y&quot;</td><td>0</td><td>61</td><td>0</td><td>0</td><td>0</td><td>0</td><td>null</td><td>null</td><td>null</td><td>0</td><td>2</td><td>2008</td><td>&quot;WD&quot;</td><td>&quot;Normal&quot;</td><td>208500</td></tr><tr><td>2</td><td>20</td><td>&quot;RL&quot;</td><td>80</td><td>9600</td><td>&quot;Pave&quot;</td><td>null</td><td>&quot;Reg&quot;</td><td>&quot;Lvl&quot;</td><td>&quot;AllPub&quot;</td><td>&quot;FR2&quot;</td><td>&quot;Gtl&quot;</td><td>&quot;Veenker&quot;</td><td>&quot;Feedr&quot;</td><td>&quot;Norm&quot;</td><td>&quot;1Fam&quot;</td><td>&quot;1Story&quot;</td><td>6</td><td>8</td><td>1976</td><td>1976</td><td>&quot;Gable&quot;</td><td>&quot;CompShg&quot;</td><td>&quot;MetalSd&quot;</td><td>&quot;MetalSd&quot;</td><td>&quot;None&quot;</td><td>0.0</td><td>&quot;TA&quot;</td><td>&quot;TA&quot;</td><td>&quot;CBlock&quot;</td><td>&quot;Gd&quot;</td><td>&quot;TA&quot;</td><td>&quot;Gd&quot;</td><td>&quot;ALQ&quot;</td><td>978</td><td>&quot;Unf&quot;</td><td>0</td><td>&hellip;</td><td>0</td><td>0</td><td>1262</td><td>0</td><td>1</td><td>2</td><td>0</td><td>3</td><td>1</td><td>&quot;TA&quot;</td><td>6</td><td>&quot;Typ&quot;</td><td>1</td><td>&quot;TA&quot;</td><td>&quot;Attchd&quot;</td><td>1976</td><td>&quot;RFn&quot;</td><td>2</td><td>460</td><td>&quot;TA&quot;</td><td>&quot;TA&quot;</td><td>&quot;Y&quot;</td><td>298</td><td>0</td><td>0</td><td>0</td><td>0</td><td>0</td><td>null</td><td>null</td><td>null</td><td>0</td><td>5</td><td>2007</td><td>&quot;WD&quot;</td><td>&quot;Normal&quot;</td><td>181500</td></tr><tr><td>3</td><td>60</td><td>&quot;RL&quot;</td><td>68</td><td>11250</td><td>&quot;Pave&quot;</td><td>null</td><td>&quot;IR1&quot;</td><td>&quot;Lvl&quot;</td><td>&quot;AllPub&quot;</td><td>&quot;Inside&quot;</td><td>&quot;Gtl&quot;</td><td>&quot;CollgCr&quot;</td><td>&quot;Norm&quot;</td><td>&quot;Norm&quot;</td><td>&quot;1Fam&quot;</td><td>&quot;2Story&quot;</td><td>7</td><td>5</td><td>2001</td><td>2002</td><td>&quot;Gable&quot;</td><td>&quot;CompShg&quot;</td><td>&quot;VinylSd&quot;</td><td>&quot;VinylSd&quot;</td><td>&quot;BrkFace&quot;</td><td>162.0</td><td>&quot;Gd&quot;</td><td>&quot;TA&quot;</td><td>&quot;PConc&quot;</td><td>&quot;Gd&quot;</td><td>&quot;TA&quot;</td><td>&quot;Mn&quot;</td><td>&quot;GLQ&quot;</td><td>486</td><td>&quot;Unf&quot;</td><td>0</td><td>&hellip;</td><td>866</td><td>0</td><td>1786</td><td>1</td><td>0</td><td>2</td><td>1</td><td>3</td><td>1</td><td>&quot;Gd&quot;</td><td>6</td><td>&quot;Typ&quot;</td><td>1</td><td>&quot;TA&quot;</td><td>&quot;Attchd&quot;</td><td>2001</td><td>&quot;RFn&quot;</td><td>2</td><td>608</td><td>&quot;TA&quot;</td><td>&quot;TA&quot;</td><td>&quot;Y&quot;</td><td>0</td><td>42</td><td>0</td><td>0</td><td>0</td><td>0</td><td>null</td><td>null</td><td>null</td><td>0</td><td>9</td><td>2008</td><td>&quot;WD&quot;</td><td>&quot;Normal&quot;</td><td>223500</td></tr><tr><td>4</td><td>70</td><td>&quot;RL&quot;</td><td>60</td><td>9550</td><td>&quot;Pave&quot;</td><td>null</td><td>&quot;IR1&quot;</td><td>&quot;Lvl&quot;</td><td>&quot;AllPub&quot;</td><td>&quot;Corner&quot;</td><td>&quot;Gtl&quot;</td><td>&quot;Crawfor&quot;</td><td>&quot;Norm&quot;</td><td>&quot;Norm&quot;</td><td>&quot;1Fam&quot;</td><td>&quot;2Story&quot;</td><td>7</td><td>5</td><td>1915</td><td>1970</td><td>&quot;Gable&quot;</td><td>&quot;CompShg&quot;</td><td>&quot;Wd Sdng&quot;</td><td>&quot;Wd Shng&quot;</td><td>&quot;None&quot;</td><td>0.0</td><td>&quot;TA&quot;</td><td>&quot;TA&quot;</td><td>&quot;BrkTil&quot;</td><td>&quot;TA&quot;</td><td>&quot;Gd&quot;</td><td>&quot;No&quot;</td><td>&quot;ALQ&quot;</td><td>216</td><td>&quot;Unf&quot;</td><td>0</td><td>&hellip;</td><td>756</td><td>0</td><td>1717</td><td>1</td><td>0</td><td>1</td><td>0</td><td>3</td><td>1</td><td>&quot;Gd&quot;</td><td>7</td><td>&quot;Typ&quot;</td><td>1</td><td>&quot;Gd&quot;</td><td>&quot;Detchd&quot;</td><td>1998</td><td>&quot;Unf&quot;</td><td>3</td><td>642</td><td>&quot;TA&quot;</td><td>&quot;TA&quot;</td><td>&quot;Y&quot;</td><td>0</td><td>35</td><td>272</td><td>0</td><td>0</td><td>0</td><td>null</td><td>null</td><td>null</td><td>0</td><td>2</td><td>2006</td><td>&quot;WD&quot;</td><td>&quot;Abnorml&quot;</td><td>140000</td></tr><tr><td>5</td><td>60</td><td>&quot;RL&quot;</td><td>84</td><td>14260</td><td>&quot;Pave&quot;</td><td>null</td><td>&quot;IR1&quot;</td><td>&quot;Lvl&quot;</td><td>&quot;AllPub&quot;</td><td>&quot;FR2&quot;</td><td>&quot;Gtl&quot;</td><td>&quot;NoRidge&quot;</td><td>&quot;Norm&quot;</td><td>&quot;Norm&quot;</td><td>&quot;1Fam&quot;</td><td>&quot;2Story&quot;</td><td>8</td><td>5</td><td>2000</td><td>2000</td><td>&quot;Gable&quot;</td><td>&quot;CompShg&quot;</td><td>&quot;VinylSd&quot;</td><td>&quot;VinylSd&quot;</td><td>&quot;BrkFace&quot;</td><td>350.0</td><td>&quot;Gd&quot;</td><td>&quot;TA&quot;</td><td>&quot;PConc&quot;</td><td>&quot;Gd&quot;</td><td>&quot;TA&quot;</td><td>&quot;Av&quot;</td><td>&quot;GLQ&quot;</td><td>655</td><td>&quot;Unf&quot;</td><td>0</td><td>&hellip;</td><td>1053</td><td>0</td><td>2198</td><td>1</td><td>0</td><td>2</td><td>1</td><td>4</td><td>1</td><td>&quot;Gd&quot;</td><td>9</td><td>&quot;Typ&quot;</td><td>1</td><td>&quot;TA&quot;</td><td>&quot;Attchd&quot;</td><td>2000</td><td>&quot;RFn&quot;</td><td>3</td><td>836</td><td>&quot;TA&quot;</td><td>&quot;TA&quot;</td><td>&quot;Y&quot;</td><td>192</td><td>84</td><td>0</td><td>0</td><td>0</td><td>0</td><td>null</td><td>null</td><td>null</td><td>0</td><td>12</td><td>2008</td><td>&quot;WD&quot;</td><td>&quot;Normal&quot;</td><td>250000</td></tr></tbody></table></div>"
      ],
      "text/plain": [
       "shape: (5, 81)\n",
       "┌─────┬────────────┬──────────┬─────────────┬───┬────────┬──────────┬───────────────┬───────────┐\n",
       "│ Id  ┆ MSSubClass ┆ MSZoning ┆ LotFrontage ┆ … ┆ YrSold ┆ SaleType ┆ SaleCondition ┆ SalePrice │\n",
       "│ --- ┆ ---        ┆ ---      ┆ ---         ┆   ┆ ---    ┆ ---      ┆ ---           ┆ ---       │\n",
       "│ i64 ┆ i64        ┆ str      ┆ i64         ┆   ┆ i64    ┆ str      ┆ str           ┆ i64       │\n",
       "╞═════╪════════════╪══════════╪═════════════╪═══╪════════╪══════════╪═══════════════╪═══════════╡\n",
       "│ 1   ┆ 60         ┆ RL       ┆ 65          ┆ … ┆ 2008   ┆ WD       ┆ Normal        ┆ 208500    │\n",
       "│ 2   ┆ 20         ┆ RL       ┆ 80          ┆ … ┆ 2007   ┆ WD       ┆ Normal        ┆ 181500    │\n",
       "│ 3   ┆ 60         ┆ RL       ┆ 68          ┆ … ┆ 2008   ┆ WD       ┆ Normal        ┆ 223500    │\n",
       "│ 4   ┆ 70         ┆ RL       ┆ 60          ┆ … ┆ 2006   ┆ WD       ┆ Abnorml       ┆ 140000    │\n",
       "│ 5   ┆ 60         ┆ RL       ┆ 84          ┆ … ┆ 2008   ┆ WD       ┆ Normal        ┆ 250000    │\n",
       "└─────┴────────────┴──────────┴─────────────┴───┴────────┴──────────┴───────────────┴───────────┘"
      ]
     },
     "execution_count": 22,
     "metadata": {},
     "output_type": "execute_result"
    }
   ],
   "source": [
    "path = \"../data/housingDataSet.csv\"\n",
    "df = pl.read_csv(path, \n",
    "                 infer_schema_length=10000, \n",
    "                 dtypes={'MasVnrArea': pl.Float64},\n",
    "                 null_values=['NA'],\n",
    "                 ignore_errors=True\n",
    "                ) \n",
    "df.head()"
   ]
  },
  {
   "cell_type": "code",
   "execution_count": 29,
   "id": "01a575a9-cb23-47cf-b5ca-edae541552fc",
   "metadata": {},
   "outputs": [],
   "source": [
    "# Assuming 'MasVnrArea' should be a float\n",
    "q = (\n",
    "    pl.scan_csv(path, schema_overrides={'MasVnrArea': pl.Float64}, infer_schema_length=10000, null_values=['NA'])\n",
    "    .filter(pl.col(\"TotRmsAbvGrd\") > 5)\n",
    "    .group_by(\"SaleType\")\n",
    "    .agg(pl.all().sum())\n",
    ")\n",
    "\n",
    "df = q.collect()"
   ]
  },
  {
   "cell_type": "code",
   "execution_count": 30,
   "id": "70359ec2-2f85-432d-b82b-b4690452d792",
   "metadata": {},
   "outputs": [
    {
     "data": {
      "text/html": [
       "<div><style>\n",
       ".dataframe > thead > tr,\n",
       ".dataframe > tbody > tr {\n",
       "  text-align: right;\n",
       "  white-space: pre-wrap;\n",
       "}\n",
       "</style>\n",
       "<small>shape: (5, 81)</small><table border=\"1\" class=\"dataframe\"><thead><tr><th>SaleType</th><th>Id</th><th>MSSubClass</th><th>MSZoning</th><th>LotFrontage</th><th>LotArea</th><th>Street</th><th>Alley</th><th>LotShape</th><th>LandContour</th><th>Utilities</th><th>LotConfig</th><th>LandSlope</th><th>Neighborhood</th><th>Condition1</th><th>Condition2</th><th>BldgType</th><th>HouseStyle</th><th>OverallQual</th><th>OverallCond</th><th>YearBuilt</th><th>YearRemodAdd</th><th>RoofStyle</th><th>RoofMatl</th><th>Exterior1st</th><th>Exterior2nd</th><th>MasVnrType</th><th>MasVnrArea</th><th>ExterQual</th><th>ExterCond</th><th>Foundation</th><th>BsmtQual</th><th>BsmtCond</th><th>BsmtExposure</th><th>BsmtFinType1</th><th>BsmtFinSF1</th><th>BsmtFinType2</th><th>&hellip;</th><th>1stFlrSF</th><th>2ndFlrSF</th><th>LowQualFinSF</th><th>GrLivArea</th><th>BsmtFullBath</th><th>BsmtHalfBath</th><th>FullBath</th><th>HalfBath</th><th>BedroomAbvGr</th><th>KitchenAbvGr</th><th>KitchenQual</th><th>TotRmsAbvGrd</th><th>Functional</th><th>Fireplaces</th><th>FireplaceQu</th><th>GarageType</th><th>GarageYrBlt</th><th>GarageFinish</th><th>GarageCars</th><th>GarageArea</th><th>GarageQual</th><th>GarageCond</th><th>PavedDrive</th><th>WoodDeckSF</th><th>OpenPorchSF</th><th>EnclosedPorch</th><th>3SsnPorch</th><th>ScreenPorch</th><th>PoolArea</th><th>PoolQC</th><th>Fence</th><th>MiscFeature</th><th>MiscVal</th><th>MoSold</th><th>YrSold</th><th>SaleCondition</th><th>SalePrice</th></tr><tr><td>str</td><td>i64</td><td>i64</td><td>str</td><td>i64</td><td>i64</td><td>str</td><td>str</td><td>str</td><td>str</td><td>str</td><td>str</td><td>str</td><td>str</td><td>str</td><td>str</td><td>str</td><td>str</td><td>i64</td><td>i64</td><td>i64</td><td>i64</td><td>str</td><td>str</td><td>str</td><td>str</td><td>str</td><td>f64</td><td>str</td><td>str</td><td>str</td><td>str</td><td>str</td><td>str</td><td>str</td><td>i64</td><td>str</td><td>&hellip;</td><td>i64</td><td>i64</td><td>i64</td><td>i64</td><td>i64</td><td>i64</td><td>i64</td><td>i64</td><td>i64</td><td>i64</td><td>str</td><td>i64</td><td>str</td><td>i64</td><td>str</td><td>str</td><td>i64</td><td>str</td><td>i64</td><td>i64</td><td>str</td><td>str</td><td>str</td><td>i64</td><td>i64</td><td>i64</td><td>i64</td><td>i64</td><td>i64</td><td>str</td><td>str</td><td>str</td><td>i64</td><td>i64</td><td>i64</td><td>str</td><td>i64</td></tr></thead><tbody><tr><td>&quot;Oth&quot;</td><td>943</td><td>90</td><td>null</td><td>42</td><td>7711</td><td>null</td><td>null</td><td>null</td><td>null</td><td>null</td><td>null</td><td>null</td><td>null</td><td>null</td><td>null</td><td>null</td><td>null</td><td>4</td><td>3</td><td>1977</td><td>1977</td><td>null</td><td>null</td><td>null</td><td>null</td><td>null</td><td>0.0</td><td>null</td><td>null</td><td>null</td><td>null</td><td>null</td><td>null</td><td>null</td><td>1440</td><td>null</td><td>&hellip;</td><td>1440</td><td>0</td><td>0</td><td>1440</td><td>2</td><td>0</td><td>2</td><td>0</td><td>4</td><td>2</td><td>null</td><td>8</td><td>null</td><td>0</td><td>null</td><td>null</td><td>0</td><td>null</td><td>0</td><td>0</td><td>null</td><td>null</td><td>null</td><td>321</td><td>0</td><td>0</td><td>0</td><td>0</td><td>0</td><td>null</td><td>null</td><td>null</td><td>0</td><td>8</td><td>2007</td><td>null</td><td>150000</td></tr><tr><td>&quot;ConLw&quot;</td><td>1917</td><td>255</td><td>null</td><td>142</td><td>24580</td><td>null</td><td>null</td><td>null</td><td>null</td><td>null</td><td>null</td><td>null</td><td>null</td><td>null</td><td>null</td><td>null</td><td>null</td><td>21</td><td>17</td><td>5919</td><td>5954</td><td>null</td><td>null</td><td>null</td><td>null</td><td>null</td><td>166.0</td><td>null</td><td>null</td><td>null</td><td>null</td><td>null</td><td>null</td><td>null</td><td>1289</td><td>null</td><td>&hellip;</td><td>2956</td><td>1709</td><td>0</td><td>4665</td><td>2</td><td>0</td><td>5</td><td>1</td><td>8</td><td>3</td><td>null</td><td>19</td><td>null</td><td>3</td><td>null</td><td>null</td><td>5920</td><td>null</td><td>5</td><td>1401</td><td>null</td><td>null</td><td>null</td><td>330</td><td>123</td><td>330</td><td>0</td><td>0</td><td>0</td><td>null</td><td>null</td><td>null</td><td>0</td><td>15</td><td>6024</td><td>null</td><td>563500</td></tr><tr><td>&quot;WD&quot;</td><td>675633</td><td>52535</td><td>null</td><td>53295</td><td>10171587</td><td>null</td><td>null</td><td>null</td><td>null</td><td>null</td><td>null</td><td>null</td><td>null</td><td>null</td><td>null</td><td>null</td><td>null</td><td>5684</td><td>5102</td><td>1795197</td><td>1808567</td><td>null</td><td>null</td><td>null</td><td>null</td><td>null</td><td>102414.0</td><td>null</td><td>null</td><td>null</td><td>null</td><td>null</td><td>null</td><td>null</td><td>394214</td><td>null</td><td>&hellip;</td><td>1092547</td><td>417949</td><td>7030</td><td>1517526</td><td>369</td><td>56</td><td>1525</td><td>425</td><td>2864</td><td>970</td><td>null</td><td>6511</td><td>null</td><td>641</td><td>null</td><td>null</td><td>1730524</td><td>null</td><td>1666</td><td>441645</td><td>null</td><td>null</td><td>null</td><td>96314</td><td>45804</td><td>21072</td><td>2806</td><td>15061</td><td>2900</td><td>null</td><td>null</td><td>null</td><td>39450</td><td>5664</td><td>1829153</td><td>null</td><td>172228265</td></tr><tr><td>&quot;Con&quot;</td><td>1090</td><td>180</td><td>null</td><td>104</td><td>19486</td><td>null</td><td>null</td><td>null</td><td>null</td><td>null</td><td>null</td><td>null</td><td>null</td><td>null</td><td>null</td><td>null</td><td>null</td><td>15</td><td>10</td><td>4002</td><td>4002</td><td>null</td><td>null</td><td>null</td><td>null</td><td>null</td><td>0.0</td><td>null</td><td>null</td><td>null</td><td>null</td><td>null</td><td>null</td><td>null</td><td>1643</td><td>null</td><td>&hellip;</td><td>2483</td><td>783</td><td>0</td><td>3266</td><td>2</td><td>0</td><td>3</td><td>2</td><td>4</td><td>2</td><td>null</td><td>13</td><td>null</td><td>2</td><td>null</td><td>null</td><td>4002</td><td>null</td><td>4</td><td>1087</td><td>null</td><td>null</td><td>null</td><td>291</td><td>75</td><td>0</td><td>0</td><td>0</td><td>0</td><td>null</td><td>null</td><td>null</td><td>0</td><td>11</td><td>4018</td><td>null</td><td>539200</td></tr><tr><td>&quot;ConLD&quot;</td><td>4564</td><td>615</td><td>null</td><td>576</td><td>72471</td><td>null</td><td>null</td><td>null</td><td>null</td><td>null</td><td>null</td><td>null</td><td>null</td><td>null</td><td>null</td><td>null</td><td>null</td><td>38</td><td>32</td><td>13638</td><td>13869</td><td>null</td><td>null</td><td>null</td><td>null</td><td>null</td><td>791.0</td><td>null</td><td>null</td><td>null</td><td>null</td><td>null</td><td>null</td><td>null</td><td>1177</td><td>null</td><td>&hellip;</td><td>7931</td><td>2185</td><td>513</td><td>10629</td><td>1</td><td>0</td><td>11</td><td>0</td><td>20</td><td>8</td><td>null</td><td>49</td><td>null</td><td>2</td><td>null</td><td>null</td><td>9933</td><td>null</td><td>11</td><td>3534</td><td>null</td><td>null</td><td>null</td><td>142</td><td>142</td><td>333</td><td>0</td><td>0</td><td>0</td><td>null</td><td>null</td><td>null</td><td>560</td><td>48</td><td>14054</td><td>null</td><td>979528</td></tr></tbody></table></div>"
      ],
      "text/plain": [
       "shape: (5, 81)\n",
       "┌──────────┬────────┬────────────┬──────────┬───┬────────┬─────────┬───────────────┬───────────┐\n",
       "│ SaleType ┆ Id     ┆ MSSubClass ┆ MSZoning ┆ … ┆ MoSold ┆ YrSold  ┆ SaleCondition ┆ SalePrice │\n",
       "│ ---      ┆ ---    ┆ ---        ┆ ---      ┆   ┆ ---    ┆ ---     ┆ ---           ┆ ---       │\n",
       "│ str      ┆ i64    ┆ i64        ┆ str      ┆   ┆ i64    ┆ i64     ┆ str           ┆ i64       │\n",
       "╞══════════╪════════╪════════════╪══════════╪═══╪════════╪═════════╪═══════════════╪═══════════╡\n",
       "│ Oth      ┆ 943    ┆ 90         ┆ null     ┆ … ┆ 8      ┆ 2007    ┆ null          ┆ 150000    │\n",
       "│ ConLw    ┆ 1917   ┆ 255        ┆ null     ┆ … ┆ 15     ┆ 6024    ┆ null          ┆ 563500    │\n",
       "│ WD       ┆ 675633 ┆ 52535      ┆ null     ┆ … ┆ 5664   ┆ 1829153 ┆ null          ┆ 172228265 │\n",
       "│ Con      ┆ 1090   ┆ 180        ┆ null     ┆ … ┆ 11     ┆ 4018    ┆ null          ┆ 539200    │\n",
       "│ ConLD    ┆ 4564   ┆ 615        ┆ null     ┆ … ┆ 48     ┆ 14054   ┆ null          ┆ 979528    │\n",
       "└──────────┴────────┴────────────┴──────────┴───┴────────┴─────────┴───────────────┴───────────┘"
      ]
     },
     "execution_count": 30,
     "metadata": {},
     "output_type": "execute_result"
    }
   ],
   "source": [
    "df.head()"
   ]
  },
  {
   "cell_type": "code",
   "execution_count": null,
   "id": "02db186f-df0c-4eda-b96b-4c88c38f3d61",
   "metadata": {},
   "outputs": [],
   "source": []
  }
 ],
 "metadata": {
  "kernelspec": {
   "display_name": "Python 3 (ipykernel)",
   "language": "python",
   "name": "python3"
  },
  "language_info": {
   "codemirror_mode": {
    "name": "ipython",
    "version": 3
   },
   "file_extension": ".py",
   "mimetype": "text/x-python",
   "name": "python",
   "nbconvert_exporter": "python",
   "pygments_lexer": "ipython3",
   "version": "3.11.9"
  }
 },
 "nbformat": 4,
 "nbformat_minor": 5
}
