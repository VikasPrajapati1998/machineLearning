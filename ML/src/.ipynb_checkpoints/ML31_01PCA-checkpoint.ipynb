{
 "cells": [
  {
   "cell_type": "markdown",
   "id": "6dfdacaf-019e-4faf-85dc-9dd2942557bc",
   "metadata": {},
   "source": [
    "# **<font color=\"red\">PCA: Principal Component Analysis</font>**"
   ]
  },
  {
   "cell_type": "markdown",
   "id": "c50d255d-02ee-466f-bf69-841da6f5d7bb",
   "metadata": {},
   "source": [
    "### **Introduction**\n",
    "- Feature Extraction techniques.\n",
    "- This is an unsupervised machine-learning problem.\n",
    "- Complex technique.\n",
    "- Underlying mathematics is too complex.\n",
    "\n",
    "### **Working of PCA**\n",
    "- A match is playing on the ground and a photographer wants to capture a picture.\n",
    "    - The match is played in a 3D dimension. But the picture will be in a 2D dimension. However the distribution of data should not be changed.\n",
    "- PCA is a technique that can transform high-dimensional data into lower-dimensional data. But the distribution will be the same.\n",
    "- __Benifits:__\n",
    "    - Faster execution of algorithms.\n",
    "    - Visualization (Reduce 10D to 3D)\n",
    "- __Geometric Intuition:__\n",
    "    - <pre>\n",
    "         ________________________________________________________\n",
    "        |    No of rooms   |   No of grocery shops  |   Price    |\n",
    "        |__________________|________________________|____________|\n",
    "        |        3         |           2            |     60     |\n",
    "        |__________________|________________________|____________|\n",
    "        |        4         |           0            |    130     |\n",
    "        |__________________|________________________|____________|\n",
    "        |        5         |           6            |    170     |\n",
    "        |__________________|________________________|____________|\n",
    "        |        2         |           10           |     90     |\n",
    "        |__________________|________________________|____________|\n",
    "    </pre>\n",
    "- How to decide which column is more important for prediction.\n"
   ]
  },
  {
   "cell_type": "markdown",
   "id": "5c6b0caf-cc86-448d-ba21-9b10da2309d6",
   "metadata": {},
   "source": [
    "- ___“Principal Component Analysis (PCA) is a dimensionality reduction technique commonly used in machine learning and statistics. Its primary purpose is to transform a high-dimensional dataset into a lower-dimensional space while retaining as much of the original data’s variability as possible. In other words, PCA helps simplify complex datasets by finding a new set of orthogonal axes (principal components) along which the data points vary the most.”___\n",
    "- ![pca](../img/pca01.jpg)\n",
    "- Principal Component Analysis (PCA) has a wide range of applications across various fields due to its ability to simplify and extract meaningful information from complex datasets.\n",
    "    - ___Image Processing and Computer Vision___:\n",
    "        - Image Compression: PCA can reduce the number of pixels needed to represent an image, thus compressing it for storage and transmission.\n",
    "        - Image Denoising: By focusing on the principal components with higher variances, PCA can help remove noise from images.\n",
    "    - ___Finance and Economics___:\n",
    "        - Risk Management: PCA can help in portfolio diversification by identifying uncorrelated or weakly correlated assets.\n",
    "        - Stock Market Analysis: It can be used to extract meaningful patterns from historical stock price data.\n",
    "    - ___Biology and Genetics___:\n",
    "        - Gene Expression Analysis: PCA can uncover hidden relationships between genes and samples in large-scale gene expression datasets.\n",
    "        - Protein Structure Analysis: It can help identify dominant modes of motion in protein structures.\n",
    "    - ___Neuroscience___:\n",
    "        - Brain Imaging: PCA aids in understanding brain activity patterns by reducing high-dimensional brain imaging data while preserving significant features.\n",
    "    - ___Text Mining and NLP___:\n",
    "        - Document Clustering: PCA can help group similar documents based on their word usage patterns.\n",
    "        - Semantic Analysis: It can be used to discover meaningful relationships between words or documents.\n"
   ]
  },
  {
   "cell_type": "markdown",
   "id": "7ac59f3b-651f-4dbe-be0a-5ba58c792d33",
   "metadata": {},
   "source": [
    "### <font color=\"blue\">**How does PCA works?**</font>\n",
    "PCA transforms the original high-dimensional data into a new coordinate system defined by its principal components. The principal components are linear combinations of the original features that capture the maximum variance in the data.\n",
    "- __Steps of PCA__: \n",
    "    1. Data Preprocessing \n",
    "    2. Data Standardization \n",
    "    3. Covariance Matrix Calculation\n",
    "    4. Eigenvalue and Eigenvector Calculation \n",
    "    5. Select the Top Principal Components\n",
    "    6. Transform the Original Data\n",
    "    7. Interpret the Results\n",
    "- __PCA Applications__:\n",
    "    1. Data Visualization\n",
    "    2. Anomaly Detection\n",
    "    3. Feature Extraction\n",
    "    4. Dimensionality Reduction\n",
    "    5. Image Compression\n",
    "- __Pros__:\n",
    "    1. Dimensionality Reduction\n",
    "    2. Noise Reduction\n",
    "    3. Multicollinearity Mitigation\n",
    "    4. Computational Efficiency\n",
    "- __Cons__:\n",
    "    1. Loss of Interpretability\n",
    "    2. Curse of Dimensionality\n",
    "    3. Outliers Impact\n",
    "    4. Non-Linearity Handling"
   ]
  },
  {
   "cell_type": "markdown",
   "id": "484a1a3c-bd7d-4278-82cc-467c146dbc12",
   "metadata": {},
   "source": [
    "- When PCA fails to select the best feature then `Feature Extraction` comes into the picture.\n",
    "- <pre>\n",
    "         ________________________________________________________\n",
    "        |    No of rooms   |   No of washrooms      |   Price    |\n",
    "        |__________________|________________________|____________|\n",
    "        |        3         |           2            |     60     |\n",
    "        |__________________|________________________|____________|\n",
    "        |        4         |           3            |    130     |\n",
    "        |__________________|________________________|____________|\n",
    "        |        5         |           6            |    170     |\n",
    "        |__________________|________________________|____________|\n",
    "        |        2         |           5           |     90     |\n",
    "        |__________________|________________________|____________|\n",
    "\n",
    "                                \\ /\n",
    "                                 |\n",
    "                                 |\n",
    "                                \\|/\n",
    "                        [Feature Extraction]\n",
    "                                \\ /\n",
    "                                 |\n",
    "                                 |\n",
    "                                \\|/\n",
    "                 _______________________________\n",
    "                |    Size of Flat  |   Price    |\n",
    "                |__________________|____________|\n",
    "                |        5         |     60     |\n",
    "                |__________________|____________|\n",
    "                |        7         |    130     |\n",
    "                |__________________|____________|\n",
    "                |        10        |    170     |\n",
    "                |__________________|____________|\n",
    "                |        8         |     90     |\n",
    "                |__________________|____________|\n",
    "    </pre>\n",
    "    "
   ]
  },
  {
   "cell_type": "code",
   "execution_count": null,
   "id": "5218ea73-6125-465b-9ac7-a1f1fcc3d27a",
   "metadata": {},
   "outputs": [],
   "source": []
  }
 ],
 "metadata": {
  "kernelspec": {
   "display_name": "Python 3 (ipykernel)",
   "language": "python",
   "name": "python3"
  },
  "language_info": {
   "codemirror_mode": {
    "name": "ipython",
    "version": 3
   },
   "file_extension": ".py",
   "mimetype": "text/x-python",
   "name": "python",
   "nbconvert_exporter": "python",
   "pygments_lexer": "ipython3",
   "version": "3.11.9"
  }
 },
 "nbformat": 4,
 "nbformat_minor": 5
}
