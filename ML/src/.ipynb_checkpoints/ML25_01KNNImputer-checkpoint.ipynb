{
 "cells": [
  {
   "cell_type": "markdown",
   "id": "007879a4-12d4-410e-8f83-1177755ea363",
   "metadata": {},
   "source": [
    "# **<ins style=\"color:aqua\">Feature Engineering</ins>**\n",
    "## **<ins style=\"color:green\">Handling Missing Values</ins>**\n",
    "1. ### **<ins style=\"color:red\">(CCA : Complete Case Analysis)</ins>**\n",
    "   - Remove Hole Row in which NaN value present.\n",
    "   - Data missing must be random.\n",
    "   - Complete Case Analysis(CCA), also called \"List-Wise Deletion\" of cases, consists in discarding observations(Row) where values in any of the variables(Column) are missing.\n",
    "   - Complete Case Analysis means literally analyzing only those observations for which there is information in all of the variables in the dataset.\n",
    "   - __Assumption For CCA:__ MCAR : Missing Completely at Random\n",
    "   - __Advantage__ :\n",
    "     - Easy to implement as no data manipulation required.\n",
    "     - Preserves variable distribution (if data is MCAR), then the distribution of the variables of the reduced dataset should match the distribution in the original dataset.\n",
    "   - __Disadvantage__:\n",
    "     - It can exclude a large fraction of the original dataset (If mising data is abundant).\n",
    "     - Excluded observations could be informative for the analysis (if data is not missing at random).\n",
    "     - When using our models in production, the model will not know how to handle missing data.\n",
    "   - __When to use CCA.__\n",
    "     - MCAR : Missing Completely At Random\n",
    "     - Percentage of the Missing data in column should be high. If percentage of missing data in a column is low then do not apply CCA.\n",
    "\n",
    "3. ### **<ins style=\"color:red\">Impute (Fill NaN Value)</ins>**\n",
    "   - #### **Univariate** : _SimpleImputer_ Class Present in Scikit Learn for the _Univariate_.\n",
    "   - If in a column any missing value is present then fill it using the remain data present in that column.\n",
    "     - <ins style=\"color:blue\"> __Numerical Type Column__ </ins>\n",
    "       - Method to fill the Numerical Columns Missing Values.\n",
    "         - Mean\n",
    "         - Median\n",
    "         - Random Value\n",
    "         - End of Distribution Value\n",
    "     - <ins style=\"color:blue\"> __Categorical Type Column__ </ins>\n",
    "       - Method to fill the Categorical Columns Missing Values.\n",
    "         - Mode\n",
    "         - Missing Word\n",
    "   - #### **Multivariate**\n",
    "   - If in a column any missing value is present then fill it using the data of all other columns.\n",
    "     - __KNN Imputer__ Method\n",
    "     - __Iterative Imputer__ Method\n",
    "- __Missing Indicator__"
   ]
  },
  {
   "cell_type": "markdown",
   "id": "7749bd2e-8e65-44a5-9bc9-5be065e470e7",
   "metadata": {},
   "source": [
    "# <b style=\"color:aqua\">Multivariate Imputation Handling Missing Data</b>\n",
    "## <b style=\"color:green\">KNN Imputer</b>\n",
    "- `class sklearn.impute.KNNImputer(*, missing_values=nan, n_neighbors=5, weights='uniform', metric='nan_euclidean', copy=True, add_indicator=False, keep_empty_features=False)`\n",
    "- Fill the missing value using the data present in other columns.\n",
    "- Fill NaN value with that row's value whose other column's value are matches to it.\n",
    "- It can be find using __Euclidean Distance__ formula.\n",
    "- If value of __K__ in __KNN__ is 2 then fill NaN value with two neighbours.  \\\n",
    "  If value of __K__ in __KNN__ is __n__ then fill NaN value with __n__ neighbours.\n",
    "- First find the K nearest neighbour using calculate _Euclidean Distance_ .\n",
    "- Find the value and get mean.\n",
    "- **Euclidean_Distance Formula :**  \\\n",
    "  `dist(x, y) = sqrt((x1-x2)**2 + (y1-y2)**2)`\n",
    "- We use **Nan_Euclidean_Distance:** \\\n",
    "  `dist(x,y) = sqrt(weight * sq. distance from present coordinates)` where, _weight = Total No. of coordinates / No. of present coordinates_\n",
    "- `sklearn.metrics.pairwise.nan_euclidean_distances(X, Y=None, *, squared=False, missing_values=nan, copy=True)`\n",
    "- __Pors__:\n",
    "  - It gives accurate result.\n",
    "- __Cons__:\n",
    "  - More number of calculation.\n",
    "  - It is time taken problem.\n",
    "  - Deploy hole training set on server.\n",
    "  - Consume more memory and decrease speed."
   ]
  },
  {
   "cell_type": "code",
   "execution_count": 1,
   "id": "271c5a26-4a91-43ff-a4a8-0ce70cf705de",
   "metadata": {},
   "outputs": [],
   "source": [
    "import numpy as np\n",
    "import pandas as pd\n",
    "\n",
    "from sklearn.model_selection import train_test_split\n",
    "from sklearn.impute import KNNImputer, SimpleImputer\n",
    "from sklearn.linear_model import LogisticRegression\n",
    "\n",
    "from sklearn.metrics import accuracy_score"
   ]
  },
  {
   "cell_type": "code",
   "execution_count": 2,
   "id": "8f61814d-cbbc-43f8-9fdc-5eef412b27a0",
   "metadata": {},
   "outputs": [
    {
     "data": {
      "text/html": [
       "<div>\n",
       "<style scoped>\n",
       "    .dataframe tbody tr th:only-of-type {\n",
       "        vertical-align: middle;\n",
       "    }\n",
       "\n",
       "    .dataframe tbody tr th {\n",
       "        vertical-align: top;\n",
       "    }\n",
       "\n",
       "    .dataframe thead th {\n",
       "        text-align: right;\n",
       "    }\n",
       "</style>\n",
       "<table border=\"1\" class=\"dataframe\">\n",
       "  <thead>\n",
       "    <tr style=\"text-align: right;\">\n",
       "      <th></th>\n",
       "      <th>Age</th>\n",
       "      <th>Pclass</th>\n",
       "      <th>Fare</th>\n",
       "      <th>Survived</th>\n",
       "    </tr>\n",
       "  </thead>\n",
       "  <tbody>\n",
       "    <tr>\n",
       "      <th>0</th>\n",
       "      <td>22.0</td>\n",
       "      <td>3</td>\n",
       "      <td>7.2500</td>\n",
       "      <td>0</td>\n",
       "    </tr>\n",
       "    <tr>\n",
       "      <th>1</th>\n",
       "      <td>38.0</td>\n",
       "      <td>1</td>\n",
       "      <td>71.2833</td>\n",
       "      <td>1</td>\n",
       "    </tr>\n",
       "    <tr>\n",
       "      <th>2</th>\n",
       "      <td>26.0</td>\n",
       "      <td>3</td>\n",
       "      <td>7.9250</td>\n",
       "      <td>1</td>\n",
       "    </tr>\n",
       "    <tr>\n",
       "      <th>3</th>\n",
       "      <td>35.0</td>\n",
       "      <td>1</td>\n",
       "      <td>53.1000</td>\n",
       "      <td>1</td>\n",
       "    </tr>\n",
       "    <tr>\n",
       "      <th>4</th>\n",
       "      <td>35.0</td>\n",
       "      <td>3</td>\n",
       "      <td>8.0500</td>\n",
       "      <td>0</td>\n",
       "    </tr>\n",
       "    <tr>\n",
       "      <th>5</th>\n",
       "      <td>NaN</td>\n",
       "      <td>3</td>\n",
       "      <td>8.4583</td>\n",
       "      <td>0</td>\n",
       "    </tr>\n",
       "    <tr>\n",
       "      <th>6</th>\n",
       "      <td>54.0</td>\n",
       "      <td>1</td>\n",
       "      <td>51.8625</td>\n",
       "      <td>0</td>\n",
       "    </tr>\n",
       "  </tbody>\n",
       "</table>\n",
       "</div>"
      ],
      "text/plain": [
       "    Age  Pclass     Fare  Survived\n",
       "0  22.0       3   7.2500         0\n",
       "1  38.0       1  71.2833         1\n",
       "2  26.0       3   7.9250         1\n",
       "3  35.0       1  53.1000         1\n",
       "4  35.0       3   8.0500         0\n",
       "5   NaN       3   8.4583         0\n",
       "6  54.0       1  51.8625         0"
      ]
     },
     "execution_count": 2,
     "metadata": {},
     "output_type": "execute_result"
    }
   ],
   "source": [
    "df = pd.read_csv(\"../data/csvData/train.csv\")[['Age', 'Pclass', 'Fare', 'Survived']]\n",
    "df.head(7)"
   ]
  },
  {
   "cell_type": "code",
   "execution_count": 3,
   "id": "19914ad9-42d4-4002-9759-c4f0b85f8f7c",
   "metadata": {},
   "outputs": [
    {
     "data": {
      "text/plain": [
       "Age         19.86532\n",
       "Pclass       0.00000\n",
       "Fare         0.00000\n",
       "Survived     0.00000\n",
       "dtype: float64"
      ]
     },
     "execution_count": 3,
     "metadata": {},
     "output_type": "execute_result"
    }
   ],
   "source": [
    "df.isnull().mean()*100"
   ]
  },
  {
   "cell_type": "code",
   "execution_count": 4,
   "id": "03e3073d-be34-4087-ba26-0804958c4ab7",
   "metadata": {},
   "outputs": [],
   "source": [
    "X = df.drop(columns=['Survived'])\n",
    "y = df['Survived']"
   ]
  },
  {
   "cell_type": "code",
   "execution_count": 5,
   "id": "48a6f7c0-28a0-4a92-803c-27fac2854b27",
   "metadata": {},
   "outputs": [
    {
     "data": {
      "text/html": [
       "<div>\n",
       "<style scoped>\n",
       "    .dataframe tbody tr th:only-of-type {\n",
       "        vertical-align: middle;\n",
       "    }\n",
       "\n",
       "    .dataframe tbody tr th {\n",
       "        vertical-align: top;\n",
       "    }\n",
       "\n",
       "    .dataframe thead th {\n",
       "        text-align: right;\n",
       "    }\n",
       "</style>\n",
       "<table border=\"1\" class=\"dataframe\">\n",
       "  <thead>\n",
       "    <tr style=\"text-align: right;\">\n",
       "      <th></th>\n",
       "      <th>Age</th>\n",
       "      <th>Pclass</th>\n",
       "      <th>Fare</th>\n",
       "    </tr>\n",
       "  </thead>\n",
       "  <tbody>\n",
       "    <tr>\n",
       "      <th>30</th>\n",
       "      <td>40.0</td>\n",
       "      <td>1</td>\n",
       "      <td>27.7208</td>\n",
       "    </tr>\n",
       "    <tr>\n",
       "      <th>10</th>\n",
       "      <td>4.0</td>\n",
       "      <td>3</td>\n",
       "      <td>16.7000</td>\n",
       "    </tr>\n",
       "    <tr>\n",
       "      <th>873</th>\n",
       "      <td>47.0</td>\n",
       "      <td>3</td>\n",
       "      <td>9.0000</td>\n",
       "    </tr>\n",
       "    <tr>\n",
       "      <th>182</th>\n",
       "      <td>9.0</td>\n",
       "      <td>3</td>\n",
       "      <td>31.3875</td>\n",
       "    </tr>\n",
       "    <tr>\n",
       "      <th>876</th>\n",
       "      <td>20.0</td>\n",
       "      <td>3</td>\n",
       "      <td>9.8458</td>\n",
       "    </tr>\n",
       "  </tbody>\n",
       "</table>\n",
       "</div>"
      ],
      "text/plain": [
       "      Age  Pclass     Fare\n",
       "30   40.0       1  27.7208\n",
       "10    4.0       3  16.7000\n",
       "873  47.0       3   9.0000\n",
       "182   9.0       3  31.3875\n",
       "876  20.0       3   9.8458"
      ]
     },
     "execution_count": 5,
     "metadata": {},
     "output_type": "execute_result"
    }
   ],
   "source": [
    "X_train, X_test, y_train, y_test = train_test_split(X, y, test_size=0.2, random_state=2)\n",
    "X_train.head()"
   ]
  },
  {
   "cell_type": "markdown",
   "id": "fc94876b-5fbb-45a7-a843-a273021ffd64",
   "metadata": {},
   "source": [
    "`class sklearn.impute.KNNImputer(*, missing_values=nan, n_neighbors=5, weights='uniform', metric='nan_euclidean', copy=True, add_indicator=False, keep_empty_features=False)`\n",
    "- __missing_values__ : _int, float, str, np.nan or None_, default=np.nan\n",
    "- __n_neighbors__ : _int_, default=5\n",
    "- __weights__ : _{‘uniform’, ‘distance’} or callable_, default=’uniform’\n",
    "- __metric__ : _{‘nan_euclidean’} or callable_, default=’nan_euclidean’\n",
    "- __copy__ : _bool_, default=True\n",
    "- __add_indicator__ : _bool_, default=False\n",
    "- __keep_empty_features__ : _bool_, default=False"
   ]
  },
  {
   "cell_type": "code",
   "execution_count": 6,
   "id": "e748d42c-a02e-444f-99e8-b176e3ea77f5",
   "metadata": {},
   "outputs": [
    {
     "data": {
      "text/plain": [
       "((712, 3), (179, 3))"
      ]
     },
     "execution_count": 6,
     "metadata": {},
     "output_type": "execute_result"
    }
   ],
   "source": [
    "knn = KNNImputer(n_neighbors=3, weights='distance')\n",
    "X_train_trf = knn.fit_transform(X_train)\n",
    "X_test_trf = knn.transform(X_test)\n",
    "X_train_trf.shape, X_test_trf.shape"
   ]
  },
  {
   "cell_type": "code",
   "execution_count": 7,
   "id": "2f29ebb8-af57-4c82-96f9-82cae4698732",
   "metadata": {},
   "outputs": [
    {
     "data": {
      "text/plain": [
       "array([[ 40.        ,   1.        ,  27.7208    ],\n",
       "       [  4.        ,   3.        ,  16.7       ],\n",
       "       [ 47.        ,   3.        ,   9.        ],\n",
       "       ...,\n",
       "       [ 71.        ,   1.        ,  49.5042    ],\n",
       "       [ 32.66666667,   1.        , 221.7792    ],\n",
       "       [ 49.76289518,   1.        ,  25.925     ]])"
      ]
     },
     "execution_count": 7,
     "metadata": {},
     "output_type": "execute_result"
    }
   ],
   "source": [
    "X_train_trf"
   ]
  },
  {
   "cell_type": "code",
   "execution_count": 8,
   "id": "cc598073-eedb-4ec4-8952-f8b95a4f3d5e",
   "metadata": {},
   "outputs": [
    {
     "data": {
      "text/html": [
       "<div>\n",
       "<style scoped>\n",
       "    .dataframe tbody tr th:only-of-type {\n",
       "        vertical-align: middle;\n",
       "    }\n",
       "\n",
       "    .dataframe tbody tr th {\n",
       "        vertical-align: top;\n",
       "    }\n",
       "\n",
       "    .dataframe thead th {\n",
       "        text-align: right;\n",
       "    }\n",
       "</style>\n",
       "<table border=\"1\" class=\"dataframe\">\n",
       "  <thead>\n",
       "    <tr style=\"text-align: right;\">\n",
       "      <th></th>\n",
       "      <th>Age</th>\n",
       "      <th>Pclass</th>\n",
       "      <th>Fare</th>\n",
       "    </tr>\n",
       "  </thead>\n",
       "  <tbody>\n",
       "    <tr>\n",
       "      <th>0</th>\n",
       "      <td>40.000000</td>\n",
       "      <td>1.0</td>\n",
       "      <td>27.7208</td>\n",
       "    </tr>\n",
       "    <tr>\n",
       "      <th>1</th>\n",
       "      <td>4.000000</td>\n",
       "      <td>3.0</td>\n",
       "      <td>16.7000</td>\n",
       "    </tr>\n",
       "    <tr>\n",
       "      <th>2</th>\n",
       "      <td>47.000000</td>\n",
       "      <td>3.0</td>\n",
       "      <td>9.0000</td>\n",
       "    </tr>\n",
       "    <tr>\n",
       "      <th>3</th>\n",
       "      <td>9.000000</td>\n",
       "      <td>3.0</td>\n",
       "      <td>31.3875</td>\n",
       "    </tr>\n",
       "    <tr>\n",
       "      <th>4</th>\n",
       "      <td>20.000000</td>\n",
       "      <td>3.0</td>\n",
       "      <td>9.8458</td>\n",
       "    </tr>\n",
       "    <tr>\n",
       "      <th>...</th>\n",
       "      <td>...</td>\n",
       "      <td>...</td>\n",
       "      <td>...</td>\n",
       "    </tr>\n",
       "    <tr>\n",
       "      <th>707</th>\n",
       "      <td>30.000000</td>\n",
       "      <td>3.0</td>\n",
       "      <td>8.6625</td>\n",
       "    </tr>\n",
       "    <tr>\n",
       "      <th>708</th>\n",
       "      <td>26.151292</td>\n",
       "      <td>3.0</td>\n",
       "      <td>8.7125</td>\n",
       "    </tr>\n",
       "    <tr>\n",
       "      <th>709</th>\n",
       "      <td>71.000000</td>\n",
       "      <td>1.0</td>\n",
       "      <td>49.5042</td>\n",
       "    </tr>\n",
       "    <tr>\n",
       "      <th>710</th>\n",
       "      <td>32.666667</td>\n",
       "      <td>1.0</td>\n",
       "      <td>221.7792</td>\n",
       "    </tr>\n",
       "    <tr>\n",
       "      <th>711</th>\n",
       "      <td>49.762895</td>\n",
       "      <td>1.0</td>\n",
       "      <td>25.9250</td>\n",
       "    </tr>\n",
       "  </tbody>\n",
       "</table>\n",
       "<p>712 rows × 3 columns</p>\n",
       "</div>"
      ],
      "text/plain": [
       "           Age  Pclass      Fare\n",
       "0    40.000000     1.0   27.7208\n",
       "1     4.000000     3.0   16.7000\n",
       "2    47.000000     3.0    9.0000\n",
       "3     9.000000     3.0   31.3875\n",
       "4    20.000000     3.0    9.8458\n",
       "..         ...     ...       ...\n",
       "707  30.000000     3.0    8.6625\n",
       "708  26.151292     3.0    8.7125\n",
       "709  71.000000     1.0   49.5042\n",
       "710  32.666667     1.0  221.7792\n",
       "711  49.762895     1.0   25.9250\n",
       "\n",
       "[712 rows x 3 columns]"
      ]
     },
     "execution_count": 8,
     "metadata": {},
     "output_type": "execute_result"
    }
   ],
   "source": [
    "pd.DataFrame(X_train_trf, columns=X_train.columns)"
   ]
  },
  {
   "cell_type": "code",
   "execution_count": 9,
   "id": "b9188ef7-73da-4516-9dc8-3c966012828c",
   "metadata": {},
   "outputs": [
    {
     "data": {
      "text/plain": [
       "71.50837988826815"
      ]
     },
     "execution_count": 9,
     "metadata": {},
     "output_type": "execute_result"
    }
   ],
   "source": [
    "lr = LogisticRegression()\n",
    "lr.fit(X_train_trf, y_train)\n",
    "y_pred = lr.predict(X_test_trf)\n",
    "\n",
    "accuracy_score(y_test, y_pred)*100"
   ]
  },
  {
   "cell_type": "code",
   "execution_count": 10,
   "id": "93949de5-9a39-4c6c-9014-e3df6cddb9f9",
   "metadata": {},
   "outputs": [],
   "source": [
    "# Comparision with SimpleImputer --> mean\n",
    "si = SimpleImputer()\n",
    "X_train_trf2 = si.fit_transform(X_train)\n",
    "X_test_trf2 = si.transform(X_test)"
   ]
  },
  {
   "cell_type": "code",
   "execution_count": 11,
   "id": "8fb03c07-c1a2-44e8-acd1-7d00a53c51f3",
   "metadata": {},
   "outputs": [
    {
     "data": {
      "text/plain": [
       "69.27374301675978"
      ]
     },
     "execution_count": 11,
     "metadata": {},
     "output_type": "execute_result"
    }
   ],
   "source": [
    "lr = LogisticRegression()\n",
    "lr.fit(X_train_trf2, y_train)\n",
    "y_pred2 = lr.predict(X_test_trf2)\n",
    "accuracy_score(y_test, y_pred2)*100"
   ]
  },
  {
   "cell_type": "code",
   "execution_count": null,
   "id": "9a79ba71-7f5d-46b1-8ffa-e56bfefb8fbf",
   "metadata": {},
   "outputs": [],
   "source": []
  }
 ],
 "metadata": {
  "kernelspec": {
   "display_name": "Python 3 (ipykernel)",
   "language": "python",
   "name": "python3"
  },
  "language_info": {
   "codemirror_mode": {
    "name": "ipython",
    "version": 3
   },
   "file_extension": ".py",
   "mimetype": "text/x-python",
   "name": "python",
   "nbconvert_exporter": "python",
   "pygments_lexer": "ipython3",
   "version": "3.10.11"
  }
 },
 "nbformat": 4,
 "nbformat_minor": 5
}
