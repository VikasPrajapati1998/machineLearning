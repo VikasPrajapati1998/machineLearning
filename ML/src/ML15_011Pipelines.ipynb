{
 "cells": [
  {
   "cell_type": "markdown",
   "id": "b3b5eb91-21a0-484a-889a-d0e29dcd32ad",
   "metadata": {},
   "source": [
    "## **Production Code**"
   ]
  },
  {
   "cell_type": "code",
   "execution_count": 1,
   "id": "fcaccfd3-f8e2-4981-9dce-580d5b55bd4f",
   "metadata": {},
   "outputs": [],
   "source": [
    "import pickle\n",
    "import numpy as np"
   ]
  },
  {
   "cell_type": "code",
   "execution_count": 2,
   "id": "1a6c2168-a365-47fc-9d5b-5af41f20f576",
   "metadata": {},
   "outputs": [],
   "source": [
    "ohe_sex = pickle.load(open('../models/ohe_sex.pkl', 'rb'))\n",
    "ohe_embarked = pickle.load(open('../models/ohe_embarked.pkl', 'rb'))\n",
    "clf = pickle.load(open('../models/clf.pkl', 'rb'))"
   ]
  },
  {
   "cell_type": "code",
   "execution_count": 3,
   "id": "607e6ce9-61dd-456f-8cbe-3416a71f0786",
   "metadata": {},
   "outputs": [
    {
     "data": {
      "text/plain": [
       "array([[2, 'male', 31.0, 0, 0, 10.5, 'S']], dtype=object)"
      ]
     },
     "execution_count": 3,
     "metadata": {},
     "output_type": "execute_result"
    }
   ],
   "source": [
    "# Assume user input\n",
    "# Pclass/gender/age/SibSp/Parch/Fare/Embarked\n",
    "test_input = np.array([2, 'male', 31.0, 0, 0, 10.5, 'S'], dtype=object).reshape(1, 7)\n",
    "test_input"
   ]
  },
  {
   "cell_type": "code",
   "execution_count": 4,
   "id": "ac095d54-73c7-4a34-8264-d0882d5f6178",
   "metadata": {},
   "outputs": [
    {
     "name": "stderr",
     "output_type": "stream",
     "text": [
      "/home/arjun/anaconda3/envs/Project_01/lib/python3.9/site-packages/sklearn/base.py:439: UserWarning: X does not have valid feature names, but OneHotEncoder was fitted with feature names\n",
      "  warnings.warn(\n"
     ]
    },
    {
     "data": {
      "text/plain": [
       "array([[0., 1.]])"
      ]
     },
     "execution_count": 4,
     "metadata": {},
     "output_type": "execute_result"
    }
   ],
   "source": [
    "test_input_sex = ohe_sex.transform(test_input[:, 1].reshape(1, 1))\n",
    "test_input_sex"
   ]
  },
  {
   "cell_type": "code",
   "execution_count": 5,
   "id": "4f6bdc26-9a7f-4450-8cf7-65ebaeb05dc3",
   "metadata": {},
   "outputs": [
    {
     "data": {
      "text/plain": [
       "array([[0., 0., 1.]])"
      ]
     },
     "execution_count": 5,
     "metadata": {},
     "output_type": "execute_result"
    }
   ],
   "source": [
    "test_input_embarked = ohe_embarked.transform(test_input[:, -1].reshape(1, 1))\n",
    "test_input_embarked"
   ]
  },
  {
   "cell_type": "code",
   "execution_count": 6,
   "id": "0999a977-b56c-46c0-a96f-9165d7da27e1",
   "metadata": {},
   "outputs": [
    {
     "data": {
      "text/plain": [
       "array([[31.0]], dtype=object)"
      ]
     },
     "execution_count": 6,
     "metadata": {},
     "output_type": "execute_result"
    }
   ],
   "source": [
    "test_input_age = test_input[:,2].reshape(1, 1)\n",
    "test_input_age"
   ]
  },
  {
   "cell_type": "code",
   "execution_count": 7,
   "id": "a3d6b95e-33e3-4a48-b210-4f6ce684336e",
   "metadata": {},
   "outputs": [
    {
     "data": {
      "text/plain": [
       "array([[2, 0, 0, 10.5, 31.0, 0.0, 1.0, 0.0, 0.0, 1.0]], dtype=object)"
      ]
     },
     "execution_count": 7,
     "metadata": {},
     "output_type": "execute_result"
    }
   ],
   "source": [
    "test_input_transformed = np.concatenate((test_input[:, [0, 3, 4, 5]], test_input_age, test_input_sex, test_input_embarked), axis=1)\n",
    "test_input_transformed"
   ]
  },
  {
   "cell_type": "code",
   "execution_count": 8,
   "id": "812ea5cf-697e-4afa-ad46-238b058a4313",
   "metadata": {},
   "outputs": [
    {
     "name": "stderr",
     "output_type": "stream",
     "text": [
      "/home/arjun/anaconda3/envs/Project_01/lib/python3.9/site-packages/sklearn/base.py:439: UserWarning: X does not have valid feature names, but DecisionTreeClassifier was fitted with feature names\n",
      "  warnings.warn(\n"
     ]
    },
    {
     "data": {
      "text/plain": [
       "array([1.])"
      ]
     },
     "execution_count": 8,
     "metadata": {},
     "output_type": "execute_result"
    }
   ],
   "source": [
    "y = clf.predict(test_input_transformed)\n",
    "y"
   ]
  },
  {
   "cell_type": "code",
   "execution_count": null,
   "id": "a43d03ca-ebcc-4050-95d0-a264f81cd1f8",
   "metadata": {},
   "outputs": [],
   "source": []
  }
 ],
 "metadata": {
  "kernelspec": {
   "display_name": "Python 3",
   "language": "python",
   "name": "python3"
  },
  "language_info": {
   "codemirror_mode": {
    "name": "ipython",
    "version": 3
   },
   "file_extension": ".py",
   "mimetype": "text/x-python",
   "name": "python",
   "nbconvert_exporter": "python",
   "pygments_lexer": "ipython3",
   "version": "3.9.16"
  }
 },
 "nbformat": 4,
 "nbformat_minor": 5
}
