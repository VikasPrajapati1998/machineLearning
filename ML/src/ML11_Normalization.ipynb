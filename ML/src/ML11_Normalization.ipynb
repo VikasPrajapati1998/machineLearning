{
 "cells": [
  {
   "cell_type": "markdown",
   "id": "f72473c7-5de8-40f8-8f27-50e28eb92b87",
   "metadata": {},
   "source": [
    "### **<ins style=\"color:blue\">StandardScaler : Code</ins>**"
   ]
  },
  {
   "cell_type": "raw",
   "id": "b866f38b-18c4-41bc-bcca-9a23cacbff9e",
   "metadata": {},
   "source": [
    "from sklearn.preprocessing import StandardScaler\n",
    "scaler = StandardScaler()\n",
    "\n",
    "# fit the scaler to the train set, it will learn the parameters\n",
    "scaler.fit(X_train) # mean of X_train\n",
    "\n",
    "# transform train and test sets\n",
    "X_train_scaled = pd.DataFrame(scaler.transform(X_train), columns=X_train.columns)\n",
    "X_test_scaled = pd.DataFrame(scaler.transform(X_test), columns=X_test.columns)\n",
    "type(X_train_scaled), type(X_test_scaled)"
   ]
  },
  {
   "cell_type": "markdown",
   "id": "69c492f8-e01e-4d13-ac48-4d2e30f4323b",
   "metadata": {},
   "source": [
    "### **<ins style=\"color:blue\">MinMaxScaler : Code</ins>**"
   ]
  },
  {
   "cell_type": "raw",
   "id": "cdabbb77-3f5b-4fae-9379-1e28f996a03f",
   "metadata": {},
   "source": [
    "from sklearn.preprocessing import MinMaxScaler\n",
    "scaler = MinMaxScaler()\n",
    "# fit the scaler to the train set, it will learn the parameters\n",
    "scaler.fit(X_train) # get min and max\n",
    "\n",
    "# transform train and test sets\n",
    "X_train_scaled = pd.DataFrame(scaler.transform(X_train), columns=X_train.columns)\n",
    "X_test_scaled = pd.DataFrame(scaler.transform(X_test), columns=X_test.columns)\n",
    "type(X_train_scaled), type(X_test_scaled)"
   ]
  },
  {
   "cell_type": "markdown",
   "id": "817d01d1-9259-4e0c-b83b-81a7f0af5945",
   "metadata": {},
   "source": [
    "## **<ins style=\"color:red\">Mean Normalization</ins>**\n",
    "- `Xi' = (Xi - Xmean) / (Xmax - Xmin)`\n",
    "- Use where to use centered data.\n",
    "- No class available for Mean Normalization. You do it by yourself."
   ]
  },
  {
   "cell_type": "markdown",
   "id": "8535481d-9397-4de0-ba12-60f997d1b442",
   "metadata": {},
   "source": [
    "## <ins style=\"color:red\">**MaxAbsScaling**</ins>\n",
    "- `Xi' = Xi / |Xmax|`\n",
    "- Useful in `Sparse Data` (max 0s)\n",
    "- MaxAbsScaling Class available in sklearn."
   ]
  },
  {
   "cell_type": "markdown",
   "id": "46bf73c7-a21f-4520-ba3a-beced4682114",
   "metadata": {},
   "source": [
    "## <ins style=\"color:red\">**Robust Scaling**</ins>\n",
    "- `Xi' = (Xi - Xmedian) / IQR{75% - 25%}`\n",
    "- RobustScaler Class available in sklearn.\n",
    "- Robust to Outliers (If there is more outlier.)"
   ]
  },
  {
   "cell_type": "markdown",
   "id": "eee4fe4f-f362-4362-a1c6-3b54e46e4caa",
   "metadata": {},
   "source": [
    "## **<ins style=\"color:green\">Normalization vs Standardization</ins>**"
   ]
  },
  {
   "cell_type": "markdown",
   "id": "cd6b115c-d9ce-4791-ae56-9fd9bc952180",
   "metadata": {},
   "source": [
    "1. Is feature scaling required.\n",
    "   - No need of feature scaling with Decision Tree.\n",
    "2. Most feature scaling use Standardization.\n",
    "3. Use MinMaxScaling when you know min and max value of data.\n",
    "4. If there is outliers then use Robust Scaling.\n",
    "5. If data is Sparce Data (number of zeros high) then use MaxAbsScaling.\n",
    "6. If nothing is given then use Standardization."
   ]
  },
  {
   "cell_type": "code",
   "execution_count": null,
   "id": "ac216879-3575-412c-bf7e-77f84479891e",
   "metadata": {},
   "outputs": [],
   "source": []
  }
 ],
 "metadata": {
  "kernelspec": {
   "display_name": "Python 3",
   "language": "python",
   "name": "python3"
  },
  "language_info": {
   "codemirror_mode": {
    "name": "ipython",
    "version": 3
   },
   "file_extension": ".py",
   "mimetype": "text/x-python",
   "name": "python",
   "nbconvert_exporter": "python",
   "pygments_lexer": "ipython3",
   "version": "3.9.16"
  }
 },
 "nbformat": 4,
 "nbformat_minor": 5
}
