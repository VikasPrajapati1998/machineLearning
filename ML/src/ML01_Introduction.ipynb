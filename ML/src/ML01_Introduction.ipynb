{
 "cells": [
  {
   "cell_type": "markdown",
   "id": "e43904eb-e348-40e9-89af-05f6f2d1c71f",
   "metadata": {},
   "source": [
    "### **<h2 style=\"color:red\">Machine Learning</h2>**\n",
    "- #### **<h3 style=\"color:green\">Supervised Learning</h3>**\n",
    "  - Supervised learning have attributes and label both.\n",
    "  - Types of Supervised Learning\n",
    "    - **Regression** : Label is numerical data. eg. Age = [12, 34, 65, 29]\n",
    "    - **Classifiction** : Label is categorical data. eg. Gender = [M, F, M, M, F]\n",
    "- #### **<h3 style=\"color:green\">Unsupervised Learning</h3>**\n",
    "  - Unsupervised learning have attributes but label is missing.\n",
    "  - **Clustering**\n",
    "    - Grouping\n",
    "  - **Dimensionality Reduction**\n",
    "    - Remove stra columns, which is not usefull or which is highly correlated to other columns.\n",
    "    - Feature extraction perform (PCA).\n",
    "    - Visualization : Some data have higher dimension, we can not plot the graph of such data. So we use Dimension Reduction and reduce its dimension 2D or 3D and plot the graph.\n",
    "  - **Anamoly Detection**\n",
    "    - Detect outlier or something in appropriate.\n",
    "  - **Association**\n",
    "    - See the strong association of one dataset to other dataset.\n",
    "- #### **<h3 style=\"color:green\">Semi Supervised Learning</h3>**\n",
    "  - Partially Supervised and Partially Unsupervised.\n",
    "- #### **<h3 style=\"color:green\">Reinforcement Learning</h3>**\n",
    "  - No data, but learning by its mistake.\n",
    "  - Learning by punishment and reward."
   ]
  },
  {
   "attachments": {},
   "cell_type": "markdown",
   "id": "bf971361-5dd3-43f5-84fa-00726b475c54",
   "metadata": {},
   "source": [
    "### **<h4 style=\"color:red\">Batch ML Vs Online ML</h4>**\n",
    "- Both Batch and Online ML is use to deploy your project on server.\n",
    "- #### **Batch ML**\n",
    "  - Use all dataset to train model.\n",
    "  - No split of train data and test data. Use different dataset to test it.\n",
    "  - Update dataset with new data and again train and deploy the model on server. This process will repeat in a given time interval.\n",
    "  - **Disadvantages of Batch ML**\n",
    "    - Dataset will increate day by day\n",
    "    - Hardware Limitation\n",
    "    - Availability\n",
    "- #### **Online ML**\n",
    "  -  Start with small dataset and train model.\n",
    "  -  Model update auto using the new data online.\n",
    "  -  No need to update in a time interval it update itself using new dataset.\n",
    " \n",
    "- ### **Where to use Batch and Online ML**\n",
    "  - __Concept Drift__\n",
    "    - Cost Effective\n",
    "    - Faster Solution\n",
    "\n",
    "- **`RIVER` is a python library which can be use for online learning.**\n",
    "- **`VOWPAL WABBIT` is useful for reinforcement learning but also useful for online learning.**\n",
    "\n",
    "- #### **Learning Rate**\n",
    "  - Set a correct learning rate.\n",
    "- ### **Out of Core Learning**\n",
    "  - if Dataset is too big and can not be load in memory then use online learning.\n",
    "- **Disadvantage**\n",
    "  - Tricky to use\n",
    "  - Risky\n",
    "\n",
    "#### **Difference b/w Batch ML vs Online ML**\n",
    "- **Offline Learning(Batch Learning)**\n",
    "  - Less complex as model is constant.\n",
    "  - Fewer computations, single time batch-based training.\n",
    "  - Easier to implement\n",
    "  - Image classification or anything related to Machine Learning - Where data patterns remains constant without sudden concept drifts.\n",
    "- **Online Learning**\n",
    "  - Dynamic complexity as the model keeps evolving over time\n",
    "  - Continuous data ingestion result in consequent model refinement computations\n",
    "  - Difficult to implement and manage\n",
    "  - Used in finance, economics, health where new data patterns are constantly emerging\n",
    "  - Active research/New project tools: E.g. MOA, SAMOA, scikit-multiflow, streamDM \n",
    "\n",
    "\n",
    "\n",
    "#### **Online Machine Learning**"
   ]
  },
  {
   "cell_type": "code",
   "execution_count": 32,
   "id": "c4eaaf31-c6ff-4a6e-b2bb-117cc55c0ca3",
   "metadata": {},
   "outputs": [
    {
     "name": "stdout",
     "output_type": "stream",
     "text": [
      "0.001018524169921875\n"
     ]
    }
   ],
   "source": [
    "import numpy as np\n",
    "from sklearn import linear_model\n",
    "import time\n",
    "\n",
    "n_samples, n_features = 1, 500\n",
    "y = np.random.randn(n_samples)\n",
    "x = np.random.randn(n_samples, n_features)\n",
    "\n",
    "clf = linear_model.SGDRegressor()\n",
    "start_time = time.time()\n",
    "clf.partial_fit(x, y)\n",
    "elapsed_time = time.time() - start_time\n",
    "print(elapsed_time)\n"
   ]
  },
  {
   "cell_type": "code",
   "execution_count": 34,
   "id": "893cee2f-6268-4326-a17f-63b3d25ea55a",
   "metadata": {},
   "outputs": [
    {
     "data": {
      "text/html": [
       "<style>#sk-container-id-6 {color: black;background-color: white;}#sk-container-id-6 pre{padding: 0;}#sk-container-id-6 div.sk-toggleable {background-color: white;}#sk-container-id-6 label.sk-toggleable__label {cursor: pointer;display: block;width: 100%;margin-bottom: 0;padding: 0.3em;box-sizing: border-box;text-align: center;}#sk-container-id-6 label.sk-toggleable__label-arrow:before {content: \"▸\";float: left;margin-right: 0.25em;color: #696969;}#sk-container-id-6 label.sk-toggleable__label-arrow:hover:before {color: black;}#sk-container-id-6 div.sk-estimator:hover label.sk-toggleable__label-arrow:before {color: black;}#sk-container-id-6 div.sk-toggleable__content {max-height: 0;max-width: 0;overflow: hidden;text-align: left;background-color: #f0f8ff;}#sk-container-id-6 div.sk-toggleable__content pre {margin: 0.2em;color: black;border-radius: 0.25em;background-color: #f0f8ff;}#sk-container-id-6 input.sk-toggleable__control:checked~div.sk-toggleable__content {max-height: 200px;max-width: 100%;overflow: auto;}#sk-container-id-6 input.sk-toggleable__control:checked~label.sk-toggleable__label-arrow:before {content: \"▾\";}#sk-container-id-6 div.sk-estimator input.sk-toggleable__control:checked~label.sk-toggleable__label {background-color: #d4ebff;}#sk-container-id-6 div.sk-label input.sk-toggleable__control:checked~label.sk-toggleable__label {background-color: #d4ebff;}#sk-container-id-6 input.sk-hidden--visually {border: 0;clip: rect(1px 1px 1px 1px);clip: rect(1px, 1px, 1px, 1px);height: 1px;margin: -1px;overflow: hidden;padding: 0;position: absolute;width: 1px;}#sk-container-id-6 div.sk-estimator {font-family: monospace;background-color: #f0f8ff;border: 1px dotted black;border-radius: 0.25em;box-sizing: border-box;margin-bottom: 0.5em;}#sk-container-id-6 div.sk-estimator:hover {background-color: #d4ebff;}#sk-container-id-6 div.sk-parallel-item::after {content: \"\";width: 100%;border-bottom: 1px solid gray;flex-grow: 1;}#sk-container-id-6 div.sk-label:hover label.sk-toggleable__label {background-color: #d4ebff;}#sk-container-id-6 div.sk-serial::before {content: \"\";position: absolute;border-left: 1px solid gray;box-sizing: border-box;top: 0;bottom: 0;left: 50%;z-index: 0;}#sk-container-id-6 div.sk-serial {display: flex;flex-direction: column;align-items: center;background-color: white;padding-right: 0.2em;padding-left: 0.2em;position: relative;}#sk-container-id-6 div.sk-item {position: relative;z-index: 1;}#sk-container-id-6 div.sk-parallel {display: flex;align-items: stretch;justify-content: center;background-color: white;position: relative;}#sk-container-id-6 div.sk-item::before, #sk-container-id-6 div.sk-parallel-item::before {content: \"\";position: absolute;border-left: 1px solid gray;box-sizing: border-box;top: 0;bottom: 0;left: 50%;z-index: -1;}#sk-container-id-6 div.sk-parallel-item {display: flex;flex-direction: column;z-index: 1;position: relative;background-color: white;}#sk-container-id-6 div.sk-parallel-item:first-child::after {align-self: flex-end;width: 50%;}#sk-container-id-6 div.sk-parallel-item:last-child::after {align-self: flex-start;width: 50%;}#sk-container-id-6 div.sk-parallel-item:only-child::after {width: 0;}#sk-container-id-6 div.sk-dashed-wrapped {border: 1px dashed gray;margin: 0 0.4em 0.5em 0.4em;box-sizing: border-box;padding-bottom: 0.4em;background-color: white;}#sk-container-id-6 div.sk-label label {font-family: monospace;font-weight: bold;display: inline-block;line-height: 1.2em;}#sk-container-id-6 div.sk-label-container {text-align: center;}#sk-container-id-6 div.sk-container {/* jupyter's `normalize.less` sets `[hidden] { display: none; }` but bootstrap.min.css set `[hidden] { display: none !important; }` so we also need the `!important` here to be able to override the default hidden behavior on the sphinx rendered scikit-learn.org. See: https://github.com/scikit-learn/scikit-learn/issues/21755 */display: inline-block !important;position: relative;}#sk-container-id-6 div.sk-text-repr-fallback {display: none;}</style><div id=\"sk-container-id-6\" class=\"sk-top-container\"><div class=\"sk-text-repr-fallback\"><pre>SGDRegressor()</pre><b>In a Jupyter environment, please rerun this cell to show the HTML representation or trust the notebook. <br />On GitHub, the HTML representation is unable to render, please try loading this page with nbviewer.org.</b></div><div class=\"sk-container\" hidden><div class=\"sk-item\"><div class=\"sk-estimator sk-toggleable\"><input class=\"sk-toggleable__control sk-hidden--visually\" id=\"sk-estimator-id-6\" type=\"checkbox\" checked><label for=\"sk-estimator-id-6\" class=\"sk-toggleable__label sk-toggleable__label-arrow\">SGDRegressor</label><div class=\"sk-toggleable__content\"><pre>SGDRegressor()</pre></div></div></div></div></div>"
      ],
      "text/plain": [
       "SGDRegressor()"
      ]
     },
     "execution_count": 34,
     "metadata": {},
     "output_type": "execute_result"
    }
   ],
   "source": [
    "y = np.random.randn(n_samples)\n",
    "x = np.random.randn(n_samples, n_features)\n",
    "clf.partial_fit(x, y)"
   ]
  },
  {
   "cell_type": "markdown",
   "id": "e1cfb295-b7fd-43bf-b63c-2c9f0488dc1f",
   "metadata": {},
   "source": [
    "- **Instance-Based**\n",
    "  - KNN\n",
    "- **Model-Based**\n",
    "  - Desion Line"
   ]
  },
  {
   "cell_type": "markdown",
   "id": "43585b4c-2a42-41ea-a825-f1d1f87152fa",
   "metadata": {},
   "source": [
    "### **<h4 style=\"color:red\">Challenging in Machine Learning</h4>**\n",
    "1. **Data Collection**\n",
    "2. **Insufficient Data / Labelled Data**\n",
    "3. **Non - Representative Data**\n",
    "   - Sampling Noise\n",
    "   - Sampling Bais\n",
    "4. **Poor Quality Data**\n",
    "5. **Irrelevent Features**\n",
    "   - Garbedge In Garbedge Out\n",
    "6. **Overfitting**\n",
    "   - A model which accuracy is high but fail, when it get new data to predict.\n",
    "   - It just memories dataset. It does not understand the pattern of data.\n",
    "7. **Underfitting**\n",
    "   - When a dataset is too simple but fail to generate a model.\n",
    "   - Your accuracy 100% is underfitting.\n",
    "8. **Software Integration**\n",
    "   - It will be the part of any software.\n",
    "   - It is hard to integrate your model in a software.\n",
    "9. **Offline Learning / Deployment**\n",
    "   - Batch Machine Learning (Offline ML)\n",
    "10. **Cost Involved**\n",
    "    - Payment of Learning.\n",
    "\n",
    "### **<h4 style=\"color:red\">No Free Lunch Theorem</h4>**\n",
    "- No algorithm is ideal. If any algorithm is giving high accuracy for a dataset. We can not say that it will give hight accuracy for other dataset."
   ]
  },
  {
   "cell_type": "markdown",
   "id": "8047b771-656b-445c-b96b-8f1249b43d6f",
   "metadata": {},
   "source": [
    "### **<h4 style=\"color:red\">Machine Learning Life Cycle</h4>**\n",
    "1. Frame the Problem\n",
    "2. Gathering Data\n",
    "   - csv\n",
    "   - API\n",
    "   - Web Scrapping\n",
    "   - Database on running state(ETL: Data Warehouse)\n",
    "   - Spark Cluster\n",
    "3. Data Preprocessing\n",
    "   - Remove duplicates\n",
    "   - Remove missing Values\n",
    "   - Outliner\n",
    "   - Scale Up/Down\n",
    "4. Exploratory Data Analysis(EDA)\n",
    "   - Relation b/w Input and Output Data\n",
    "   - Visualization of Data Using Graph\n",
    "   - Univariate / Bivariate\n",
    "   - Outlier Detection\n",
    "   - Imbalance Data\n",
    "5. Feature Engineering and Selection\n",
    "   - Features : Input Columns\n",
    "   - Create new columns\n",
    "6. Model Training, Evalation and Selection\n",
    "   - Navi Baised Algorithm : Best for Text Data\n",
    "   - Choose a best model\n",
    "   - Check Accuracy : \n",
    "     - __Classification__ : accuracy score matrix\n",
    "     - __Regression__ : mean square error matrix\n",
    "     - __clustering__ : double index\n",
    "     - **Ensemble Learning**\n",
    "\n",
    "7. Model Deployment\n",
    "   - Deployment on running machine.\n",
    "   - pickale.pkl --> API --> Json\n",
    "8. Testing\n",
    "   - Test Your Project Giving some costumer.\n",
    "9. Optimize\n",
    "   - Back up of testing\n",
    "   - Data requirement\n",
    "   - Load balancing"
   ]
  },
  {
   "cell_type": "code",
   "execution_count": null,
   "id": "2e123e56-2c86-4787-9b3f-65054ed41410",
   "metadata": {},
   "outputs": [],
   "source": []
  }
 ],
 "metadata": {
  "kernelspec": {
   "display_name": "Python 3",
   "language": "python",
   "name": "python3"
  },
  "language_info": {
   "codemirror_mode": {
    "name": "ipython",
    "version": 3
   },
   "file_extension": ".py",
   "mimetype": "text/x-python",
   "name": "python",
   "nbconvert_exporter": "python",
   "pygments_lexer": "ipython3",
   "version": "3.9.16"
  }
 },
 "nbformat": 4,
 "nbformat_minor": 5
}
