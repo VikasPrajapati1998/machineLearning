{
 "cells": [
  {
   "cell_type": "markdown",
   "id": "c8faea98-e5a7-4c48-a9c0-d756e416122c",
   "metadata": {},
   "source": [
    "# **<ins style=\"color:green\">Binning and Binarization | Discretization | Quantile Binning | KMeans Binning</ins>**"
   ]
  },
  {
   "cell_type": "markdown",
   "id": "532a6322-e0ef-48cd-980c-ecc6f93079ba",
   "metadata": {
    "jp-MarkdownHeadingCollapsed": true
   },
   "source": [
    "## **<ins style=\"color:red\">1. Encoding Numerical Features</ins>**\n",
    "- **Numerical data >-------->>> convert into categorical data.**\n",
    "- Google_Play_Store_Downloads = [23, 123987, 35434, 947, 68463, 5846378373464 ]\n",
    "- Conver in categorical(bins) = [ 100k+ | 1000k+ | 10000k+ | 100000k+ | 1M+ | 2M+ ]  \\\n",
    "\n",
    "                                  [ 23 | 2345 | 3453345 | 34534532323 | 145634634456 | 287867676 ]\n",
    "\n",
    "- ## **To Convert Numerical data to Categorical Data we have two technique.**\n",
    "- ### **Numberical Data >------------>>> Categorical Data**\n",
    "  - #### __Discretization(Binning) :__\n",
    "  - Discretization(Binning) is the process of transforming continuous variable ihnto discrete variable by creating a set of contiguous intervals(Bin) that span the range of variable's values.\n",
    "    - Why use Discretization?\n",
    "      1. _To handle Outliers._\n",
    "      2. _To improve the value spread._\n",
    "    - __Types of Discretization(Binning) :__\n",
    "      1. Unsupervised\n",
    "         - Equal Width Binning(Uniform Binning)\n",
    "         - Equal Frequency Binning(Quantile Binning)\n",
    "         - KMeans Binning\n",
    "      2. Supervised\n",
    "         - Decision Treee Binning\n",
    "      3. Custom Binning\n",
    "  \n",
    "  - #### __Binarization :__"
   ]
  },
  {
   "cell_type": "markdown",
   "id": "d2418772-7955-4ce5-8666-4ddd8a445dbf",
   "metadata": {},
   "source": [
    "## **Discretization(Binning) :**\n",
    "- ### **Unsupervised :**\n",
    "  - #### **Equal Width / Uniform Binning :**\n",
    "    - "
   ]
  },
  {
   "cell_type": "code",
   "execution_count": null,
   "id": "0e674169-112c-4c67-8e23-cbeaf427a7e6",
   "metadata": {},
   "outputs": [],
   "source": [
    "import numpy as np\n",
    "import pandas as pd\n",
    "import matplotlib.pyplot as plt"
   ]
  }
 ],
 "metadata": {
  "kernelspec": {
   "display_name": "Python 3 (ipykernel)",
   "language": "python",
   "name": "python3"
  },
  "language_info": {
   "codemirror_mode": {
    "name": "ipython",
    "version": 3
   },
   "file_extension": ".py",
   "mimetype": "text/x-python",
   "name": "python",
   "nbconvert_exporter": "python",
   "pygments_lexer": "ipython3",
   "version": "3.11.3"
  }
 },
 "nbformat": 4,
 "nbformat_minor": 5
}
