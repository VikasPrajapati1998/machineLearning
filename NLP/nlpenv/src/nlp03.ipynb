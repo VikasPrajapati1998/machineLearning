{
 "cells": [
  {
   "cell_type": "markdown",
   "id": "586051eb-562e-49c0-bc8f-ada502d199a0",
   "metadata": {},
   "source": [
    "# <b style=\"color:green\">Text Representation</b>"
   ]
  },
  {
   "cell_type": "markdown",
   "id": "b56e45b5-19c1-40de-8892-fc9bcb2fa5fe",
   "metadata": {},
   "source": [
    "- How to convert a text to number.\n",
    "- Feature Extractions"
   ]
  },
  {
   "cell_type": "markdown",
   "id": "89f3e5cb-cdad-4088-9772-19ae9ce94ad6",
   "metadata": {},
   "source": [
    "## <b style=\"color:red\">Introductions</b>\n",
    "- What is Feature Extraction from text?\n",
    "  - To convert text into numbers is called `Feature Extraction` or `Text Representation` or `Text Vectorization`. Because machine only understand numbers not words.\n",
    "- Why is it difficult?\n",
    "  - It is easy to convert a image to numbers.\n",
    "  - It is easy to convert a speech to numbers.\n",
    "  - It is not easy to convert to convert a sentence to number. Because meaning of sentence will change.\n",
    "- What are the techniques to convert a text to numbers?\n",
    "  - OHE : One Hot Encoding\n",
    "  - Bag of words\n",
    "  - ngrams\n",
    "  - TfIdf\n",
    "  - Custome Features : Make your own features\n",
    "  - word2vec : embeddings (DL Topics)\n",
    "- Common Terms\n",
    "  - _Corpus (C)_ : Add all words of dataset including repeated words is called Corpus. Means Combination of all words of sentence.\n",
    "  - _Vocabulary (V)_ : Get all uniques words of Corpus is called Vocabulary.\n",
    "  - _Document (D)_ : Indivisual text-document of single row is called Document.\n",
    "  - _Word (W)_ : Indivisual word of Document is called Word.\n",
    "  - __Example__:\n",
    "    - Dataset\n",
    "      <pre>\n",
    "      _____________________________\n",
    "      |D1 | people watch campusx  |\n",
    "      |___|_______________________|\n",
    "      |D2 | campusx watch campusx |\n",
    "      |___|_______________________|\n",
    "      |D3 | people write comment  |\n",
    "      |___|_______________________|\n",
    "      |D4 | campusx write comment |\n",
    "      |___|_______________________|\n",
    "  </pre>\n",
    "    - _Corpus_ : people watch campusx campusx watch campusx people write comment campusx write comment\n",
    "    - _Vocabulary_ : people watch campusx write comment  : V=5"
   ]
  },
  {
   "cell_type": "markdown",
   "id": "79330dd6-cd9d-419c-90ee-074c2d21ac0a",
   "metadata": {},
   "source": [
    "### **One Hot Encoding (OHE)**\n",
    "- Dataset\n",
    "  <pre>\n",
    "      _____________________________\n",
    "      |D1 | people watch campusx  |\n",
    "      |___|_______________________|\n",
    "      |D2 | campusx watch campusx |\n",
    "      |___|_______________________|\n",
    "      |D3 | people write comment  |\n",
    "      |___|_______________________|\n",
    "      |D4 | campusx write comment |\n",
    "      |___|_______________________|\n",
    "  </pre>\n",
    "  - _Corpus_ : people watch campusx campusx watch campusx people write comment campusx write comment\n",
    "  - _Vocabulary_ : people watch campusx write comment  : V=5\n",
    "- One Hot Encoding says that convert all words of your Documents into a `V` dimensional vector.\n",
    "  <pre>\n",
    "    ____________________________________________ \n",
    "    |       |people|watch|campusx|write|comment|\n",
    "    |_______|______|_____|_______|_____|_______|\n",
    "    |people |   1  |  0  |   0   |  0  |   0   |\n",
    "    |_______|______|_____|_______|_____|_______|\n",
    "    |watch  |   0  |  1  |   0   |  0  |   0   |\n",
    "    |_______|______|_____|_______|_____|_______|\n",
    "    |campux |   0  |  0  |   1   |  0  |   0   |\n",
    "    |_______|______|_____|_______|_____|_______|\n",
    "    |write  |   0  |  0  |   0   |  1  |   0   |\n",
    "    |_______|______|_____|_______|_____|_______|\n",
    "    |comment|   0  |  0  |   0   |  0  |   1   |\n",
    "    |_______|______|_____|_______|_____|_______|\n",
    "  </pre>\n",
    "- One Hot Encoding\n",
    "  <pre>\n",
    "      D1 = [[1, 0, 0, 0, 0],\n",
    "            [0, 1, 0, 0, 0],\n",
    "            [0, 0, 1, 0, 0]]\n",
    "      D2 = [[0, 0, 1, 0, 0],\n",
    "            [0, 1, 0, 0, 0],\n",
    "            [0, 0, 1, 0, 0]]\n",
    "      D3 = [[1, 0, 0, 0, 0],\n",
    "            [0, 0, 0, 1, 0],\n",
    "            [0, 0, 0, 0, 1]]\n",
    "      D4 = [[0, 0, 1, 0, 0],\n",
    "            [0, 0, 0, 1, 0],\n",
    "            [0, 0, 0, 0, 1]]\n",
    "  </pre> \n",
    "- Advantage\n",
    "  - It is intevtive.\n",
    "  - It is easy to implement.\n",
    "- Disadvantage\n",
    "  - Sparsity (Identity array) : Overfitting\n",
    "  - Different length of array\n",
    "  - OOV(Out of Vocabulary) : New word come can not handle.\n",
    "  - No capturing of semantic meaning. eg. : walk, run, bottle"
   ]
  },
  {
   "cell_type": "markdown",
   "id": "9984a86b-4000-4540-b477-db52df3748e1",
   "metadata": {},
   "source": [
    "### **Bag of Words**\n",
    "- Use for Text Classification Problems.\n",
    "- "
   ]
  },
  {
   "cell_type": "code",
   "execution_count": null,
   "id": "64fd6cc1-7d69-46ca-aaed-2567e03c2213",
   "metadata": {},
   "outputs": [],
   "source": []
  }
 ],
 "metadata": {
  "kernelspec": {
   "display_name": "Python 3 (ipykernel)",
   "language": "python",
   "name": "python3"
  },
  "language_info": {
   "codemirror_mode": {
    "name": "ipython",
    "version": 3
   },
   "file_extension": ".py",
   "mimetype": "text/x-python",
   "name": "python",
   "nbconvert_exporter": "python",
   "pygments_lexer": "ipython3",
   "version": "3.10.12"
  }
 },
 "nbformat": 4,
 "nbformat_minor": 5
}
