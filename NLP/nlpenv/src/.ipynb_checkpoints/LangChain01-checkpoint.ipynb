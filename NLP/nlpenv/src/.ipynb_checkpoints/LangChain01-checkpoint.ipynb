{
 "cells": [
  {
   "cell_type": "markdown",
   "id": "a39e49a7-ae6c-4e35-a5b4-1dbd96f7dd2b",
   "metadata": {},
   "source": [
    "# <font color=\"red\">**Langchain**</font>"
   ]
  },
  {
   "cell_type": "markdown",
   "id": "0af147ce-cfcd-4396-a1f4-cee0c9cc7927",
   "metadata": {},
   "source": [
    "- Langchain:\n",
    "    - Langsmith : (Observation)\n",
    "        - Debugging\n",
    "        - Playground\n",
    "        - Evaluation\n",
    "        - Annotation\n",
    "        - Monitoring\n",
    "    - LangServe : API's(FastAPI's) (Deployment)\n",
    "    - LLM\n",
    "    - LCEL: Lang Chain Expression Language\n",
    "    - Agents, Retrival\n",
    "    - Chains\n",
    "- Langchain Eco System\n",
    "- ![langchain01](../img/langchain01.jpg)"
   ]
  },
  {
   "cell_type": "code",
   "execution_count": null,
   "id": "61cdcd95-9343-467d-b88f-698f9dc3d250",
   "metadata": {},
   "outputs": [],
   "source": []
  }
 ],
 "metadata": {
  "kernelspec": {
   "display_name": "Python 3 (ipykernel)",
   "language": "python",
   "name": "python3"
  },
  "language_info": {
   "codemirror_mode": {
    "name": "ipython",
    "version": 3
   },
   "file_extension": ".py",
   "mimetype": "text/x-python",
   "name": "python",
   "nbconvert_exporter": "python",
   "pygments_lexer": "ipython3",
   "version": "3.11.9"
  }
 },
 "nbformat": 4,
 "nbformat_minor": 5
}
