{
 "cells": [
  {
   "cell_type": "markdown",
   "id": "060f380c-9b4d-4896-bc9e-5989d19590c3",
   "metadata": {},
   "source": [
    "# <b style=\"color:green\">POS Tagging : Part of Speech Tagging</b>\n",
    "- Work as a ___Text Preprocessing Technique___\n",
    "- POS is a preprocessing step.\n",
    "- Use `spacy` library."
   ]
  },
  {
   "cell_type": "markdown",
   "id": "1fa59e71-535c-4d1f-b0f7-553247cd85ee",
   "metadata": {},
   "source": [
    "- Plane\n",
    "  1. What is POS?\n",
    "  2. Application\n",
    "  3. Spacy code demo\n",
    "  4. HMM:Hidden Markov Model >---> Viterbi Algorithm\n",
    "\n",
    "1. What is POS?\n",
    "   - In simple words, we can say that POS tagging is a task of labelling each word in a sentence with its appropriate part of speech. In traditional grammer, a part of speech or part-of-speech is a category of words that have similar grammatical properties.\n",
    "   - <pre>\n",
    "        Why     not     tell     someone      ?\n",
    "       adverb  adverb   verb      noun       punctuation mark,\n",
    "                                             sentence closer\n",
    "   </pre>\n",
    "\n",
    "2. Application of POS Tagging\n",
    "   1. Named Entity Recognition : Name Recogination System\n",
    "   2. Question Answering System\n",
    "   3. Word sense disambiguation : 1. I left the room.\n",
    "                                  2. Left of the room.\n",
    "   4. Chabots\n",
    "3. Spacy Library Code\n",
    "   - Coarse Grain POS in spacy model\n",
    "   - Fine Grained POS in spacy model"
   ]
  },
  {
   "cell_type": "code",
   "execution_count": 1,
   "id": "af75d44f-2db5-4522-a7e9-d75826bfe7d6",
   "metadata": {},
   "outputs": [],
   "source": [
    "# !pip install spacy"
   ]
  },
  {
   "cell_type": "code",
   "execution_count": 2,
   "id": "4858d880-2ad9-4454-8d0a-f846f07c8370",
   "metadata": {},
   "outputs": [
    {
     "data": {
      "text/plain": [
       "'I will google about facebook'"
      ]
     },
     "execution_count": 2,
     "metadata": {},
     "output_type": "execute_result"
    }
   ],
   "source": [
    "import spacy\n",
    "nlp = spacy.load('en_core_web_sm')\n",
    "doc = nlp(u\"I will google about facebook\")\n",
    "doc.text"
   ]
  },
  {
   "cell_type": "code",
   "execution_count": 3,
   "id": "baffa04c-4ff1-4cfc-95a9-824171d6a119",
   "metadata": {},
   "outputs": [
    {
     "name": "stdout",
     "output_type": "stream",
     "text": [
      "I\n",
      "will\n",
      "google\n",
      "about\n",
      "facebook\n"
     ]
    }
   ],
   "source": [
    "for word in doc:\n",
    "    print(word)"
   ]
  },
  {
   "cell_type": "code",
   "execution_count": 4,
   "id": "d5a88842-6f93-4daf-b41c-b80c69325c0f",
   "metadata": {},
   "outputs": [
    {
     "name": "stdout",
     "output_type": "stream",
     "text": [
      "I :>----->>> PRON = pronoun\n",
      "will :>----->>> AUX = auxiliary\n",
      "google :>----->>> VERB = verb\n",
      "about :>----->>> ADP = adposition\n",
      "facebook :>----->>> NOUN = noun\n"
     ]
    }
   ],
   "source": [
    "# check the which POS is assign to which word\n",
    "for word in doc:\n",
    "    print(word, \":>----->>>\", word.pos_, \"=\", spacy.explain(word.pos_)) # coarse grain pos"
   ]
  },
  {
   "cell_type": "code",
   "execution_count": 5,
   "id": "2a86d75b-4d8f-4e86-9c5d-6755c4613d4f",
   "metadata": {},
   "outputs": [
    {
     "name": "stdout",
     "output_type": "stream",
     "text": [
      "I :>---->>> PRP = pronoun, personal\n",
      "will :>---->>> MD = verb, modal auxiliary\n",
      "google :>---->>> VB = verb, base form\n",
      "about :>---->>> IN = conjunction, subordinating or preposition\n",
      "facebook :>---->>> NN = noun, singular or mass\n"
     ]
    }
   ],
   "source": [
    "for word in doc:\n",
    "    print(word, \":>---->>>\", word.tag_, \"=\", spacy.explain(word.tag_))"
   ]
  },
  {
   "cell_type": "code",
   "execution_count": 6,
   "id": "300c7305-e2d6-4bcf-b611-150e4b0e4ed5",
   "metadata": {},
   "outputs": [
    {
     "data": {
      "text/plain": [
       "'pronoun, personal'"
      ]
     },
     "execution_count": 6,
     "metadata": {},
     "output_type": "execute_result"
    }
   ],
   "source": [
    "spacy.explain('PRP')"
   ]
  },
  {
   "cell_type": "code",
   "execution_count": 7,
   "id": "6aaae5c4-c41b-456a-b703-f100ab2a508c",
   "metadata": {},
   "outputs": [
    {
     "name": "stdout",
     "output_type": "stream",
     "text": [
      "I left the room\n",
      "I :>----->>> PRON = pronoun\n",
      "left :>----->>> VERB = verb\n",
      "the :>----->>> DET = determiner\n",
      "room :>----->>> NOUN = noun\n",
      "\n",
      "I :>---->>> PRP = pronoun, personal\n",
      "left :>---->>> VBD = verb, past tense\n",
      "the :>---->>> DT = determiner\n",
      "room :>---->>> NN = noun, singular or mass\n",
      "\n",
      "-----------------------------------------------------------------------\n",
      "\n",
      "to the left of the room\n",
      "to :>----->>> ADP = adposition\n",
      "the :>----->>> DET = determiner\n",
      "left :>----->>> NOUN = noun\n",
      "of :>----->>> ADP = adposition\n",
      "the :>----->>> DET = determiner\n",
      "room :>----->>> NOUN = noun\n",
      "\n",
      "to :>---->>> IN = conjunction, subordinating or preposition\n",
      "the :>---->>> DT = determiner\n",
      "left :>---->>> NN = noun, singular or mass\n",
      "of :>---->>> IN = conjunction, subordinating or preposition\n",
      "the :>---->>> DT = determiner\n",
      "room :>---->>> NN = noun, singular or mass\n"
     ]
    }
   ],
   "source": [
    "doc2 = nlp(u\"I left the room\")\n",
    "# check the which POS is assign to which word\n",
    "print(doc2.text)\n",
    "for word in doc2:\n",
    "    print(word, \":>----->>>\", word.pos_, \"=\", spacy.explain(word.pos_)) # coarse grain pos\n",
    "print()\n",
    "\n",
    "# check tagging\n",
    "for word in doc2:\n",
    "    print(word, \":>---->>>\", word.tag_, \"=\", spacy.explain(word.tag_)) # fine-grained pos\n",
    "\n",
    "print()\n",
    "print(\"-----------------------------------------------------------------------\")\n",
    "print()\n",
    "\n",
    "doc3 = nlp(u\"to the left of the room\")\n",
    "print(doc3.text)\n",
    "# check the which POS is assign to which word\n",
    "for word in doc3:\n",
    "    print(word, \":>----->>>\", word.pos_, \"=\", spacy.explain(word.pos_)) # coarse grain pos\n",
    "print()\n",
    "\n",
    "# check tagging\n",
    "for word in doc3:\n",
    "    print(word, \":>---->>>\", word.tag_, \"=\", spacy.explain(word.tag_)) # fine-grained pos"
   ]
  },
  {
   "cell_type": "code",
   "execution_count": 8,
   "id": "fb24c3e3-a023-47cf-9290-cd08452804d9",
   "metadata": {},
   "outputs": [
    {
     "name": "stdout",
     "output_type": "stream",
     "text": [
      "I read books on history\n",
      "I :>----->>> PRON = pronoun  |  PRP = pronoun, personal\n",
      "read :>----->>> VERB = verb  |  VBP = verb, non-3rd person singular present\n",
      "books :>----->>> NOUN = noun  |  NNS = noun, plural\n",
      "on :>----->>> ADP = adposition  |  IN = conjunction, subordinating or preposition\n",
      "history :>----->>> NOUN = noun  |  NN = noun, singular or mass\n",
      "\n",
      "\n",
      "---------------------------------------------------------------\n",
      "\n",
      "I have read a book on history\n",
      "I :>----->>> PRON = pronoun  |  PRP = pronoun, personal\n",
      "have :>----->>> AUX = auxiliary  |  VBP = verb, non-3rd person singular present\n",
      "read :>----->>> VERB = verb  |  VBN = verb, past participle\n",
      "a :>----->>> DET = determiner  |  DT = determiner\n",
      "book :>----->>> NOUN = noun  |  NN = noun, singular or mass\n",
      "on :>----->>> ADP = adposition  |  IN = conjunction, subordinating or preposition\n",
      "history :>----->>> NOUN = noun  |  NN = noun, singular or mass\n",
      "\n"
     ]
    }
   ],
   "source": [
    "doc4 = nlp(u\"I read books on history\")\n",
    "print(doc4.text)\n",
    "for word in doc4:\n",
    "    print(word.text, \":>----->>>\", \n",
    "          word.pos_, \"=\", spacy.explain(word.pos_),\n",
    "          \" | \",\n",
    "          word.tag_, \"=\", spacy.explain(word.tag_))\n",
    "print()\n",
    "\n",
    "print()\n",
    "print(\"---------------------------------------------------------------\")\n",
    "print()\n",
    "\n",
    "doc5 = nlp(u\"I have read a book on history\")\n",
    "print(doc5.text)\n",
    "for word in doc5:\n",
    "    print(word.text, \":>----->>>\", \n",
    "          word.pos_, \"=\", spacy.explain(word.pos_),\n",
    "          \" | \",\n",
    "          word.tag_, \"=\", spacy.explain(word.tag_))\n",
    "print()\n"
   ]
  },
  {
   "cell_type": "code",
   "execution_count": 9,
   "id": "68a65c71-17dc-4082-9cb8-95f7d8a6c4a9",
   "metadata": {},
   "outputs": [
    {
     "name": "stdout",
     "output_type": "stream",
     "text": [
      "The quick brown fox jumped over the lazy dog\n",
      "The :>----->>> DET = determiner  |  DT = determiner\n",
      "quick :>----->>> ADJ = adjective  |  JJ = adjective (English), other noun-modifier (Chinese)\n",
      "brown :>----->>> ADJ = adjective  |  JJ = adjective (English), other noun-modifier (Chinese)\n",
      "fox :>----->>> NOUN = noun  |  NN = noun, singular or mass\n",
      "jumped :>----->>> VERB = verb  |  VBD = verb, past tense\n",
      "over :>----->>> ADP = adposition  |  IN = conjunction, subordinating or preposition\n",
      "the :>----->>> DET = determiner  |  DT = determiner\n",
      "lazy :>----->>> ADJ = adjective  |  JJ = adjective (English), other noun-modifier (Chinese)\n",
      "dog :>----->>> NOUN = noun  |  NN = noun, singular or mass\n",
      "\n"
     ]
    }
   ],
   "source": [
    "doc6 = nlp(u\"The quick brown fox jumped over the lazy dog\")\n",
    "print(doc6.text)\n",
    "for word in doc6:\n",
    "    print(word.text, \":>----->>>\", \n",
    "          word.pos_, \"=\", spacy.explain(word.pos_),\n",
    "          \" | \",\n",
    "          word.tag_, \"=\", spacy.explain(word.tag_))\n",
    "print()"
   ]
  },
  {
   "cell_type": "code",
   "execution_count": 10,
   "id": "03dcbdfb-d15a-4de2-a3a5-529866aa60ae",
   "metadata": {},
   "outputs": [
    {
     "data": {
      "text/html": [
       "<span class=\"tex2jax_ignore\"><svg xmlns=\"http://www.w3.org/2000/svg\" xmlns:xlink=\"http://www.w3.org/1999/xlink\" xml:lang=\"en\" id=\"cf68c78bd943423d9ab73e2cee917d88-0\" class=\"displacy\" width=\"1625\" height=\"399.5\" direction=\"ltr\" style=\"max-width: none; height: 399.5px; color: #000000; background: #ffffff; font-family: Arial; direction: ltr\">\n",
       "<text class=\"displacy-token\" fill=\"currentColor\" text-anchor=\"middle\" y=\"309.5\">\n",
       "    <tspan class=\"displacy-word\" fill=\"currentColor\" x=\"50\">The</tspan>\n",
       "    <tspan class=\"displacy-tag\" dy=\"2em\" fill=\"currentColor\" x=\"50\">DET</tspan>\n",
       "</text>\n",
       "\n",
       "<text class=\"displacy-token\" fill=\"currentColor\" text-anchor=\"middle\" y=\"309.5\">\n",
       "    <tspan class=\"displacy-word\" fill=\"currentColor\" x=\"225\">quick</tspan>\n",
       "    <tspan class=\"displacy-tag\" dy=\"2em\" fill=\"currentColor\" x=\"225\">ADJ</tspan>\n",
       "</text>\n",
       "\n",
       "<text class=\"displacy-token\" fill=\"currentColor\" text-anchor=\"middle\" y=\"309.5\">\n",
       "    <tspan class=\"displacy-word\" fill=\"currentColor\" x=\"400\">brown</tspan>\n",
       "    <tspan class=\"displacy-tag\" dy=\"2em\" fill=\"currentColor\" x=\"400\">ADJ</tspan>\n",
       "</text>\n",
       "\n",
       "<text class=\"displacy-token\" fill=\"currentColor\" text-anchor=\"middle\" y=\"309.5\">\n",
       "    <tspan class=\"displacy-word\" fill=\"currentColor\" x=\"575\">fox</tspan>\n",
       "    <tspan class=\"displacy-tag\" dy=\"2em\" fill=\"currentColor\" x=\"575\">NOUN</tspan>\n",
       "</text>\n",
       "\n",
       "<text class=\"displacy-token\" fill=\"currentColor\" text-anchor=\"middle\" y=\"309.5\">\n",
       "    <tspan class=\"displacy-word\" fill=\"currentColor\" x=\"750\">jumped</tspan>\n",
       "    <tspan class=\"displacy-tag\" dy=\"2em\" fill=\"currentColor\" x=\"750\">VERB</tspan>\n",
       "</text>\n",
       "\n",
       "<text class=\"displacy-token\" fill=\"currentColor\" text-anchor=\"middle\" y=\"309.5\">\n",
       "    <tspan class=\"displacy-word\" fill=\"currentColor\" x=\"925\">over</tspan>\n",
       "    <tspan class=\"displacy-tag\" dy=\"2em\" fill=\"currentColor\" x=\"925\">ADP</tspan>\n",
       "</text>\n",
       "\n",
       "<text class=\"displacy-token\" fill=\"currentColor\" text-anchor=\"middle\" y=\"309.5\">\n",
       "    <tspan class=\"displacy-word\" fill=\"currentColor\" x=\"1100\">the</tspan>\n",
       "    <tspan class=\"displacy-tag\" dy=\"2em\" fill=\"currentColor\" x=\"1100\">DET</tspan>\n",
       "</text>\n",
       "\n",
       "<text class=\"displacy-token\" fill=\"currentColor\" text-anchor=\"middle\" y=\"309.5\">\n",
       "    <tspan class=\"displacy-word\" fill=\"currentColor\" x=\"1275\">lazy</tspan>\n",
       "    <tspan class=\"displacy-tag\" dy=\"2em\" fill=\"currentColor\" x=\"1275\">ADJ</tspan>\n",
       "</text>\n",
       "\n",
       "<text class=\"displacy-token\" fill=\"currentColor\" text-anchor=\"middle\" y=\"309.5\">\n",
       "    <tspan class=\"displacy-word\" fill=\"currentColor\" x=\"1450\">dog</tspan>\n",
       "    <tspan class=\"displacy-tag\" dy=\"2em\" fill=\"currentColor\" x=\"1450\">NOUN</tspan>\n",
       "</text>\n",
       "\n",
       "<g class=\"displacy-arrow\">\n",
       "    <path class=\"displacy-arc\" id=\"arrow-cf68c78bd943423d9ab73e2cee917d88-0-0\" stroke-width=\"2px\" d=\"M70,264.5 C70,2.0 575.0,2.0 575.0,264.5\" fill=\"none\" stroke=\"currentColor\"/>\n",
       "    <text dy=\"1.25em\" style=\"font-size: 0.8em; letter-spacing: 1px\">\n",
       "        <textPath xlink:href=\"#arrow-cf68c78bd943423d9ab73e2cee917d88-0-0\" class=\"displacy-label\" startOffset=\"50%\" side=\"left\" fill=\"currentColor\" text-anchor=\"middle\">det</textPath>\n",
       "    </text>\n",
       "    <path class=\"displacy-arrowhead\" d=\"M70,266.5 L62,254.5 78,254.5\" fill=\"currentColor\"/>\n",
       "</g>\n",
       "\n",
       "<g class=\"displacy-arrow\">\n",
       "    <path class=\"displacy-arc\" id=\"arrow-cf68c78bd943423d9ab73e2cee917d88-0-1\" stroke-width=\"2px\" d=\"M245,264.5 C245,89.5 570.0,89.5 570.0,264.5\" fill=\"none\" stroke=\"currentColor\"/>\n",
       "    <text dy=\"1.25em\" style=\"font-size: 0.8em; letter-spacing: 1px\">\n",
       "        <textPath xlink:href=\"#arrow-cf68c78bd943423d9ab73e2cee917d88-0-1\" class=\"displacy-label\" startOffset=\"50%\" side=\"left\" fill=\"currentColor\" text-anchor=\"middle\">amod</textPath>\n",
       "    </text>\n",
       "    <path class=\"displacy-arrowhead\" d=\"M245,266.5 L237,254.5 253,254.5\" fill=\"currentColor\"/>\n",
       "</g>\n",
       "\n",
       "<g class=\"displacy-arrow\">\n",
       "    <path class=\"displacy-arc\" id=\"arrow-cf68c78bd943423d9ab73e2cee917d88-0-2\" stroke-width=\"2px\" d=\"M420,264.5 C420,177.0 565.0,177.0 565.0,264.5\" fill=\"none\" stroke=\"currentColor\"/>\n",
       "    <text dy=\"1.25em\" style=\"font-size: 0.8em; letter-spacing: 1px\">\n",
       "        <textPath xlink:href=\"#arrow-cf68c78bd943423d9ab73e2cee917d88-0-2\" class=\"displacy-label\" startOffset=\"50%\" side=\"left\" fill=\"currentColor\" text-anchor=\"middle\">amod</textPath>\n",
       "    </text>\n",
       "    <path class=\"displacy-arrowhead\" d=\"M420,266.5 L412,254.5 428,254.5\" fill=\"currentColor\"/>\n",
       "</g>\n",
       "\n",
       "<g class=\"displacy-arrow\">\n",
       "    <path class=\"displacy-arc\" id=\"arrow-cf68c78bd943423d9ab73e2cee917d88-0-3\" stroke-width=\"2px\" d=\"M595,264.5 C595,177.0 740.0,177.0 740.0,264.5\" fill=\"none\" stroke=\"currentColor\"/>\n",
       "    <text dy=\"1.25em\" style=\"font-size: 0.8em; letter-spacing: 1px\">\n",
       "        <textPath xlink:href=\"#arrow-cf68c78bd943423d9ab73e2cee917d88-0-3\" class=\"displacy-label\" startOffset=\"50%\" side=\"left\" fill=\"currentColor\" text-anchor=\"middle\">nsubj</textPath>\n",
       "    </text>\n",
       "    <path class=\"displacy-arrowhead\" d=\"M595,266.5 L587,254.5 603,254.5\" fill=\"currentColor\"/>\n",
       "</g>\n",
       "\n",
       "<g class=\"displacy-arrow\">\n",
       "    <path class=\"displacy-arc\" id=\"arrow-cf68c78bd943423d9ab73e2cee917d88-0-4\" stroke-width=\"2px\" d=\"M770,264.5 C770,177.0 915.0,177.0 915.0,264.5\" fill=\"none\" stroke=\"currentColor\"/>\n",
       "    <text dy=\"1.25em\" style=\"font-size: 0.8em; letter-spacing: 1px\">\n",
       "        <textPath xlink:href=\"#arrow-cf68c78bd943423d9ab73e2cee917d88-0-4\" class=\"displacy-label\" startOffset=\"50%\" side=\"left\" fill=\"currentColor\" text-anchor=\"middle\">prep</textPath>\n",
       "    </text>\n",
       "    <path class=\"displacy-arrowhead\" d=\"M915.0,266.5 L923.0,254.5 907.0,254.5\" fill=\"currentColor\"/>\n",
       "</g>\n",
       "\n",
       "<g class=\"displacy-arrow\">\n",
       "    <path class=\"displacy-arc\" id=\"arrow-cf68c78bd943423d9ab73e2cee917d88-0-5\" stroke-width=\"2px\" d=\"M1120,264.5 C1120,89.5 1445.0,89.5 1445.0,264.5\" fill=\"none\" stroke=\"currentColor\"/>\n",
       "    <text dy=\"1.25em\" style=\"font-size: 0.8em; letter-spacing: 1px\">\n",
       "        <textPath xlink:href=\"#arrow-cf68c78bd943423d9ab73e2cee917d88-0-5\" class=\"displacy-label\" startOffset=\"50%\" side=\"left\" fill=\"currentColor\" text-anchor=\"middle\">det</textPath>\n",
       "    </text>\n",
       "    <path class=\"displacy-arrowhead\" d=\"M1120,266.5 L1112,254.5 1128,254.5\" fill=\"currentColor\"/>\n",
       "</g>\n",
       "\n",
       "<g class=\"displacy-arrow\">\n",
       "    <path class=\"displacy-arc\" id=\"arrow-cf68c78bd943423d9ab73e2cee917d88-0-6\" stroke-width=\"2px\" d=\"M1295,264.5 C1295,177.0 1440.0,177.0 1440.0,264.5\" fill=\"none\" stroke=\"currentColor\"/>\n",
       "    <text dy=\"1.25em\" style=\"font-size: 0.8em; letter-spacing: 1px\">\n",
       "        <textPath xlink:href=\"#arrow-cf68c78bd943423d9ab73e2cee917d88-0-6\" class=\"displacy-label\" startOffset=\"50%\" side=\"left\" fill=\"currentColor\" text-anchor=\"middle\">amod</textPath>\n",
       "    </text>\n",
       "    <path class=\"displacy-arrowhead\" d=\"M1295,266.5 L1287,254.5 1303,254.5\" fill=\"currentColor\"/>\n",
       "</g>\n",
       "\n",
       "<g class=\"displacy-arrow\">\n",
       "    <path class=\"displacy-arc\" id=\"arrow-cf68c78bd943423d9ab73e2cee917d88-0-7\" stroke-width=\"2px\" d=\"M945,264.5 C945,2.0 1450.0,2.0 1450.0,264.5\" fill=\"none\" stroke=\"currentColor\"/>\n",
       "    <text dy=\"1.25em\" style=\"font-size: 0.8em; letter-spacing: 1px\">\n",
       "        <textPath xlink:href=\"#arrow-cf68c78bd943423d9ab73e2cee917d88-0-7\" class=\"displacy-label\" startOffset=\"50%\" side=\"left\" fill=\"currentColor\" text-anchor=\"middle\">pobj</textPath>\n",
       "    </text>\n",
       "    <path class=\"displacy-arrowhead\" d=\"M1450.0,266.5 L1458.0,254.5 1442.0,254.5\" fill=\"currentColor\"/>\n",
       "</g>\n",
       "</svg></span>"
      ],
      "text/plain": [
       "<IPython.core.display.HTML object>"
      ]
     },
     "metadata": {},
     "output_type": "display_data"
    }
   ],
   "source": [
    "from spacy import displacy\n",
    "displacy.render(doc6, style='dep', jupyter=True)"
   ]
  },
  {
   "cell_type": "code",
   "execution_count": 11,
   "id": "38eeb001-7227-4700-93ba-0d4374a96936",
   "metadata": {},
   "outputs": [
    {
     "data": {
      "text/html": [
       "<span class=\"tex2jax_ignore\"><svg xmlns=\"http://www.w3.org/2000/svg\" xmlns:xlink=\"http://www.w3.org/1999/xlink\" xml:lang=\"en\" id=\"adbc6c82a45f4fdcb6b1afa3a506aeb6-0\" class=\"displacy\" width=\"770\" height=\"257.0\" direction=\"ltr\" style=\"max-width: none; height: 257.0px; color: #fff; background: #00a65a; font-family: Arial; direction: ltr\">\n",
       "<text class=\"displacy-token\" fill=\"currentColor\" text-anchor=\"middle\" y=\"167.0\">\n",
       "    <tspan class=\"displacy-word\" fill=\"currentColor\" x=\"50\">The</tspan>\n",
       "    <tspan class=\"displacy-tag\" dy=\"2em\" fill=\"currentColor\" x=\"50\">DET</tspan>\n",
       "</text>\n",
       "\n",
       "<text class=\"displacy-token\" fill=\"currentColor\" text-anchor=\"middle\" y=\"167.0\">\n",
       "    <tspan class=\"displacy-word\" fill=\"currentColor\" x=\"130\">quick</tspan>\n",
       "    <tspan class=\"displacy-tag\" dy=\"2em\" fill=\"currentColor\" x=\"130\">ADJ</tspan>\n",
       "</text>\n",
       "\n",
       "<text class=\"displacy-token\" fill=\"currentColor\" text-anchor=\"middle\" y=\"167.0\">\n",
       "    <tspan class=\"displacy-word\" fill=\"currentColor\" x=\"210\">brown</tspan>\n",
       "    <tspan class=\"displacy-tag\" dy=\"2em\" fill=\"currentColor\" x=\"210\">ADJ</tspan>\n",
       "</text>\n",
       "\n",
       "<text class=\"displacy-token\" fill=\"currentColor\" text-anchor=\"middle\" y=\"167.0\">\n",
       "    <tspan class=\"displacy-word\" fill=\"currentColor\" x=\"290\">fox</tspan>\n",
       "    <tspan class=\"displacy-tag\" dy=\"2em\" fill=\"currentColor\" x=\"290\">NOUN</tspan>\n",
       "</text>\n",
       "\n",
       "<text class=\"displacy-token\" fill=\"currentColor\" text-anchor=\"middle\" y=\"167.0\">\n",
       "    <tspan class=\"displacy-word\" fill=\"currentColor\" x=\"370\">jumped</tspan>\n",
       "    <tspan class=\"displacy-tag\" dy=\"2em\" fill=\"currentColor\" x=\"370\">VERB</tspan>\n",
       "</text>\n",
       "\n",
       "<text class=\"displacy-token\" fill=\"currentColor\" text-anchor=\"middle\" y=\"167.0\">\n",
       "    <tspan class=\"displacy-word\" fill=\"currentColor\" x=\"450\">over</tspan>\n",
       "    <tspan class=\"displacy-tag\" dy=\"2em\" fill=\"currentColor\" x=\"450\">ADP</tspan>\n",
       "</text>\n",
       "\n",
       "<text class=\"displacy-token\" fill=\"currentColor\" text-anchor=\"middle\" y=\"167.0\">\n",
       "    <tspan class=\"displacy-word\" fill=\"currentColor\" x=\"530\">the</tspan>\n",
       "    <tspan class=\"displacy-tag\" dy=\"2em\" fill=\"currentColor\" x=\"530\">DET</tspan>\n",
       "</text>\n",
       "\n",
       "<text class=\"displacy-token\" fill=\"currentColor\" text-anchor=\"middle\" y=\"167.0\">\n",
       "    <tspan class=\"displacy-word\" fill=\"currentColor\" x=\"610\">lazy</tspan>\n",
       "    <tspan class=\"displacy-tag\" dy=\"2em\" fill=\"currentColor\" x=\"610\">ADJ</tspan>\n",
       "</text>\n",
       "\n",
       "<text class=\"displacy-token\" fill=\"currentColor\" text-anchor=\"middle\" y=\"167.0\">\n",
       "    <tspan class=\"displacy-word\" fill=\"currentColor\" x=\"690\">dog</tspan>\n",
       "    <tspan class=\"displacy-tag\" dy=\"2em\" fill=\"currentColor\" x=\"690\">NOUN</tspan>\n",
       "</text>\n",
       "\n",
       "<g class=\"displacy-arrow\">\n",
       "    <path class=\"displacy-arc\" id=\"arrow-adbc6c82a45f4fdcb6b1afa3a506aeb6-0-0\" stroke-width=\"2px\" d=\"M62,122.0 62,82.0 290.0,82.0 290.0,122.0\" fill=\"none\" stroke=\"currentColor\"/>\n",
       "    <text dy=\"1.25em\" style=\"font-size: 0.8em; letter-spacing: 1px\">\n",
       "        <textPath xlink:href=\"#arrow-adbc6c82a45f4fdcb6b1afa3a506aeb6-0-0\" class=\"displacy-label\" startOffset=\"50%\" side=\"left\" fill=\"currentColor\" text-anchor=\"middle\">det</textPath>\n",
       "    </text>\n",
       "    <path class=\"displacy-arrowhead\" d=\"M62,124.0 L58,116.0 66,116.0\" fill=\"currentColor\"/>\n",
       "</g>\n",
       "\n",
       "<g class=\"displacy-arrow\">\n",
       "    <path class=\"displacy-arc\" id=\"arrow-adbc6c82a45f4fdcb6b1afa3a506aeb6-0-1\" stroke-width=\"2px\" d=\"M142,122.0 142,95.33333333333333 287.0,95.33333333333333 287.0,122.0\" fill=\"none\" stroke=\"currentColor\"/>\n",
       "    <text dy=\"1.25em\" style=\"font-size: 0.8em; letter-spacing: 1px\">\n",
       "        <textPath xlink:href=\"#arrow-adbc6c82a45f4fdcb6b1afa3a506aeb6-0-1\" class=\"displacy-label\" startOffset=\"50%\" side=\"left\" fill=\"currentColor\" text-anchor=\"middle\">amod</textPath>\n",
       "    </text>\n",
       "    <path class=\"displacy-arrowhead\" d=\"M142,124.0 L138,116.0 146,116.0\" fill=\"currentColor\"/>\n",
       "</g>\n",
       "\n",
       "<g class=\"displacy-arrow\">\n",
       "    <path class=\"displacy-arc\" id=\"arrow-adbc6c82a45f4fdcb6b1afa3a506aeb6-0-2\" stroke-width=\"2px\" d=\"M222,122.0 222,108.66666666666667 284.0,108.66666666666667 284.0,122.0\" fill=\"none\" stroke=\"currentColor\"/>\n",
       "    <text dy=\"1.25em\" style=\"font-size: 0.8em; letter-spacing: 1px\">\n",
       "        <textPath xlink:href=\"#arrow-adbc6c82a45f4fdcb6b1afa3a506aeb6-0-2\" class=\"displacy-label\" startOffset=\"50%\" side=\"left\" fill=\"currentColor\" text-anchor=\"middle\">amod</textPath>\n",
       "    </text>\n",
       "    <path class=\"displacy-arrowhead\" d=\"M222,124.0 L218,116.0 226,116.0\" fill=\"currentColor\"/>\n",
       "</g>\n",
       "\n",
       "<g class=\"displacy-arrow\">\n",
       "    <path class=\"displacy-arc\" id=\"arrow-adbc6c82a45f4fdcb6b1afa3a506aeb6-0-3\" stroke-width=\"2px\" d=\"M302,122.0 302,108.66666666666667 364.0,108.66666666666667 364.0,122.0\" fill=\"none\" stroke=\"currentColor\"/>\n",
       "    <text dy=\"1.25em\" style=\"font-size: 0.8em; letter-spacing: 1px\">\n",
       "        <textPath xlink:href=\"#arrow-adbc6c82a45f4fdcb6b1afa3a506aeb6-0-3\" class=\"displacy-label\" startOffset=\"50%\" side=\"left\" fill=\"currentColor\" text-anchor=\"middle\">nsubj</textPath>\n",
       "    </text>\n",
       "    <path class=\"displacy-arrowhead\" d=\"M302,124.0 L298,116.0 306,116.0\" fill=\"currentColor\"/>\n",
       "</g>\n",
       "\n",
       "<g class=\"displacy-arrow\">\n",
       "    <path class=\"displacy-arc\" id=\"arrow-adbc6c82a45f4fdcb6b1afa3a506aeb6-0-4\" stroke-width=\"2px\" d=\"M382,122.0 382,108.66666666666667 444.0,108.66666666666667 444.0,122.0\" fill=\"none\" stroke=\"currentColor\"/>\n",
       "    <text dy=\"1.25em\" style=\"font-size: 0.8em; letter-spacing: 1px\">\n",
       "        <textPath xlink:href=\"#arrow-adbc6c82a45f4fdcb6b1afa3a506aeb6-0-4\" class=\"displacy-label\" startOffset=\"50%\" side=\"left\" fill=\"currentColor\" text-anchor=\"middle\">prep</textPath>\n",
       "    </text>\n",
       "    <path class=\"displacy-arrowhead\" d=\"M444.0,124.0 L448.0,116.0 440.0,116.0\" fill=\"currentColor\"/>\n",
       "</g>\n",
       "\n",
       "<g class=\"displacy-arrow\">\n",
       "    <path class=\"displacy-arc\" id=\"arrow-adbc6c82a45f4fdcb6b1afa3a506aeb6-0-5\" stroke-width=\"2px\" d=\"M542,122.0 542,95.33333333333333 687.0,95.33333333333333 687.0,122.0\" fill=\"none\" stroke=\"currentColor\"/>\n",
       "    <text dy=\"1.25em\" style=\"font-size: 0.8em; letter-spacing: 1px\">\n",
       "        <textPath xlink:href=\"#arrow-adbc6c82a45f4fdcb6b1afa3a506aeb6-0-5\" class=\"displacy-label\" startOffset=\"50%\" side=\"left\" fill=\"currentColor\" text-anchor=\"middle\">det</textPath>\n",
       "    </text>\n",
       "    <path class=\"displacy-arrowhead\" d=\"M542,124.0 L538,116.0 546,116.0\" fill=\"currentColor\"/>\n",
       "</g>\n",
       "\n",
       "<g class=\"displacy-arrow\">\n",
       "    <path class=\"displacy-arc\" id=\"arrow-adbc6c82a45f4fdcb6b1afa3a506aeb6-0-6\" stroke-width=\"2px\" d=\"M622,122.0 622,108.66666666666667 684.0,108.66666666666667 684.0,122.0\" fill=\"none\" stroke=\"currentColor\"/>\n",
       "    <text dy=\"1.25em\" style=\"font-size: 0.8em; letter-spacing: 1px\">\n",
       "        <textPath xlink:href=\"#arrow-adbc6c82a45f4fdcb6b1afa3a506aeb6-0-6\" class=\"displacy-label\" startOffset=\"50%\" side=\"left\" fill=\"currentColor\" text-anchor=\"middle\">amod</textPath>\n",
       "    </text>\n",
       "    <path class=\"displacy-arrowhead\" d=\"M622,124.0 L618,116.0 626,116.0\" fill=\"currentColor\"/>\n",
       "</g>\n",
       "\n",
       "<g class=\"displacy-arrow\">\n",
       "    <path class=\"displacy-arc\" id=\"arrow-adbc6c82a45f4fdcb6b1afa3a506aeb6-0-7\" stroke-width=\"2px\" d=\"M462,122.0 462,82.0 690.0,82.0 690.0,122.0\" fill=\"none\" stroke=\"currentColor\"/>\n",
       "    <text dy=\"1.25em\" style=\"font-size: 0.8em; letter-spacing: 1px\">\n",
       "        <textPath xlink:href=\"#arrow-adbc6c82a45f4fdcb6b1afa3a506aeb6-0-7\" class=\"displacy-label\" startOffset=\"50%\" side=\"left\" fill=\"currentColor\" text-anchor=\"middle\">pobj</textPath>\n",
       "    </text>\n",
       "    <path class=\"displacy-arrowhead\" d=\"M690.0,124.0 L694.0,116.0 686.0,116.0\" fill=\"currentColor\"/>\n",
       "</g>\n",
       "</svg></span>"
      ],
      "text/plain": [
       "<IPython.core.display.HTML object>"
      ]
     },
     "metadata": {},
     "output_type": "display_data"
    }
   ],
   "source": [
    "options={\n",
    "    'distance':80,\n",
    "    'compact':True,\n",
    "    'color':'#fff',\n",
    "    'bg':'#00a65a'\n",
    "}\n",
    "\n",
    "displacy.render(doc6, style='dep', jupyter=True, options=options)"
   ]
  },
  {
   "cell_type": "markdown",
   "id": "cc55dc92-4a8c-4c5a-b82d-024723d1f27f",
   "metadata": {},
   "source": [
    "### **How POS Tagging Works?**\n",
    "- HMM\n",
    "<pre>\n",
    "    Test Data : [Will will google campusx]\n",
    "    Training Data : [[Nitish loves campusx],\n",
    "                    [Can Nitish google campusx],\n",
    "                    [Will Ankita google campusx],\n",
    "                    [Ankita lover Will],\n",
    "                    [Will lovers google]]\n",
    "    Prepare Training Dataset : 1. POS Tagging\n",
    "                               2. HMM Model Train\n",
    "                               3. Now POS tagging on test dataset.\n",
    "\n",
    "    HMM : N(noun), V(verb), M(model)\n",
    "    N(noun) = [[Nitish, campusx],        V(verb) = [[loves],       M(model) = [[],\n",
    "               [Nitish, campusx],                   [google],                  [can],\n",
    "               [Ankita, campusx],                   [google],                  [will],\n",
    "               [Ankita, will],                      [loves],                   [],\n",
    "               [Will, google]]                      [loves]]                   []]\n",
    "    Total no. of N(noun) = 10,          Total no. of V(verb) = 5,  Total no. of M(model) = 2\n",
    "     ______________________Emission_____________________\n",
    "    |     word     |  N(noun)  |  M(model)  |  V(verb)  |\n",
    "    |______________|___________|____________|___________|\n",
    "    |  Nitesh      |   2/10    |     0      |     0     |\n",
    "    |______________|___________|____________|___________|\n",
    "    |  loves       |    0      |     0      |    3/5    |\n",
    "    |______________|___________|____________|___________|\n",
    "    |  campusx     |   3/10    |     0      |     0     |\n",
    "    |______________|___________|____________|___________|\n",
    "    |  google      |   1/10    |     0      |    2/5    |\n",
    "    |______________|___________|____________|___________|\n",
    "    |  will        |   2/10    |    1/2     |     0     |\n",
    "    |______________|___________|____________|___________|\n",
    "    |  ankita      |   2/10    |      0     |     0     |\n",
    "    |______________|___________|____________|___________|\n",
    "    |  can         |     0     |     1/2    |     0     |\n",
    "    |______________|___________|____________|___________|\n",
    "\n",
    "     ______________________Transition____________________________\n",
    "    |            |  N(noun)  |  M(model)  |  V(verb)  |  E(end)  |\n",
    "    |____________|___________|____________|___________|__________|\n",
    "    |  S(start)  |    3/5    |    2/5     |     0     |    0     | \n",
    "    |____________|___________|____________|___________|__________|\n",
    "    |  N(nout)   |     0     |     0      |    5/10   |   5/10   |\n",
    "    |____________|___________|____________|___________|__________|\n",
    "    |  M(model)  |    2/2    |     0      |     0     |    0     |\n",
    "    |____________|___________|____________|___________|__________|\n",
    "    |  V(verb)   |    5/5    |     0      |     0     |    0     |\n",
    "    |____________|___________|____________|___________|__________|\n",
    "    \n",
    "</pre>\n",
    "- <b>Transition Probabiliy</b> \\\n",
    "        ![Metacharacter](../img/transitionProb2.jpeg)\n",
    "    \n",
    "- <b>Transition + Emission Probability</b> \\\n",
    "        ![Metacharacter](../img/emissionProb.jpeg)\n",
    "    "
   ]
  },
  {
   "cell_type": "markdown",
   "id": "a0675249-8822-4baa-8d63-d3e5d1bf40d2",
   "metadata": {},
   "source": [
    "- Test Dataset : [Will will google campusx]\n",
    "  <pre>\n",
    "                     Will          will         google         campusx\n",
    "             /------- N             N            N               N ---------\\  \n",
    "            /                                                                \\\n",
    "      start --------- M             M            M               M ---------- end\n",
    "            \\                                                                /\n",
    "             \\------- V             V            V               V ---------/\n",
    "      Fully Connected and try all possible combination and calculate(<em><b>emission x transition</b></em>) value.\n",
    "      For which combination the value of <em><b>emission x transition</b></em> will be high that will be answere.\n",
    "      \n",
    "      start------------M------------N--------------V---------------N-----------end\n",
    "               2/5   [1/2]    1   [2/10]   1/2   [2/5]     1     [1/10]   1/2      > 0 close to 1 \n",
    "  </pre>\n",
    "- There could be too high combination. To over come this problem we use ___Viterbi Algorithm___. It will ignore those node for which __emission x transition__ is zero or minimum. If there is multiple path to go on a node, take that node for which __emission x transition__ value is high."
   ]
  },
  {
   "cell_type": "code",
   "execution_count": null,
   "id": "8c775da9-0e4f-43ff-bcea-3c828112c925",
   "metadata": {},
   "outputs": [],
   "source": []
  }
 ],
 "metadata": {
  "kernelspec": {
   "display_name": "Python 3 (ipykernel)",
   "language": "python",
   "name": "python3"
  },
  "language_info": {
   "codemirror_mode": {
    "name": "ipython",
    "version": 3
   },
   "file_extension": ".py",
   "mimetype": "text/x-python",
   "name": "python",
   "nbconvert_exporter": "python",
   "pygments_lexer": "ipython3",
   "version": "3.11.9"
  }
 },
 "nbformat": 4,
 "nbformat_minor": 5
}
