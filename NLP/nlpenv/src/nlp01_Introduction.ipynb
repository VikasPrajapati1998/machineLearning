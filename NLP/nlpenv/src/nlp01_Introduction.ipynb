{
 "cells": [
  {
   "cell_type": "markdown",
   "id": "27cfb47c-faeb-4737-8395-ef00b9e4aa4f",
   "metadata": {
    "tags": []
   },
   "source": [
    "# **<h3 style=\"color:red\"><b>NLP : Natural Language Processing</b></h3>**\n",
    "- Python : Programming Language\n",
    "- spaCy, Gensim, NLTK : NLP Library\n",
    "- scikit-learn, tensorFlow, PyTorch, HuggingFace : ML/DL Problem\n"
   ]
  },
  {
   "cell_type": "markdown",
   "id": "47e56552-7ba4-40d5-be18-37ab6a1992d1",
   "metadata": {},
   "source": [
    "### **RegEx Function**\n",
    "- __import re__\n",
    "- __re.findall()__ : Returns a list containing all matches\n",
    "- __re.search()__ : Returns a Match object if there is a match anywhere in the string\n",
    "- __re.split()__ : Returns a list where the string has been split at each match\n",
    "- __re.sub()__ : Replaces one or many matches with a string\n",
    "\n",
    "### **Metacharacters**\n",
    "- Metacharacters are characters with a special meaning.\n",
    "-  \\\n",
    "      ![Metacharacter](../img/regex01.jpg)\n",
    "### **Special Sequences**\n",
    "- A special sequence is a `\\` followed by one of the characters in the list below, and has a special meaning.\n",
    "-  \\\n",
    "      ![Special-Sequence](../img/regex02.jpg)\n",
    "### **Sets**\n",
    "- A set is a set of characters inside a pair of sequare brackets `[]` with a special meaning.\n",
    "-  \\\n",
    "      ![set](../img/regex03.jpg)\n"
   ]
  },
  {
   "cell_type": "code",
   "execution_count": 1,
   "id": "b541a657-7c5b-4951-951f-1ea6ec231966",
   "metadata": {
    "tags": []
   },
   "outputs": [],
   "source": [
    "import re"
   ]
  },
  {
   "cell_type": "code",
   "execution_count": 2,
   "id": "f4d2a416-7b35-4cc7-95f2-fb2ce215706b",
   "metadata": {
    "tags": []
   },
   "outputs": [
    {
     "name": "stdout",
     "output_type": "stream",
     "text": [
      "Length of text :  58\n",
      "Characters :  ['p', 'h', 'o', 'n', 'e', 'e', 'm', 'a', 'i', 'l', 'v', 'i', 'k', 'a', 's', 'p', 'r', 'a', 'j', 'a', 'p', 'a', 't', 'i', 'g', 'm', 'a', 'i', 'l', 'c', 'o', 'm']\n",
      "\n",
      "Numbers :  ['9', '1', '9', '1', '6', '1', '5', '8', '9', '8', '8', '3', '1', '9', '1', '1', '9', '8']\n",
      "\n",
      "digits :  ['9', '1', '9', '1', '6', '1', '5', '8', '9', '8', '8', '3', '1', '9', '1', '1', '9', '8']\n",
      "\n",
      "name :  ['vikas']\n",
      "['phone:+91-9161589883, email:vikasprajapati191198@gmail.com']\n",
      "email : ['email:vikasprajapati191198@gmail.com']\n",
      "email : ['vikasprajapati191198@gmail.com']\n",
      "phone :  ['91-9161589883']\n",
      "['email']\n",
      "['vikas']\n",
      "['vikas']\n",
      "['gmail']\n"
     ]
    }
   ],
   "source": [
    "# Metacharacters\n",
    "text = \"phone:+91-9161589883, email:vikasprajapati191198@gmail.com\"\n",
    "print(\"Length of text : \", len(text))\n",
    "# []\n",
    "pattern = re.findall(\"[a-z]\", text)\n",
    "print(\"Characters : \", pattern, end=\"\\n\\n\")\n",
    "\n",
    "pattern = re.findall(\"[0-9]\", text)\n",
    "print(\"Numbers : \", pattern, end=\"\\n\\n\")\n",
    "\n",
    "# \\\n",
    "pattern = re.findall(\"\\d\", text)\n",
    "print(\"digits : \", pattern, end=\"\\n\\n\")\n",
    "\n",
    "# .\n",
    "pattern = re.findall(\"vi..s\", text)\n",
    "print(\"name : \", pattern)\n",
    "\n",
    "# ^ $ *\n",
    "pattern = re.findall(\"^phone.*com$\", text)\n",
    "print(pattern)\n",
    "\n",
    "# .* = 0-more\n",
    "pattern = re.findall(\"email.*com\", text)\n",
    "print(\"email :\", pattern)\n",
    "\n",
    "# .+ = 1-more\n",
    "pattern = re.findall(\"vikas.+com\", text)\n",
    "print(\"email :\", pattern)\n",
    "\n",
    "pattern = re.findall(\"91.+83\", text)\n",
    "print(\"phone : \", pattern)\n",
    "\n",
    "# .? = 0-1\n",
    "pattern = re.findall(\"em.?il\", text)\n",
    "print(pattern)\n",
    "\n",
    "# {}\n",
    "pattern = re.findall(\"vi.{2}s\", text)\n",
    "print(pattern)\n",
    "\n",
    "pattern = re.findall(\"vik.{0}as\", text)\n",
    "print(pattern)\n",
    "\n",
    "# |\n",
    "pattern = re.findall(\"gmail|outlook\", text)\n",
    "print(pattern)\n",
    "\n"
   ]
  },
  {
   "cell_type": "code",
   "execution_count": 3,
   "id": "9d74f4c2-2467-4840-bcdb-8d5ccb0b761c",
   "metadata": {
    "tags": []
   },
   "outputs": [
    {
     "name": "stdout",
     "output_type": "stream",
     "text": [
      "['Arti']\n",
      "['Arti']\n",
      "['ons']\n",
      "Space =  [' ', ' ', ' ', ' ', ' ', ' ', ' ', ' ', ' ', '\\n', ' ', ' ', ' ', ' ', ' ', ' ', ' ', ' ', ' ', ' ', ' ', ' ']\n",
      "\n",
      "alphadigits =  ['A', 'r', 't', 'i', 'f', 'i', 'c', 'i', 'a', 'l', 'i', 'n', 't', 'e', 'l', 'l', 'i', 'g', 'e', 'n', 'c', 'e', 'A', 'I', 'r', 'e', 'f', 'e', 'r', 's', 't', 'o', 't', 'h', 'e', 's', 'i', 'm', 'u', 'l', 'a', 't', 'i', 'o', 'n', 'o', 'f', 'h', 'u', 'm', 'a', 'n', 'i', 'n', 't', 'e', 'l', 'l', 'i', 'g', 'e', 'n', 'c', 'e', 'i', 'n', 'm', 'a', 'c', 'h', 'i', 'n', 'e', 's', 't', 'h', 'a', 't', 'a', 'r', 'e', 'p', 'r', 'o', 'g', 'r', 'a', 'm', 'm', 'e', 'd', 't', 'o', 't', 'h', 'i', 'n', 'k', 'l', 'i', 'k', 'e', 'h', 'u', 'm', 'a', 'n', 's', 'a', 'n', 'd', 'm', 'i', 'm', 'i', 'c', 't', 'h', 'e', 'i', 'r', 'a', 'c', 't', 'i', 'o', 'n', 's']\n"
     ]
    }
   ],
   "source": [
    "# Special Sequences\n",
    "text = '''Artificial intelligence (AI) refers to the simulation of human intelligence\n",
    "in machines that are programmed to think like humans and mimic their actions.'''\n",
    "\n",
    "# \\A = Start with\n",
    "pattern = re.findall(\"\\AArti\", text)\n",
    "print(pattern)\n",
    "\n",
    "# \\b = start or ends with   : \\B = not start or ends with\n",
    "pattern = re.findall(r\"\\bArti\", text)\n",
    "print(pattern)\n",
    "pattern = re.findall(r\"ons\\b\", text)\n",
    "print(pattern)\n",
    "\n",
    "# \\d = string contains digits   : \\D = not contains digits\n",
    "# \\s = find white space    : \\S = not contains white space\n",
    "pattern = re.findall(\"\\s\", text)\n",
    "print(\"Space = \", pattern, end=\"\\n\\n\")\n",
    "\n",
    "# \\w = characters from a-Z, digits from 0-9     : \\W = not contain \\w\n",
    "pattern = re.findall(\"\\w\", text)\n",
    "print(\"alphadigits = \", pattern)\n"
   ]
  },
  {
   "cell_type": "code",
   "execution_count": 4,
   "id": "06f1b072-71b8-4b15-a6b2-4af61142b863",
   "metadata": {
    "tags": []
   },
   "outputs": [
    {
     "name": "stdout",
     "output_type": "stream",
     "text": [
      "['P', 'P', 'g']\n",
      "['m', 'j', 'n', 'j', 'i', 'h', 'n', 'm', 'i', 'l', 'i', 'k', 'j', 'i', 'g', 'm', 'i', 'l', 'm']\n",
      "['9', '1', '9', '1', '1', '8', '9', '8', '8', '1', '9', '1', '1', '9', '8']\n",
      "['6', '5', '8', '8', '8', '3', '8']\n",
      "['61', '89']\n"
     ]
    }
   ],
   "source": [
    "# Sets\n",
    "text = \"Name : Arjun Prajapati, Phone : +91-9161589883, Email : vikasprajapati191198@gmail.com\"\n",
    "\n",
    "pattern = re.findall(\"[Pg]\", text)\n",
    "print(pattern)\n",
    "\n",
    "pattern = re.findall(\"[g-n]\", text)\n",
    "print(pattern)\n",
    "\n",
    "pattern = re.findall(\"[198]\", text)\n",
    "print(pattern)\n",
    "\n",
    "pattern =  re.findall(\"[3-8]\", text)\n",
    "print(pattern)\n",
    "\n",
    "pattern = re.findall(\"[68][19]\", text)\n",
    "print(pattern)\n"
   ]
  },
  {
   "cell_type": "markdown",
   "id": "0ad9d60f-3aa6-4bec-af2a-356eaf9aba6b",
   "metadata": {},
   "source": [
    "## <b style=\"color:red\">findall()</b>"
   ]
  },
  {
   "cell_type": "code",
   "execution_count": 5,
   "id": "6b9c5ab5-3f6f-4cee-82a8-c49ae3213687",
   "metadata": {
    "tags": []
   },
   "outputs": [
    {
     "name": "stdout",
     "output_type": "stream",
     "text": [
      "['vi']\n",
      "['Email : vikasprajapati191198@gmail.com, Outlook : arjunprajapati191196@outlook.com']\n",
      "['Outlook : arjunprajapati191196@outlook.com']\n",
      "[]\n"
     ]
    }
   ],
   "source": [
    "text = \"Name : Arjun Prajapati, Phone : +91-9161589883, \\\n",
    "Email : vikasprajapati191198@gmail.com, Outlook : arjunprajapati191196@outlook.com\"\n",
    "\n",
    "pattern = re.findall(\"vi\", text)\n",
    "print(pattern)\n",
    "pattern = re.findall(\"Email.*\", text)\n",
    "print(pattern)\n",
    "pattern = re.findall(\"Out.+\", text)\n",
    "print(pattern)\n",
    "pattern = re.findall(\"pure\", text)\n",
    "print(pattern)"
   ]
  },
  {
   "cell_type": "markdown",
   "id": "55f240bf-d562-4c04-9800-73690b2c55c5",
   "metadata": {},
   "source": [
    "## <b style=\"color:red\">search()</b>"
   ]
  },
  {
   "cell_type": "code",
   "execution_count": 6,
   "id": "f9d13dd2-2d71-4cfd-a4fd-6f7208ad8667",
   "metadata": {
    "tags": []
   },
   "outputs": [
    {
     "name": "stdout",
     "output_type": "stream",
     "text": [
      "<re.Match object; span=(4, 5), match=' '>\n",
      "<re.Match object; span=(24, 29), match='Phone'>\n",
      "None\n"
     ]
    }
   ],
   "source": [
    "text = \"Name : Arjun Prajapati, Phone : +91-9161589883, \\\n",
    "Email : vikasprajapati191198@gmail.com, Outlook : arjunprajapati191196@outlook.com\"\n",
    "\n",
    "pattern = re.search(\"\\s\", text)\n",
    "print(pattern)\n",
    "\n",
    "pattern = re.search(\"Phone\", text)\n",
    "print(pattern)\n",
    "\n",
    "pattern = re.search(\"Address\", text)\n",
    "print(pattern)\n",
    "\n"
   ]
  },
  {
   "cell_type": "markdown",
   "id": "9c35e8fb-6885-45cf-ae60-50fdcac0f767",
   "metadata": {},
   "source": [
    "## <b style=\"color:red\">split()</b>"
   ]
  },
  {
   "cell_type": "code",
   "execution_count": 7,
   "id": "e17feaad-1d36-4e5c-8b4e-85c3909a0a92",
   "metadata": {
    "tags": []
   },
   "outputs": [
    {
     "name": "stdout",
     "output_type": "stream",
     "text": [
      "Name : Arjun Prajapati\n",
      "Phone : +91-9161589883\n",
      "Email : vikasprajapati191198@gmail.com\n",
      "Outlook : arjunprajapati191196@outlook.com\n",
      "\n",
      "['Name', ':', 'Arjun', 'Prajapati,', 'Phone', ':', '+91-9161589883,', 'Email', ':', 'vikasprajapati191198@gmail.com,', 'Outlook', ':', 'arjunprajapati191196@outlook.com']\n",
      "\n",
      "['Name ', ' Arjun Prajapati, Phone ', ' +91-9161589883, Email ', ' vikasprajapati191198@gmail.com, Outlook ', ' arjunprajapati191196@outlook.com']\n",
      "\n",
      "Name : Arjun Prajapati\n",
      "Phone : +91-9161589883\n",
      "Email : vikasprajapati191198@gmail.com, Outlook : arjunprajapati191196@outlook.com\n",
      "\n"
     ]
    }
   ],
   "source": [
    "text = \"Name : Arjun Prajapati, Phone : +91-9161589883, \\\n",
    "Email : vikasprajapati191198@gmail.com, Outlook : arjunprajapati191196@outlook.com\"\n",
    "\n",
    "pattern = re.split(\", \", text)\n",
    "for x in pattern:\n",
    "    print(x)\n",
    "print()\n",
    "\n",
    "pattern = re.split(\"\\s\", text)\n",
    "print(pattern)\n",
    "print()\n",
    "\n",
    "pattern = re.split(\":\", text)\n",
    "print(pattern)\n",
    "print()\n",
    "\n",
    "pattern = re.split(\", \", text, 2) # maxsplit\n",
    "for x in pattern:\n",
    "    print(x)\n",
    "print()\n"
   ]
  },
  {
   "cell_type": "markdown",
   "id": "b1bea159-9d2a-42c7-8ac8-48e112bdc0f5",
   "metadata": {},
   "source": [
    "## <b style=\"color:red\">sub()</b>"
   ]
  },
  {
   "cell_type": "code",
   "execution_count": 8,
   "id": "67352861-8d5d-480f-9eeb-53d5776263d7",
   "metadata": {},
   "outputs": [],
   "source": [
    "text = '''Artificial intelligence (AI) refers to the simulation of human intelligence\n",
    "in machines that are programmed to think like humans and mimic their actions.'''\n",
    "\n"
   ]
  }
 ],
 "metadata": {
  "kernelspec": {
   "display_name": "Python 3 (ipykernel)",
   "language": "python",
   "name": "python3"
  },
  "language_info": {
   "codemirror_mode": {
    "name": "ipython",
    "version": 3
   },
   "file_extension": ".py",
   "mimetype": "text/x-python",
   "name": "python",
   "nbconvert_exporter": "python",
   "pygments_lexer": "ipython3",
   "version": "3.11.9"
  }
 },
 "nbformat": 4,
 "nbformat_minor": 5
}
