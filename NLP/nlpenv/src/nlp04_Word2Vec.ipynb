{
 "cells": [
  {
   "cell_type": "markdown",
   "id": "481d504b-989f-4bc9-9346-5203149897b0",
   "metadata": {},
   "source": [
    "## <b style=\"color:green\">Word2Vec</b>\n",
    "- ### <b style=\"color:red\">Word Embeddings</b>\n",
    "  - In natural language processing, word embedding is a term used for the representation of words for text analysis, typically in the form of a real-valued vector that encodes the meaning of the word such that the words that are closer in the vector space are expected to be similar in meaning.\n",
    "- ### <b style=\"color:red\">Types of Word Embedding</b>\n",
    "  1. __Frequency Based__\n",
    "     - Bag of Word\n",
    "     - TF-IDF\n",
    "     - Glove : Global Vector (Matrix Factorization)\n",
    "  2. __Prediction Based__\n",
    "     - Word2Vec "
   ]
  },
  {
   "cell_type": "markdown",
   "id": "dd7a9d3f-556c-42b6-b6d0-2417b17efa49",
   "metadata": {},
   "source": [
    "### <b style=\"color:blue\">Word2Vec</b>\n",
    "- Created by Google.\n",
    "- "
   ]
  },
  {
   "cell_type": "code",
   "execution_count": null,
   "id": "deca16c2-a10d-4fea-9572-8add186dcbb6",
   "metadata": {},
   "outputs": [],
   "source": []
  }
 ],
 "metadata": {
  "kernelspec": {
   "display_name": "Python 3 (ipykernel)",
   "language": "python",
   "name": "python3"
  },
  "language_info": {
   "codemirror_mode": {
    "name": "ipython",
    "version": 3
   },
   "file_extension": ".py",
   "mimetype": "text/x-python",
   "name": "python",
   "nbconvert_exporter": "python",
   "pygments_lexer": "ipython3",
   "version": "3.10.12"
  }
 },
 "nbformat": 4,
 "nbformat_minor": 5
}
